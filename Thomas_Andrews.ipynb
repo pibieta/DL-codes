{
  "nbformat": 4,
  "nbformat_minor": 0,
  "metadata": {
    "colab": {
      "name": "Thomas-Andrews.ipynb",
      "version": "0.3.2",
      "provenance": [],
      "collapsed_sections": [],
      "include_colab_link": true
    },
    "kernelspec": {
      "name": "python3",
      "display_name": "Python 3"
    }
  },
  "cells": [
    {
      "cell_type": "markdown",
      "metadata": {
        "id": "view-in-github",
        "colab_type": "text"
      },
      "source": [
        "<a href=\"https://colab.research.google.com/github/pibieta/ML-course/blob/master/Thomas_Andrews.ipynb\" target=\"_parent\"><img src=\"https://colab.research.google.com/assets/colab-badge.svg\" alt=\"Open In Colab\"/></a>"
      ]
    },
    {
      "cell_type": "markdown",
      "metadata": {
        "id": "NIVKbdoCuvi9",
        "colab_type": "text"
      },
      "source": [
        "# Thomas-Andrews case\n",
        "J. P. Ibieta-Jimenez"
      ]
    },
    {
      "cell_type": "code",
      "metadata": {
        "id": "srbLkJfEuX44",
        "colab_type": "code",
        "colab": {}
      },
      "source": [
        "# imports\n",
        "import time\n",
        "import random\n",
        "import itertools\n",
        "import datetime as dt\n",
        "import pickle\n",
        "from math import cos, asin, sqrt\n",
        "\n",
        "# data and viz\n",
        "import numpy as np\n",
        "import pandas as pd\n",
        "import matplotlib.pyplot as plt\n",
        "import seaborn as sns\n",
        "sns.set()\n",
        "sns.set_style('white')\n",
        "\n",
        "\n",
        "# ML metrics and preprocesing\n",
        "from sklearn import metrics\n",
        "from sklearn.model_selection import train_test_split\n",
        "from sklearn import preprocessing\n",
        "from sklearn.metrics import accuracy_score, confusion_matrix, mean_absolute_error\n",
        "from sklearn.metrics import roc_auc_score, precision_recall_fscore_support, classification_report\n",
        "\n",
        "# XGBoost\n",
        "from xgboost import XGBClassifier\n",
        "from xgboost import plot_importance\n",
        "\n",
        "def plot_features(booster, figsize):    \n",
        "    fig, ax = plt.subplots(1,1,figsize=figsize)\n",
        "    return plot_importance(booster=booster, ax=ax)\n"
      ],
      "execution_count": 0,
      "outputs": []
    },
    {
      "cell_type": "markdown",
      "metadata": {
        "id": "K_2mOiDuB4iM",
        "colab_type": "text"
      },
      "source": [
        "# The Problem\n",
        "Thomas-Andrews is in charge of  the insurance  of  passengers  traveling in one of the **Olympic Class Trans-Atlantic fleet** ships. Data from the **RMS Titanic** trip were given to us in order to construct a model that would help avoiding any further tragedies. The predicitve modelis required to classify passengers by their risk to **not survive** a naval tragedy. \n",
        "\n",
        "In this sense,  we are asked to:\n",
        "* To analyze and understand data identifying the features that have more relation with survival risk.\n",
        "* To construct a predictive model to identify *risky* passengers and make appropriate decisions concerning their safety."
      ]
    },
    {
      "cell_type": "markdown",
      "metadata": {
        "id": "Kg4O4oiVw-is",
        "colab_type": "text"
      },
      "source": [
        "# Get  Data\n",
        "Start by loading data as pandas dataframes for Exploratory Analysis."
      ]
    },
    {
      "cell_type": "code",
      "metadata": {
        "id": "hzVs93iIu9YN",
        "colab_type": "code",
        "outputId": "e2f783ba-b718-409f-acbf-d2b21fcdc30f",
        "colab": {
          "base_uri": "https://localhost:8080/",
          "height": 206
        }
      },
      "source": [
        "t_url = 'https://raw.githubusercontent.com/pibieta/ML-course/master/cargox/train.csv'\n",
        "te_url = 'https://github.com/pibieta/ML-course/raw/master/cargox/test.csv'\n",
        "train = pd.read_csv(t_url)\n",
        "test = pd.read_csv(te_url)\n",
        "train.head()"
      ],
      "execution_count": 65,
      "outputs": [
        {
          "output_type": "execute_result",
          "data": {
            "text/html": [
              "<div>\n",
              "<style scoped>\n",
              "    .dataframe tbody tr th:only-of-type {\n",
              "        vertical-align: middle;\n",
              "    }\n",
              "\n",
              "    .dataframe tbody tr th {\n",
              "        vertical-align: top;\n",
              "    }\n",
              "\n",
              "    .dataframe thead th {\n",
              "        text-align: right;\n",
              "    }\n",
              "</style>\n",
              "<table border=\"1\" class=\"dataframe\">\n",
              "  <thead>\n",
              "    <tr style=\"text-align: right;\">\n",
              "      <th></th>\n",
              "      <th>passengerid</th>\n",
              "      <th>survived</th>\n",
              "      <th>pclass</th>\n",
              "      <th>name</th>\n",
              "      <th>sex</th>\n",
              "      <th>age</th>\n",
              "      <th>sibsp</th>\n",
              "      <th>parch</th>\n",
              "      <th>ticket</th>\n",
              "      <th>fare</th>\n",
              "      <th>cabin</th>\n",
              "      <th>embarked</th>\n",
              "    </tr>\n",
              "  </thead>\n",
              "  <tbody>\n",
              "    <tr>\n",
              "      <th>0</th>\n",
              "      <td>1</td>\n",
              "      <td>0</td>\n",
              "      <td>3.0</td>\n",
              "      <td>Braund, Mr. Owen Harris</td>\n",
              "      <td>male</td>\n",
              "      <td>22.0</td>\n",
              "      <td>1</td>\n",
              "      <td>0</td>\n",
              "      <td>A/5 21171</td>\n",
              "      <td>7.2500</td>\n",
              "      <td>NaN</td>\n",
              "      <td>S</td>\n",
              "    </tr>\n",
              "    <tr>\n",
              "      <th>1</th>\n",
              "      <td>2</td>\n",
              "      <td>1</td>\n",
              "      <td>1.0</td>\n",
              "      <td>Cumings, Mrs. John Bradley (Florence Briggs Th...</td>\n",
              "      <td>Female</td>\n",
              "      <td>38.0</td>\n",
              "      <td>1</td>\n",
              "      <td>0</td>\n",
              "      <td>PC 17599</td>\n",
              "      <td>71.2833</td>\n",
              "      <td>C85</td>\n",
              "      <td>C</td>\n",
              "    </tr>\n",
              "    <tr>\n",
              "      <th>2</th>\n",
              "      <td>3</td>\n",
              "      <td>1</td>\n",
              "      <td>3.0</td>\n",
              "      <td>Heikkinen, Miss. Laina</td>\n",
              "      <td>women</td>\n",
              "      <td>26.0</td>\n",
              "      <td>0</td>\n",
              "      <td>0</td>\n",
              "      <td>STON/O2. 3101282</td>\n",
              "      <td>7.9250</td>\n",
              "      <td>NaN</td>\n",
              "      <td>S</td>\n",
              "    </tr>\n",
              "    <tr>\n",
              "      <th>3</th>\n",
              "      <td>4</td>\n",
              "      <td>1</td>\n",
              "      <td>1.0</td>\n",
              "      <td>Futrelle, Mrs. Jacques Heath (Lily May Peel)</td>\n",
              "      <td>female_</td>\n",
              "      <td>35.0</td>\n",
              "      <td>1</td>\n",
              "      <td>0</td>\n",
              "      <td>113803</td>\n",
              "      <td>53.1000</td>\n",
              "      <td>C123</td>\n",
              "      <td>S</td>\n",
              "    </tr>\n",
              "    <tr>\n",
              "      <th>4</th>\n",
              "      <td>5</td>\n",
              "      <td>0</td>\n",
              "      <td>3.0</td>\n",
              "      <td>Allen, Mr. William Henry</td>\n",
              "      <td>male</td>\n",
              "      <td>35.0</td>\n",
              "      <td>0</td>\n",
              "      <td>0</td>\n",
              "      <td>373450</td>\n",
              "      <td>8.0500</td>\n",
              "      <td>NaN</td>\n",
              "      <td>S</td>\n",
              "    </tr>\n",
              "  </tbody>\n",
              "</table>\n",
              "</div>"
            ],
            "text/plain": [
              "   passengerid  survived  pclass  ...     fare cabin  embarked\n",
              "0            1         0     3.0  ...   7.2500   NaN         S\n",
              "1            2         1     1.0  ...  71.2833   C85         C\n",
              "2            3         1     3.0  ...   7.9250   NaN         S\n",
              "3            4         1     1.0  ...  53.1000  C123         S\n",
              "4            5         0     3.0  ...   8.0500   NaN         S\n",
              "\n",
              "[5 rows x 12 columns]"
            ]
          },
          "metadata": {
            "tags": []
          },
          "execution_count": 65
        }
      ]
    },
    {
      "cell_type": "code",
      "metadata": {
        "id": "leTSp42w262m",
        "colab_type": "code",
        "outputId": "1bafb4ce-1ba9-40d3-c060-f8b9a0fcf18a",
        "colab": {
          "base_uri": "https://localhost:8080/",
          "height": 206
        }
      },
      "source": [
        "test.columns =  ['passengerid', 'pclass', 'name', 'sex', 'age', 'sibsp', 'parch', 'ticket', 'fare', 'cabin', 'embarked']\n",
        "test.head()"
      ],
      "execution_count": 66,
      "outputs": [
        {
          "output_type": "execute_result",
          "data": {
            "text/html": [
              "<div>\n",
              "<style scoped>\n",
              "    .dataframe tbody tr th:only-of-type {\n",
              "        vertical-align: middle;\n",
              "    }\n",
              "\n",
              "    .dataframe tbody tr th {\n",
              "        vertical-align: top;\n",
              "    }\n",
              "\n",
              "    .dataframe thead th {\n",
              "        text-align: right;\n",
              "    }\n",
              "</style>\n",
              "<table border=\"1\" class=\"dataframe\">\n",
              "  <thead>\n",
              "    <tr style=\"text-align: right;\">\n",
              "      <th></th>\n",
              "      <th>passengerid</th>\n",
              "      <th>pclass</th>\n",
              "      <th>name</th>\n",
              "      <th>sex</th>\n",
              "      <th>age</th>\n",
              "      <th>sibsp</th>\n",
              "      <th>parch</th>\n",
              "      <th>ticket</th>\n",
              "      <th>fare</th>\n",
              "      <th>cabin</th>\n",
              "      <th>embarked</th>\n",
              "    </tr>\n",
              "  </thead>\n",
              "  <tbody>\n",
              "    <tr>\n",
              "      <th>0</th>\n",
              "      <td>892</td>\n",
              "      <td>3</td>\n",
              "      <td>Kelly, Mr. James</td>\n",
              "      <td>male</td>\n",
              "      <td>34.5</td>\n",
              "      <td>0</td>\n",
              "      <td>0</td>\n",
              "      <td>330911</td>\n",
              "      <td>7.8292</td>\n",
              "      <td>NaN</td>\n",
              "      <td>Q</td>\n",
              "    </tr>\n",
              "    <tr>\n",
              "      <th>1</th>\n",
              "      <td>893</td>\n",
              "      <td>3</td>\n",
              "      <td>Wilkes, Mrs. James (Ellen Needs)</td>\n",
              "      <td>female</td>\n",
              "      <td>47.0</td>\n",
              "      <td>1</td>\n",
              "      <td>0</td>\n",
              "      <td>363272</td>\n",
              "      <td>7.0000</td>\n",
              "      <td>NaN</td>\n",
              "      <td>S</td>\n",
              "    </tr>\n",
              "    <tr>\n",
              "      <th>2</th>\n",
              "      <td>894</td>\n",
              "      <td>2</td>\n",
              "      <td>Myles, Mr. Thomas Francis</td>\n",
              "      <td>male</td>\n",
              "      <td>62.0</td>\n",
              "      <td>0</td>\n",
              "      <td>0</td>\n",
              "      <td>240276</td>\n",
              "      <td>9.6875</td>\n",
              "      <td>NaN</td>\n",
              "      <td>Q</td>\n",
              "    </tr>\n",
              "    <tr>\n",
              "      <th>3</th>\n",
              "      <td>895</td>\n",
              "      <td>3</td>\n",
              "      <td>Wirz, Mr. Albert</td>\n",
              "      <td>male</td>\n",
              "      <td>27.0</td>\n",
              "      <td>0</td>\n",
              "      <td>0</td>\n",
              "      <td>315154</td>\n",
              "      <td>8.6625</td>\n",
              "      <td>NaN</td>\n",
              "      <td>S</td>\n",
              "    </tr>\n",
              "    <tr>\n",
              "      <th>4</th>\n",
              "      <td>896</td>\n",
              "      <td>3</td>\n",
              "      <td>Hirvonen, Mrs. Alexander (Helga E Lindqvist)</td>\n",
              "      <td>female</td>\n",
              "      <td>22.0</td>\n",
              "      <td>1</td>\n",
              "      <td>1</td>\n",
              "      <td>3101298</td>\n",
              "      <td>12.2875</td>\n",
              "      <td>NaN</td>\n",
              "      <td>S</td>\n",
              "    </tr>\n",
              "  </tbody>\n",
              "</table>\n",
              "</div>"
            ],
            "text/plain": [
              "   passengerid  pclass  ... cabin embarked\n",
              "0          892       3  ...   NaN        Q\n",
              "1          893       3  ...   NaN        S\n",
              "2          894       2  ...   NaN        Q\n",
              "3          895       3  ...   NaN        S\n",
              "4          896       3  ...   NaN        S\n",
              "\n",
              "[5 rows x 11 columns]"
            ]
          },
          "metadata": {
            "tags": []
          },
          "execution_count": 66
        }
      ]
    },
    {
      "cell_type": "markdown",
      "metadata": {
        "id": "KPPkKbgT5BQN",
        "colab_type": "text"
      },
      "source": [
        "#  EDA and Feature Engineering\n",
        "\n",
        "In this section we check the quality of data. This is, looking for null or nan values. Possible errors that could come from data collection or pre-processing. \n",
        "Then we perform an exploratory data analysis to obtain information about the features. Here, we are typically looking for outliers or data leakages from which we can extract extra information. In this step we will also look for potential artificial features that could improve the prediction power of models.\n",
        "\n",
        "\n"
      ]
    },
    {
      "cell_type": "code",
      "metadata": {
        "id": "QE9HRK-D27Gh",
        "colab_type": "code",
        "outputId": "d4b66e77-ce83-4f4a-a71c-3b68d24c7c04",
        "colab": {
          "base_uri": "https://localhost:8080/",
          "height": 300
        }
      },
      "source": [
        "# Start by looking at data\n",
        "train.describe()"
      ],
      "execution_count": 67,
      "outputs": [
        {
          "output_type": "execute_result",
          "data": {
            "text/html": [
              "<div>\n",
              "<style scoped>\n",
              "    .dataframe tbody tr th:only-of-type {\n",
              "        vertical-align: middle;\n",
              "    }\n",
              "\n",
              "    .dataframe tbody tr th {\n",
              "        vertical-align: top;\n",
              "    }\n",
              "\n",
              "    .dataframe thead th {\n",
              "        text-align: right;\n",
              "    }\n",
              "</style>\n",
              "<table border=\"1\" class=\"dataframe\">\n",
              "  <thead>\n",
              "    <tr style=\"text-align: right;\">\n",
              "      <th></th>\n",
              "      <th>passengerid</th>\n",
              "      <th>survived</th>\n",
              "      <th>pclass</th>\n",
              "      <th>age</th>\n",
              "      <th>sibsp</th>\n",
              "      <th>parch</th>\n",
              "      <th>fare</th>\n",
              "    </tr>\n",
              "  </thead>\n",
              "  <tbody>\n",
              "    <tr>\n",
              "      <th>count</th>\n",
              "      <td>936.000000</td>\n",
              "      <td>936.000000</td>\n",
              "      <td>927.000000</td>\n",
              "      <td>748.000000</td>\n",
              "      <td>936.000000</td>\n",
              "      <td>936.000000</td>\n",
              "      <td>936.000000</td>\n",
              "    </tr>\n",
              "    <tr>\n",
              "      <th>mean</th>\n",
              "      <td>446.438034</td>\n",
              "      <td>0.384615</td>\n",
              "      <td>2.314995</td>\n",
              "      <td>29.777634</td>\n",
              "      <td>0.519231</td>\n",
              "      <td>0.375000</td>\n",
              "      <td>31.647288</td>\n",
              "    </tr>\n",
              "    <tr>\n",
              "      <th>std</th>\n",
              "      <td>258.429453</td>\n",
              "      <td>0.486764</td>\n",
              "      <td>0.836545</td>\n",
              "      <td>15.842432</td>\n",
              "      <td>1.092343</td>\n",
              "      <td>0.796634</td>\n",
              "      <td>48.700700</td>\n",
              "    </tr>\n",
              "    <tr>\n",
              "      <th>min</th>\n",
              "      <td>1.000000</td>\n",
              "      <td>0.000000</td>\n",
              "      <td>1.000000</td>\n",
              "      <td>0.420000</td>\n",
              "      <td>0.000000</td>\n",
              "      <td>0.000000</td>\n",
              "      <td>0.000000</td>\n",
              "    </tr>\n",
              "    <tr>\n",
              "      <th>25%</th>\n",
              "      <td>221.750000</td>\n",
              "      <td>0.000000</td>\n",
              "      <td>2.000000</td>\n",
              "      <td>20.000000</td>\n",
              "      <td>0.000000</td>\n",
              "      <td>0.000000</td>\n",
              "      <td>7.895800</td>\n",
              "    </tr>\n",
              "    <tr>\n",
              "      <th>50%</th>\n",
              "      <td>445.500000</td>\n",
              "      <td>0.000000</td>\n",
              "      <td>3.000000</td>\n",
              "      <td>28.000000</td>\n",
              "      <td>0.000000</td>\n",
              "      <td>0.000000</td>\n",
              "      <td>14.454200</td>\n",
              "    </tr>\n",
              "    <tr>\n",
              "      <th>75%</th>\n",
              "      <td>672.250000</td>\n",
              "      <td>1.000000</td>\n",
              "      <td>3.000000</td>\n",
              "      <td>38.000000</td>\n",
              "      <td>1.000000</td>\n",
              "      <td>0.000000</td>\n",
              "      <td>30.771850</td>\n",
              "    </tr>\n",
              "    <tr>\n",
              "      <th>max</th>\n",
              "      <td>891.000000</td>\n",
              "      <td>1.000000</td>\n",
              "      <td>3.000000</td>\n",
              "      <td>194.000000</td>\n",
              "      <td>8.000000</td>\n",
              "      <td>6.000000</td>\n",
              "      <td>512.329200</td>\n",
              "    </tr>\n",
              "  </tbody>\n",
              "</table>\n",
              "</div>"
            ],
            "text/plain": [
              "       passengerid    survived      pclass  ...       sibsp       parch        fare\n",
              "count   936.000000  936.000000  927.000000  ...  936.000000  936.000000  936.000000\n",
              "mean    446.438034    0.384615    2.314995  ...    0.519231    0.375000   31.647288\n",
              "std     258.429453    0.486764    0.836545  ...    1.092343    0.796634   48.700700\n",
              "min       1.000000    0.000000    1.000000  ...    0.000000    0.000000    0.000000\n",
              "25%     221.750000    0.000000    2.000000  ...    0.000000    0.000000    7.895800\n",
              "50%     445.500000    0.000000    3.000000  ...    0.000000    0.000000   14.454200\n",
              "75%     672.250000    1.000000    3.000000  ...    1.000000    0.000000   30.771850\n",
              "max     891.000000    1.000000    3.000000  ...    8.000000    6.000000  512.329200\n",
              "\n",
              "[8 rows x 7 columns]"
            ]
          },
          "metadata": {
            "tags": []
          },
          "execution_count": 67
        }
      ]
    },
    {
      "cell_type": "code",
      "metadata": {
        "id": "6oF3QfeQUybV",
        "colab_type": "code",
        "outputId": "e4b2e196-30dd-430d-bb75-f21939cdd166",
        "colab": {
          "base_uri": "https://localhost:8080/",
          "height": 300
        }
      },
      "source": [
        "test.describe()"
      ],
      "execution_count": 68,
      "outputs": [
        {
          "output_type": "execute_result",
          "data": {
            "text/html": [
              "<div>\n",
              "<style scoped>\n",
              "    .dataframe tbody tr th:only-of-type {\n",
              "        vertical-align: middle;\n",
              "    }\n",
              "\n",
              "    .dataframe tbody tr th {\n",
              "        vertical-align: top;\n",
              "    }\n",
              "\n",
              "    .dataframe thead th {\n",
              "        text-align: right;\n",
              "    }\n",
              "</style>\n",
              "<table border=\"1\" class=\"dataframe\">\n",
              "  <thead>\n",
              "    <tr style=\"text-align: right;\">\n",
              "      <th></th>\n",
              "      <th>passengerid</th>\n",
              "      <th>pclass</th>\n",
              "      <th>age</th>\n",
              "      <th>sibsp</th>\n",
              "      <th>parch</th>\n",
              "      <th>fare</th>\n",
              "    </tr>\n",
              "  </thead>\n",
              "  <tbody>\n",
              "    <tr>\n",
              "      <th>count</th>\n",
              "      <td>418.000000</td>\n",
              "      <td>418.000000</td>\n",
              "      <td>332.000000</td>\n",
              "      <td>418.000000</td>\n",
              "      <td>418.000000</td>\n",
              "      <td>417.000000</td>\n",
              "    </tr>\n",
              "    <tr>\n",
              "      <th>mean</th>\n",
              "      <td>1100.500000</td>\n",
              "      <td>2.265550</td>\n",
              "      <td>30.272590</td>\n",
              "      <td>0.447368</td>\n",
              "      <td>0.392344</td>\n",
              "      <td>35.627188</td>\n",
              "    </tr>\n",
              "    <tr>\n",
              "      <th>std</th>\n",
              "      <td>120.810458</td>\n",
              "      <td>0.841838</td>\n",
              "      <td>14.181209</td>\n",
              "      <td>0.896760</td>\n",
              "      <td>0.981429</td>\n",
              "      <td>55.907576</td>\n",
              "    </tr>\n",
              "    <tr>\n",
              "      <th>min</th>\n",
              "      <td>892.000000</td>\n",
              "      <td>1.000000</td>\n",
              "      <td>0.170000</td>\n",
              "      <td>0.000000</td>\n",
              "      <td>0.000000</td>\n",
              "      <td>0.000000</td>\n",
              "    </tr>\n",
              "    <tr>\n",
              "      <th>25%</th>\n",
              "      <td>996.250000</td>\n",
              "      <td>1.000000</td>\n",
              "      <td>21.000000</td>\n",
              "      <td>0.000000</td>\n",
              "      <td>0.000000</td>\n",
              "      <td>7.895800</td>\n",
              "    </tr>\n",
              "    <tr>\n",
              "      <th>50%</th>\n",
              "      <td>1100.500000</td>\n",
              "      <td>3.000000</td>\n",
              "      <td>27.000000</td>\n",
              "      <td>0.000000</td>\n",
              "      <td>0.000000</td>\n",
              "      <td>14.454200</td>\n",
              "    </tr>\n",
              "    <tr>\n",
              "      <th>75%</th>\n",
              "      <td>1204.750000</td>\n",
              "      <td>3.000000</td>\n",
              "      <td>39.000000</td>\n",
              "      <td>1.000000</td>\n",
              "      <td>0.000000</td>\n",
              "      <td>31.500000</td>\n",
              "    </tr>\n",
              "    <tr>\n",
              "      <th>max</th>\n",
              "      <td>1309.000000</td>\n",
              "      <td>3.000000</td>\n",
              "      <td>76.000000</td>\n",
              "      <td>8.000000</td>\n",
              "      <td>9.000000</td>\n",
              "      <td>512.329200</td>\n",
              "    </tr>\n",
              "  </tbody>\n",
              "</table>\n",
              "</div>"
            ],
            "text/plain": [
              "       passengerid      pclass         age       sibsp       parch        fare\n",
              "count   418.000000  418.000000  332.000000  418.000000  418.000000  417.000000\n",
              "mean   1100.500000    2.265550   30.272590    0.447368    0.392344   35.627188\n",
              "std     120.810458    0.841838   14.181209    0.896760    0.981429   55.907576\n",
              "min     892.000000    1.000000    0.170000    0.000000    0.000000    0.000000\n",
              "25%     996.250000    1.000000   21.000000    0.000000    0.000000    7.895800\n",
              "50%    1100.500000    3.000000   27.000000    0.000000    0.000000   14.454200\n",
              "75%    1204.750000    3.000000   39.000000    1.000000    0.000000   31.500000\n",
              "max    1309.000000    3.000000   76.000000    8.000000    9.000000  512.329200"
            ]
          },
          "metadata": {
            "tags": []
          },
          "execution_count": 68
        }
      ]
    },
    {
      "cell_type": "markdown",
      "metadata": {
        "id": "0AiGje3VATyb",
        "colab_type": "text"
      },
      "source": [
        "From the  cell below we can see possible **missing** values, in particular for the `pclass` , `age` and `cabin` features. Given the amount of data, droping these rows might not be the best way to go. We should think about completing these values instead. Clustering algorithms could help with this task\n",
        "\n",
        "However, the `cabin` feature has almost 78% of rows with NaN values. At first, we will discard this feature. But we will get back to it later."
      ]
    },
    {
      "cell_type": "code",
      "metadata": {
        "id": "z1T46T5f_y3M",
        "colab_type": "code",
        "outputId": "c615be60-5432-4ebf-f840-978130b0ea8a",
        "colab": {
          "base_uri": "https://localhost:8080/",
          "height": 35
        }
      },
      "source": [
        "train.cabin.isna().sum() / train.shape[0]"
      ],
      "execution_count": 69,
      "outputs": [
        {
          "output_type": "execute_result",
          "data": {
            "text/plain": [
              "0.7756410256410257"
            ]
          },
          "metadata": {
            "tags": []
          },
          "execution_count": 69
        }
      ]
    },
    {
      "cell_type": "code",
      "metadata": {
        "id": "LmVChlWnV7Tr",
        "colab_type": "code",
        "outputId": "71967e4f-56c0-41df-d714-1351997278ac",
        "colab": {
          "base_uri": "https://localhost:8080/",
          "height": 321
        }
      },
      "source": [
        "train.info()"
      ],
      "execution_count": 70,
      "outputs": [
        {
          "output_type": "stream",
          "text": [
            "<class 'pandas.core.frame.DataFrame'>\n",
            "RangeIndex: 936 entries, 0 to 935\n",
            "Data columns (total 12 columns):\n",
            "passengerid    936 non-null int64\n",
            "survived       936 non-null int64\n",
            "pclass         927 non-null float64\n",
            "name           936 non-null object\n",
            "sex            890 non-null object\n",
            "age            748 non-null float64\n",
            "sibsp          936 non-null int64\n",
            "parch          936 non-null int64\n",
            "ticket         936 non-null object\n",
            "fare           936 non-null float64\n",
            "cabin          210 non-null object\n",
            "embarked       934 non-null object\n",
            "dtypes: float64(3), int64(4), object(5)\n",
            "memory usage: 87.8+ KB\n"
          ],
          "name": "stdout"
        }
      ]
    },
    {
      "cell_type": "markdown",
      "metadata": {
        "id": "XJuztAPMyhQF",
        "colab_type": "text"
      },
      "source": [
        "Let us have a more closer look at data"
      ]
    },
    {
      "cell_type": "markdown",
      "metadata": {
        "id": "aL0rvxaVRNOa",
        "colab_type": "text"
      },
      "source": [
        "## Name:\n",
        "The name of each passenger actually encodes a lot of information that could be helpful for the predicitve model. Given the temporal context of the trip, the name has the `Title` in it. We believe this feature has an impact on the risk of a passenger. To see this, we first need to extract the information from the name."
      ]
    },
    {
      "cell_type": "markdown",
      "metadata": {
        "id": "-B7qtq-ZYRZx",
        "colab_type": "text"
      },
      "source": [
        "We can quickly see the distribution of Titles of passengers in the RMS Titanic. \n",
        "\n"
      ]
    },
    {
      "cell_type": "code",
      "metadata": {
        "id": "gj0-gn59RQVR",
        "colab_type": "code",
        "outputId": "c0a5112e-19bf-4634-dcba-a7258376e7af",
        "colab": {
          "base_uri": "https://localhost:8080/",
          "height": 333
        }
      },
      "source": [
        "train.name.str.extract(' ([A-Za-z]+)\\.', expand = False).value_counts().plot('bar')\n"
      ],
      "execution_count": 71,
      "outputs": [
        {
          "output_type": "execute_result",
          "data": {
            "text/plain": [
              "<matplotlib.axes._subplots.AxesSubplot at 0x7fd77fb21908>"
            ]
          },
          "metadata": {
            "tags": []
          },
          "execution_count": 71
        },
        {
          "output_type": "display_data",
          "data": {
            "image/png": "[encoded data removed]",
            "text/plain": [
              "<Figure size 432x288 with 1 Axes>"
            ]
          },
          "metadata": {
            "tags": []
          }
        }
      ]
    },
    {
      "cell_type": "markdown",
      "metadata": {
        "id": "PaOEJ3BLecxY",
        "colab_type": "text"
      },
      "source": [
        "Notice that the mayority of passengers is `Male`, followed by 'Womans' classified into `Miss` (probably young ladies) and `Mrs`. Then we have `Master` for male children. This suggests the creation of  a categorical feature with `Title` classes as follows:\n",
        "* 0 : Mr\n",
        "* 1 : Mrs\n",
        "* 2: Miss\n",
        "* 3: Master\n",
        "* 4 : Other"
      ]
    },
    {
      "cell_type": "code",
      "metadata": {
        "id": "UdDXHN1sh7vM",
        "colab_type": "code",
        "colab": {}
      },
      "source": [
        "#Define the auxiliary functions for this part of the processing\n",
        "\n",
        "def title_label(string):\n",
        "  if string == 'Mr':\n",
        "    val = 0\n",
        "  elif string == 'Mrs':\n",
        "    val = 1\n",
        "  elif string == 'Miss':\n",
        "    val = 2\n",
        "  elif string == 'Master':\n",
        "    val = 3\n",
        "  else:\n",
        "    val = 4\n",
        "  return val\n",
        "\n",
        "\n",
        "def title_feats(df):\n",
        "  \n",
        "  # Extract the Title using regular expression patterns and save into a new column\n",
        "  df['title'] = df.name.str.extract(' ([A-Za-z]+)\\.', expand = False)\n",
        "  # Create the title_label column\n",
        "  df['title_label'] = df.title.apply(title_label)\n",
        "  # Use this categorical feature to create one-hot encodings\n",
        "  title_one_hot = pd.get_dummies(df.title_label)\n",
        "  title_one_hot.columns = ['Mr', 'Mrs', 'Miss', 'Master', 'Other']\n",
        "  df  = pd.concat([df, title_one_hot], axis = 1)\n",
        "#   df = df.drop(['title_label'], axis =1)\n",
        "  return df"
      ],
      "execution_count": 0,
      "outputs": []
    },
    {
      "cell_type": "markdown",
      "metadata": {
        "id": "wIPihdvQnrWZ",
        "colab_type": "text"
      },
      "source": [
        "Add the Title features to both train and test set. "
      ]
    },
    {
      "cell_type": "code",
      "metadata": {
        "id": "tXUkjAvReipd",
        "colab_type": "code",
        "colab": {}
      },
      "source": [
        "train_feat = title_feats(train)\n",
        "test_feat = title_feats(test)"
      ],
      "execution_count": 0,
      "outputs": []
    },
    {
      "cell_type": "markdown",
      "metadata": {
        "id": "ojMGSl2Dq3Jd",
        "colab_type": "text"
      },
      "source": [
        "We want to see wether the Title classe have any relation with the target value. A bar chart serves the purpose of showing this given the binary nature of the target value. Here, we define auxiliary functions for plotting bar charts"
      ]
    },
    {
      "cell_type": "code",
      "metadata": {
        "id": "-RRfup24rRh-",
        "colab_type": "code",
        "colab": {}
      },
      "source": [
        "def surv_bar(feat, df = train_feat, legend = None, stacked = True):\n",
        "  '''\n",
        "    A function that generates a bar plot by survival and the feature given as the input.\n",
        "    feat: The feature that we  want to plot\n",
        "    df: the dataframe\n",
        "    legends: an array of strings for the legends of the plot\n",
        "  '''\n",
        "#   Create the temporary dataframes\n",
        "  alive = df[df.survived == 1][feat].value_counts()\n",
        "  dead = df[df.survived == 0][feat].value_counts()\n",
        "  hist = pd.DataFrame([alive, dead])\n",
        "  hist.index = ['alive', 'dead']\n",
        "  legend = legend\n",
        "  ttl_str = str(feat)\n",
        "#   Generate the actual plot\n",
        "  hist.plot(kind = 'bar', stacked = stacked, figsize = (8,6))\n",
        "  plt.title('Survival Distribution by' + ' ' + ttl_str, fontsize = 15, fontweight = 'bold')\n",
        "  if legend != None:\n",
        "    plt.legend(legend)\n",
        "  plt.xticks((0,1),('Alive', 'Dead'), rotation = 'horizontal', fontsize = 12)\n",
        "  plt.ylabel('Count', fontsize = 14)\n"
      ],
      "execution_count": 0,
      "outputs": []
    },
    {
      "cell_type": "code",
      "metadata": {
        "id": "cMAEYTB4w2Fa",
        "colab_type": "code",
        "outputId": "5357db52-e761-43b8-cf77-43c7cf2b4752",
        "colab": {
          "base_uri": "https://localhost:8080/",
          "height": 398
        }
      },
      "source": [
        "surv_bar('title_label', train_feat, legend = ['Mr', 'Mrs', 'Miss', 'Master', 'Other'] )"
      ],
      "execution_count": 75,
      "outputs": [
        {
          "output_type": "display_data",
          "data": {
            "image/png": "[encoded data removed]",
            "text/plain": [
              "<Figure size 576x432 with 1 Axes>"
            ]
          },
          "metadata": {
            "tags": []
          }
        }
      ]
    },
    {
      "cell_type": "markdown",
      "metadata": {
        "id": "cX70jxbcp1ZL",
        "colab_type": "text"
      },
      "source": [
        "## Sex:"
      ]
    },
    {
      "cell_type": "code",
      "metadata": {
        "id": "02gtdJwFWfss",
        "colab_type": "code",
        "outputId": "6d50a5c3-f820-45a5-d6f0-ca2ba705d68d",
        "colab": {
          "base_uri": "https://localhost:8080/",
          "height": 53
        }
      },
      "source": [
        "train.sex.unique()"
      ],
      "execution_count": 76,
      "outputs": [
        {
          "output_type": "execute_result",
          "data": {
            "text/plain": [
              "array(['male', 'Female ', 'women', 'female_', 'male ', 'woman', ' male',\n",
              "       'man', 'female', 'mal', nan, 'Male', ' female  '], dtype=object)"
            ]
          },
          "metadata": {
            "tags": []
          },
          "execution_count": 76
        }
      ]
    },
    {
      "cell_type": "markdown",
      "metadata": {
        "id": "rC8ICFK6dnm_",
        "colab_type": "text"
      },
      "source": [
        "The above cell shows that are different ways the `sex` is encoded, we need to homogenize this feature, and then convert to one-hot encoding. The following function takes care of the homogenization. We keep `nan` values as they are (but as strings), we will deal with them after looking at the `Name` feature."
      ]
    },
    {
      "cell_type": "code",
      "metadata": {
        "id": "_w0FInTgJCIE",
        "colab_type": "code",
        "colab": {}
      },
      "source": [
        "def sex_label(string):\n",
        "  m_enc = ['male',  'male ', ' male', 'man',  'mal', 'Male' ]\n",
        "  f_enc = ['Female ', 'women', 'female_','female',' female  ', 'woman']\n",
        "\n",
        "  if string in m_enc:\n",
        "    result = 'male'\n",
        "  elif string in f_enc:\n",
        "    result = 'female'\n",
        "  else:\n",
        "    result = 'nan'\n",
        "  return result\n",
        "    "
      ],
      "execution_count": 0,
      "outputs": []
    },
    {
      "cell_type": "code",
      "metadata": {
        "id": "_lsliJX7LYZL",
        "colab_type": "code",
        "outputId": "22d12c14-84c2-4798-a748-0624c80a7e1a",
        "colab": {
          "base_uri": "https://localhost:8080/",
          "height": 35
        }
      },
      "source": [
        "# Apply the transformation\n",
        "train_feat.sex = train_feat.sex.apply(sex_label)\n",
        "test_feat.sex = test_feat.sex.apply(sex_label)\n",
        "train_feat.sex.unique()"
      ],
      "execution_count": 78,
      "outputs": [
        {
          "output_type": "execute_result",
          "data": {
            "text/plain": [
              "array(['male', 'female', 'nan'], dtype=object)"
            ]
          },
          "metadata": {
            "tags": []
          },
          "execution_count": 78
        }
      ]
    },
    {
      "cell_type": "code",
      "metadata": {
        "id": "I4kuzQtay8Yy",
        "colab_type": "code",
        "colab": {}
      },
      "source": [
        "# Define a function to handle the missing values\n",
        "def fill_sex(string):\n",
        "  \n",
        "  male_ttl = ['Mr', 'Master', 'Don', 'Rev', 'Dr', 'Major', 'Sir', 'Col', 'Capt', 'Jonkheer']\n",
        "  female_ttl = [ 'Mrs', 'Miss', 'Mme', 'Ms', 'Lady', 'Mlle', 'Countess']\n",
        "  if string in male_ttl:\n",
        "    res = 1 # male\n",
        "  elif string in female_ttl:\n",
        "    res = 0 # Female\n",
        "  return res "
      ],
      "execution_count": 0,
      "outputs": []
    },
    {
      "cell_type": "code",
      "metadata": {
        "id": "8Wiz-MAPym6s",
        "colab_type": "code",
        "colab": {}
      },
      "source": [
        "# We will use the Title feature to fill the nan values in the 'Sex' column\n",
        "train_feat['sex'] = train_feat.title.apply(fill_sex)\n"
      ],
      "execution_count": 0,
      "outputs": []
    },
    {
      "cell_type": "code",
      "metadata": {
        "id": "iuc_a9LRxnGZ",
        "colab_type": "code",
        "outputId": "006424b2-0e15-4ca8-cdf0-68198e87d64a",
        "colab": {
          "base_uri": "https://localhost:8080/",
          "height": 398
        }
      },
      "source": [
        "# Let's see the Survival distribution\n",
        "surv_bar('sex', stacked = False)"
      ],
      "execution_count": 81,
      "outputs": [
        {
          "output_type": "display_data",
          "data": {
            "image/png": "[encoded data removed]",
            "text/plain": [
              "<Figure size 576x432 with 1 Axes>"
            ]
          },
          "metadata": {
            "tags": []
          }
        }
      ]
    },
    {
      "cell_type": "markdown",
      "metadata": {
        "id": "tITUos2W5xLC",
        "colab_type": "text"
      },
      "source": [
        "Clearly there is a relation between the `sex` feature and the survival. The distribution is unbalanced suggesting that accuracy might not be the best way to evaluate the predictive models."
      ]
    },
    {
      "cell_type": "markdown",
      "metadata": {
        "id": "wpM0zd_Upxsh",
        "colab_type": "text"
      },
      "source": [
        "## Age:\n",
        "There are some spurious values for this feature. Also, look at the values that are smaller than zero. NaN values will be dealt with later. \n"
      ]
    },
    {
      "cell_type": "code",
      "metadata": {
        "id": "lOeI7MjXW-Cd",
        "colab_type": "code",
        "outputId": "727a3eee-4c6a-4549-eaa3-6573cf178128",
        "colab": {
          "base_uri": "https://localhost:8080/",
          "height": 106
        }
      },
      "source": [
        "print('Age:\\nmax: {}\\nmedian: {}\\nmean: {}\\nmin: {}'.format(train.age.max(),train.age.median(), train.age.mean(), train.age.min()))"
      ],
      "execution_count": 82,
      "outputs": [
        {
          "output_type": "stream",
          "text": [
            "Age:\n",
            "max: 194.0\n",
            "median: 28.0\n",
            "mean: 29.77763368983957\n",
            "min: 0.42\n"
          ],
          "name": "stdout"
        }
      ]
    },
    {
      "cell_type": "code",
      "metadata": {
        "id": "-E8Kl5b_mR8W",
        "colab_type": "code",
        "outputId": "8def0fad-aa04-4e82-8980-520f36a65789",
        "colab": {
          "base_uri": "https://localhost:8080/",
          "height": 292
        }
      },
      "source": [
        "train_feat[train_feat.age < 100].age.hist(bins =20)"
      ],
      "execution_count": 83,
      "outputs": [
        {
          "output_type": "execute_result",
          "data": {
            "text/plain": [
              "<matplotlib.axes._subplots.AxesSubplot at 0x7fd782122940>"
            ]
          },
          "metadata": {
            "tags": []
          },
          "execution_count": 83
        },
        {
          "output_type": "display_data",
          "data": {
            "image/png": "[encoded data removed]",
            "text/plain": [
              "<Figure size 432x288 with 1 Axes>"
            ]
          },
          "metadata": {
            "tags": []
          }
        }
      ]
    },
    {
      "cell_type": "markdown",
      "metadata": {
        "id": "FRDOEVr5PyKl",
        "colab_type": "text"
      },
      "source": [
        " We will replace the age values that are greater than 100 by the title median. However, since they are so few, we could look to external databases to fix the values. In particular [here](https://en.wikipedia.org/wiki/Passengers_of_the_RMS_Titanic) one can find the complete list of passengers. "
      ]
    },
    {
      "cell_type": "code",
      "metadata": {
        "id": "5XKEbscpRJLP",
        "colab_type": "code",
        "outputId": "572849c0-9367-4efe-ec06-040f3c13efa2",
        "colab": {
          "base_uri": "https://localhost:8080/",
          "height": 184
        }
      },
      "source": [
        "train_feat[train_feat.age > 100]"
      ],
      "execution_count": 84,
      "outputs": [
        {
          "output_type": "execute_result",
          "data": {
            "text/html": [
              "<div>\n",
              "<style scoped>\n",
              "    .dataframe tbody tr th:only-of-type {\n",
              "        vertical-align: middle;\n",
              "    }\n",
              "\n",
              "    .dataframe tbody tr th {\n",
              "        vertical-align: top;\n",
              "    }\n",
              "\n",
              "    .dataframe thead th {\n",
              "        text-align: right;\n",
              "    }\n",
              "</style>\n",
              "<table border=\"1\" class=\"dataframe\">\n",
              "  <thead>\n",
              "    <tr style=\"text-align: right;\">\n",
              "      <th></th>\n",
              "      <th>passengerid</th>\n",
              "      <th>survived</th>\n",
              "      <th>pclass</th>\n",
              "      <th>name</th>\n",
              "      <th>sex</th>\n",
              "      <th>age</th>\n",
              "      <th>sibsp</th>\n",
              "      <th>parch</th>\n",
              "      <th>ticket</th>\n",
              "      <th>fare</th>\n",
              "      <th>cabin</th>\n",
              "      <th>embarked</th>\n",
              "      <th>title</th>\n",
              "      <th>title_label</th>\n",
              "      <th>Mr</th>\n",
              "      <th>Mrs</th>\n",
              "      <th>Miss</th>\n",
              "      <th>Master</th>\n",
              "      <th>Other</th>\n",
              "    </tr>\n",
              "  </thead>\n",
              "  <tbody>\n",
              "    <tr>\n",
              "      <th>33</th>\n",
              "      <td>34</td>\n",
              "      <td>0</td>\n",
              "      <td>2.0</td>\n",
              "      <td>Wheadon, Mr. Edward H</td>\n",
              "      <td>1</td>\n",
              "      <td>117.0</td>\n",
              "      <td>0</td>\n",
              "      <td>0</td>\n",
              "      <td>C.A. 24579</td>\n",
              "      <td>10.50</td>\n",
              "      <td>NaN</td>\n",
              "      <td>S</td>\n",
              "      <td>Mr</td>\n",
              "      <td>0</td>\n",
              "      <td>1</td>\n",
              "      <td>0</td>\n",
              "      <td>0</td>\n",
              "      <td>0</td>\n",
              "      <td>0</td>\n",
              "    </tr>\n",
              "    <tr>\n",
              "      <th>152</th>\n",
              "      <td>153</td>\n",
              "      <td>0</td>\n",
              "      <td>3.0</td>\n",
              "      <td>Meo, Mr. Alfonzo</td>\n",
              "      <td>1</td>\n",
              "      <td>194.0</td>\n",
              "      <td>0</td>\n",
              "      <td>0</td>\n",
              "      <td>A.5. 11206</td>\n",
              "      <td>8.05</td>\n",
              "      <td>NaN</td>\n",
              "      <td>S</td>\n",
              "      <td>Mr</td>\n",
              "      <td>0</td>\n",
              "      <td>1</td>\n",
              "      <td>0</td>\n",
              "      <td>0</td>\n",
              "      <td>0</td>\n",
              "      <td>0</td>\n",
              "    </tr>\n",
              "  </tbody>\n",
              "</table>\n",
              "</div>"
            ],
            "text/plain": [
              "     passengerid  survived  pclass  ... Miss  Master  Other\n",
              "33            34         0     2.0  ...    0       0      0\n",
              "152          153         0     3.0  ...    0       0      0\n",
              "\n",
              "[2 rows x 19 columns]"
            ]
          },
          "metadata": {
            "tags": []
          },
          "execution_count": 84
        }
      ]
    },
    {
      "cell_type": "code",
      "metadata": {
        "id": "W3Zpb2-MBsLn",
        "colab_type": "code",
        "colab": {}
      },
      "source": [
        "train_feat.loc[train_feat.age > 100, 'age'] = train_feat.groupby('title').age.median()['Mr']\n",
        "\n",
        "# Check\n",
        "# train_feat[train_feat.age > 100]"
      ],
      "execution_count": 0,
      "outputs": []
    },
    {
      "cell_type": "markdown",
      "metadata": {
        "id": "o5J3lH85NX90",
        "colab_type": "text"
      },
      "source": [
        "There are passengers with ages smaller than 1 year. Looking at the `name` column is clear that they are indeed childs. \n",
        "\n",
        "Age has missing values and we will use the  median of each 'title' to fill them Moreover, we will create a label encoding for the age ranges of passengers, based on:\n",
        "\n",
        "* 0 : Child [0, 14]\n",
        "* 1 : Young [15, 26]\n",
        "* 2 : Adult [27, 36]\n",
        "* 3 : Mid-age [37, 64]\n",
        "* 4 : Senior [64, 100]\n"
      ]
    },
    {
      "cell_type": "code",
      "metadata": {
        "id": "RBp-jesL_szX",
        "colab_type": "code",
        "colab": {}
      },
      "source": [
        "train_feat['age'].fillna(train_feat.groupby('title').age.transform('median'),inplace = True)\n",
        "test_feat['age'].fillna(train_feat.groupby('title').age.transform('median'),inplace = True)"
      ],
      "execution_count": 0,
      "outputs": []
    },
    {
      "cell_type": "code",
      "metadata": {
        "id": "X4uaDJmpL3Kg",
        "colab_type": "code",
        "colab": {}
      },
      "source": [
        "# Encode the age of passengers according the scheme we defined above\n",
        "\n",
        "def age_label(age):\n",
        "  \n",
        "#   Create the filters:\n",
        "  if age <= 14:\n",
        "    label = 0\n",
        "  elif age > 15 and age <=26:\n",
        "    label = 1\n",
        "  elif age > 26 and age <= 36:\n",
        "    label = 2\n",
        "  elif age > 36 and age <= 64:\n",
        "    label = 3\n",
        "  else:\n",
        "    label = 4\n",
        "  return label\n",
        "  "
      ],
      "execution_count": 0,
      "outputs": []
    },
    {
      "cell_type": "code",
      "metadata": {
        "id": "-D9CdnReW9zb",
        "colab_type": "code",
        "colab": {}
      },
      "source": [
        "train_feat['age_l'] = train_feat.age.apply(age_label)\n",
        "test_feat['age_l'] = test_feat.age.apply(age_label)\n",
        "# train_feat.head()\n",
        "# test_feat.head()"
      ],
      "execution_count": 0,
      "outputs": []
    },
    {
      "cell_type": "markdown",
      "metadata": {
        "id": "_2vI491IpuQG",
        "colab_type": "text"
      },
      "source": [
        "\n",
        "## Family Size\n",
        "\n",
        "Now we will look at the family related features. Family size could be an important feature so we will construct it and investigate its relation with the survival of passengers. There are two columns `['sibsp', 'parch']`. They stand for *Siblings and Spouse* and *Parents and Children*\n",
        "\n",
        "### Siblings and Spouse"
      ]
    },
    {
      "cell_type": "code",
      "metadata": {
        "id": "Rlbnjk_MXWjv",
        "colab_type": "code",
        "outputId": "7a124cf0-c90f-4359-f06f-f238d3cd0fd2",
        "colab": {
          "base_uri": "https://localhost:8080/",
          "height": 35
        }
      },
      "source": [
        "train.sibsp.unique()"
      ],
      "execution_count": 89,
      "outputs": [
        {
          "output_type": "execute_result",
          "data": {
            "text/plain": [
              "array([1, 0, 3, 4, 2, 5, 8])"
            ]
          },
          "metadata": {
            "tags": []
          },
          "execution_count": 89
        }
      ]
    },
    {
      "cell_type": "code",
      "metadata": {
        "id": "oYYsl-top91f",
        "colab_type": "code",
        "outputId": "c38e4efc-2fcf-48c7-93f8-9d2a7440eaa8",
        "colab": {
          "base_uri": "https://localhost:8080/",
          "height": 292
        }
      },
      "source": [
        "train.sibsp.hist()"
      ],
      "execution_count": 90,
      "outputs": [
        {
          "output_type": "execute_result",
          "data": {
            "text/plain": [
              "<matplotlib.axes._subplots.AxesSubplot at 0x7fd78236a080>"
            ]
          },
          "metadata": {
            "tags": []
          },
          "execution_count": 90
        },
        {
          "output_type": "display_data",
          "data": {
            "image/png": "[encoded data removed]",
            "text/plain": [
              "<Figure size 432x288 with 1 Axes>"
            ]
          },
          "metadata": {
            "tags": []
          }
        }
      ]
    },
    {
      "cell_type": "code",
      "metadata": {
        "id": "owkQZs-xqC4T",
        "colab_type": "code",
        "outputId": "250067b4-7974-41ca-cea0-6d64bff56cb8",
        "colab": {
          "base_uri": "https://localhost:8080/",
          "height": 35
        }
      },
      "source": [
        "train[train.sibsp == 0].shape"
      ],
      "execution_count": 91,
      "outputs": [
        {
          "output_type": "execute_result",
          "data": {
            "text/plain": [
              "(641, 14)"
            ]
          },
          "metadata": {
            "tags": []
          },
          "execution_count": 91
        }
      ]
    },
    {
      "cell_type": "markdown",
      "metadata": {
        "id": "EFjq296LqNcH",
        "colab_type": "text"
      },
      "source": [
        "From the above cell we can say that most of the passengeres were traveling alone. This could be made into a new feature: `IsAlone`. "
      ]
    },
    {
      "cell_type": "markdown",
      "metadata": {
        "id": "INmnZk6TrfCi",
        "colab_type": "text"
      },
      "source": [
        "### Parents and children:\n"
      ]
    },
    {
      "cell_type": "code",
      "metadata": {
        "id": "VKTBpQQwXdG-",
        "colab_type": "code",
        "outputId": "e55dc657-4373-4a26-f771-6e91aa8c5baa",
        "colab": {
          "base_uri": "https://localhost:8080/",
          "height": 292
        }
      },
      "source": [
        "train.parch.hist()"
      ],
      "execution_count": 92,
      "outputs": [
        {
          "output_type": "execute_result",
          "data": {
            "text/plain": [
              "<matplotlib.axes._subplots.AxesSubplot at 0x7fd77fc91748>"
            ]
          },
          "metadata": {
            "tags": []
          },
          "execution_count": 92
        },
        {
          "output_type": "display_data",
          "data": {
            "image/png": "[encoded data removed]",
            "text/plain": [
              "<Figure size 432x288 with 1 Axes>"
            ]
          },
          "metadata": {
            "tags": []
          }
        }
      ]
    },
    {
      "cell_type": "code",
      "metadata": {
        "id": "V7x6pJROrl3h",
        "colab_type": "code",
        "outputId": "220e14d8-c3a1-4a98-d3f9-dcf712d282e3",
        "colab": {
          "base_uri": "https://localhost:8080/",
          "height": 35
        }
      },
      "source": [
        "train[train.parch == 0].shape"
      ],
      "execution_count": 93,
      "outputs": [
        {
          "output_type": "execute_result",
          "data": {
            "text/plain": [
              "(715, 14)"
            ]
          },
          "metadata": {
            "tags": []
          },
          "execution_count": 93
        }
      ]
    },
    {
      "cell_type": "markdown",
      "metadata": {
        "id": "Y7KbHHD5rreY",
        "colab_type": "text"
      },
      "source": [
        "Again, most of the passengers seem to have been traveling by themselves. So, we create two new features, namely, `['alone', 'family_size']`"
      ]
    },
    {
      "cell_type": "code",
      "metadata": {
        "id": "JW-alTJRi69l",
        "colab_type": "code",
        "colab": {}
      },
      "source": [
        "# Create the family size feature\n",
        "train_feat['family_size'] = train_feat.sibsp + train_feat.parch + 1\n",
        "test_feat['family_size'] = test_feat.sibsp + test_feat.parch + 1"
      ],
      "execution_count": 0,
      "outputs": []
    },
    {
      "cell_type": "code",
      "metadata": {
        "id": "EiUx8TE4kLBs",
        "colab_type": "code",
        "colab": {}
      },
      "source": [
        "# A function to create the alone feature\n",
        "def get_alone(size):\n",
        "  \n",
        "  if size == 1:\n",
        "    return 1\n",
        "  else:\n",
        "    return 0"
      ],
      "execution_count": 0,
      "outputs": []
    },
    {
      "cell_type": "code",
      "metadata": {
        "id": "LRLt2l8fj3vm",
        "colab_type": "code",
        "colab": {}
      },
      "source": [
        "# Create the actual 'alone' feature both in train and test\n",
        "\n",
        "train_feat['alone'] = train_feat.family_size.apply(get_alone)\n",
        "test_feat['alone'] = test_feat.family_size.apply(get_alone)"
      ],
      "execution_count": 0,
      "outputs": []
    },
    {
      "cell_type": "markdown",
      "metadata": {
        "id": "3-gFlSMNxC1t",
        "colab_type": "text"
      },
      "source": [
        "## Pclass:\n",
        "This feature accounts for the class each passenger was staying at, during the trip. There are some missing values for his columns, and filling them is not obvious. For this reason, we will leave the task to a classification algorithm. In particular, we will use  Gradient Boosted Decision Trees. They will be trained on the part of data for which we have the `pclass` feature. Then we predict the `pclass` of the missing rows."
      ]
    },
    {
      "cell_type": "code",
      "metadata": {
        "id": "wGrLhalU2ZNR",
        "colab_type": "code",
        "colab": {}
      },
      "source": [
        "#  Define the features to be used by the classification model\n",
        "features_k = ['survived', 'sex', 'age', 'sibsp',\n",
        "       'parch', 'fare', 'title_label',\n",
        "       'Mr', 'Mrs', 'Miss', 'Master', 'Other', 'age_l', 'family_size',\n",
        "       'alone']\n",
        "\n",
        "# Create train/validation split\n",
        "kX_train, kX_valid, ky_train, ky_valid = train_test_split(train_feat[~train_feat.pclass.isna()][features_k], train_feat[~train_feat.pclass.isna()]['pclass'], test_size=0.2, random_state=42)\n"
      ],
      "execution_count": 0,
      "outputs": []
    },
    {
      "cell_type": "code",
      "metadata": {
        "id": "_GsdYZmP43wS",
        "colab_type": "code",
        "outputId": "892fbdc0-6494-4f8b-c3b7-4da28bf05780",
        "colab": {
          "base_uri": "https://localhost:8080/",
          "height": 142
        }
      },
      "source": [
        "pclass_model = XGBClassifier(learning_rate = 0.05, n_estimators=300, max_depth=5)\n",
        "pclass_model.fit(kX_train, ky_train)"
      ],
      "execution_count": 98,
      "outputs": [
        {
          "output_type": "execute_result",
          "data": {
            "text/plain": [
              "XGBClassifier(base_score=0.5, booster='gbtree', colsample_bylevel=1,\n",
              "              colsample_bynode=1, colsample_bytree=1, gamma=0,\n",
              "              learning_rate=0.05, max_delta_step=0, max_depth=5,\n",
              "              min_child_weight=1, missing=None, n_estimators=300, n_jobs=1,\n",
              "              nthread=None, objective='multi:softprob', random_state=0,\n",
              "              reg_alpha=0, reg_lambda=1, scale_pos_weight=1, seed=None,\n",
              "              silent=None, subsample=1, verbosity=1)"
            ]
          },
          "metadata": {
            "tags": []
          },
          "execution_count": 98
        }
      ]
    },
    {
      "cell_type": "code",
      "metadata": {
        "id": "TakGpMlm5uaM",
        "colab_type": "code",
        "outputId": "cad660a7-8234-4f24-9502-d0479452d47d",
        "colab": {
          "base_uri": "https://localhost:8080/",
          "height": 249
        }
      },
      "source": [
        "# make predictions in the validation set\n",
        "y_pred = pclass_model.predict(kX_valid)\n",
        "predictions = [round(value) for value in y_pred]\n",
        "\n",
        "accuracy = accuracy_score(ky_valid, predictions)\n",
        "print(\"Accuracy: %.2f%%\" % (accuracy * 100.0))\n",
        "target_names = ['1st class', '2nd class', ' 3rd class']\n",
        "print('Classification Report:\\n'+'-'*53)\n",
        "print(classification_report(ky_valid, predictions, target_names=target_names))"
      ],
      "execution_count": 101,
      "outputs": [
        {
          "output_type": "stream",
          "text": [
            "Accuracy: 96.24%\n",
            "Classification Report:\n",
            "-----------------------------------------------------\n",
            "              precision    recall  f1-score   support\n",
            "\n",
            "   1st class       0.98      0.96      0.97        47\n",
            "   2nd class       0.91      0.91      0.91        35\n",
            "   3rd class       0.97      0.98      0.98       104\n",
            "\n",
            "    accuracy                           0.96       186\n",
            "   macro avg       0.95      0.95      0.95       186\n",
            "weighted avg       0.96      0.96      0.96       186\n",
            "\n"
          ],
          "name": "stdout"
        }
      ]
    },
    {
      "cell_type": "code",
      "metadata": {
        "id": "FaezUTzZ1Fn4",
        "colab_type": "code",
        "colab": {
          "base_uri": "https://localhost:8080/",
          "height": 428
        },
        "outputId": "95856bfa-260e-49d9-a8d3-96a0d81d695f"
      },
      "source": [
        "# Plot the feature importance of the model\n",
        "\n",
        "plot_features(pclass_model, (6,6))"
      ],
      "execution_count": 102,
      "outputs": [
        {
          "output_type": "execute_result",
          "data": {
            "text/plain": [
              "<matplotlib.axes._subplots.AxesSubplot at 0x7fd77fa41940>"
            ]
          },
          "metadata": {
            "tags": []
          },
          "execution_count": 102
        },
        {
          "output_type": "display_data",
          "data": {
            "image/png": "[encoded data removed]",
            "text/plain": [
              "<Figure size 432x432 with 1 Axes>"
            ]
          },
          "metadata": {
            "tags": []
          }
        }
      ]
    },
    {
      "cell_type": "code",
      "metadata": {
        "id": "Ambh6sMA5ypj",
        "colab_type": "code",
        "colab": {}
      },
      "source": [
        "# Predict and fill missing values\n",
        "class_predict = pclass_model.predict(train_feat[train_feat.pclass.isna()][features_k])\n",
        "train_feat.loc[train_feat.pclass.isna(), 'pclass']  = class_predict"
      ],
      "execution_count": 0,
      "outputs": []
    },
    {
      "cell_type": "code",
      "metadata": {
        "id": "hOwtlpxB99hs",
        "colab_type": "code",
        "colab": {
          "base_uri": "https://localhost:8080/",
          "height": 428
        },
        "outputId": "d990ae36-01bf-468b-8f09-6296108eb8e7"
      },
      "source": [
        "train_feat.isna().sum()"
      ],
      "execution_count": 106,
      "outputs": [
        {
          "output_type": "execute_result",
          "data": {
            "text/plain": [
              "passengerid      0\n",
              "survived         0\n",
              "pclass           0\n",
              "name             0\n",
              "sex              0\n",
              "age              0\n",
              "sibsp            0\n",
              "parch            0\n",
              "ticket           0\n",
              "fare             0\n",
              "cabin          726\n",
              "embarked         2\n",
              "title            0\n",
              "title_label      0\n",
              "Mr               0\n",
              "Mrs              0\n",
              "Miss             0\n",
              "Master           0\n",
              "Other            0\n",
              "age_l            0\n",
              "family_size      0\n",
              "alone            0\n",
              "dtype: int64"
            ]
          },
          "metadata": {
            "tags": []
          },
          "execution_count": 106
        }
      ]
    },
    {
      "cell_type": "markdown",
      "metadata": {
        "id": "L0ZjcgNX_34r",
        "colab_type": "text"
      },
      "source": [
        "As expected, the class is related to the survival of passengers. The greatest part of dead passengers were from `3rd class`."
      ]
    },
    {
      "cell_type": "code",
      "metadata": {
        "id": "JUGrX9s_-M01",
        "colab_type": "code",
        "colab": {
          "base_uri": "https://localhost:8080/",
          "height": 398
        },
        "outputId": "e45b8a80-b5bb-454d-d55e-e8eb968b0c8d"
      },
      "source": [
        "surv_bar('pclass', legend=['1st', '2nd', '3rd'])"
      ],
      "execution_count": 107,
      "outputs": [
        {
          "output_type": "display_data",
          "data": {
            "image/png": "[encoded data removed]",
            "text/plain": [
              "<Figure size 576x432 with 1 Axes>"
            ]
          },
          "metadata": {
            "tags": []
          }
        }
      ]
    },
    {
      "cell_type": "markdown",
      "metadata": {
        "id": "aWMxSWSHsZ2t",
        "colab_type": "text"
      },
      "source": [
        "## Embarked"
      ]
    },
    {
      "cell_type": "markdown",
      "metadata": {
        "id": "VHmCRsKNm5MA",
        "colab_type": "text"
      },
      "source": [
        "This feature has a couple of missing values. We will use a sort of 'majority vote' to fill these values."
      ]
    },
    {
      "cell_type": "code",
      "metadata": {
        "id": "vOBbIyVVmJV-",
        "colab_type": "code",
        "outputId": "224635f3-d31f-4361-b94f-9d9c0da58492",
        "colab": {
          "base_uri": "https://localhost:8080/",
          "height": 35
        }
      },
      "source": [
        "print('Missing values: {}'.format(train_feat.embarked.isna().sum()))"
      ],
      "execution_count": 108,
      "outputs": [
        {
          "output_type": "stream",
          "text": [
            "Missing values: 2\n"
          ],
          "name": "stdout"
        }
      ]
    },
    {
      "cell_type": "code",
      "metadata": {
        "id": "ZGYDKvGLAv3z",
        "colab_type": "code",
        "outputId": "9c6325cd-db68-45de-8a4d-e3069d7f3dfd",
        "colab": {
          "base_uri": "https://localhost:8080/",
          "height": 254
        }
      },
      "source": [
        "train_feat[train_feat.embarked.isna()]"
      ],
      "execution_count": 109,
      "outputs": [
        {
          "output_type": "execute_result",
          "data": {
            "text/html": [
              "<div>\n",
              "<style scoped>\n",
              "    .dataframe tbody tr th:only-of-type {\n",
              "        vertical-align: middle;\n",
              "    }\n",
              "\n",
              "    .dataframe tbody tr th {\n",
              "        vertical-align: top;\n",
              "    }\n",
              "\n",
              "    .dataframe thead th {\n",
              "        text-align: right;\n",
              "    }\n",
              "</style>\n",
              "<table border=\"1\" class=\"dataframe\">\n",
              "  <thead>\n",
              "    <tr style=\"text-align: right;\">\n",
              "      <th></th>\n",
              "      <th>passengerid</th>\n",
              "      <th>survived</th>\n",
              "      <th>pclass</th>\n",
              "      <th>name</th>\n",
              "      <th>sex</th>\n",
              "      <th>age</th>\n",
              "      <th>sibsp</th>\n",
              "      <th>parch</th>\n",
              "      <th>ticket</th>\n",
              "      <th>fare</th>\n",
              "      <th>cabin</th>\n",
              "      <th>embarked</th>\n",
              "      <th>title</th>\n",
              "      <th>title_label</th>\n",
              "      <th>Mr</th>\n",
              "      <th>Mrs</th>\n",
              "      <th>Miss</th>\n",
              "      <th>Master</th>\n",
              "      <th>Other</th>\n",
              "      <th>age_l</th>\n",
              "      <th>family_size</th>\n",
              "      <th>alone</th>\n",
              "    </tr>\n",
              "  </thead>\n",
              "  <tbody>\n",
              "    <tr>\n",
              "      <th>61</th>\n",
              "      <td>62</td>\n",
              "      <td>1</td>\n",
              "      <td>1.0</td>\n",
              "      <td>Icard, Miss. Amelie</td>\n",
              "      <td>0</td>\n",
              "      <td>38.0</td>\n",
              "      <td>0</td>\n",
              "      <td>0</td>\n",
              "      <td>113572</td>\n",
              "      <td>80.0</td>\n",
              "      <td>B28</td>\n",
              "      <td>NaN</td>\n",
              "      <td>Miss</td>\n",
              "      <td>2</td>\n",
              "      <td>0</td>\n",
              "      <td>0</td>\n",
              "      <td>1</td>\n",
              "      <td>0</td>\n",
              "      <td>0</td>\n",
              "      <td>3</td>\n",
              "      <td>1</td>\n",
              "      <td>1</td>\n",
              "    </tr>\n",
              "    <tr>\n",
              "      <th>829</th>\n",
              "      <td>830</td>\n",
              "      <td>1</td>\n",
              "      <td>1.0</td>\n",
              "      <td>Stone, Mrs. George Nelson (Martha Evelyn)</td>\n",
              "      <td>0</td>\n",
              "      <td>62.0</td>\n",
              "      <td>0</td>\n",
              "      <td>0</td>\n",
              "      <td>113572</td>\n",
              "      <td>80.0</td>\n",
              "      <td>B28</td>\n",
              "      <td>NaN</td>\n",
              "      <td>Mrs</td>\n",
              "      <td>1</td>\n",
              "      <td>0</td>\n",
              "      <td>1</td>\n",
              "      <td>0</td>\n",
              "      <td>0</td>\n",
              "      <td>0</td>\n",
              "      <td>3</td>\n",
              "      <td>1</td>\n",
              "      <td>1</td>\n",
              "    </tr>\n",
              "  </tbody>\n",
              "</table>\n",
              "</div>"
            ],
            "text/plain": [
              "     passengerid  survived  pclass  ... age_l  family_size  alone\n",
              "61            62         1     1.0  ...     3            1      1\n",
              "829          830         1     1.0  ...     3            1      1\n",
              "\n",
              "[2 rows x 22 columns]"
            ]
          },
          "metadata": {
            "tags": []
          },
          "execution_count": 109
        }
      ]
    },
    {
      "cell_type": "code",
      "metadata": {
        "id": "OI6Uknl3XhgW",
        "colab_type": "code",
        "outputId": "1159db4b-4574-452d-be83-b68babe6609e",
        "colab": {
          "base_uri": "https://localhost:8080/",
          "height": 35
        }
      },
      "source": [
        "# Check unique values\n",
        "train_feat.embarked.unique()"
      ],
      "execution_count": 110,
      "outputs": [
        {
          "output_type": "execute_result",
          "data": {
            "text/plain": [
              "array(['S', 'C', 'Q', nan], dtype=object)"
            ]
          },
          "metadata": {
            "tags": []
          },
          "execution_count": 110
        }
      ]
    },
    {
      "cell_type": "code",
      "metadata": {
        "id": "Q8C5yLKRnRhA",
        "colab_type": "code",
        "outputId": "d518e258-5c83-408a-82de-fd8e6b0c9086",
        "colab": {
          "base_uri": "https://localhost:8080/",
          "height": 290
        }
      },
      "source": [
        "# check the distribution of unique values\n",
        "train_feat.embarked.value_counts().plot('bar')"
      ],
      "execution_count": 111,
      "outputs": [
        {
          "output_type": "execute_result",
          "data": {
            "text/plain": [
              "<matplotlib.axes._subplots.AxesSubplot at 0x7fd77f98e470>"
            ]
          },
          "metadata": {
            "tags": []
          },
          "execution_count": 111
        },
        {
          "output_type": "display_data",
          "data": {
            "image/png": "[encoded data removed]",
            "text/plain": [
              "<Figure size 432x288 with 1 Axes>"
            ]
          },
          "metadata": {
            "tags": []
          }
        }
      ]
    },
    {
      "cell_type": "markdown",
      "metadata": {
        "id": "GrG6K9ZcGeSg",
        "colab_type": "text"
      },
      "source": [
        "We decided to fill missing values with 'S'  for embarked"
      ]
    },
    {
      "cell_type": "code",
      "metadata": {
        "id": "R8ZuGcveC9yd",
        "colab_type": "code",
        "colab": {}
      },
      "source": [
        "train_feat.embarked.fillna('S', inplace = True)"
      ],
      "execution_count": 0,
      "outputs": []
    },
    {
      "cell_type": "code",
      "metadata": {
        "id": "98ab0QOkVy-2",
        "colab_type": "code",
        "colab": {}
      },
      "source": [
        "train_feat = pd.concat([train_feat, pd.get_dummies(train_feat.embarked)], axis =1)\n",
        "test_feat = pd.concat([test_feat, pd.get_dummies(test_feat.embarked)], axis =1)\n",
        "#   df  = pd.concat([df, title_one_hot], axis = 1)\n"
      ],
      "execution_count": 0,
      "outputs": []
    },
    {
      "cell_type": "markdown",
      "metadata": {
        "id": "Snjl_JydDLz8",
        "colab_type": "text"
      },
      "source": [
        "## Fare:\n",
        "Check for missing values"
      ]
    },
    {
      "cell_type": "code",
      "metadata": {
        "id": "A0lRyF1eE1at",
        "colab_type": "code",
        "outputId": "cae0fe46-0a7d-40bb-f166-7e49e9cb0f97",
        "colab": {
          "base_uri": "https://localhost:8080/",
          "height": 71
        }
      },
      "source": [
        "print('Missing values\\ntrain: {}\\ntest: {}'.format(train_feat.fare.isna().sum(), test_feat.fare.isna().sum()))"
      ],
      "execution_count": 113,
      "outputs": [
        {
          "output_type": "stream",
          "text": [
            "Missing values\n",
            "train: 0\n",
            "test: 1\n"
          ],
          "name": "stdout"
        }
      ]
    },
    {
      "cell_type": "code",
      "metadata": {
        "id": "XrOrBq6GFMUF",
        "colab_type": "code",
        "colab": {}
      },
      "source": [
        "# Fill missing values with the median fare per class:\n",
        "test_feat.fare.fillna(train_feat.groupby('pclass').fare.transform('median'), inplace = True)"
      ],
      "execution_count": 0,
      "outputs": []
    },
    {
      "cell_type": "code",
      "metadata": {
        "id": "Uxh_mVQOFMG-",
        "colab_type": "code",
        "outputId": "fbb90997-f277-42c1-e825-e260a5067276",
        "colab": {
          "base_uri": "https://localhost:8080/",
          "height": 71
        }
      },
      "source": [
        "print('Missing values\\ntrain: {}\\ntest: {}'.format(train_feat.fare.isna().sum(), test_feat.fare.isna().sum()))"
      ],
      "execution_count": 115,
      "outputs": [
        {
          "output_type": "stream",
          "text": [
            "Missing values\n",
            "train: 0\n",
            "test: 0\n"
          ],
          "name": "stdout"
        }
      ]
    },
    {
      "cell_type": "markdown",
      "metadata": {
        "id": "ZkJfFbyrG7nq",
        "colab_type": "text"
      },
      "source": [
        "We will encode the fare as a categorical feature. To define the buckets we look at the survival distribution \n"
      ]
    },
    {
      "cell_type": "code",
      "metadata": {
        "id": "rpTR_EQ6sNPj",
        "colab_type": "code",
        "outputId": "34cea33a-b0e6-453d-d486-93b881dd5db8",
        "colab": {
          "base_uri": "https://localhost:8080/",
          "height": 221
        }
      },
      "source": [
        "facet = sns.FacetGrid(train_feat, hue=\"survived\",aspect=4)\n",
        "facet.map(sns.kdeplot,'fare',shade= True)\n",
        "facet.set(xlim=(0, train_feat['fare'].max()))\n",
        "facet.add_legend()\n",
        " \n",
        "plt.show()"
      ],
      "execution_count": 117,
      "outputs": [
        {
          "output_type": "display_data",
          "data": {
            "image/png": "[encoded data removed]",
            "text/plain": [
              "<Figure size 916.925x216 with 1 Axes>"
            ]
          },
          "metadata": {
            "tags": []
          }
        }
      ]
    },
    {
      "cell_type": "markdown",
      "metadata": {
        "id": "1XIqgnNrsv6f",
        "colab_type": "text"
      },
      "source": [
        "Let us have a closer look"
      ]
    },
    {
      "cell_type": "code",
      "metadata": {
        "id": "NIdkzNSlsype",
        "colab_type": "code",
        "outputId": "b15dc584-066e-42e5-a26c-b21ebe94e439",
        "colab": {
          "base_uri": "https://localhost:8080/",
          "height": 221
        }
      },
      "source": [
        "facet = sns.FacetGrid(train_feat, hue=\"survived\",aspect=4)\n",
        "facet.map(sns.kdeplot,'fare',shade= True)\n",
        "facet.set(xlim=(0, train_feat['fare'].max()))\n",
        "facet.add_legend()\n",
        "plt.xlim(0, 30)\n",
        "plt.show()"
      ],
      "execution_count": 118,
      "outputs": [
        {
          "output_type": "display_data",
          "data": {
            "image/png": "[encoded data removed]",
            "text/plain": [
              "<Figure size 916.925x216 with 1 Axes>"
            ]
          },
          "metadata": {
            "tags": []
          }
        }
      ]
    },
    {
      "cell_type": "code",
      "metadata": {
        "id": "ZVxUYyWFtCAM",
        "colab_type": "code",
        "outputId": "75e4615c-4097-4b86-f889-25ddfccd4291",
        "colab": {
          "base_uri": "https://localhost:8080/",
          "height": 221
        }
      },
      "source": [
        "facet = sns.FacetGrid(train_feat, hue=\"survived\",aspect=4)\n",
        "facet.map(sns.kdeplot,'fare',shade= True)\n",
        "facet.set(xlim=(0, train_feat['fare'].max()))\n",
        "facet.add_legend()\n",
        "plt.xlim(40,100)\n",
        "plt.show()"
      ],
      "execution_count": 119,
      "outputs": [
        {
          "output_type": "display_data",
          "data": {
            "image/png": "[encoded data removed]",
            "text/plain": [
              "<Figure size 916.925x216 with 1 Axes>"
            ]
          },
          "metadata": {
            "tags": []
          }
        }
      ]
    },
    {
      "cell_type": "code",
      "metadata": {
        "id": "Uqff3Hl_tCJ1",
        "colab_type": "code",
        "colab": {}
      },
      "source": [
        "def fare_bucket(fare):\n",
        "  \n",
        "  # returns buckets for the fare\n",
        "  if fare <= 29:\n",
        "    res = 0\n",
        "  elif fare > 29 and fare <= 75:\n",
        "    res = 1\n",
        "  else:\n",
        "    res = 2\n",
        "  return res"
      ],
      "execution_count": 0,
      "outputs": []
    },
    {
      "cell_type": "code",
      "metadata": {
        "id": "uzT-kgvxtCVY",
        "colab_type": "code",
        "colab": {}
      },
      "source": [
        "train_feat['fare_b'] = train_feat.fare.apply(fare_bucket)\n",
        "test_feat['fare_b'] = test_feat.fare.apply(fare_bucket)"
      ],
      "execution_count": 0,
      "outputs": []
    },
    {
      "cell_type": "code",
      "metadata": {
        "id": "pwFds3PgxRPj",
        "colab_type": "code",
        "outputId": "7ab5aaa3-09be-4296-9a00-697fc4ab3b24",
        "colab": {
          "base_uri": "https://localhost:8080/",
          "height": 398
        }
      },
      "source": [
        "surv_bar('fare_b')"
      ],
      "execution_count": 122,
      "outputs": [
        {
          "output_type": "display_data",
          "data": {
            "image/png": "[encoded data removed]",
            "text/plain": [
              "<Figure size 576x432 with 1 Axes>"
            ]
          },
          "metadata": {
            "tags": []
          }
        }
      ]
    },
    {
      "cell_type": "markdown",
      "metadata": {
        "id": "iz-zuyJwFy25",
        "colab_type": "text"
      },
      "source": [
        "## Cabin:\n",
        "This feature in particular has a lot of missing values. In fact, the lack of values for almost 70% of the dataset can itslef be used as data."
      ]
    },
    {
      "cell_type": "code",
      "metadata": {
        "id": "MGkmx74ytA_g",
        "colab_type": "code",
        "outputId": "6b6e6b9f-94d9-4e24-a501-add9f11bccc0",
        "colab": {
          "base_uri": "https://localhost:8080/",
          "height": 35
        }
      },
      "source": [
        "print('Missing values: {}'.format(train_feat.cabin.isna().sum()))"
      ],
      "execution_count": 123,
      "outputs": [
        {
          "output_type": "stream",
          "text": [
            "Missing values: 726\n"
          ],
          "name": "stdout"
        }
      ]
    },
    {
      "cell_type": "code",
      "metadata": {
        "id": "3Dev_Hm2G415",
        "colab_type": "code",
        "outputId": "bb323712-bdd1-406c-962c-20bf0bb5c4be",
        "colab": {
          "base_uri": "https://localhost:8080/",
          "height": 124
        }
      },
      "source": [
        "train_feat.cabin.value_counts().head()\n"
      ],
      "execution_count": 124,
      "outputs": [
        {
          "output_type": "execute_result",
          "data": {
            "text/plain": [
              "C23 C25 C27    4\n",
              "G6             4\n",
              "B96 B98        4\n",
              "E101           3\n",
              "F33            3\n",
              "Name: cabin, dtype: int64"
            ]
          },
          "metadata": {
            "tags": []
          },
          "execution_count": 124
        }
      ]
    },
    {
      "cell_type": "markdown",
      "metadata": {
        "id": "VPQqeVG7zED9",
        "colab_type": "text"
      },
      "source": [
        "Let's extract the cabin prefix, it may be related to the class and thus could be a good feature to have.\n"
      ]
    },
    {
      "cell_type": "code",
      "metadata": {
        "id": "h0AGgK2XzEWO",
        "colab_type": "code",
        "colab": {}
      },
      "source": [
        "train_feat['cabin'] = train_feat.cabin.str[:1]"
      ],
      "execution_count": 0,
      "outputs": []
    },
    {
      "cell_type": "code",
      "metadata": {
        "id": "nKeAF2ZO1i6s",
        "colab_type": "code",
        "outputId": "b86f91cd-0663-4d83-db36-8b82591ed082",
        "colab": {
          "base_uri": "https://localhost:8080/",
          "height": 178
        }
      },
      "source": [
        "train_feat.cabin.value_counts()"
      ],
      "execution_count": 126,
      "outputs": [
        {
          "output_type": "execute_result",
          "data": {
            "text/plain": [
              "C    61\n",
              "B    47\n",
              "D    36\n",
              "E    32\n",
              "A    16\n",
              "F    13\n",
              "G     4\n",
              "T     1\n",
              "Name: cabin, dtype: int64"
            ]
          },
          "metadata": {
            "tags": []
          },
          "execution_count": 126
        }
      ]
    },
    {
      "cell_type": "code",
      "metadata": {
        "id": "xXj6-5D5z3Xn",
        "colab_type": "code",
        "outputId": "a00c589c-44a7-415b-9540-d59c6e63bc5c",
        "colab": {
          "base_uri": "https://localhost:8080/",
          "height": 368
        }
      },
      "source": [
        "C1 = train_feat[train_feat['pclass']==1]['cabin'].value_counts()\n",
        "C2 = train_feat[train_feat['pclass']==2]['cabin'].value_counts()\n",
        "C3 = train_feat[train_feat['pclass']==3]['cabin'].value_counts()\n",
        "df = pd.DataFrame([C1, C2, C3])\n",
        "df.index = ['1st C','2nd C', '3rd C']\n",
        "df.plot(kind='bar',stacked=True, figsize=(10,5))"
      ],
      "execution_count": 127,
      "outputs": [
        {
          "output_type": "execute_result",
          "data": {
            "text/plain": [
              "<matplotlib.axes._subplots.AxesSubplot at 0x7fd77f72c860>"
            ]
          },
          "metadata": {
            "tags": []
          },
          "execution_count": 127
        },
        {
          "output_type": "display_data",
          "data": {
            "image/png": "[encoded data removed]",
            "text/plain": [
              "<Figure size 720x360 with 1 Axes>"
            ]
          },
          "metadata": {
            "tags": []
          }
        }
      ]
    },
    {
      "cell_type": "markdown",
      "metadata": {
        "id": "yq9BZiDU068T",
        "colab_type": "text"
      },
      "source": [
        "We will encode the cabin as a numeric feature, we want to mantain the order relation between the different values. "
      ]
    },
    {
      "cell_type": "code",
      "metadata": {
        "id": "bdSBOXq60z3w",
        "colab_type": "code",
        "colab": {}
      },
      "source": [
        "cabin_map = {\"A\": 0, \"B\": 0.4, \"C\": 0.8, \"D\": 1.2, \"E\": 1.6, \"F\": 2, \"G\": 2.4, \"T\": 2.8}\n",
        "train_feat['cabin'] = train_feat.cabin.map(cabin_map)   \n",
        "test_feat['cabin'] = test_feat.cabin.map(cabin_map)   "
      ],
      "execution_count": 0,
      "outputs": []
    },
    {
      "cell_type": "code",
      "metadata": {
        "id": "IjnBz0vU2X4Y",
        "colab_type": "code",
        "colab": {}
      },
      "source": [
        "# Now we can fill the missing values using the median for each class.\n",
        "train_feat.cabin.fillna(train_feat.groupby('pclass').cabin.transform(\"median\"), inplace=True)\n",
        "test_feat.cabin.fillna(train_feat.groupby('pclass').cabin.transform(\"median\"), inplace=True)\n",
        "\n"
      ],
      "execution_count": 0,
      "outputs": []
    },
    {
      "cell_type": "markdown",
      "metadata": {
        "id": "kgO9xFzwOhKc",
        "colab_type": "text"
      },
      "source": [
        "# Modeling \n",
        "\n",
        "The problem is stated as a classification problem. We are asked to predict whether a certain passenger (given the data)  will survive a naval accident. This in order to make decisions about the insurance policy charged in the ticket, for instance.\n"
      ]
    },
    {
      "cell_type": "code",
      "metadata": {
        "id": "wVL6uJQrPD3P",
        "colab_type": "code",
        "colab": {}
      },
      "source": [
        "from sklearn.neighbors import KNeighborsClassifier\n",
        "from sklearn.tree import DecisionTreeClassifier\n",
        "from sklearn.ensemble import RandomForestClassifier\n",
        "from sklearn.naive_bayes import GaussianNB\n",
        "from sklearn.svm import SVC\n",
        "\n",
        "from sklearn.model_selection import KFold\n",
        "from sklearn.model_selection import cross_val_score\n"
      ],
      "execution_count": 0,
      "outputs": []
    },
    {
      "cell_type": "markdown",
      "metadata": {
        "id": "ZhA6NqDIRHoB",
        "colab_type": "text"
      },
      "source": [
        "## Cross-Validation K-Folds"
      ]
    },
    {
      "cell_type": "code",
      "metadata": {
        "id": "Q4lHERizPIbx",
        "colab_type": "code",
        "colab": {}
      },
      "source": [
        "\n",
        "k_fold = KFold(n_splits=10, shuffle=True, random_state=0)\n"
      ],
      "execution_count": 0,
      "outputs": []
    },
    {
      "cell_type": "code",
      "metadata": {
        "id": "z-vFsnMXWx66",
        "colab_type": "code",
        "colab": {
          "base_uri": "https://localhost:8080/",
          "height": 106
        },
        "outputId": "8c9d1e76-1ce5-44d9-d0d2-0f3991e364f4"
      },
      "source": [
        "train_feat.columns"
      ],
      "execution_count": 150,
      "outputs": [
        {
          "output_type": "execute_result",
          "data": {
            "text/plain": [
              "Index(['passengerid', 'survived', 'pclass', 'name', 'sex', 'age', 'sibsp',\n",
              "       'parch', 'ticket', 'fare', 'cabin', 'embarked', 'title', 'title_label',\n",
              "       'Mr', 'Mrs', 'Miss', 'Master', 'Other', 'age_l', 'family_size', 'alone',\n",
              "       'fare_b', 'C', 'Q', 'S'],\n",
              "      dtype='object')"
            ]
          },
          "metadata": {
            "tags": []
          },
          "execution_count": 150
        }
      ]
    },
    {
      "cell_type": "code",
      "metadata": {
        "id": "331dvL6mTU3M",
        "colab_type": "code",
        "colab": {}
      },
      "source": [
        "# select the actual columns that go as the train data\n",
        "cols = [ 'pclass', \n",
        "        'sex', \n",
        "        'age', \n",
        "        'fare', \n",
        "        'cabin', \n",
        "        'Mr', 'Mrs', 'Miss', 'Master', 'Other', \n",
        "        'age_l', \n",
        "        'family_size', \n",
        "        'alone',\n",
        "       'fare_b', \n",
        "        'C', 'Q', 'S']\n"
      ],
      "execution_count": 0,
      "outputs": []
    },
    {
      "cell_type": "code",
      "metadata": {
        "id": "O4d0dQDRRLhe",
        "colab_type": "code",
        "colab": {
          "base_uri": "https://localhost:8080/",
          "height": 53
        },
        "outputId": "4e3cac9b-3fd9-4c6f-b786-e3e603799735"
      },
      "source": [
        "knn = KNeighborsClassifier(n_neighbors = 12)\n",
        "scoring = 'accuracy'\n",
        "score = cross_val_score(knn, train_feat[cols], train_feat['survived'], cv=k_fold, n_jobs=1, scoring=scoring)\n",
        "print(score)\n"
      ],
      "execution_count": 162,
      "outputs": [
        {
          "output_type": "stream",
          "text": [
            "[0.76595745 0.75531915 0.72340426 0.62765957 0.63829787 0.74468085\n",
            " 0.77419355 0.74193548 0.74193548 0.76344086]\n"
          ],
          "name": "stdout"
        }
      ]
    },
    {
      "cell_type": "code",
      "metadata": {
        "id": "qWL2bz_vTR5E",
        "colab_type": "code",
        "colab": {
          "base_uri": "https://localhost:8080/",
          "height": 35
        },
        "outputId": "c742d0ac-1835-4b38-c8c4-a1fdea1c1f69"
      },
      "source": [
        "# kNN Score\n",
        "round(np.mean(score)*100, 2)"
      ],
      "execution_count": 161,
      "outputs": [
        {
          "output_type": "execute_result",
          "data": {
            "text/plain": [
              "71.81"
            ]
          },
          "metadata": {
            "tags": []
          },
          "execution_count": 161
        }
      ]
    },
    {
      "cell_type": "markdown",
      "metadata": {
        "id": "vrnNsPBiXhyJ",
        "colab_type": "text"
      },
      "source": [
        "## Random Forest"
      ]
    },
    {
      "cell_type": "code",
      "metadata": {
        "id": "A2Z65PgjaQdk",
        "colab_type": "code",
        "colab": {
          "base_uri": "https://localhost:8080/",
          "height": 53
        },
        "outputId": "3352bf11-7010-426a-c157-7fb19dbf7d57"
      },
      "source": [
        "rf_clf = RandomForestClassifier(n_estimators=13)\n",
        "scoring = 'accuracy'\n",
        "score = cross_val_score(rf_clf, train_feat[cols], train['survived'], cv=k_fold, n_jobs=1, scoring=scoring)\n",
        "print(score)"
      ],
      "execution_count": 163,
      "outputs": [
        {
          "output_type": "stream",
          "text": [
            "[0.84042553 0.84042553 0.75531915 0.78723404 0.81914894 0.84042553\n",
            " 0.79569892 0.84946237 0.79569892 0.84946237]\n"
          ],
          "name": "stdout"
        }
      ]
    },
    {
      "cell_type": "code",
      "metadata": {
        "id": "RB5gAhjTaYZA",
        "colab_type": "code",
        "colab": {
          "base_uri": "https://localhost:8080/",
          "height": 35
        },
        "outputId": "b128f53f-7516-48ac-860a-e06445367a22"
      },
      "source": [
        "# Random Forest Score\n",
        "round(np.mean(score)*100, 2)"
      ],
      "execution_count": 164,
      "outputs": [
        {
          "output_type": "execute_result",
          "data": {
            "text/plain": [
              "81.73"
            ]
          },
          "metadata": {
            "tags": []
          },
          "execution_count": 164
        }
      ]
    },
    {
      "cell_type": "markdown",
      "metadata": {
        "id": "eAZ5uPm2abz5",
        "colab_type": "text"
      },
      "source": [
        "## Naive Bayes"
      ]
    },
    {
      "cell_type": "code",
      "metadata": {
        "id": "XiVKbsriagIq",
        "colab_type": "code",
        "colab": {
          "base_uri": "https://localhost:8080/",
          "height": 53
        },
        "outputId": "3c0ec0a2-6006-4378-8a39-520c2c18ea44"
      },
      "source": [
        "nb_clf = GaussianNB()\n",
        "scoring = 'accuracy'\n",
        "score = cross_val_score(nb_clf, train_feat[cols], train_feat['survived'], cv=k_fold, n_jobs=1, scoring=scoring)\n",
        "print(score)"
      ],
      "execution_count": 166,
      "outputs": [
        {
          "output_type": "stream",
          "text": [
            "[0.84042553 0.70212766 0.78723404 0.75531915 0.73404255 0.79787234\n",
            " 0.78494624 0.79569892 0.77419355 0.79569892]\n"
          ],
          "name": "stdout"
        }
      ]
    },
    {
      "cell_type": "code",
      "metadata": {
        "id": "v9vEJyLvakMh",
        "colab_type": "code",
        "colab": {
          "base_uri": "https://localhost:8080/",
          "height": 35
        },
        "outputId": "e49d2f64-b4a5-4c98-ce98-d22958c0726b"
      },
      "source": [
        "# Naive Bayes Score\n",
        "round(np.mean(score)*100, 2)\n"
      ],
      "execution_count": 168,
      "outputs": [
        {
          "output_type": "execute_result",
          "data": {
            "text/plain": [
              "77.68"
            ]
          },
          "metadata": {
            "tags": []
          },
          "execution_count": 168
        }
      ]
    },
    {
      "cell_type": "markdown",
      "metadata": {
        "id": "LQJJOy4hauDD",
        "colab_type": "text"
      },
      "source": [
        "## Support Vector Machine"
      ]
    },
    {
      "cell_type": "code",
      "metadata": {
        "id": "Oor6mKt-a2cZ",
        "colab_type": "code",
        "colab": {
          "base_uri": "https://localhost:8080/",
          "height": 430
        },
        "outputId": "3351cddb-accd-4553-ce17-af799d100c1d"
      },
      "source": [
        "svc = SVC()\n",
        "scoring = 'accuracy'\n",
        "score = cross_val_score(svc, train_feat[cols], train_feat['survived'], cv=k_fold, n_jobs=1, scoring=scoring)\n",
        "print(score)"
      ],
      "execution_count": 174,
      "outputs": [
        {
          "output_type": "stream",
          "text": [
            "/usr/local/lib/python3.6/dist-packages/sklearn/svm/base.py:193: FutureWarning: The default value of gamma will change from 'auto' to 'scale' in version 0.22 to account better for unscaled features. Set gamma explicitly to 'auto' or 'scale' to avoid this warning.\n",
            "  \"avoid this warning.\", FutureWarning)\n",
            "/usr/local/lib/python3.6/dist-packages/sklearn/svm/base.py:193: FutureWarning: The default value of gamma will change from 'auto' to 'scale' in version 0.22 to account better for unscaled features. Set gamma explicitly to 'auto' or 'scale' to avoid this warning.\n",
            "  \"avoid this warning.\", FutureWarning)\n",
            "/usr/local/lib/python3.6/dist-packages/sklearn/svm/base.py:193: FutureWarning: The default value of gamma will change from 'auto' to 'scale' in version 0.22 to account better for unscaled features. Set gamma explicitly to 'auto' or 'scale' to avoid this warning.\n",
            "  \"avoid this warning.\", FutureWarning)\n",
            "/usr/local/lib/python3.6/dist-packages/sklearn/svm/base.py:193: FutureWarning: The default value of gamma will change from 'auto' to 'scale' in version 0.22 to account better for unscaled features. Set gamma explicitly to 'auto' or 'scale' to avoid this warning.\n",
            "  \"avoid this warning.\", FutureWarning)\n",
            "/usr/local/lib/python3.6/dist-packages/sklearn/svm/base.py:193: FutureWarning: The default value of gamma will change from 'auto' to 'scale' in version 0.22 to account better for unscaled features. Set gamma explicitly to 'auto' or 'scale' to avoid this warning.\n",
            "  \"avoid this warning.\", FutureWarning)\n",
            "/usr/local/lib/python3.6/dist-packages/sklearn/svm/base.py:193: FutureWarning: The default value of gamma will change from 'auto' to 'scale' in version 0.22 to account better for unscaled features. Set gamma explicitly to 'auto' or 'scale' to avoid this warning.\n",
            "  \"avoid this warning.\", FutureWarning)\n",
            "/usr/local/lib/python3.6/dist-packages/sklearn/svm/base.py:193: FutureWarning: The default value of gamma will change from 'auto' to 'scale' in version 0.22 to account better for unscaled features. Set gamma explicitly to 'auto' or 'scale' to avoid this warning.\n",
            "  \"avoid this warning.\", FutureWarning)\n",
            "/usr/local/lib/python3.6/dist-packages/sklearn/svm/base.py:193: FutureWarning: The default value of gamma will change from 'auto' to 'scale' in version 0.22 to account better for unscaled features. Set gamma explicitly to 'auto' or 'scale' to avoid this warning.\n",
            "  \"avoid this warning.\", FutureWarning)\n",
            "/usr/local/lib/python3.6/dist-packages/sklearn/svm/base.py:193: FutureWarning: The default value of gamma will change from 'auto' to 'scale' in version 0.22 to account better for unscaled features. Set gamma explicitly to 'auto' or 'scale' to avoid this warning.\n",
            "  \"avoid this warning.\", FutureWarning)\n",
            "/usr/local/lib/python3.6/dist-packages/sklearn/svm/base.py:193: FutureWarning: The default value of gamma will change from 'auto' to 'scale' in version 0.22 to account better for unscaled features. Set gamma explicitly to 'auto' or 'scale' to avoid this warning.\n",
            "  \"avoid this warning.\", FutureWarning)\n"
          ],
          "name": "stderr"
        },
        {
          "output_type": "stream",
          "text": [
            "[0.81914894 0.76595745 0.73404255 0.68085106 0.72340426 0.78723404\n",
            " 0.78494624 0.79569892 0.74193548 0.78494624]\n"
          ],
          "name": "stdout"
        }
      ]
    },
    {
      "cell_type": "code",
      "metadata": {
        "id": "mtEthUyNa96q",
        "colab_type": "code",
        "colab": {
          "base_uri": "https://localhost:8080/",
          "height": 35
        },
        "outputId": "041369f8-f763-4824-e717-ccd23cf5114e"
      },
      "source": [
        "## SVM Classifier score\n",
        "round(np.mean(score)*100,2)"
      ],
      "execution_count": 175,
      "outputs": [
        {
          "output_type": "execute_result",
          "data": {
            "text/plain": [
              "76.18"
            ]
          },
          "metadata": {
            "tags": []
          },
          "execution_count": 175
        }
      ]
    },
    {
      "cell_type": "markdown",
      "metadata": {
        "id": "H8AtdMCUbjIw",
        "colab_type": "text"
      },
      "source": [
        "## Dense Neural Network Classifier"
      ]
    },
    {
      "cell_type": "code",
      "metadata": {
        "id": "tINMjL08bFkr",
        "colab_type": "code",
        "colab": {}
      },
      "source": [
        "from keras import backend as K\n",
        "from keras.models import Sequential\n",
        "from keras.layers import Dense\n",
        "\n",
        "from keras.callbacks import EarlyStopping"
      ],
      "execution_count": 0,
      "outputs": []
    },
    {
      "cell_type": "code",
      "metadata": {
        "id": "nbHvCW7PfHwG",
        "colab_type": "code",
        "colab": {}
      },
      "source": [
        "# Create a simple dense neural network classifier:\n",
        "def dnn_cls(n_cols = train_feat[cols].shape[1]):\n",
        "  # clear session\n",
        "  K.clear_session()\n",
        "  \n",
        "  # sequential model\n",
        "  dnn = Sequential()\n",
        "\n",
        "  # add dense layers\n",
        "  dnn.add(Dense(10, activation='relu', input_shape=(n_cols,)))\n",
        "  dnn.add(Dense(10, activation='relu'))\n",
        "  dnn.add(Dense(1, activation = 'sigmoid'))\n",
        "  \n",
        "  # compile model w/ binary cross entropy as a measure of model performance\n",
        "  dnn.compile(optimizer='adam', loss='binary_crossentropy', metrics=['accuracy'])\n",
        "  \n",
        "  #give the summary\n",
        "  dnn.summary()\n",
        "  return dnn\n",
        "\n",
        "# Define a function to train the model:\n",
        "def train_dnn(patience= 5, cols = cols, epochs = 30, valid_split = 0.2 ):\n",
        "  #set early stopping monitor so the model stops training when it won't improve anymore\n",
        "  early_stopping_monitor = EarlyStopping(patience=5)\n",
        "\n",
        "  #train model\n",
        "  results = dnn.fit(train_feat[cols], train_feat['survived'], validation_split= valid_split, epochs = epochs, callbacks=[early_stopping_monitor])\n",
        "  return results"
      ],
      "execution_count": 0,
      "outputs": []
    },
    {
      "cell_type": "code",
      "metadata": {
        "id": "dUY5oe-ecRr4",
        "colab_type": "code",
        "colab": {
          "base_uri": "https://localhost:8080/",
          "height": 249
        },
        "outputId": "e2778121-3b8c-47fc-b198-327570d564c6"
      },
      "source": [
        "dnn = dnn_cls()"
      ],
      "execution_count": 254,
      "outputs": [
        {
          "output_type": "stream",
          "text": [
            "_________________________________________________________________\n",
            "Layer (type)                 Output Shape              Param #   \n",
            "=================================================================\n",
            "dense_1 (Dense)              (None, 10)                180       \n",
            "_________________________________________________________________\n",
            "dense_2 (Dense)              (None, 10)                110       \n",
            "_________________________________________________________________\n",
            "dense_3 (Dense)              (None, 1)                 11        \n",
            "=================================================================\n",
            "Total params: 301\n",
            "Trainable params: 301\n",
            "Non-trainable params: 0\n",
            "_________________________________________________________________\n"
          ],
          "name": "stdout"
        }
      ]
    },
    {
      "cell_type": "code",
      "metadata": {
        "id": "ZLG-3148dXEX",
        "colab_type": "code",
        "colab": {
          "base_uri": "https://localhost:8080/",
          "height": 2822
        },
        "outputId": "f4da688c-51f9-43cb-b004-436ed4612f3d"
      },
      "source": [
        "results = train_dnn(epochs = 100)"
      ],
      "execution_count": 255,
      "outputs": [
        {
          "output_type": "stream",
          "text": [
            "Train on 748 samples, validate on 188 samples\n",
            "Epoch 1/100\n",
            "748/748 [==============================] - 0s 386us/step - loss: 1.9372 - acc: 0.6711 - val_loss: 1.0826 - val_acc: 0.6968\n",
            "Epoch 2/100\n",
            "748/748 [==============================] - 0s 56us/step - loss: 1.2152 - acc: 0.6885 - val_loss: 0.7094 - val_acc: 0.7021\n",
            "Epoch 3/100\n",
            "748/748 [==============================] - 0s 54us/step - loss: 0.8180 - acc: 0.6751 - val_loss: 0.6186 - val_acc: 0.6862\n",
            "Epoch 4/100\n",
            "748/748 [==============================] - 0s 56us/step - loss: 0.6550 - acc: 0.6631 - val_loss: 0.6015 - val_acc: 0.7021\n",
            "Epoch 5/100\n",
            "748/748 [==============================] - 0s 54us/step - loss: 0.6375 - acc: 0.6925 - val_loss: 0.5694 - val_acc: 0.7021\n",
            "Epoch 6/100\n",
            "748/748 [==============================] - 0s 52us/step - loss: 0.6092 - acc: 0.6965 - val_loss: 0.5656 - val_acc: 0.7128\n",
            "Epoch 7/100\n",
            "748/748 [==============================] - 0s 53us/step - loss: 0.6046 - acc: 0.6939 - val_loss: 0.5506 - val_acc: 0.7234\n",
            "Epoch 8/100\n",
            "748/748 [==============================] - 0s 49us/step - loss: 0.5904 - acc: 0.7059 - val_loss: 0.5494 - val_acc: 0.6915\n",
            "Epoch 9/100\n",
            "748/748 [==============================] - 0s 43us/step - loss: 0.5788 - acc: 0.6979 - val_loss: 0.5336 - val_acc: 0.7606\n",
            "Epoch 10/100\n",
            "748/748 [==============================] - 0s 45us/step - loss: 0.5955 - acc: 0.7045 - val_loss: 0.5217 - val_acc: 0.7553\n",
            "Epoch 11/100\n",
            "748/748 [==============================] - 0s 52us/step - loss: 0.5639 - acc: 0.7112 - val_loss: 0.5166 - val_acc: 0.7340\n",
            "Epoch 12/100\n",
            "748/748 [==============================] - 0s 48us/step - loss: 0.5489 - acc: 0.7219 - val_loss: 0.5093 - val_acc: 0.7553\n",
            "Epoch 13/100\n",
            "748/748 [==============================] - 0s 50us/step - loss: 0.5439 - acc: 0.7299 - val_loss: 0.5013 - val_acc: 0.7340\n",
            "Epoch 14/100\n",
            "748/748 [==============================] - 0s 49us/step - loss: 0.5370 - acc: 0.7273 - val_loss: 0.4961 - val_acc: 0.7340\n",
            "Epoch 15/100\n",
            "748/748 [==============================] - 0s 50us/step - loss: 0.5287 - acc: 0.7393 - val_loss: 0.4959 - val_acc: 0.7500\n",
            "Epoch 16/100\n",
            "748/748 [==============================] - 0s 54us/step - loss: 0.5277 - acc: 0.7353 - val_loss: 0.4853 - val_acc: 0.7500\n",
            "Epoch 17/100\n",
            "748/748 [==============================] - 0s 50us/step - loss: 0.5227 - acc: 0.7447 - val_loss: 0.4762 - val_acc: 0.7447\n",
            "Epoch 18/100\n",
            "748/748 [==============================] - 0s 52us/step - loss: 0.5085 - acc: 0.7567 - val_loss: 0.4700 - val_acc: 0.7766\n",
            "Epoch 19/100\n",
            "748/748 [==============================] - 0s 52us/step - loss: 0.5015 - acc: 0.7821 - val_loss: 0.4596 - val_acc: 0.8032\n",
            "Epoch 20/100\n",
            "748/748 [==============================] - 0s 52us/step - loss: 0.5019 - acc: 0.7674 - val_loss: 0.4548 - val_acc: 0.7926\n",
            "Epoch 21/100\n",
            "748/748 [==============================] - 0s 54us/step - loss: 0.4946 - acc: 0.7660 - val_loss: 0.4478 - val_acc: 0.8032\n",
            "Epoch 22/100\n",
            "748/748 [==============================] - 0s 48us/step - loss: 0.4816 - acc: 0.7794 - val_loss: 0.4432 - val_acc: 0.7713\n",
            "Epoch 23/100\n",
            "748/748 [==============================] - 0s 52us/step - loss: 0.4883 - acc: 0.7701 - val_loss: 0.4422 - val_acc: 0.7979\n",
            "Epoch 24/100\n",
            "748/748 [==============================] - 0s 52us/step - loss: 0.4743 - acc: 0.7794 - val_loss: 0.4367 - val_acc: 0.7979\n",
            "Epoch 25/100\n",
            "748/748 [==============================] - 0s 50us/step - loss: 0.4755 - acc: 0.7781 - val_loss: 0.4402 - val_acc: 0.7979\n",
            "Epoch 26/100\n",
            "748/748 [==============================] - 0s 57us/step - loss: 0.4708 - acc: 0.7834 - val_loss: 0.4327 - val_acc: 0.7979\n",
            "Epoch 27/100\n",
            "748/748 [==============================] - 0s 49us/step - loss: 0.4732 - acc: 0.7955 - val_loss: 0.4356 - val_acc: 0.7979\n",
            "Epoch 28/100\n",
            "748/748 [==============================] - 0s 48us/step - loss: 0.4709 - acc: 0.7807 - val_loss: 0.4392 - val_acc: 0.7819\n",
            "Epoch 29/100\n",
            "748/748 [==============================] - 0s 56us/step - loss: 0.4700 - acc: 0.7807 - val_loss: 0.4276 - val_acc: 0.7979\n",
            "Epoch 30/100\n",
            "748/748 [==============================] - 0s 55us/step - loss: 0.4639 - acc: 0.7941 - val_loss: 0.4254 - val_acc: 0.8085\n",
            "Epoch 31/100\n",
            "748/748 [==============================] - 0s 53us/step - loss: 0.4577 - acc: 0.7914 - val_loss: 0.4283 - val_acc: 0.8191\n",
            "Epoch 32/100\n",
            "748/748 [==============================] - 0s 51us/step - loss: 0.4568 - acc: 0.7955 - val_loss: 0.4264 - val_acc: 0.8138\n",
            "Epoch 33/100\n",
            "748/748 [==============================] - 0s 49us/step - loss: 0.4655 - acc: 0.7914 - val_loss: 0.4149 - val_acc: 0.8298\n",
            "Epoch 34/100\n",
            "748/748 [==============================] - 0s 49us/step - loss: 0.4562 - acc: 0.7968 - val_loss: 0.4170 - val_acc: 0.8138\n",
            "Epoch 35/100\n",
            "748/748 [==============================] - 0s 49us/step - loss: 0.4505 - acc: 0.8048 - val_loss: 0.4216 - val_acc: 0.8085\n",
            "Epoch 36/100\n",
            "748/748 [==============================] - 0s 52us/step - loss: 0.4638 - acc: 0.7861 - val_loss: 0.4144 - val_acc: 0.8298\n",
            "Epoch 37/100\n",
            "748/748 [==============================] - 0s 48us/step - loss: 0.4521 - acc: 0.8021 - val_loss: 0.4162 - val_acc: 0.8138\n",
            "Epoch 38/100\n",
            "748/748 [==============================] - 0s 51us/step - loss: 0.4522 - acc: 0.8008 - val_loss: 0.4091 - val_acc: 0.8245\n",
            "Epoch 39/100\n",
            "748/748 [==============================] - 0s 50us/step - loss: 0.4474 - acc: 0.7995 - val_loss: 0.4140 - val_acc: 0.8191\n",
            "Epoch 40/100\n",
            "748/748 [==============================] - 0s 53us/step - loss: 0.4553 - acc: 0.7941 - val_loss: 0.4069 - val_acc: 0.8138\n",
            "Epoch 41/100\n",
            "748/748 [==============================] - 0s 52us/step - loss: 0.4469 - acc: 0.8048 - val_loss: 0.4117 - val_acc: 0.8138\n",
            "Epoch 42/100\n",
            "748/748 [==============================] - 0s 51us/step - loss: 0.4433 - acc: 0.8075 - val_loss: 0.4084 - val_acc: 0.8191\n",
            "Epoch 43/100\n",
            "748/748 [==============================] - 0s 49us/step - loss: 0.4481 - acc: 0.7995 - val_loss: 0.4102 - val_acc: 0.8191\n",
            "Epoch 44/100\n",
            "748/748 [==============================] - 0s 49us/step - loss: 0.4441 - acc: 0.8061 - val_loss: 0.4065 - val_acc: 0.8191\n",
            "Epoch 45/100\n",
            "748/748 [==============================] - 0s 49us/step - loss: 0.4449 - acc: 0.8115 - val_loss: 0.4016 - val_acc: 0.8298\n",
            "Epoch 46/100\n",
            "748/748 [==============================] - 0s 50us/step - loss: 0.4472 - acc: 0.8021 - val_loss: 0.4085 - val_acc: 0.8138\n",
            "Epoch 47/100\n",
            "748/748 [==============================] - 0s 51us/step - loss: 0.4435 - acc: 0.8155 - val_loss: 0.4069 - val_acc: 0.8245\n",
            "Epoch 48/100\n",
            "748/748 [==============================] - 0s 47us/step - loss: 0.4416 - acc: 0.8102 - val_loss: 0.4062 - val_acc: 0.8032\n",
            "Epoch 49/100\n",
            "748/748 [==============================] - 0s 53us/step - loss: 0.4431 - acc: 0.8035 - val_loss: 0.4028 - val_acc: 0.8191\n",
            "Epoch 50/100\n",
            "748/748 [==============================] - 0s 50us/step - loss: 0.4413 - acc: 0.8102 - val_loss: 0.3990 - val_acc: 0.8245\n",
            "Epoch 51/100\n",
            "748/748 [==============================] - 0s 50us/step - loss: 0.4404 - acc: 0.8115 - val_loss: 0.3975 - val_acc: 0.8404\n",
            "Epoch 52/100\n",
            "748/748 [==============================] - 0s 51us/step - loss: 0.4385 - acc: 0.8115 - val_loss: 0.3997 - val_acc: 0.8404\n",
            "Epoch 53/100\n",
            "748/748 [==============================] - 0s 50us/step - loss: 0.4433 - acc: 0.8102 - val_loss: 0.4009 - val_acc: 0.8298\n",
            "Epoch 54/100\n",
            "748/748 [==============================] - 0s 50us/step - loss: 0.4422 - acc: 0.8088 - val_loss: 0.3987 - val_acc: 0.8191\n",
            "Epoch 55/100\n",
            "748/748 [==============================] - 0s 50us/step - loss: 0.4348 - acc: 0.8168 - val_loss: 0.3954 - val_acc: 0.8245\n",
            "Epoch 56/100\n",
            "748/748 [==============================] - 0s 51us/step - loss: 0.4364 - acc: 0.8142 - val_loss: 0.3991 - val_acc: 0.8191\n",
            "Epoch 57/100\n",
            "748/748 [==============================] - 0s 57us/step - loss: 0.4404 - acc: 0.8061 - val_loss: 0.3994 - val_acc: 0.8245\n",
            "Epoch 58/100\n",
            "748/748 [==============================] - 0s 51us/step - loss: 0.4477 - acc: 0.8061 - val_loss: 0.3989 - val_acc: 0.8351\n",
            "Epoch 59/100\n",
            "748/748 [==============================] - 0s 51us/step - loss: 0.4382 - acc: 0.8142 - val_loss: 0.3965 - val_acc: 0.8245\n",
            "Epoch 60/100\n",
            "748/748 [==============================] - 0s 42us/step - loss: 0.4384 - acc: 0.8168 - val_loss: 0.3904 - val_acc: 0.8351\n",
            "Epoch 61/100\n",
            "748/748 [==============================] - 0s 40us/step - loss: 0.4351 - acc: 0.8142 - val_loss: 0.3948 - val_acc: 0.8191\n",
            "Epoch 62/100\n",
            "748/748 [==============================] - 0s 45us/step - loss: 0.4324 - acc: 0.8115 - val_loss: 0.3928 - val_acc: 0.8191\n",
            "Epoch 63/100\n",
            "748/748 [==============================] - 0s 42us/step - loss: 0.4318 - acc: 0.8115 - val_loss: 0.3899 - val_acc: 0.8298\n",
            "Epoch 64/100\n",
            "748/748 [==============================] - 0s 44us/step - loss: 0.4310 - acc: 0.8102 - val_loss: 0.3984 - val_acc: 0.8245\n",
            "Epoch 65/100\n",
            "748/748 [==============================] - 0s 44us/step - loss: 0.4311 - acc: 0.8195 - val_loss: 0.3956 - val_acc: 0.8245\n",
            "Epoch 66/100\n",
            "748/748 [==============================] - 0s 47us/step - loss: 0.4340 - acc: 0.8155 - val_loss: 0.3908 - val_acc: 0.8298\n",
            "Epoch 67/100\n",
            "748/748 [==============================] - 0s 42us/step - loss: 0.4370 - acc: 0.8048 - val_loss: 0.3901 - val_acc: 0.8245\n",
            "Epoch 68/100\n",
            "748/748 [==============================] - 0s 42us/step - loss: 0.4330 - acc: 0.8102 - val_loss: 0.3885 - val_acc: 0.8351\n",
            "Epoch 69/100\n",
            "748/748 [==============================] - 0s 41us/step - loss: 0.4310 - acc: 0.8048 - val_loss: 0.3858 - val_acc: 0.8351\n",
            "Epoch 70/100\n",
            "748/748 [==============================] - 0s 44us/step - loss: 0.4393 - acc: 0.8155 - val_loss: 0.3888 - val_acc: 0.8298\n",
            "Epoch 71/100\n",
            "748/748 [==============================] - 0s 43us/step - loss: 0.4331 - acc: 0.8128 - val_loss: 0.3881 - val_acc: 0.8298\n",
            "Epoch 72/100\n",
            "748/748 [==============================] - 0s 41us/step - loss: 0.4348 - acc: 0.8075 - val_loss: 0.3872 - val_acc: 0.8351\n",
            "Epoch 73/100\n",
            "748/748 [==============================] - 0s 44us/step - loss: 0.4380 - acc: 0.8142 - val_loss: 0.3831 - val_acc: 0.8511\n",
            "Epoch 74/100\n",
            "748/748 [==============================] - 0s 45us/step - loss: 0.4306 - acc: 0.8155 - val_loss: 0.3877 - val_acc: 0.8298\n",
            "Epoch 75/100\n",
            "748/748 [==============================] - 0s 42us/step - loss: 0.4315 - acc: 0.8115 - val_loss: 0.3844 - val_acc: 0.8404\n",
            "Epoch 76/100\n",
            "748/748 [==============================] - 0s 42us/step - loss: 0.4295 - acc: 0.8235 - val_loss: 0.3949 - val_acc: 0.8351\n",
            "Epoch 77/100\n",
            "748/748 [==============================] - 0s 43us/step - loss: 0.4282 - acc: 0.8115 - val_loss: 0.3864 - val_acc: 0.8351\n",
            "Epoch 78/100\n",
            "748/748 [==============================] - 0s 41us/step - loss: 0.4302 - acc: 0.8142 - val_loss: 0.3870 - val_acc: 0.8404\n"
          ],
          "name": "stdout"
        }
      ]
    },
    {
      "cell_type": "code",
      "metadata": {
        "id": "BKZu_EgNj3LN",
        "colab_type": "code",
        "colab": {}
      },
      "source": [
        "def plot_results():\n",
        "  plt.figure(figsize = (6,6))\n",
        "  plt.title(\"Learning curve\", fontsize = 15)\n",
        "  plt.plot(results.history[\"acc\"], label=\"accuracy\")\n",
        "  plt.plot(results.history[\"val_acc\"], label=\"val accuracy\")\n",
        "  plt.plot( np.argmax(results.history[\"val_acc\"]), np.max(results.history[\"val_acc\"]), marker=\"x\", color=\"r\", label=\"best model\")\n",
        "  plt.xlabel(\"Epochs\")\n",
        "  plt.ylabel(\"accuracy\")\n",
        "  plt.legend();\n"
      ],
      "execution_count": 0,
      "outputs": []
    },
    {
      "cell_type": "code",
      "metadata": {
        "id": "hpdBRhIAhbMZ",
        "colab_type": "code",
        "colab": {
          "base_uri": "https://localhost:8080/",
          "height": 412
        },
        "outputId": "f7fcabc0-c765-465e-b1bd-5a854e15ab8c"
      },
      "source": [
        "plot_results()"
      ],
      "execution_count": 264,
      "outputs": [
        {
          "output_type": "display_data",
          "data": {
            "image/png": "[encoded data removed]",
            "text/plain": [
              "<Figure size 432x432 with 1 Axes>"
            ]
          },
          "metadata": {
            "tags": []
          }
        }
      ]
    },
    {
      "cell_type": "code",
      "metadata": {
        "id": "gZ43W9k_iqAh",
        "colab_type": "code",
        "colab": {}
      },
      "source": [
        ""
      ],
      "execution_count": 0,
      "outputs": []
    }
  ]
}