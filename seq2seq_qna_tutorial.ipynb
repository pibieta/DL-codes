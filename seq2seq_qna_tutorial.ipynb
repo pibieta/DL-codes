{
  "nbformat": 4,
  "nbformat_minor": 0,
  "metadata": {
    "colab": {
      "name": "seq2seq-qna-tutorial.ipynb",
      "version": "0.3.2",
      "provenance": [],
      "include_colab_link": true
    },
    "kernelspec": {
      "name": "python3",
      "display_name": "Python 3"
    }
  },
  "cells": [
    {
      "cell_type": "markdown",
      "metadata": {
        "id": "view-in-github",
        "colab_type": "text"
      },
      "source": [
        "<a href=\"https://colab.research.google.com/github/pibieta/ML-course/blob/master/seq2seq_qna_tutorial.ipynb\" target=\"_parent\"><img src=\"https://colab.research.google.com/assets/colab-badge.svg\" alt=\"Open In Colab\"/></a>"
      ]
    },
    {
      "metadata": {
        "id": "GHD2Elccv2hd",
        "colab_type": "text"
      },
      "cell_type": "markdown",
      "source": [
        "# Notes on the seq2seq model \n",
        "\n",
        "We review the generative model known as **seq2seq**. This tutorial is based on [this](https://github.com/tensorflow/nmt) tutorial and some other that have to included. The original's tutorial focuses on **Neural Machine Translation** (NMT); the example we treat here is understood as the translation of Questions into Answers (QnA) in terms of NMT."
      ]
    },
    {
      "metadata": {
        "id": "ZiXjjQXLxhUF",
        "colab_type": "text"
      },
      "cell_type": "markdown",
      "source": [
        "#Basic\n",
        "\n",
        "\n",
        "---\n",
        "\n",
        "\n",
        "This kind of algorithm performs translation tasks taking whole sequences of vector representations of words as inputs and giving vectors representing the translated sequence as outputs. The input sequence is passed through an **Encoder** network that converts the sequence into a meningful vector. This vector is,  in turn, passed through a **Decoder** \n",
        "<p align=\"center\">\n",
        "<img width=\"80%\" src=\"https://raw.githubusercontent.com/tensorflow/nmt/master/nmt/g3doc/img/encdec.jpg\" />\n",
        "<br>\n",
        "Figure 1. <a href=\"https://github.com/tensorflow/nmt\">Encoder-decoder architecture</a> – example of a general approach for\n",
        "NMT. \n",
        "</p>\n"
      ]
    }
  ]
}