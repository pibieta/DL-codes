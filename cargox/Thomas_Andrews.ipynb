{
  "nbformat": 4,
  "nbformat_minor": 0,
  "metadata": {
    "colab": {
      "name": "Thomas-Andrews.ipynb",
      "version": "0.3.2",
      "provenance": [],
      "collapsed_sections": [],
      "include_colab_link": true
    },
    "kernelspec": {
      "name": "python3",
      "display_name": "Python 3"
    }
  },
  "cells": [
    {
      "cell_type": "markdown",
      "metadata": {
        "id": "view-in-github",
        "colab_type": "text"
      },
      "source": [
        "<a href=\"https://colab.research.google.com/github/pibieta/ML-course/blob/master/cargox/Thomas_Andrews.ipynb\" target=\"_parent\"><img src=\"https://colab.research.google.com/assets/colab-badge.svg\" alt=\"Open In Colab\"/></a>"
      ]
    },
    {
      "cell_type": "markdown",
      "metadata": {
        "id": "NIVKbdoCuvi9",
        "colab_type": "text"
      },
      "source": [
        "# Thomas-Andrews case\n",
        "---\n",
        "J. P. Ibieta-Jimenez"
      ]
    },
    {
      "cell_type": "code",
      "metadata": {
        "id": "srbLkJfEuX44",
        "colab_type": "code",
        "colab": {}
      },
      "source": [
        "# imports\n",
        "import time\n",
        "import random\n",
        "import itertools\n",
        "import datetime as dt\n",
        "import pickle\n",
        "from math import cos, asin, sqrt\n",
        "\n",
        "# data and viz\n",
        "import numpy as np\n",
        "import pandas as pd\n",
        "import matplotlib.pyplot as plt\n",
        "import seaborn as sns\n",
        "sns.set()\n",
        "sns.set_style('white')\n",
        "\n",
        "\n",
        "# ML metrics and preprocesing\n",
        "from sklearn import metrics\n",
        "from sklearn.model_selection import train_test_split\n",
        "from sklearn import preprocessing\n",
        "from sklearn.metrics import accuracy_score, confusion_matrix, mean_absolute_error\n",
        "from sklearn.metrics import roc_auc_score, precision_recall_fscore_support, classification_report\n",
        "\n",
        "# XGBoost\n",
        "from xgboost import XGBClassifier\n",
        "from xgboost import plot_importance\n",
        "\n",
        "def plot_features(booster, figsize):    \n",
        "    fig, ax = plt.subplots(1,1,figsize=figsize)\n",
        "    return plot_importance(booster=booster, ax=ax)\n"
      ],
      "execution_count": 0,
      "outputs": []
    },
    {
      "cell_type": "markdown",
      "metadata": {
        "id": "K_2mOiDuB4iM",
        "colab_type": "text"
      },
      "source": [
        "# The Problem\n",
        "---\n",
        "Thomas-Andrews is in charge of  the insurance  of  passengers  traveling in one of the **Olympic Class Trans-Atlantic fleet** ships. Data from the **RMS Titanic** trip were given to us in order to construct a model that would help avoiding any further tragedies. The predicitve modelis required to classify passengers by their risk to **not survive** a naval tragedy. \n",
        "\n",
        "In this sense,  we are asked to:\n",
        "* To analyze and understand data identifying the features that have more relation with survival risk.\n",
        "* To construct a predictive model that identifies *risky* passengers and make appropriate decisions concerning their safety."
      ]
    },
    {
      "cell_type": "markdown",
      "metadata": {
        "id": "Kg4O4oiVw-is",
        "colab_type": "text"
      },
      "source": [
        "# Get  Data\n",
        "---\n",
        "Start by loading data as pandas dataframes for Exploratory Analysis."
      ]
    },
    {
      "cell_type": "code",
      "metadata": {
        "id": "hzVs93iIu9YN",
        "colab_type": "code",
        "outputId": "4684b61d-037d-4351-aced-2df387e24a34",
        "colab": {
          "base_uri": "https://localhost:8080/",
          "height": 204
        }
      },
      "source": [
        "t_url = 'https://raw.githubusercontent.com/pibieta/ML-course/master/cargox/train.csv'\n",
        "te_url = 'https://github.com/pibieta/ML-course/raw/master/cargox/test.csv'\n",
        "train = pd.read_csv(t_url)\n",
        "test = pd.read_csv(te_url)\n",
        "train.head()"
      ],
      "execution_count": 2,
      "outputs": [
        {
          "output_type": "execute_result",
          "data": {
            "text/html": [
              "<div>\n",
              "<style scoped>\n",
              "    .dataframe tbody tr th:only-of-type {\n",
              "        vertical-align: middle;\n",
              "    }\n",
              "\n",
              "    .dataframe tbody tr th {\n",
              "        vertical-align: top;\n",
              "    }\n",
              "\n",
              "    .dataframe thead th {\n",
              "        text-align: right;\n",
              "    }\n",
              "</style>\n",
              "<table border=\"1\" class=\"dataframe\">\n",
              "  <thead>\n",
              "    <tr style=\"text-align: right;\">\n",
              "      <th></th>\n",
              "      <th>passengerid</th>\n",
              "      <th>survived</th>\n",
              "      <th>pclass</th>\n",
              "      <th>name</th>\n",
              "      <th>sex</th>\n",
              "      <th>age</th>\n",
              "      <th>sibsp</th>\n",
              "      <th>parch</th>\n",
              "      <th>ticket</th>\n",
              "      <th>fare</th>\n",
              "      <th>cabin</th>\n",
              "      <th>embarked</th>\n",
              "    </tr>\n",
              "  </thead>\n",
              "  <tbody>\n",
              "    <tr>\n",
              "      <th>0</th>\n",
              "      <td>1</td>\n",
              "      <td>0</td>\n",
              "      <td>3.0</td>\n",
              "      <td>Braund, Mr. Owen Harris</td>\n",
              "      <td>male</td>\n",
              "      <td>22.0</td>\n",
              "      <td>1</td>\n",
              "      <td>0</td>\n",
              "      <td>A/5 21171</td>\n",
              "      <td>7.2500</td>\n",
              "      <td>NaN</td>\n",
              "      <td>S</td>\n",
              "    </tr>\n",
              "    <tr>\n",
              "      <th>1</th>\n",
              "      <td>2</td>\n",
              "      <td>1</td>\n",
              "      <td>1.0</td>\n",
              "      <td>Cumings, Mrs. John Bradley (Florence Briggs Th...</td>\n",
              "      <td>Female</td>\n",
              "      <td>38.0</td>\n",
              "      <td>1</td>\n",
              "      <td>0</td>\n",
              "      <td>PC 17599</td>\n",
              "      <td>71.2833</td>\n",
              "      <td>C85</td>\n",
              "      <td>C</td>\n",
              "    </tr>\n",
              "    <tr>\n",
              "      <th>2</th>\n",
              "      <td>3</td>\n",
              "      <td>1</td>\n",
              "      <td>3.0</td>\n",
              "      <td>Heikkinen, Miss. Laina</td>\n",
              "      <td>women</td>\n",
              "      <td>26.0</td>\n",
              "      <td>0</td>\n",
              "      <td>0</td>\n",
              "      <td>STON/O2. 3101282</td>\n",
              "      <td>7.9250</td>\n",
              "      <td>NaN</td>\n",
              "      <td>S</td>\n",
              "    </tr>\n",
              "    <tr>\n",
              "      <th>3</th>\n",
              "      <td>4</td>\n",
              "      <td>1</td>\n",
              "      <td>1.0</td>\n",
              "      <td>Futrelle, Mrs. Jacques Heath (Lily May Peel)</td>\n",
              "      <td>female_</td>\n",
              "      <td>35.0</td>\n",
              "      <td>1</td>\n",
              "      <td>0</td>\n",
              "      <td>113803</td>\n",
              "      <td>53.1000</td>\n",
              "      <td>C123</td>\n",
              "      <td>S</td>\n",
              "    </tr>\n",
              "    <tr>\n",
              "      <th>4</th>\n",
              "      <td>5</td>\n",
              "      <td>0</td>\n",
              "      <td>3.0</td>\n",
              "      <td>Allen, Mr. William Henry</td>\n",
              "      <td>male</td>\n",
              "      <td>35.0</td>\n",
              "      <td>0</td>\n",
              "      <td>0</td>\n",
              "      <td>373450</td>\n",
              "      <td>8.0500</td>\n",
              "      <td>NaN</td>\n",
              "      <td>S</td>\n",
              "    </tr>\n",
              "  </tbody>\n",
              "</table>\n",
              "</div>"
            ],
            "text/plain": [
              "   passengerid  survived  pclass  ...     fare cabin  embarked\n",
              "0            1         0     3.0  ...   7.2500   NaN         S\n",
              "1            2         1     1.0  ...  71.2833   C85         C\n",
              "2            3         1     3.0  ...   7.9250   NaN         S\n",
              "3            4         1     1.0  ...  53.1000  C123         S\n",
              "4            5         0     3.0  ...   8.0500   NaN         S\n",
              "\n",
              "[5 rows x 12 columns]"
            ]
          },
          "metadata": {
            "tags": []
          },
          "execution_count": 2
        }
      ]
    },
    {
      "cell_type": "code",
      "metadata": {
        "id": "leTSp42w262m",
        "colab_type": "code",
        "outputId": "86ff066c-d8cf-42c5-89e5-ce351b7c541a",
        "colab": {
          "base_uri": "https://localhost:8080/",
          "height": 204
        }
      },
      "source": [
        "test.columns =  ['passengerid', 'pclass', 'name', 'sex', 'age', 'sibsp', 'parch', 'ticket', 'fare', 'cabin', 'embarked']\n",
        "test.head()"
      ],
      "execution_count": 4,
      "outputs": [
        {
          "output_type": "execute_result",
          "data": {
            "text/html": [
              "<div>\n",
              "<style scoped>\n",
              "    .dataframe tbody tr th:only-of-type {\n",
              "        vertical-align: middle;\n",
              "    }\n",
              "\n",
              "    .dataframe tbody tr th {\n",
              "        vertical-align: top;\n",
              "    }\n",
              "\n",
              "    .dataframe thead th {\n",
              "        text-align: right;\n",
              "    }\n",
              "</style>\n",
              "<table border=\"1\" class=\"dataframe\">\n",
              "  <thead>\n",
              "    <tr style=\"text-align: right;\">\n",
              "      <th></th>\n",
              "      <th>passengerid</th>\n",
              "      <th>pclass</th>\n",
              "      <th>name</th>\n",
              "      <th>sex</th>\n",
              "      <th>age</th>\n",
              "      <th>sibsp</th>\n",
              "      <th>parch</th>\n",
              "      <th>ticket</th>\n",
              "      <th>fare</th>\n",
              "      <th>cabin</th>\n",
              "      <th>embarked</th>\n",
              "    </tr>\n",
              "  </thead>\n",
              "  <tbody>\n",
              "    <tr>\n",
              "      <th>0</th>\n",
              "      <td>892</td>\n",
              "      <td>3</td>\n",
              "      <td>Kelly, Mr. James</td>\n",
              "      <td>male</td>\n",
              "      <td>34.5</td>\n",
              "      <td>0</td>\n",
              "      <td>0</td>\n",
              "      <td>330911</td>\n",
              "      <td>7.8292</td>\n",
              "      <td>NaN</td>\n",
              "      <td>Q</td>\n",
              "    </tr>\n",
              "    <tr>\n",
              "      <th>1</th>\n",
              "      <td>893</td>\n",
              "      <td>3</td>\n",
              "      <td>Wilkes, Mrs. James (Ellen Needs)</td>\n",
              "      <td>female</td>\n",
              "      <td>47.0</td>\n",
              "      <td>1</td>\n",
              "      <td>0</td>\n",
              "      <td>363272</td>\n",
              "      <td>7.0000</td>\n",
              "      <td>NaN</td>\n",
              "      <td>S</td>\n",
              "    </tr>\n",
              "    <tr>\n",
              "      <th>2</th>\n",
              "      <td>894</td>\n",
              "      <td>2</td>\n",
              "      <td>Myles, Mr. Thomas Francis</td>\n",
              "      <td>male</td>\n",
              "      <td>62.0</td>\n",
              "      <td>0</td>\n",
              "      <td>0</td>\n",
              "      <td>240276</td>\n",
              "      <td>9.6875</td>\n",
              "      <td>NaN</td>\n",
              "      <td>Q</td>\n",
              "    </tr>\n",
              "    <tr>\n",
              "      <th>3</th>\n",
              "      <td>895</td>\n",
              "      <td>3</td>\n",
              "      <td>Wirz, Mr. Albert</td>\n",
              "      <td>male</td>\n",
              "      <td>27.0</td>\n",
              "      <td>0</td>\n",
              "      <td>0</td>\n",
              "      <td>315154</td>\n",
              "      <td>8.6625</td>\n",
              "      <td>NaN</td>\n",
              "      <td>S</td>\n",
              "    </tr>\n",
              "    <tr>\n",
              "      <th>4</th>\n",
              "      <td>896</td>\n",
              "      <td>3</td>\n",
              "      <td>Hirvonen, Mrs. Alexander (Helga E Lindqvist)</td>\n",
              "      <td>female</td>\n",
              "      <td>22.0</td>\n",
              "      <td>1</td>\n",
              "      <td>1</td>\n",
              "      <td>3101298</td>\n",
              "      <td>12.2875</td>\n",
              "      <td>NaN</td>\n",
              "      <td>S</td>\n",
              "    </tr>\n",
              "  </tbody>\n",
              "</table>\n",
              "</div>"
            ],
            "text/plain": [
              "   passengerid  pclass  ... cabin embarked\n",
              "0          892       3  ...   NaN        Q\n",
              "1          893       3  ...   NaN        S\n",
              "2          894       2  ...   NaN        Q\n",
              "3          895       3  ...   NaN        S\n",
              "4          896       3  ...   NaN        S\n",
              "\n",
              "[5 rows x 11 columns]"
            ]
          },
          "metadata": {
            "tags": []
          },
          "execution_count": 4
        }
      ]
    },
    {
      "cell_type": "markdown",
      "metadata": {
        "id": "KPPkKbgT5BQN",
        "colab_type": "text"
      },
      "source": [
        "#  EDA and Feature Engineering\n",
        "---\n",
        "\n",
        "In this section we check the quality of data. This is, looking for null or nan values. Possible errors that could come from data collection or pre-processing. \n",
        "Then we perform an exploratory data analysis to obtain information about the features. Here, we are typically looking for outliers or data leakages from which we can extract extra information. In this step we will also look for potential artificial features that could improve the prediction power of models.\n",
        "\n",
        "\n"
      ]
    },
    {
      "cell_type": "code",
      "metadata": {
        "id": "QE9HRK-D27Gh",
        "colab_type": "code",
        "outputId": "a16680f4-c51d-4544-d83e-e8ca31e46117",
        "colab": {
          "base_uri": "https://localhost:8080/",
          "height": 297
        }
      },
      "source": [
        "# Start by looking at data\n",
        "train.describe()"
      ],
      "execution_count": 5,
      "outputs": [
        {
          "output_type": "execute_result",
          "data": {
            "text/html": [
              "<div>\n",
              "<style scoped>\n",
              "    .dataframe tbody tr th:only-of-type {\n",
              "        vertical-align: middle;\n",
              "    }\n",
              "\n",
              "    .dataframe tbody tr th {\n",
              "        vertical-align: top;\n",
              "    }\n",
              "\n",
              "    .dataframe thead th {\n",
              "        text-align: right;\n",
              "    }\n",
              "</style>\n",
              "<table border=\"1\" class=\"dataframe\">\n",
              "  <thead>\n",
              "    <tr style=\"text-align: right;\">\n",
              "      <th></th>\n",
              "      <th>passengerid</th>\n",
              "      <th>survived</th>\n",
              "      <th>pclass</th>\n",
              "      <th>age</th>\n",
              "      <th>sibsp</th>\n",
              "      <th>parch</th>\n",
              "      <th>fare</th>\n",
              "    </tr>\n",
              "  </thead>\n",
              "  <tbody>\n",
              "    <tr>\n",
              "      <th>count</th>\n",
              "      <td>936.000000</td>\n",
              "      <td>936.000000</td>\n",
              "      <td>927.000000</td>\n",
              "      <td>748.000000</td>\n",
              "      <td>936.000000</td>\n",
              "      <td>936.000000</td>\n",
              "      <td>936.000000</td>\n",
              "    </tr>\n",
              "    <tr>\n",
              "      <th>mean</th>\n",
              "      <td>446.438034</td>\n",
              "      <td>0.384615</td>\n",
              "      <td>2.314995</td>\n",
              "      <td>29.777634</td>\n",
              "      <td>0.519231</td>\n",
              "      <td>0.375000</td>\n",
              "      <td>31.647288</td>\n",
              "    </tr>\n",
              "    <tr>\n",
              "      <th>std</th>\n",
              "      <td>258.429453</td>\n",
              "      <td>0.486764</td>\n",
              "      <td>0.836545</td>\n",
              "      <td>15.842432</td>\n",
              "      <td>1.092343</td>\n",
              "      <td>0.796634</td>\n",
              "      <td>48.700700</td>\n",
              "    </tr>\n",
              "    <tr>\n",
              "      <th>min</th>\n",
              "      <td>1.000000</td>\n",
              "      <td>0.000000</td>\n",
              "      <td>1.000000</td>\n",
              "      <td>0.420000</td>\n",
              "      <td>0.000000</td>\n",
              "      <td>0.000000</td>\n",
              "      <td>0.000000</td>\n",
              "    </tr>\n",
              "    <tr>\n",
              "      <th>25%</th>\n",
              "      <td>221.750000</td>\n",
              "      <td>0.000000</td>\n",
              "      <td>2.000000</td>\n",
              "      <td>20.000000</td>\n",
              "      <td>0.000000</td>\n",
              "      <td>0.000000</td>\n",
              "      <td>7.895800</td>\n",
              "    </tr>\n",
              "    <tr>\n",
              "      <th>50%</th>\n",
              "      <td>445.500000</td>\n",
              "      <td>0.000000</td>\n",
              "      <td>3.000000</td>\n",
              "      <td>28.000000</td>\n",
              "      <td>0.000000</td>\n",
              "      <td>0.000000</td>\n",
              "      <td>14.454200</td>\n",
              "    </tr>\n",
              "    <tr>\n",
              "      <th>75%</th>\n",
              "      <td>672.250000</td>\n",
              "      <td>1.000000</td>\n",
              "      <td>3.000000</td>\n",
              "      <td>38.000000</td>\n",
              "      <td>1.000000</td>\n",
              "      <td>0.000000</td>\n",
              "      <td>30.771850</td>\n",
              "    </tr>\n",
              "    <tr>\n",
              "      <th>max</th>\n",
              "      <td>891.000000</td>\n",
              "      <td>1.000000</td>\n",
              "      <td>3.000000</td>\n",
              "      <td>194.000000</td>\n",
              "      <td>8.000000</td>\n",
              "      <td>6.000000</td>\n",
              "      <td>512.329200</td>\n",
              "    </tr>\n",
              "  </tbody>\n",
              "</table>\n",
              "</div>"
            ],
            "text/plain": [
              "       passengerid    survived      pclass  ...       sibsp       parch        fare\n",
              "count   936.000000  936.000000  927.000000  ...  936.000000  936.000000  936.000000\n",
              "mean    446.438034    0.384615    2.314995  ...    0.519231    0.375000   31.647288\n",
              "std     258.429453    0.486764    0.836545  ...    1.092343    0.796634   48.700700\n",
              "min       1.000000    0.000000    1.000000  ...    0.000000    0.000000    0.000000\n",
              "25%     221.750000    0.000000    2.000000  ...    0.000000    0.000000    7.895800\n",
              "50%     445.500000    0.000000    3.000000  ...    0.000000    0.000000   14.454200\n",
              "75%     672.250000    1.000000    3.000000  ...    1.000000    0.000000   30.771850\n",
              "max     891.000000    1.000000    3.000000  ...    8.000000    6.000000  512.329200\n",
              "\n",
              "[8 rows x 7 columns]"
            ]
          },
          "metadata": {
            "tags": []
          },
          "execution_count": 5
        }
      ]
    },
    {
      "cell_type": "code",
      "metadata": {
        "id": "6oF3QfeQUybV",
        "colab_type": "code",
        "outputId": "e8ece8de-c9c3-4895-b1c0-23d05d6baef4",
        "colab": {
          "base_uri": "https://localhost:8080/",
          "height": 297
        }
      },
      "source": [
        "test.describe()"
      ],
      "execution_count": 6,
      "outputs": [
        {
          "output_type": "execute_result",
          "data": {
            "text/html": [
              "<div>\n",
              "<style scoped>\n",
              "    .dataframe tbody tr th:only-of-type {\n",
              "        vertical-align: middle;\n",
              "    }\n",
              "\n",
              "    .dataframe tbody tr th {\n",
              "        vertical-align: top;\n",
              "    }\n",
              "\n",
              "    .dataframe thead th {\n",
              "        text-align: right;\n",
              "    }\n",
              "</style>\n",
              "<table border=\"1\" class=\"dataframe\">\n",
              "  <thead>\n",
              "    <tr style=\"text-align: right;\">\n",
              "      <th></th>\n",
              "      <th>passengerid</th>\n",
              "      <th>pclass</th>\n",
              "      <th>age</th>\n",
              "      <th>sibsp</th>\n",
              "      <th>parch</th>\n",
              "      <th>fare</th>\n",
              "    </tr>\n",
              "  </thead>\n",
              "  <tbody>\n",
              "    <tr>\n",
              "      <th>count</th>\n",
              "      <td>418.000000</td>\n",
              "      <td>418.000000</td>\n",
              "      <td>332.000000</td>\n",
              "      <td>418.000000</td>\n",
              "      <td>418.000000</td>\n",
              "      <td>417.000000</td>\n",
              "    </tr>\n",
              "    <tr>\n",
              "      <th>mean</th>\n",
              "      <td>1100.500000</td>\n",
              "      <td>2.265550</td>\n",
              "      <td>30.272590</td>\n",
              "      <td>0.447368</td>\n",
              "      <td>0.392344</td>\n",
              "      <td>35.627188</td>\n",
              "    </tr>\n",
              "    <tr>\n",
              "      <th>std</th>\n",
              "      <td>120.810458</td>\n",
              "      <td>0.841838</td>\n",
              "      <td>14.181209</td>\n",
              "      <td>0.896760</td>\n",
              "      <td>0.981429</td>\n",
              "      <td>55.907576</td>\n",
              "    </tr>\n",
              "    <tr>\n",
              "      <th>min</th>\n",
              "      <td>892.000000</td>\n",
              "      <td>1.000000</td>\n",
              "      <td>0.170000</td>\n",
              "      <td>0.000000</td>\n",
              "      <td>0.000000</td>\n",
              "      <td>0.000000</td>\n",
              "    </tr>\n",
              "    <tr>\n",
              "      <th>25%</th>\n",
              "      <td>996.250000</td>\n",
              "      <td>1.000000</td>\n",
              "      <td>21.000000</td>\n",
              "      <td>0.000000</td>\n",
              "      <td>0.000000</td>\n",
              "      <td>7.895800</td>\n",
              "    </tr>\n",
              "    <tr>\n",
              "      <th>50%</th>\n",
              "      <td>1100.500000</td>\n",
              "      <td>3.000000</td>\n",
              "      <td>27.000000</td>\n",
              "      <td>0.000000</td>\n",
              "      <td>0.000000</td>\n",
              "      <td>14.454200</td>\n",
              "    </tr>\n",
              "    <tr>\n",
              "      <th>75%</th>\n",
              "      <td>1204.750000</td>\n",
              "      <td>3.000000</td>\n",
              "      <td>39.000000</td>\n",
              "      <td>1.000000</td>\n",
              "      <td>0.000000</td>\n",
              "      <td>31.500000</td>\n",
              "    </tr>\n",
              "    <tr>\n",
              "      <th>max</th>\n",
              "      <td>1309.000000</td>\n",
              "      <td>3.000000</td>\n",
              "      <td>76.000000</td>\n",
              "      <td>8.000000</td>\n",
              "      <td>9.000000</td>\n",
              "      <td>512.329200</td>\n",
              "    </tr>\n",
              "  </tbody>\n",
              "</table>\n",
              "</div>"
            ],
            "text/plain": [
              "       passengerid      pclass         age       sibsp       parch        fare\n",
              "count   418.000000  418.000000  332.000000  418.000000  418.000000  417.000000\n",
              "mean   1100.500000    2.265550   30.272590    0.447368    0.392344   35.627188\n",
              "std     120.810458    0.841838   14.181209    0.896760    0.981429   55.907576\n",
              "min     892.000000    1.000000    0.170000    0.000000    0.000000    0.000000\n",
              "25%     996.250000    1.000000   21.000000    0.000000    0.000000    7.895800\n",
              "50%    1100.500000    3.000000   27.000000    0.000000    0.000000   14.454200\n",
              "75%    1204.750000    3.000000   39.000000    1.000000    0.000000   31.500000\n",
              "max    1309.000000    3.000000   76.000000    8.000000    9.000000  512.329200"
            ]
          },
          "metadata": {
            "tags": []
          },
          "execution_count": 6
        }
      ]
    },
    {
      "cell_type": "markdown",
      "metadata": {
        "id": "0AiGje3VATyb",
        "colab_type": "text"
      },
      "source": [
        "From the  cell below we can see possible **missing** values, in particular for the `pclass` , `age` and `cabin` features. Given the amount of data, droping these rows might not be the best way to go. We should think about completing these values instead. Clustering algorithms could help with this task\n",
        "\n",
        "However, the `cabin` feature has almost 78% of rows with NaN values. At first, we will discard this feature. But we will get back to it later."
      ]
    },
    {
      "cell_type": "code",
      "metadata": {
        "id": "z1T46T5f_y3M",
        "colab_type": "code",
        "outputId": "66e1611e-49c0-4e7d-d8d0-750c15d91f49",
        "colab": {
          "base_uri": "https://localhost:8080/",
          "height": 35
        }
      },
      "source": [
        "train.cabin.isna().sum() / train.shape[0]"
      ],
      "execution_count": 7,
      "outputs": [
        {
          "output_type": "execute_result",
          "data": {
            "text/plain": [
              "0.7756410256410257"
            ]
          },
          "metadata": {
            "tags": []
          },
          "execution_count": 7
        }
      ]
    },
    {
      "cell_type": "code",
      "metadata": {
        "id": "LmVChlWnV7Tr",
        "colab_type": "code",
        "outputId": "71967e4f-56c0-41df-d714-1351997278ac",
        "colab": {
          "base_uri": "https://localhost:8080/",
          "height": 321
        }
      },
      "source": [
        "train.info()"
      ],
      "execution_count": 0,
      "outputs": [
        {
          "output_type": "stream",
          "text": [
            "<class 'pandas.core.frame.DataFrame'>\n",
            "RangeIndex: 936 entries, 0 to 935\n",
            "Data columns (total 12 columns):\n",
            "passengerid    936 non-null int64\n",
            "survived       936 non-null int64\n",
            "pclass         927 non-null float64\n",
            "name           936 non-null object\n",
            "sex            890 non-null object\n",
            "age            748 non-null float64\n",
            "sibsp          936 non-null int64\n",
            "parch          936 non-null int64\n",
            "ticket         936 non-null object\n",
            "fare           936 non-null float64\n",
            "cabin          210 non-null object\n",
            "embarked       934 non-null object\n",
            "dtypes: float64(3), int64(4), object(5)\n",
            "memory usage: 87.8+ KB\n"
          ],
          "name": "stdout"
        }
      ]
    },
    {
      "cell_type": "markdown",
      "metadata": {
        "id": "XJuztAPMyhQF",
        "colab_type": "text"
      },
      "source": [
        "Let us have a more closer look at data"
      ]
    },
    {
      "cell_type": "markdown",
      "metadata": {
        "id": "aL0rvxaVRNOa",
        "colab_type": "text"
      },
      "source": [
        "## Name:\n",
        "The name of each passenger actually encodes a lot of information that could be helpful for the predicitve model. Given the temporal context of the trip, the name has the `Title` in it. We believe this feature has an impact on the risk of a passenger. To see this, we first need to extract the information from the name."
      ]
    },
    {
      "cell_type": "markdown",
      "metadata": {
        "id": "-B7qtq-ZYRZx",
        "colab_type": "text"
      },
      "source": [
        "We can quickly see the distribution of Titles of passengers in the RMS Titanic. \n",
        "\n"
      ]
    },
    {
      "cell_type": "code",
      "metadata": {
        "id": "gj0-gn59RQVR",
        "colab_type": "code",
        "outputId": "ad9931f2-3eba-45aa-b198-34b115e028ad",
        "colab": {
          "base_uri": "https://localhost:8080/",
          "height": 333
        }
      },
      "source": [
        "train.name.str.extract(' ([A-Za-z]+)\\.', expand = False).value_counts().plot('bar')\n"
      ],
      "execution_count": 8,
      "outputs": [
        {
          "output_type": "execute_result",
          "data": {
            "text/plain": [
              "<matplotlib.axes._subplots.AxesSubplot at 0x7f22764daa58>"
            ]
          },
          "metadata": {
            "tags": []
          },
          "execution_count": 8
        },
        {
          "output_type": "display_data",
          "data": {
            "image/png": "[encoded data removed]",
            "text/plain": [
              "<Figure size 432x288 with 1 Axes>"
            ]
          },
          "metadata": {
            "tags": []
          }
        }
      ]
    },
    {
      "cell_type": "markdown",
      "metadata": {
        "id": "PaOEJ3BLecxY",
        "colab_type": "text"
      },
      "source": [
        "Notice that the mayority of passengers is `Male`, followed by 'Womans' classified into `Miss` (probably young ladies) and `Mrs`. Then we have `Master` for male children. This suggests the creation of  a categorical feature with `Title` classes as follows:\n",
        "* 0 : Mr\n",
        "* 1 : Mrs\n",
        "* 2: Miss\n",
        "* 3: Master\n",
        "* 4 : Other"
      ]
    },
    {
      "cell_type": "code",
      "metadata": {
        "id": "UdDXHN1sh7vM",
        "colab_type": "code",
        "colab": {}
      },
      "source": [
        "#Define the auxiliary functions for this part of the processing\n",
        "\n",
        "def title_label(string):\n",
        "  if string == 'Mr':\n",
        "    val = 0\n",
        "  elif string == 'Mrs':\n",
        "    val = 1\n",
        "  elif string == 'Miss':\n",
        "    val = 2\n",
        "  elif string == 'Master':\n",
        "    val = 3\n",
        "  else:\n",
        "    val = 4\n",
        "  return val\n",
        "\n",
        "\n",
        "def title_feats(df):\n",
        "  \n",
        "  # Extract the Title using regular expression patterns and save into a new column\n",
        "  df['title'] = df.name.str.extract(' ([A-Za-z]+)\\.', expand = False)\n",
        "  # Create the title_label column\n",
        "  df['title_label'] = df.title.apply(title_label)\n",
        "  # Use this categorical feature to create one-hot encodings\n",
        "  title_one_hot = pd.get_dummies(df.title_label)\n",
        "  title_one_hot.columns = ['Mr', 'Mrs', 'Miss', 'Master', 'Other']\n",
        "  df  = pd.concat([df, title_one_hot], axis = 1)\n",
        "#   df = df.drop(['title_label'], axis =1)\n",
        "  return df"
      ],
      "execution_count": 0,
      "outputs": []
    },
    {
      "cell_type": "markdown",
      "metadata": {
        "id": "wIPihdvQnrWZ",
        "colab_type": "text"
      },
      "source": [
        "Add the Title features to both train and test set. "
      ]
    },
    {
      "cell_type": "code",
      "metadata": {
        "id": "tXUkjAvReipd",
        "colab_type": "code",
        "colab": {}
      },
      "source": [
        "train_feat = title_feats(train)\n",
        "test_feat = title_feats(test)"
      ],
      "execution_count": 0,
      "outputs": []
    },
    {
      "cell_type": "markdown",
      "metadata": {
        "id": "ojMGSl2Dq3Jd",
        "colab_type": "text"
      },
      "source": [
        "We want to see wether the Title classe have any relation with the target value. A bar chart serves the purpose of showing this given the binary nature of the target value. Here, we define auxiliary functions for plotting bar charts"
      ]
    },
    {
      "cell_type": "code",
      "metadata": {
        "id": "-RRfup24rRh-",
        "colab_type": "code",
        "colab": {}
      },
      "source": [
        "def surv_bar(feat, df = train_feat, legend = None, stacked = True):\n",
        "  '''\n",
        "    A function that generates a bar plot by survival and the feature given as the input.\n",
        "    feat: The feature that we  want to plot\n",
        "    df: the dataframe\n",
        "    legends: an array of strings for the legends of the plot\n",
        "  '''\n",
        "#   Create the temporary dataframes\n",
        "  alive = df[df.survived == 1][feat].value_counts()\n",
        "  dead = df[df.survived == 0][feat].value_counts()\n",
        "  hist = pd.DataFrame([alive, dead])\n",
        "  hist.index = ['alive', 'dead']\n",
        "  legend = legend\n",
        "  ttl_str = str(feat)\n",
        "#   Generate the actual plot\n",
        "  hist.plot(kind = 'bar', stacked = stacked, figsize = (8,6))\n",
        "  plt.title('Survival Distribution by' + ' ' + ttl_str, fontsize = 15, fontweight = 'bold')\n",
        "  if legend != None:\n",
        "    plt.legend(legend)\n",
        "  plt.xticks((0,1),('Alive', 'Dead'), rotation = 'horizontal', fontsize = 12)\n",
        "  plt.ylabel('Count', fontsize = 14)\n"
      ],
      "execution_count": 0,
      "outputs": []
    },
    {
      "cell_type": "code",
      "metadata": {
        "id": "cMAEYTB4w2Fa",
        "colab_type": "code",
        "outputId": "4620d2d1-ee0c-44bc-e8fd-dfb92b5736e8",
        "colab": {
          "base_uri": "https://localhost:8080/",
          "height": 398
        }
      },
      "source": [
        "surv_bar('title_label', train_feat, legend = ['Mr', 'Mrs', 'Miss', 'Master', 'Other'] )"
      ],
      "execution_count": 333,
      "outputs": [
        {
          "output_type": "display_data",
          "data": {
            "image/png": "[encoded data removed]",
            "text/plain": [
              "<Figure size 576x432 with 1 Axes>"
            ]
          },
          "metadata": {
            "tags": []
          }
        }
      ]
    },
    {
      "cell_type": "markdown",
      "metadata": {
        "id": "cX70jxbcp1ZL",
        "colab_type": "text"
      },
      "source": [
        "## Sex:"
      ]
    },
    {
      "cell_type": "code",
      "metadata": {
        "id": "02gtdJwFWfss",
        "colab_type": "code",
        "outputId": "2db306f5-acbe-440b-a367-e97ca2e27a0c",
        "colab": {
          "base_uri": "https://localhost:8080/",
          "height": 53
        }
      },
      "source": [
        "train.sex.unique()"
      ],
      "execution_count": 13,
      "outputs": [
        {
          "output_type": "execute_result",
          "data": {
            "text/plain": [
              "array(['male', 'Female ', 'women', 'female_', 'male ', 'woman', ' male',\n",
              "       'man', 'female', 'mal', nan, 'Male', ' female  '], dtype=object)"
            ]
          },
          "metadata": {
            "tags": []
          },
          "execution_count": 13
        }
      ]
    },
    {
      "cell_type": "markdown",
      "metadata": {
        "id": "rC8ICFK6dnm_",
        "colab_type": "text"
      },
      "source": [
        "The above cell shows that are different ways the `sex` is encoded, we need to homogenize this feature, and then convert to one-hot encoding. The following function takes care of the homogenization. We keep `nan` values as they are (but as strings), we will deal with them after looking at the `Name` feature."
      ]
    },
    {
      "cell_type": "code",
      "metadata": {
        "id": "_w0FInTgJCIE",
        "colab_type": "code",
        "colab": {}
      },
      "source": [
        "def sex_label(string):\n",
        "  m_enc = ['male',  'male ', ' male', 'man',  'mal', 'Male' ]\n",
        "  f_enc = ['Female ', 'women', 'female_','female',' female  ', 'woman']\n",
        "\n",
        "  if string in m_enc:\n",
        "    result = 'male'\n",
        "  elif string in f_enc:\n",
        "    result = 'female'\n",
        "  else:\n",
        "    result = 'nan'\n",
        "  return result\n",
        "    "
      ],
      "execution_count": 0,
      "outputs": []
    },
    {
      "cell_type": "code",
      "metadata": {
        "id": "_lsliJX7LYZL",
        "colab_type": "code",
        "colab": {}
      },
      "source": [
        "# Apply the transformation\n",
        "train_feat.sex = train_feat.sex.apply(sex_label)\n",
        "test_feat.sex = test_feat.sex.apply(sex_label)\n",
        "# train_feat.sex.unique()"
      ],
      "execution_count": 0,
      "outputs": []
    },
    {
      "cell_type": "code",
      "metadata": {
        "id": "I4kuzQtay8Yy",
        "colab_type": "code",
        "colab": {}
      },
      "source": [
        "# Define a function to handle the missing values\n",
        "def fill_sex(string):\n",
        "  \n",
        "  male_ttl = ['Mr', 'Master', 'Don', 'Rev', 'Dr', 'Major', 'Sir', 'Col', 'Capt', 'Jonkheer']\n",
        "  female_ttl = [ 'Mrs', 'Miss', 'Mme', 'Ms', 'Lady', 'Mlle', 'Countess']\n",
        "  if string in male_ttl:\n",
        "    res = 1 # male\n",
        "  elif string in female_ttl:\n",
        "    res = 0 # Female\n",
        "  return res "
      ],
      "execution_count": 0,
      "outputs": []
    },
    {
      "cell_type": "code",
      "metadata": {
        "id": "8Wiz-MAPym6s",
        "colab_type": "code",
        "colab": {}
      },
      "source": [
        "# We will use the Title feature to fill the nan values in the 'Sex' column\n",
        "train_feat['sex'] = train_feat.title.apply(fill_sex)\n"
      ],
      "execution_count": 0,
      "outputs": []
    },
    {
      "cell_type": "code",
      "metadata": {
        "id": "i8lIlyW41BYe",
        "colab_type": "code",
        "outputId": "9b5202a9-4280-4198-f3f3-15e4ba70d7ae",
        "colab": {
          "base_uri": "https://localhost:8080/",
          "height": 35
        }
      },
      "source": [
        "# Use sklearn label encoder for the sex column in the test set\n",
        "le = preprocessing.LabelEncoder()\n",
        "le.fit(test_feat.sex)"
      ],
      "execution_count": 252,
      "outputs": [
        {
          "output_type": "execute_result",
          "data": {
            "text/plain": [
              "LabelEncoder()"
            ]
          },
          "metadata": {
            "tags": []
          },
          "execution_count": 252
        }
      ]
    },
    {
      "cell_type": "code",
      "metadata": {
        "id": "ln0LQ8JS1JdZ",
        "colab_type": "code",
        "outputId": "474b590e-0dc7-4c50-ee49-66f40425f132",
        "colab": {
          "base_uri": "https://localhost:8080/",
          "height": 35
        }
      },
      "source": [
        "#  Check\n",
        "le.transform(['male', 'female'])"
      ],
      "execution_count": 253,
      "outputs": [
        {
          "output_type": "execute_result",
          "data": {
            "text/plain": [
              "array([1, 0])"
            ]
          },
          "metadata": {
            "tags": []
          },
          "execution_count": 253
        }
      ]
    },
    {
      "cell_type": "code",
      "metadata": {
        "id": "BmTg_D-d0kKQ",
        "colab_type": "code",
        "colab": {}
      },
      "source": [
        "test_feat.sex = le.transform(test_feat.sex)"
      ],
      "execution_count": 0,
      "outputs": []
    },
    {
      "cell_type": "code",
      "metadata": {
        "id": "iuc_a9LRxnGZ",
        "colab_type": "code",
        "outputId": "ca03f921-5967-4868-8a85-3809bcde4e2d",
        "colab": {
          "base_uri": "https://localhost:8080/",
          "height": 398
        }
      },
      "source": [
        "# Let's see the Survival distribution\n",
        "surv_bar('sex', stacked = False, legend = ['female', 'male'])"
      ],
      "execution_count": 255,
      "outputs": [
        {
          "output_type": "display_data",
          "data": {
            "image/png": "[encoded data removed]",
            "text/plain": [
              "<Figure size 576x432 with 1 Axes>"
            ]
          },
          "metadata": {
            "tags": []
          }
        }
      ]
    },
    {
      "cell_type": "markdown",
      "metadata": {
        "id": "tITUos2W5xLC",
        "colab_type": "text"
      },
      "source": [
        "Clearly there is a relation between the `sex` feature and the survival. The distribution is unbalanced suggesting that accuracy might not be the best way to evaluate the predictive models."
      ]
    },
    {
      "cell_type": "markdown",
      "metadata": {
        "id": "wpM0zd_Upxsh",
        "colab_type": "text"
      },
      "source": [
        "## Age:\n",
        "There are some spurious values for this feature. Also, look at the values that are smaller than zero. NaN values will be dealt with later. \n"
      ]
    },
    {
      "cell_type": "code",
      "metadata": {
        "id": "lOeI7MjXW-Cd",
        "colab_type": "code",
        "outputId": "4be1eab2-c28a-4daa-8ec7-b71305c472f0",
        "colab": {
          "base_uri": "https://localhost:8080/",
          "height": 107
        }
      },
      "source": [
        "print('Age:\\nmax: {}\\nmedian: {}\\nmean: {}\\nmin: {}'.format(train.age.max(),train.age.median(), train.age.mean(), train.age.min()))"
      ],
      "execution_count": 256,
      "outputs": [
        {
          "output_type": "stream",
          "text": [
            "Age:\n",
            "max: 194.0\n",
            "median: 28.0\n",
            "mean: 29.77763368983957\n",
            "min: 0.42\n"
          ],
          "name": "stdout"
        }
      ]
    },
    {
      "cell_type": "code",
      "metadata": {
        "id": "-E8Kl5b_mR8W",
        "colab_type": "code",
        "outputId": "b9562a69-2e78-4eb2-879a-eb6be7bd5da3",
        "colab": {
          "base_uri": "https://localhost:8080/",
          "height": 292
        }
      },
      "source": [
        "train_feat[train_feat.age < 100].age.hist(bins =20)"
      ],
      "execution_count": 257,
      "outputs": [
        {
          "output_type": "execute_result",
          "data": {
            "text/plain": [
              "<matplotlib.axes._subplots.AxesSubplot at 0x7f224b5ae518>"
            ]
          },
          "metadata": {
            "tags": []
          },
          "execution_count": 257
        },
        {
          "output_type": "display_data",
          "data": {
            "image/png": "[encoded data removed]",
            "text/plain": [
              "<Figure size 432x288 with 1 Axes>"
            ]
          },
          "metadata": {
            "tags": []
          }
        }
      ]
    },
    {
      "cell_type": "markdown",
      "metadata": {
        "id": "FRDOEVr5PyKl",
        "colab_type": "text"
      },
      "source": [
        " We will replace the age values that are greater than 100 by the title median. However, since they are so few, we could look to external databases to fix the values. In particular [here](https://en.wikipedia.org/wiki/Passengers_of_the_RMS_Titanic) one can find the complete list of passengers. "
      ]
    },
    {
      "cell_type": "code",
      "metadata": {
        "id": "5XKEbscpRJLP",
        "colab_type": "code",
        "outputId": "8149d3cf-c888-425f-dbaa-139a4247d56a",
        "colab": {
          "base_uri": "https://localhost:8080/",
          "height": 111
        }
      },
      "source": [
        "train_feat[train_feat.age > 100]"
      ],
      "execution_count": 258,
      "outputs": [
        {
          "output_type": "execute_result",
          "data": {
            "text/html": [
              "<div>\n",
              "<style scoped>\n",
              "    .dataframe tbody tr th:only-of-type {\n",
              "        vertical-align: middle;\n",
              "    }\n",
              "\n",
              "    .dataframe tbody tr th {\n",
              "        vertical-align: top;\n",
              "    }\n",
              "\n",
              "    .dataframe thead th {\n",
              "        text-align: right;\n",
              "    }\n",
              "</style>\n",
              "<table border=\"1\" class=\"dataframe\">\n",
              "  <thead>\n",
              "    <tr style=\"text-align: right;\">\n",
              "      <th></th>\n",
              "      <th>passengerid</th>\n",
              "      <th>survived</th>\n",
              "      <th>pclass</th>\n",
              "      <th>name</th>\n",
              "      <th>sex</th>\n",
              "      <th>age</th>\n",
              "      <th>sibsp</th>\n",
              "      <th>parch</th>\n",
              "      <th>ticket</th>\n",
              "      <th>fare</th>\n",
              "      <th>cabin</th>\n",
              "      <th>embarked</th>\n",
              "      <th>title</th>\n",
              "      <th>title_label</th>\n",
              "      <th>Mr</th>\n",
              "      <th>Mrs</th>\n",
              "      <th>Miss</th>\n",
              "      <th>Master</th>\n",
              "      <th>Other</th>\n",
              "    </tr>\n",
              "  </thead>\n",
              "  <tbody>\n",
              "    <tr>\n",
              "      <th>33</th>\n",
              "      <td>34</td>\n",
              "      <td>0</td>\n",
              "      <td>2.0</td>\n",
              "      <td>Wheadon, Mr. Edward H</td>\n",
              "      <td>1</td>\n",
              "      <td>117.0</td>\n",
              "      <td>0</td>\n",
              "      <td>0</td>\n",
              "      <td>C.A. 24579</td>\n",
              "      <td>10.50</td>\n",
              "      <td>NaN</td>\n",
              "      <td>S</td>\n",
              "      <td>Mr</td>\n",
              "      <td>0</td>\n",
              "      <td>1</td>\n",
              "      <td>0</td>\n",
              "      <td>0</td>\n",
              "      <td>0</td>\n",
              "      <td>0</td>\n",
              "    </tr>\n",
              "    <tr>\n",
              "      <th>152</th>\n",
              "      <td>153</td>\n",
              "      <td>0</td>\n",
              "      <td>3.0</td>\n",
              "      <td>Meo, Mr. Alfonzo</td>\n",
              "      <td>1</td>\n",
              "      <td>194.0</td>\n",
              "      <td>0</td>\n",
              "      <td>0</td>\n",
              "      <td>A.5. 11206</td>\n",
              "      <td>8.05</td>\n",
              "      <td>NaN</td>\n",
              "      <td>S</td>\n",
              "      <td>Mr</td>\n",
              "      <td>0</td>\n",
              "      <td>1</td>\n",
              "      <td>0</td>\n",
              "      <td>0</td>\n",
              "      <td>0</td>\n",
              "      <td>0</td>\n",
              "    </tr>\n",
              "  </tbody>\n",
              "</table>\n",
              "</div>"
            ],
            "text/plain": [
              "     passengerid  survived  pclass  ... Miss  Master  Other\n",
              "33            34         0     2.0  ...    0       0      0\n",
              "152          153         0     3.0  ...    0       0      0\n",
              "\n",
              "[2 rows x 19 columns]"
            ]
          },
          "metadata": {
            "tags": []
          },
          "execution_count": 258
        }
      ]
    },
    {
      "cell_type": "code",
      "metadata": {
        "id": "W3Zpb2-MBsLn",
        "colab_type": "code",
        "colab": {}
      },
      "source": [
        "train_feat.loc[train_feat.age > 100, 'age'] = train_feat.groupby('title').age.median()['Mr']\n",
        "\n",
        "# Check\n",
        "# train_feat[train_feat.age > 100]"
      ],
      "execution_count": 0,
      "outputs": []
    },
    {
      "cell_type": "markdown",
      "metadata": {
        "id": "G5CrykgAGXOW",
        "colab_type": "text"
      },
      "source": [
        "We plot an estimate of the probabilty distribution based on the age of the passengers. This, to see the age intervals with changes in probability, this can give us an idea of how to construct a bucketized feature out of `age`. \n",
        "\n",
        "To that intent, we define a plotting function that will useful later as well."
      ]
    },
    {
      "cell_type": "code",
      "metadata": {
        "id": "JLCA15hH2wwn",
        "colab_type": "code",
        "colab": {}
      },
      "source": [
        "# Define an auxiliar function to plot the prob distribution -a kde- for a given feat\n",
        "def plot_dist(feat, df = train_feat, h = 'survived', zoom = False, x0=0, xm =100):\n",
        "#   print('i work')\n",
        "  facet = sns.FacetGrid(df, hue=h, aspect=4)\n",
        "  facet.map(sns.kdeplot,feat,shade= True)\n",
        "  facet.set(xlim=(0, df[feat].max()))\n",
        "  facet.add_legend()\n",
        "  if zoom == True:\n",
        "    plt.xlim(x0,xm)\n",
        "  plt.show()"
      ],
      "execution_count": 0,
      "outputs": []
    },
    {
      "cell_type": "code",
      "metadata": {
        "id": "sVKzJano7IkI",
        "colab_type": "code",
        "colab": {
          "base_uri": "https://localhost:8080/",
          "height": 221
        },
        "outputId": "ccae12e6-a8ef-4765-8432-d3350e11a759"
      },
      "source": [
        "plot_dist('age')"
      ],
      "execution_count": 78,
      "outputs": [
        {
          "output_type": "display_data",
          "data": {
            "image/png": "[encoded data removed]",
            "text/plain": [
              "<Figure size 916.925x216 with 1 Axes>"
            ]
          },
          "metadata": {
            "tags": []
          }
        }
      ]
    },
    {
      "cell_type": "markdown",
      "metadata": {
        "id": "4BhAJqRKG_Va",
        "colab_type": "text"
      },
      "source": [
        "It seems that from 0 to ~17 there is greater probability of surviving, this can be our first age bin. Let us have a closer look."
      ]
    },
    {
      "cell_type": "code",
      "metadata": {
        "id": "Vmo0nDQT8SWo",
        "colab_type": "code",
        "colab": {
          "base_uri": "https://localhost:8080/",
          "height": 221
        },
        "outputId": "ff1c96b3-8f72-4cc5-e5a6-f7bbf357e9e7"
      },
      "source": [
        "plot_dist('age', zoom = True, x0=0, xm =20)"
      ],
      "execution_count": 80,
      "outputs": [
        {
          "output_type": "display_data",
          "data": {
            "image/png": "[encoded data removed]",
            "text/plain": [
              "<Figure size 916.925x216 with 1 Axes>"
            ]
          },
          "metadata": {
            "tags": []
          }
        }
      ]
    },
    {
      "cell_type": "markdown",
      "metadata": {
        "id": "6HEEx81RHdJ5",
        "colab_type": "text"
      },
      "source": [
        "The next change in prob behaviour seems to happen between `age=16`  and `age=26` where there is a slight increase of the prob of not surviving. This is no surprise for two reasons:\n",
        "* Most of the passenger tripulation is male.\n",
        "* Most of males have ages around [20,30] years."
      ]
    },
    {
      "cell_type": "code",
      "metadata": {
        "id": "UETWR6eBKf_U",
        "colab_type": "code",
        "colab": {}
      },
      "source": [
        "# Define helper variables for the plots\n",
        "\n",
        "dead_men = train_feat[(train_feat.survived == 0) & (train_feat.sex == 1)].age.value_counts(bins=15, sort= False)\n",
        "alive_men = train_feat[(train_feat.survived ==1) & (train_feat.sex == 1)].age.value_counts(bins=15, sort= False)\n",
        "dead_women = train_feat[(train_feat.survived == 0) & (train_feat.sex == 0)].age.value_counts(bins=15, sort= False)\n",
        "alive_women = train_feat[(train_feat.survived == 1) & (train_feat.sex == 0)].age.value_counts(bins=15, sort= False)\n",
        "men = train_feat[train_feat.sex == 1].age.value_counts(bins=15, sort= False)\n",
        "women = train_feat[train_feat.sex == 0].age.value_counts(bins=15, sort= False)"
      ],
      "execution_count": 0,
      "outputs": []
    },
    {
      "cell_type": "code",
      "metadata": {
        "id": "dItd43gLUTXK",
        "colab_type": "code",
        "colab": {}
      },
      "source": [
        "def sex_dist(size= (8,6), s_men = men, s_women = women, index = men.index, ttl_suffix = '' ):\n",
        "  plt.figure(figsize=size) \n",
        "  width=0.35\n",
        "  x =  [i for i in range(len(index))]\n",
        "  x = np.array(x)\n",
        "  plt.bar(x = x, height = s_men, width=width, align = 'center', label = 'male')\n",
        "  plt.bar(x = x + width, height = s_women, width=width, align = 'center', label = 'female')\n",
        "  plt.xlabel('Age bin', fontdict={'size': 13} )\n",
        "  plt.xticks(np.arange(15), ('5', '9', '13', '17', '21', '25', '30', '33', '38', '42', '46', '50', '55', '58', '64'))\n",
        "  plt.ylabel('Count', fontdict={'size':13})\n",
        "  plt.title('Age and Sex distribution' + ' ' + ttl_suffix, fontdict={'size': 20, 'weight': 'bold'})\n",
        "  plt.grid(True, axis='y')\n",
        "  plt.legend(prop={'size': 15})"
      ],
      "execution_count": 0,
      "outputs": []
    },
    {
      "cell_type": "code",
      "metadata": {
        "id": "aeiEBs07Mcn_",
        "colab_type": "code",
        "colab": {
          "base_uri": "https://localhost:8080/",
          "height": 415
        },
        "outputId": "48cc9449-d134-4f6e-fa30-42edbcd8ec49"
      },
      "source": [
        "sex_dist()"
      ],
      "execution_count": 159,
      "outputs": [
        {
          "output_type": "display_data",
          "data": {
            "image/png": "[encoded data removed]",
            "text/plain": [
              "<Figure size 576x432 with 1 Axes>"
            ]
          },
          "metadata": {
            "tags": []
          }
        }
      ]
    },
    {
      "cell_type": "markdown",
      "metadata": {
        "id": "Akk6J5x-S2o3",
        "colab_type": "text"
      },
      "source": [
        "The age distribution of passengers by sex shows that indeed most of passengers are males and most of males have ages within [20,30]"
      ]
    },
    {
      "cell_type": "markdown",
      "metadata": {
        "id": "1gIk4s2WUFe3",
        "colab_type": "text"
      },
      "source": [
        "Age distribution of surviving passengers by *sex*"
      ]
    },
    {
      "cell_type": "code",
      "metadata": {
        "id": "eyBPd_1pUNo5",
        "colab_type": "code",
        "colab": {
          "base_uri": "https://localhost:8080/",
          "height": 415
        },
        "outputId": "501688fb-ddc8-4087-fbdf-9d4426d75ec5"
      },
      "source": [
        "sex_dist(s_men = alive_men, s_women = alive_women, ttl_suffix= '(Alive)')"
      ],
      "execution_count": 152,
      "outputs": [
        {
          "output_type": "display_data",
          "data": {
            "image/png": "[encoded data removed]",
            "text/plain": [
              "<Figure size 576x432 with 1 Axes>"
            ]
          },
          "metadata": {
            "tags": []
          }
        }
      ]
    },
    {
      "cell_type": "markdown",
      "metadata": {
        "id": "mD19Ei3jWoWi",
        "colab_type": "text"
      },
      "source": [
        "Age distribution of not - surviving passengers by *sex*"
      ]
    },
    {
      "cell_type": "code",
      "metadata": {
        "id": "NZ7KukEqVhmo",
        "colab_type": "code",
        "colab": {
          "base_uri": "https://localhost:8080/",
          "height": 415
        },
        "outputId": "291ffaf3-125f-40da-cf1a-38ca3a9d56fd"
      },
      "source": [
        "sex_dist(s_men = dead_men, s_women = dead_women, ttl_suffix= '(Dead)')"
      ],
      "execution_count": 154,
      "outputs": [
        {
          "output_type": "display_data",
          "data": {
            "image/png": "[encoded data removed]",
            "text/plain": [
              "<Figure size 576x432 with 1 Axes>"
            ]
          },
          "metadata": {
            "tags": []
          }
        }
      ]
    },
    {
      "cell_type": "markdown",
      "metadata": {
        "id": "aQ87jRetVuyz",
        "colab_type": "text"
      },
      "source": [
        "The next change in survival prob behavior is signaled by an increase of the prob of not surviving. We have another bin"
      ]
    },
    {
      "cell_type": "code",
      "metadata": {
        "id": "C5p5OYIX8ZTh",
        "colab_type": "code",
        "colab": {
          "base_uri": "https://localhost:8080/",
          "height": 221
        },
        "outputId": "af72f2f6-cf44-45a7-b034-4105889646c7"
      },
      "source": [
        "plot_dist('age', zoom = True, x0 = 30, xm = 60)"
      ],
      "execution_count": 163,
      "outputs": [
        {
          "output_type": "display_data",
          "data": {
            "image/png": "[encoded data removed]",
            "text/plain": [
              "<Figure size 916.925x216 with 1 Axes>"
            ]
          },
          "metadata": {
            "tags": []
          }
        }
      ]
    },
    {
      "cell_type": "code",
      "metadata": {
        "id": "4LGEn29FTQjH",
        "colab_type": "code",
        "colab": {
          "base_uri": "https://localhost:8080/",
          "height": 221
        },
        "outputId": "c768f0ab-5cc6-4c47-f480-213a923e4f3d"
      },
      "source": [
        "plot_dist('age', zoom = True, x0 = 65, xm = 100)"
      ],
      "execution_count": 164,
      "outputs": [
        {
          "output_type": "display_data",
          "data": {
            "image/png": "[encoded data removed]",
            "text/plain": [
              "<Figure size 916.925x216 with 1 Axes>"
            ]
          },
          "metadata": {
            "tags": []
          }
        }
      ]
    },
    {
      "cell_type": "markdown",
      "metadata": {
        "id": "o5J3lH85NX90",
        "colab_type": "text"
      },
      "source": [
        "There are passengers with ages smaller than 1 year. Looking at the `name` column is clear that they are indeed childs. \n",
        "\n",
        "Age has missing values and we will use the  median of each 'title' to fill them Moreover, we will create a label encoding for the age ranges of passengers, based on:\n",
        "\n",
        "* 0 : Child [0, 16]\n",
        "* 1 : Young [16, 26]\n",
        "* 2 : Adult [26, 36]\n",
        "* 3 : Mid-age [36, 64]\n",
        "* 4 : Senior [64, 100]\n"
      ]
    },
    {
      "cell_type": "code",
      "metadata": {
        "id": "RBp-jesL_szX",
        "colab_type": "code",
        "colab": {}
      },
      "source": [
        "train_feat['age'].fillna(train_feat.groupby('title').age.transform('median'),inplace = True)\n",
        "test_feat['age'].fillna(train_feat.groupby('title').age.transform('median'),inplace = True)"
      ],
      "execution_count": 0,
      "outputs": []
    },
    {
      "cell_type": "code",
      "metadata": {
        "id": "X4uaDJmpL3Kg",
        "colab_type": "code",
        "colab": {}
      },
      "source": [
        "# Encode the age of passengers according the scheme we defined above\n",
        "\n",
        "def age_label(age):\n",
        "  \n",
        "#   Create the filters:\n",
        "  if age <= 14:\n",
        "    label = 0\n",
        "  elif age > 15 and age <=26:\n",
        "    label = 1\n",
        "  elif age > 26 and age <= 36:\n",
        "    label = 2\n",
        "  elif age > 36 and age <= 64:\n",
        "    label = 3\n",
        "  else:\n",
        "    label = 4\n",
        "  return label\n",
        "  "
      ],
      "execution_count": 0,
      "outputs": []
    },
    {
      "cell_type": "code",
      "metadata": {
        "id": "-D9CdnReW9zb",
        "colab_type": "code",
        "colab": {}
      },
      "source": [
        "train_feat['age_l'] = train_feat.age.apply(age_label)\n",
        "test_feat['age_l'] = test_feat.age.apply(age_label)\n",
        "# train_feat.head()\n",
        "# test_feat.head()"
      ],
      "execution_count": 0,
      "outputs": []
    },
    {
      "cell_type": "markdown",
      "metadata": {
        "id": "_2vI491IpuQG",
        "colab_type": "text"
      },
      "source": [
        "\n",
        "## Family Size\n",
        "\n",
        "Now we will look at the family related features. Family size could be an important feature so we will construct it and investigate its relation with the survival of passengers. There are two columns `['sibsp', 'parch']`. They stand for *Siblings and Spouse* and *Parents and Children*\n",
        "\n",
        "### Siblings and Spouse"
      ]
    },
    {
      "cell_type": "code",
      "metadata": {
        "id": "Rlbnjk_MXWjv",
        "colab_type": "code",
        "outputId": "70c1faa2-a719-4aad-feca-d98fba7512b1",
        "colab": {
          "base_uri": "https://localhost:8080/",
          "height": 35
        }
      },
      "source": [
        "train.sibsp.unique()"
      ],
      "execution_count": 168,
      "outputs": [
        {
          "output_type": "execute_result",
          "data": {
            "text/plain": [
              "array([1, 0, 3, 4, 2, 5, 8])"
            ]
          },
          "metadata": {
            "tags": []
          },
          "execution_count": 168
        }
      ]
    },
    {
      "cell_type": "code",
      "metadata": {
        "id": "oYYsl-top91f",
        "colab_type": "code",
        "outputId": "ed46643d-c922-47ee-9492-d4d21feb902c",
        "colab": {
          "base_uri": "https://localhost:8080/",
          "height": 292
        }
      },
      "source": [
        "train.sibsp.hist()"
      ],
      "execution_count": 169,
      "outputs": [
        {
          "output_type": "execute_result",
          "data": {
            "text/plain": [
              "<matplotlib.axes._subplots.AxesSubplot at 0x7f226ef28978>"
            ]
          },
          "metadata": {
            "tags": []
          },
          "execution_count": 169
        },
        {
          "output_type": "display_data",
          "data": {
            "image/png": "[encoded data removed]",
            "text/plain": [
              "<Figure size 432x288 with 1 Axes>"
            ]
          },
          "metadata": {
            "tags": []
          }
        }
      ]
    },
    {
      "cell_type": "code",
      "metadata": {
        "id": "owkQZs-xqC4T",
        "colab_type": "code",
        "outputId": "3f04981b-dd4c-48bb-f46f-d89cc73f31e9",
        "colab": {
          "base_uri": "https://localhost:8080/",
          "height": 35
        }
      },
      "source": [
        "train[train.sibsp == 0].shape"
      ],
      "execution_count": 170,
      "outputs": [
        {
          "output_type": "execute_result",
          "data": {
            "text/plain": [
              "(641, 14)"
            ]
          },
          "metadata": {
            "tags": []
          },
          "execution_count": 170
        }
      ]
    },
    {
      "cell_type": "markdown",
      "metadata": {
        "id": "EFjq296LqNcH",
        "colab_type": "text"
      },
      "source": [
        "From the above cell we can say that most of the passengers were traveling alone. This could be made into a new feature: `IsAlone`. "
      ]
    },
    {
      "cell_type": "markdown",
      "metadata": {
        "id": "INmnZk6TrfCi",
        "colab_type": "text"
      },
      "source": [
        "### Parents and children:\n"
      ]
    },
    {
      "cell_type": "code",
      "metadata": {
        "id": "VKTBpQQwXdG-",
        "colab_type": "code",
        "outputId": "7909c6bb-8712-4d07-d047-a3afbd7bdd9f",
        "colab": {
          "base_uri": "https://localhost:8080/",
          "height": 292
        }
      },
      "source": [
        "train.parch.hist()"
      ],
      "execution_count": 171,
      "outputs": [
        {
          "output_type": "execute_result",
          "data": {
            "text/plain": [
              "<matplotlib.axes._subplots.AxesSubplot at 0x7f226eeecfd0>"
            ]
          },
          "metadata": {
            "tags": []
          },
          "execution_count": 171
        },
        {
          "output_type": "display_data",
          "data": {
            "image/png": "[encoded data removed]",
            "text/plain": [
              "<Figure size 432x288 with 1 Axes>"
            ]
          },
          "metadata": {
            "tags": []
          }
        }
      ]
    },
    {
      "cell_type": "code",
      "metadata": {
        "id": "V7x6pJROrl3h",
        "colab_type": "code",
        "outputId": "f854cb5c-c8ad-4881-feb1-fb99c01b0900",
        "colab": {
          "base_uri": "https://localhost:8080/",
          "height": 35
        }
      },
      "source": [
        "train[train.parch == 0].shape"
      ],
      "execution_count": 172,
      "outputs": [
        {
          "output_type": "execute_result",
          "data": {
            "text/plain": [
              "(715, 14)"
            ]
          },
          "metadata": {
            "tags": []
          },
          "execution_count": 172
        }
      ]
    },
    {
      "cell_type": "markdown",
      "metadata": {
        "id": "Y7KbHHD5rreY",
        "colab_type": "text"
      },
      "source": [
        "Again, most of the passengers seem to have been traveling by themselves. So, we create two new features, namely, `['alone', 'family_size']`"
      ]
    },
    {
      "cell_type": "code",
      "metadata": {
        "id": "JW-alTJRi69l",
        "colab_type": "code",
        "colab": {}
      },
      "source": [
        "# Create the family size feature\n",
        "train_feat['family_size'] = train_feat.sibsp + train_feat.parch + 1\n",
        "test_feat['family_size'] = test_feat.sibsp + test_feat.parch + 1"
      ],
      "execution_count": 0,
      "outputs": []
    },
    {
      "cell_type": "code",
      "metadata": {
        "id": "EiUx8TE4kLBs",
        "colab_type": "code",
        "colab": {}
      },
      "source": [
        "# A function to create the alone feature\n",
        "def get_alone(size):\n",
        "  \n",
        "  if size == 1:\n",
        "    return 1\n",
        "  else:\n",
        "    return 0"
      ],
      "execution_count": 0,
      "outputs": []
    },
    {
      "cell_type": "code",
      "metadata": {
        "id": "LRLt2l8fj3vm",
        "colab_type": "code",
        "colab": {}
      },
      "source": [
        "# Create the actual 'alone' feature both in train and test\n",
        "\n",
        "train_feat['alone'] = train_feat.family_size.apply(get_alone)\n",
        "test_feat['alone'] = test_feat.family_size.apply(get_alone)"
      ],
      "execution_count": 0,
      "outputs": []
    },
    {
      "cell_type": "markdown",
      "metadata": {
        "id": "3-gFlSMNxC1t",
        "colab_type": "text"
      },
      "source": [
        "## Pclass:\n",
        "This feature accounts for the class each passenger was staying at, during the trip. There are some missing values for his columns, and filling them is not obvious. For this reason, we will leave the task to a classification algorithm. In particular, we will use  Gradient Boosted Decision Trees. They will be trained on the part of data for which we have the `pclass` feature. Then we predict the `pclass` of the missing rows."
      ]
    },
    {
      "cell_type": "code",
      "metadata": {
        "id": "wGrLhalU2ZNR",
        "colab_type": "code",
        "colab": {}
      },
      "source": [
        "#  Define the features to be used by the classification model\n",
        "features_k = ['survived', 'sex', 'age', 'sibsp',\n",
        "       'parch', 'fare', 'title_label',\n",
        "       'Mr', 'Mrs', 'Miss', 'Master', 'Other', 'age_l', 'family_size',\n",
        "       'alone']\n",
        "\n",
        "# Create train/validation split\n",
        "kX_train, kX_valid, ky_train, ky_valid = train_test_split(train_feat[~train_feat.pclass.isna()][features_k], train_feat[~train_feat.pclass.isna()]['pclass'], test_size=0.2, random_state=42)\n"
      ],
      "execution_count": 0,
      "outputs": []
    },
    {
      "cell_type": "code",
      "metadata": {
        "id": "_GsdYZmP43wS",
        "colab_type": "code",
        "outputId": "0aaa93eb-df2a-43b7-a1f9-493b58703189",
        "colab": {
          "base_uri": "https://localhost:8080/",
          "height": 143
        }
      },
      "source": [
        "pclass_model = XGBClassifier(learning_rate = 0.05, n_estimators=300, max_depth=5)\n",
        "pclass_model.fit(kX_train, ky_train)"
      ],
      "execution_count": 267,
      "outputs": [
        {
          "output_type": "execute_result",
          "data": {
            "text/plain": [
              "XGBClassifier(base_score=0.5, booster='gbtree', colsample_bylevel=1,\n",
              "              colsample_bynode=1, colsample_bytree=1, gamma=0,\n",
              "              learning_rate=0.05, max_delta_step=0, max_depth=5,\n",
              "              min_child_weight=1, missing=None, n_estimators=300, n_jobs=1,\n",
              "              nthread=None, objective='multi:softprob', random_state=0,\n",
              "              reg_alpha=0, reg_lambda=1, scale_pos_weight=1, seed=None,\n",
              "              silent=None, subsample=1, verbosity=1)"
            ]
          },
          "metadata": {
            "tags": []
          },
          "execution_count": 267
        }
      ]
    },
    {
      "cell_type": "code",
      "metadata": {
        "id": "TakGpMlm5uaM",
        "colab_type": "code",
        "outputId": "791b2a14-ca61-4635-9205-76197e853916",
        "colab": {
          "base_uri": "https://localhost:8080/",
          "height": 251
        }
      },
      "source": [
        "# make predictions in the validation set\n",
        "y_pred = pclass_model.predict(kX_valid)\n",
        "predictions = [round(value) for value in y_pred]\n",
        "\n",
        "accuracy = accuracy_score(ky_valid, predictions)\n",
        "print(\"Accuracy: %.2f%%\" % (accuracy * 100.0))\n",
        "target_names = ['1st class', '2nd class', ' 3rd class']\n",
        "print('Classification Report:\\n'+'-'*53)\n",
        "print(classification_report(ky_valid, predictions, target_names=target_names))"
      ],
      "execution_count": 268,
      "outputs": [
        {
          "output_type": "stream",
          "text": [
            "Accuracy: 96.24%\n",
            "Classification Report:\n",
            "-----------------------------------------------------\n",
            "              precision    recall  f1-score   support\n",
            "\n",
            "   1st class       0.98      0.96      0.97        47\n",
            "   2nd class       0.91      0.91      0.91        35\n",
            "   3rd class       0.97      0.98      0.98       104\n",
            "\n",
            "    accuracy                           0.96       186\n",
            "   macro avg       0.95      0.95      0.95       186\n",
            "weighted avg       0.96      0.96      0.96       186\n",
            "\n"
          ],
          "name": "stdout"
        }
      ]
    },
    {
      "cell_type": "code",
      "metadata": {
        "id": "FaezUTzZ1Fn4",
        "colab_type": "code",
        "outputId": "7d930c1c-3c24-4695-d317-8096e86a83c0",
        "colab": {
          "base_uri": "https://localhost:8080/",
          "height": 428
        }
      },
      "source": [
        "# Plot the feature importance of the model\n",
        "\n",
        "plot_features(pclass_model, (6,6))"
      ],
      "execution_count": 269,
      "outputs": [
        {
          "output_type": "execute_result",
          "data": {
            "text/plain": [
              "<matplotlib.axes._subplots.AxesSubplot at 0x7f224b550ac8>"
            ]
          },
          "metadata": {
            "tags": []
          },
          "execution_count": 269
        },
        {
          "output_type": "display_data",
          "data": {
            "image/png": "[encoded data removed]",
            "text/plain": [
              "<Figure size 432x432 with 1 Axes>"
            ]
          },
          "metadata": {
            "tags": []
          }
        }
      ]
    },
    {
      "cell_type": "code",
      "metadata": {
        "id": "Ambh6sMA5ypj",
        "colab_type": "code",
        "colab": {}
      },
      "source": [
        "# Predict and fill missing values\n",
        "class_predict = pclass_model.predict(train_feat[train_feat.pclass.isna()][features_k])\n",
        "train_feat.loc[train_feat.pclass.isna(), 'pclass']  = class_predict"
      ],
      "execution_count": 0,
      "outputs": []
    },
    {
      "cell_type": "code",
      "metadata": {
        "id": "hOwtlpxB99hs",
        "colab_type": "code",
        "outputId": "9bbc176f-3afa-461a-86c6-421ce33e37d3",
        "colab": {
          "base_uri": "https://localhost:8080/",
          "height": 431
        }
      },
      "source": [
        "train_feat.isna().sum()"
      ],
      "execution_count": 271,
      "outputs": [
        {
          "output_type": "execute_result",
          "data": {
            "text/plain": [
              "passengerid      0\n",
              "survived         0\n",
              "pclass           0\n",
              "name             0\n",
              "sex              0\n",
              "age              0\n",
              "sibsp            0\n",
              "parch            0\n",
              "ticket           0\n",
              "fare             0\n",
              "cabin          726\n",
              "embarked         2\n",
              "title            0\n",
              "title_label      0\n",
              "Mr               0\n",
              "Mrs              0\n",
              "Miss             0\n",
              "Master           0\n",
              "Other            0\n",
              "age_l            0\n",
              "family_size      0\n",
              "alone            0\n",
              "dtype: int64"
            ]
          },
          "metadata": {
            "tags": []
          },
          "execution_count": 271
        }
      ]
    },
    {
      "cell_type": "markdown",
      "metadata": {
        "id": "L0ZjcgNX_34r",
        "colab_type": "text"
      },
      "source": [
        "As expected, the class is related to the survival of passengers. The greatest part of dead passengers were from `3rd class`."
      ]
    },
    {
      "cell_type": "code",
      "metadata": {
        "id": "JUGrX9s_-M01",
        "colab_type": "code",
        "outputId": "e8424ae3-f714-4ebd-84db-ef6eea889f3e",
        "colab": {
          "base_uri": "https://localhost:8080/",
          "height": 398
        }
      },
      "source": [
        "surv_bar('pclass', legend=['1st', '2nd', '3rd'])"
      ],
      "execution_count": 272,
      "outputs": [
        {
          "output_type": "display_data",
          "data": {
            "image/png": "[encoded data removed]",
            "text/plain": [
              "<Figure size 576x432 with 1 Axes>"
            ]
          },
          "metadata": {
            "tags": []
          }
        }
      ]
    },
    {
      "cell_type": "markdown",
      "metadata": {
        "id": "aWMxSWSHsZ2t",
        "colab_type": "text"
      },
      "source": [
        "## Embarked"
      ]
    },
    {
      "cell_type": "markdown",
      "metadata": {
        "id": "VHmCRsKNm5MA",
        "colab_type": "text"
      },
      "source": [
        "This feature has a couple of missing values. We will use a sort of 'majority vote' to fill these values."
      ]
    },
    {
      "cell_type": "code",
      "metadata": {
        "id": "vOBbIyVVmJV-",
        "colab_type": "code",
        "outputId": "388a07c3-978a-478c-b294-948875e40d4e",
        "colab": {
          "base_uri": "https://localhost:8080/",
          "height": 35
        }
      },
      "source": [
        "print('Missing values: {}'.format(train_feat.embarked.isna().sum()))"
      ],
      "execution_count": 273,
      "outputs": [
        {
          "output_type": "stream",
          "text": [
            "Missing values: 2\n"
          ],
          "name": "stdout"
        }
      ]
    },
    {
      "cell_type": "code",
      "metadata": {
        "id": "ZGYDKvGLAv3z",
        "colab_type": "code",
        "outputId": "1b1662a3-6417-47e8-a24a-419ac6dfebc5",
        "colab": {
          "base_uri": "https://localhost:8080/",
          "height": 111
        }
      },
      "source": [
        "train_feat[train_feat.embarked.isna()]"
      ],
      "execution_count": 274,
      "outputs": [
        {
          "output_type": "execute_result",
          "data": {
            "text/html": [
              "<div>\n",
              "<style scoped>\n",
              "    .dataframe tbody tr th:only-of-type {\n",
              "        vertical-align: middle;\n",
              "    }\n",
              "\n",
              "    .dataframe tbody tr th {\n",
              "        vertical-align: top;\n",
              "    }\n",
              "\n",
              "    .dataframe thead th {\n",
              "        text-align: right;\n",
              "    }\n",
              "</style>\n",
              "<table border=\"1\" class=\"dataframe\">\n",
              "  <thead>\n",
              "    <tr style=\"text-align: right;\">\n",
              "      <th></th>\n",
              "      <th>passengerid</th>\n",
              "      <th>survived</th>\n",
              "      <th>pclass</th>\n",
              "      <th>name</th>\n",
              "      <th>sex</th>\n",
              "      <th>age</th>\n",
              "      <th>sibsp</th>\n",
              "      <th>parch</th>\n",
              "      <th>ticket</th>\n",
              "      <th>fare</th>\n",
              "      <th>cabin</th>\n",
              "      <th>embarked</th>\n",
              "      <th>title</th>\n",
              "      <th>title_label</th>\n",
              "      <th>Mr</th>\n",
              "      <th>Mrs</th>\n",
              "      <th>Miss</th>\n",
              "      <th>Master</th>\n",
              "      <th>Other</th>\n",
              "      <th>age_l</th>\n",
              "      <th>family_size</th>\n",
              "      <th>alone</th>\n",
              "    </tr>\n",
              "  </thead>\n",
              "  <tbody>\n",
              "    <tr>\n",
              "      <th>61</th>\n",
              "      <td>62</td>\n",
              "      <td>1</td>\n",
              "      <td>1.0</td>\n",
              "      <td>Icard, Miss. Amelie</td>\n",
              "      <td>0</td>\n",
              "      <td>38.0</td>\n",
              "      <td>0</td>\n",
              "      <td>0</td>\n",
              "      <td>113572</td>\n",
              "      <td>80.0</td>\n",
              "      <td>B28</td>\n",
              "      <td>NaN</td>\n",
              "      <td>Miss</td>\n",
              "      <td>2</td>\n",
              "      <td>0</td>\n",
              "      <td>0</td>\n",
              "      <td>1</td>\n",
              "      <td>0</td>\n",
              "      <td>0</td>\n",
              "      <td>3</td>\n",
              "      <td>1</td>\n",
              "      <td>1</td>\n",
              "    </tr>\n",
              "    <tr>\n",
              "      <th>829</th>\n",
              "      <td>830</td>\n",
              "      <td>1</td>\n",
              "      <td>1.0</td>\n",
              "      <td>Stone, Mrs. George Nelson (Martha Evelyn)</td>\n",
              "      <td>0</td>\n",
              "      <td>62.0</td>\n",
              "      <td>0</td>\n",
              "      <td>0</td>\n",
              "      <td>113572</td>\n",
              "      <td>80.0</td>\n",
              "      <td>B28</td>\n",
              "      <td>NaN</td>\n",
              "      <td>Mrs</td>\n",
              "      <td>1</td>\n",
              "      <td>0</td>\n",
              "      <td>1</td>\n",
              "      <td>0</td>\n",
              "      <td>0</td>\n",
              "      <td>0</td>\n",
              "      <td>3</td>\n",
              "      <td>1</td>\n",
              "      <td>1</td>\n",
              "    </tr>\n",
              "  </tbody>\n",
              "</table>\n",
              "</div>"
            ],
            "text/plain": [
              "     passengerid  survived  pclass  ... age_l  family_size  alone\n",
              "61            62         1     1.0  ...     3            1      1\n",
              "829          830         1     1.0  ...     3            1      1\n",
              "\n",
              "[2 rows x 22 columns]"
            ]
          },
          "metadata": {
            "tags": []
          },
          "execution_count": 274
        }
      ]
    },
    {
      "cell_type": "code",
      "metadata": {
        "id": "OI6Uknl3XhgW",
        "colab_type": "code",
        "outputId": "7b3103c4-9f5c-4b8b-d76f-2724489cd742",
        "colab": {
          "base_uri": "https://localhost:8080/",
          "height": 35
        }
      },
      "source": [
        "# Check unique values\n",
        "train_feat.embarked.unique()"
      ],
      "execution_count": 275,
      "outputs": [
        {
          "output_type": "execute_result",
          "data": {
            "text/plain": [
              "array(['S', 'C', 'Q', nan], dtype=object)"
            ]
          },
          "metadata": {
            "tags": []
          },
          "execution_count": 275
        }
      ]
    },
    {
      "cell_type": "code",
      "metadata": {
        "id": "Q8C5yLKRnRhA",
        "colab_type": "code",
        "outputId": "c944e1a9-4388-40ee-c93c-970de079f5dd",
        "colab": {
          "base_uri": "https://localhost:8080/",
          "height": 290
        }
      },
      "source": [
        "# check the distribution of unique values\n",
        "train_feat.embarked.value_counts().plot('bar')"
      ],
      "execution_count": 276,
      "outputs": [
        {
          "output_type": "execute_result",
          "data": {
            "text/plain": [
              "<matplotlib.axes._subplots.AxesSubplot at 0x7f224b4a6eb8>"
            ]
          },
          "metadata": {
            "tags": []
          },
          "execution_count": 276
        },
        {
          "output_type": "display_data",
          "data": {
            "image/png": "[encoded data removed]",
            "text/plain": [
              "<Figure size 432x288 with 1 Axes>"
            ]
          },
          "metadata": {
            "tags": []
          }
        }
      ]
    },
    {
      "cell_type": "markdown",
      "metadata": {
        "id": "GrG6K9ZcGeSg",
        "colab_type": "text"
      },
      "source": [
        "\n",
        "We decided to fill missing values with 'S'  for embarked"
      ]
    },
    {
      "cell_type": "code",
      "metadata": {
        "id": "R8ZuGcveC9yd",
        "colab_type": "code",
        "colab": {}
      },
      "source": [
        "train_feat.embarked.fillna('S', inplace = True)"
      ],
      "execution_count": 0,
      "outputs": []
    },
    {
      "cell_type": "code",
      "metadata": {
        "id": "98ab0QOkVy-2",
        "colab_type": "code",
        "colab": {}
      },
      "source": [
        "train_feat = pd.concat([train_feat, pd.get_dummies(train_feat.embarked)], axis =1)\n",
        "test_feat = pd.concat([test_feat, pd.get_dummies(test_feat.embarked)], axis =1)\n",
        "#   df  = pd.concat([df, title_one_hot], axis = 1)\n"
      ],
      "execution_count": 0,
      "outputs": []
    },
    {
      "cell_type": "markdown",
      "metadata": {
        "id": "Snjl_JydDLz8",
        "colab_type": "text"
      },
      "source": [
        "## Fare:\n",
        "Now, we explore the `fare` feature, which as we saw is related to the class and certainly with the chance of surviving.\n",
        "Start by checking for missing values."
      ]
    },
    {
      "cell_type": "code",
      "metadata": {
        "id": "A0lRyF1eE1at",
        "colab_type": "code",
        "outputId": "b3ae26af-fb07-4871-a937-fc4126887715",
        "colab": {
          "base_uri": "https://localhost:8080/",
          "height": 71
        }
      },
      "source": [
        "print('Missing values\\ntrain: {}\\ntest: {}'.format(train_feat.fare.isna().sum(), test_feat.fare.isna().sum()))"
      ],
      "execution_count": 279,
      "outputs": [
        {
          "output_type": "stream",
          "text": [
            "Missing values\n",
            "train: 0\n",
            "test: 1\n"
          ],
          "name": "stdout"
        }
      ]
    },
    {
      "cell_type": "code",
      "metadata": {
        "id": "XrOrBq6GFMUF",
        "colab_type": "code",
        "colab": {}
      },
      "source": [
        "# Fill missing values with the median fare per class:\n",
        "test_feat.fare.fillna(train_feat.groupby('pclass').fare.transform('median'), inplace = True)"
      ],
      "execution_count": 0,
      "outputs": []
    },
    {
      "cell_type": "code",
      "metadata": {
        "id": "Uxh_mVQOFMG-",
        "colab_type": "code",
        "outputId": "fc0b003d-6835-416d-da4c-aeb3debb4857",
        "colab": {
          "base_uri": "https://localhost:8080/",
          "height": 71
        }
      },
      "source": [
        "print('Missing values\\ntrain: {}\\ntest: {}'.format(train_feat.fare.isna().sum(), test_feat.fare.isna().sum()))"
      ],
      "execution_count": 281,
      "outputs": [
        {
          "output_type": "stream",
          "text": [
            "Missing values\n",
            "train: 0\n",
            "test: 0\n"
          ],
          "name": "stdout"
        }
      ]
    },
    {
      "cell_type": "markdown",
      "metadata": {
        "id": "ZkJfFbyrG7nq",
        "colab_type": "text"
      },
      "source": [
        "We will encode the fare as a categorical feature. To define the buckets we look at the survival distribution \n"
      ]
    },
    {
      "cell_type": "code",
      "metadata": {
        "id": "Io8mm63TZAZ7",
        "colab_type": "code",
        "colab": {
          "base_uri": "https://localhost:8080/",
          "height": 221
        },
        "outputId": "009a2224-3ff9-48a5-901c-c6b078039af8"
      },
      "source": [
        "plot_dist('fare')"
      ],
      "execution_count": 282,
      "outputs": [
        {
          "output_type": "display_data",
          "data": {
            "image/png": "[encoded data removed]",
            "text/plain": [
              "<Figure size 916.925x216 with 1 Axes>"
            ]
          },
          "metadata": {
            "tags": []
          }
        }
      ]
    },
    {
      "cell_type": "markdown",
      "metadata": {
        "id": "1XIqgnNrsv6f",
        "colab_type": "text"
      },
      "source": [
        "Let us have a closer look"
      ]
    },
    {
      "cell_type": "code",
      "metadata": {
        "id": "NmsWafI1ZWZy",
        "colab_type": "code",
        "colab": {
          "base_uri": "https://localhost:8080/",
          "height": 221
        },
        "outputId": "2456f116-2f45-4431-d2e0-703b466a4c5c"
      },
      "source": [
        "plot_dist('fare', zoom = True, x0=0, xm=100)"
      ],
      "execution_count": 283,
      "outputs": [
        {
          "output_type": "display_data",
          "data": {
            "image/png": "[encoded data removed]",
            "text/plain": [
              "<Figure size 916.925x216 with 1 Axes>"
            ]
          },
          "metadata": {
            "tags": []
          }
        }
      ]
    },
    {
      "cell_type": "code",
      "metadata": {
        "id": "U6sJtS2_ZGuy",
        "colab_type": "code",
        "colab": {
          "base_uri": "https://localhost:8080/",
          "height": 221
        },
        "outputId": "3d218379-5368-45d5-9d4a-c85b8480fdb3"
      },
      "source": [
        "plot_dist('fare', zoom = True, x0=0, xm=30)"
      ],
      "execution_count": 284,
      "outputs": [
        {
          "output_type": "display_data",
          "data": {
            "image/png": "[encoded data removed]",
            "text/plain": [
              "<Figure size 916.925x216 with 1 Axes>"
            ]
          },
          "metadata": {
            "tags": []
          }
        }
      ]
    },
    {
      "cell_type": "code",
      "metadata": {
        "id": "pnkZC3WTZNt6",
        "colab_type": "code",
        "colab": {
          "base_uri": "https://localhost:8080/",
          "height": 221
        },
        "outputId": "49f5a68e-ff9a-401b-da9e-fcaac930cec9"
      },
      "source": [
        "plot_dist('fare', zoom = True, x0=40, xm=100)"
      ],
      "execution_count": 285,
      "outputs": [
        {
          "output_type": "display_data",
          "data": {
            "image/png": "[encoded data removed]",
            "text/plain": [
              "<Figure size 916.925x216 with 1 Axes>"
            ]
          },
          "metadata": {
            "tags": []
          }
        }
      ]
    },
    {
      "cell_type": "code",
      "metadata": {
        "id": "Uqff3Hl_tCJ1",
        "colab_type": "code",
        "colab": {}
      },
      "source": [
        "def fare_bucket(fare):\n",
        "  \n",
        "  # returns buckets for the fare\n",
        "  if fare <= 29:\n",
        "    res = 0\n",
        "  elif fare > 29 and fare <= 75:\n",
        "    res = 1\n",
        "  else:\n",
        "    res = 2\n",
        "  return res"
      ],
      "execution_count": 0,
      "outputs": []
    },
    {
      "cell_type": "code",
      "metadata": {
        "id": "uzT-kgvxtCVY",
        "colab_type": "code",
        "colab": {}
      },
      "source": [
        "train_feat['fare_b'] = train_feat.fare.apply(fare_bucket)\n",
        "test_feat['fare_b'] = test_feat.fare.apply(fare_bucket)"
      ],
      "execution_count": 0,
      "outputs": []
    },
    {
      "cell_type": "code",
      "metadata": {
        "id": "-e8oVbNkcpl1",
        "colab_type": "code",
        "colab": {
          "base_uri": "https://localhost:8080/",
          "height": 89
        },
        "outputId": "cb477371-023f-4ce2-9cae-17cbac8b41ec"
      },
      "source": [
        "train_feat[train_feat.survived == 1]['fare_b'].value_counts()"
      ],
      "execution_count": 329,
      "outputs": [
        {
          "output_type": "execute_result",
          "data": {
            "text/plain": [
              "0    212\n",
              "2     75\n",
              "1     73\n",
              "Name: fare_b, dtype: int64"
            ]
          },
          "metadata": {
            "tags": []
          },
          "execution_count": 329
        }
      ]
    },
    {
      "cell_type": "code",
      "metadata": {
        "id": "pwFds3PgxRPj",
        "colab_type": "code",
        "outputId": "7bf9666e-203c-46cc-f707-f58294deac94",
        "colab": {
          "base_uri": "https://localhost:8080/",
          "height": 398
        }
      },
      "source": [
        "surv_bar('fare_b', train_feat, legend=['3rd', '2nd', '1st'])"
      ],
      "execution_count": 336,
      "outputs": [
        {
          "output_type": "display_data",
          "data": {
            "image/png": "[encoded data removed]",
            "text/plain": [
              "<Figure size 576x432 with 1 Axes>"
            ]
          },
          "metadata": {
            "tags": []
          }
        }
      ]
    },
    {
      "cell_type": "markdown",
      "metadata": {
        "id": "iz-zuyJwFy25",
        "colab_type": "text"
      },
      "source": [
        "## Cabin:\n",
        "This feature in particular has a lot of missing values. In fact, the lack of values for almost 70% of the dataset can itslef be used as data."
      ]
    },
    {
      "cell_type": "code",
      "metadata": {
        "id": "MGkmx74ytA_g",
        "colab_type": "code",
        "outputId": "ee492efa-df06-4fdd-b901-e091e16d73e7",
        "colab": {
          "base_uri": "https://localhost:8080/",
          "height": 35
        }
      },
      "source": [
        "print('Missing values: {}'.format(train_feat.cabin.isna().sum()))"
      ],
      "execution_count": 289,
      "outputs": [
        {
          "output_type": "stream",
          "text": [
            "Missing values: 726\n"
          ],
          "name": "stdout"
        }
      ]
    },
    {
      "cell_type": "code",
      "metadata": {
        "id": "3Dev_Hm2G415",
        "colab_type": "code",
        "outputId": "88d010d0-47e6-4176-ecd4-1f08f92e3bd2",
        "colab": {
          "base_uri": "https://localhost:8080/",
          "height": 125
        }
      },
      "source": [
        "train_feat.cabin.value_counts().head()\n"
      ],
      "execution_count": 290,
      "outputs": [
        {
          "output_type": "execute_result",
          "data": {
            "text/plain": [
              "C23 C25 C27    4\n",
              "B96 B98        4\n",
              "G6             4\n",
              "F33            3\n",
              "F2             3\n",
              "Name: cabin, dtype: int64"
            ]
          },
          "metadata": {
            "tags": []
          },
          "execution_count": 290
        }
      ]
    },
    {
      "cell_type": "markdown",
      "metadata": {
        "id": "VPQqeVG7zED9",
        "colab_type": "text"
      },
      "source": [
        "Let's extract the cabin prefix, it may be related to the class and thus could be a good feature to have.\n"
      ]
    },
    {
      "cell_type": "code",
      "metadata": {
        "id": "h0AGgK2XzEWO",
        "colab_type": "code",
        "colab": {}
      },
      "source": [
        "train_feat['cabin'] = train_feat.cabin.str[:1]"
      ],
      "execution_count": 0,
      "outputs": []
    },
    {
      "cell_type": "code",
      "metadata": {
        "id": "nKeAF2ZO1i6s",
        "colab_type": "code",
        "outputId": "70a37f6b-64c7-4ea8-9995-d16c9a71b1ed",
        "colab": {
          "base_uri": "https://localhost:8080/",
          "height": 179
        }
      },
      "source": [
        "train_feat.cabin.value_counts()"
      ],
      "execution_count": 292,
      "outputs": [
        {
          "output_type": "execute_result",
          "data": {
            "text/plain": [
              "C    61\n",
              "B    47\n",
              "D    36\n",
              "E    32\n",
              "A    16\n",
              "F    13\n",
              "G     4\n",
              "T     1\n",
              "Name: cabin, dtype: int64"
            ]
          },
          "metadata": {
            "tags": []
          },
          "execution_count": 292
        }
      ]
    },
    {
      "cell_type": "code",
      "metadata": {
        "id": "xXj6-5D5z3Xn",
        "colab_type": "code",
        "outputId": "b23f0fad-c96c-47ef-96b0-2f86bd0ba9f0",
        "colab": {
          "base_uri": "https://localhost:8080/",
          "height": 368
        }
      },
      "source": [
        "C1 = train_feat[train_feat['pclass']==1]['cabin'].value_counts()\n",
        "C2 = train_feat[train_feat['pclass']==2]['cabin'].value_counts()\n",
        "C3 = train_feat[train_feat['pclass']==3]['cabin'].value_counts()\n",
        "df = pd.DataFrame([C1, C2, C3])\n",
        "df.index = ['1st C','2nd C', '3rd C']\n",
        "df.plot(kind='bar',stacked=True, figsize=(10,5))"
      ],
      "execution_count": 293,
      "outputs": [
        {
          "output_type": "execute_result",
          "data": {
            "text/plain": [
              "<matplotlib.axes._subplots.AxesSubplot at 0x7f224a038198>"
            ]
          },
          "metadata": {
            "tags": []
          },
          "execution_count": 293
        },
        {
          "output_type": "display_data",
          "data": {
            "image/png": "[encoded data removed]",
            "text/plain": [
              "<Figure size 720x360 with 1 Axes>"
            ]
          },
          "metadata": {
            "tags": []
          }
        }
      ]
    },
    {
      "cell_type": "markdown",
      "metadata": {
        "id": "yq9BZiDU068T",
        "colab_type": "text"
      },
      "source": [
        "We will encode the cabin as a numeric feature, we want to mantain the order relation between the different values. "
      ]
    },
    {
      "cell_type": "code",
      "metadata": {
        "id": "bdSBOXq60z3w",
        "colab_type": "code",
        "colab": {}
      },
      "source": [
        "cabin_map = {\"A\": 0, \"B\": 0.4, \"C\": 0.8, \"D\": 1.2, \"E\": 1.6, \"F\": 2, \"G\": 2.4, \"T\": 2.8}\n",
        "train_feat['cabin'] = train_feat.cabin.map(cabin_map)   \n",
        "test_feat['cabin'] = test_feat.cabin.map(cabin_map)   "
      ],
      "execution_count": 0,
      "outputs": []
    },
    {
      "cell_type": "code",
      "metadata": {
        "id": "IjnBz0vU2X4Y",
        "colab_type": "code",
        "colab": {}
      },
      "source": [
        "# Now we can fill the missing values using the median for each class.\n",
        "train_feat.cabin.fillna(train_feat.groupby('pclass').cabin.transform(\"median\"), inplace=True)\n",
        "test_feat.cabin.fillna(train_feat.groupby('pclass').cabin.transform(\"median\"), inplace=True)\n",
        "\n"
      ],
      "execution_count": 0,
      "outputs": []
    },
    {
      "cell_type": "markdown",
      "metadata": {
        "id": "kgO9xFzwOhKc",
        "colab_type": "text"
      },
      "source": [
        "# Modeling \n",
        "---\n",
        "\n",
        "The problem is stated as a classification problem. We are asked to predict whether a certain passenger (given the data)  will survive a naval accident. This in order to make decisions about the insurance policy charged in the ticket, for instance.\n"
      ]
    },
    {
      "cell_type": "code",
      "metadata": {
        "id": "wVL6uJQrPD3P",
        "colab_type": "code",
        "colab": {}
      },
      "source": [
        "from sklearn.neighbors import KNeighborsClassifier\n",
        "from sklearn.tree import DecisionTreeClassifier\n",
        "from sklearn.ensemble import RandomForestClassifier\n",
        "from sklearn.naive_bayes import GaussianNB\n",
        "from sklearn.svm import SVC\n",
        "\n",
        "from sklearn.model_selection import KFold\n",
        "from sklearn.model_selection import cross_val_score\n"
      ],
      "execution_count": 0,
      "outputs": []
    },
    {
      "cell_type": "markdown",
      "metadata": {
        "id": "ZhA6NqDIRHoB",
        "colab_type": "text"
      },
      "source": [
        "## Cross-Validation K-Folds\n",
        "\n",
        "We will use cross validation with k-folds to test the performance of our predictive models."
      ]
    },
    {
      "cell_type": "code",
      "metadata": {
        "id": "Q4lHERizPIbx",
        "colab_type": "code",
        "colab": {}
      },
      "source": [
        "\n",
        "k_fold = KFold(n_splits=10, shuffle=True, random_state=0)\n"
      ],
      "execution_count": 0,
      "outputs": []
    },
    {
      "cell_type": "code",
      "metadata": {
        "id": "331dvL6mTU3M",
        "colab_type": "code",
        "colab": {}
      },
      "source": [
        "# select the actual columns that go as the train data\n",
        "cols = [ 'pclass', \n",
        "        'sex', \n",
        "        'age', \n",
        "        'fare', \n",
        "        'cabin', \n",
        "        'Mr', 'Mrs', 'Miss', 'Master', 'Other', \n",
        "        'age_l', \n",
        "        'family_size', \n",
        "        'alone',\n",
        "       'fare_b', \n",
        "        'C', 'Q', 'S']\n"
      ],
      "execution_count": 0,
      "outputs": []
    },
    {
      "cell_type": "code",
      "metadata": {
        "id": "O4d0dQDRRLhe",
        "colab_type": "code",
        "outputId": "442ba9c3-68c9-4963-9237-194253506c89",
        "colab": {
          "base_uri": "https://localhost:8080/",
          "height": 53
        }
      },
      "source": [
        "knn = KNeighborsClassifier(n_neighbors = 12)\n",
        "scoring = 'accuracy'\n",
        "score = cross_val_score(knn, train_feat[cols], train_feat['survived'], cv=k_fold, n_jobs=1, scoring=scoring)\n",
        "print(score)\n"
      ],
      "execution_count": 299,
      "outputs": [
        {
          "output_type": "stream",
          "text": [
            "[0.76595745 0.75531915 0.72340426 0.62765957 0.63829787 0.74468085\n",
            " 0.77419355 0.74193548 0.74193548 0.76344086]\n"
          ],
          "name": "stdout"
        }
      ]
    },
    {
      "cell_type": "code",
      "metadata": {
        "id": "qWL2bz_vTR5E",
        "colab_type": "code",
        "outputId": "f10f9e8d-a7f5-434c-f46a-90e27eee6062",
        "colab": {
          "base_uri": "https://localhost:8080/",
          "height": 35
        }
      },
      "source": [
        "# kNN Score\n",
        "round(np.mean(score)*100, 2)"
      ],
      "execution_count": 300,
      "outputs": [
        {
          "output_type": "execute_result",
          "data": {
            "text/plain": [
              "72.77"
            ]
          },
          "metadata": {
            "tags": []
          },
          "execution_count": 300
        }
      ]
    },
    {
      "cell_type": "markdown",
      "metadata": {
        "id": "vrnNsPBiXhyJ",
        "colab_type": "text"
      },
      "source": [
        "## Random Forest"
      ]
    },
    {
      "cell_type": "code",
      "metadata": {
        "id": "A2Z65PgjaQdk",
        "colab_type": "code",
        "outputId": "05f4569a-afee-47ea-ca58-aca3b979678c",
        "colab": {
          "base_uri": "https://localhost:8080/",
          "height": 53
        }
      },
      "source": [
        "rf_clf = RandomForestClassifier(n_estimators=13)\n",
        "scoring = 'accuracy'\n",
        "score = cross_val_score(rf_clf, train_feat[cols], train['survived'], cv=k_fold, n_jobs=1, scoring=scoring)\n",
        "print(score)"
      ],
      "execution_count": 301,
      "outputs": [
        {
          "output_type": "stream",
          "text": [
            "[0.82978723 0.75531915 0.78723404 0.78723404 0.79787234 0.87234043\n",
            " 0.77419355 0.82795699 0.8172043  0.8172043 ]\n"
          ],
          "name": "stdout"
        }
      ]
    },
    {
      "cell_type": "code",
      "metadata": {
        "id": "RB5gAhjTaYZA",
        "colab_type": "code",
        "outputId": "3d8d7678-ecc0-4729-f480-60a274f57fab",
        "colab": {
          "base_uri": "https://localhost:8080/",
          "height": 35
        }
      },
      "source": [
        "# Random Forest Score\n",
        "round(np.mean(score)*100, 2)"
      ],
      "execution_count": 302,
      "outputs": [
        {
          "output_type": "execute_result",
          "data": {
            "text/plain": [
              "80.66"
            ]
          },
          "metadata": {
            "tags": []
          },
          "execution_count": 302
        }
      ]
    },
    {
      "cell_type": "markdown",
      "metadata": {
        "id": "wrYxi7HgeH1f",
        "colab_type": "text"
      },
      "source": [
        "## XGBoost (Gradient Boosting):\n"
      ]
    },
    {
      "cell_type": "code",
      "metadata": {
        "id": "PcknNbw4er5f",
        "colab_type": "code",
        "colab": {
          "base_uri": "https://localhost:8080/",
          "height": 53
        },
        "outputId": "f7c49b5d-2eae-49e5-a869-c546835e6cf0"
      },
      "source": [
        "xgb_clf = XGBClassifier(learning_rate = 0.05, n_estimators=500, max_depth=10)\n",
        "scoring = 'accuracy'\n",
        "score = cross_val_score(xgb_clf, train_feat[cols], train_feat['survived'], cv=k_fold, n_jobs=1, scoring=scoring)\n",
        "print(score)\n",
        "# xgb_clf.fit(kX_train, ky_train)"
      ],
      "execution_count": 343,
      "outputs": [
        {
          "output_type": "stream",
          "text": [
            "[0.87234043 0.82978723 0.77659574 0.79787234 0.80851064 0.89361702\n",
            " 0.83870968 0.84946237 0.78494624 0.84946237]\n"
          ],
          "name": "stdout"
        }
      ]
    },
    {
      "cell_type": "code",
      "metadata": {
        "id": "X0cR2KiffB2E",
        "colab_type": "code",
        "colab": {
          "base_uri": "https://localhost:8080/",
          "height": 35
        },
        "outputId": "92596a99-9464-4bf6-eaf0-d660879845d3"
      },
      "source": [
        "# XGBoost Score\n",
        "round(np.mean(score)*100, 2)"
      ],
      "execution_count": 344,
      "outputs": [
        {
          "output_type": "execute_result",
          "data": {
            "text/plain": [
              "83.01"
            ]
          },
          "metadata": {
            "tags": []
          },
          "execution_count": 344
        }
      ]
    },
    {
      "cell_type": "markdown",
      "metadata": {
        "id": "eAZ5uPm2abz5",
        "colab_type": "text"
      },
      "source": [
        "## Naive Bayes"
      ]
    },
    {
      "cell_type": "code",
      "metadata": {
        "id": "XiVKbsriagIq",
        "colab_type": "code",
        "outputId": "984b6a14-b98a-4d14-a675-4766fad595d7",
        "colab": {
          "base_uri": "https://localhost:8080/",
          "height": 53
        }
      },
      "source": [
        "nb_clf = GaussianNB()\n",
        "scoring = 'accuracy'\n",
        "score = cross_val_score(nb_clf, train_feat[cols], train_feat['survived'], cv=k_fold, n_jobs=1, scoring=scoring)\n",
        "print(score)"
      ],
      "execution_count": 303,
      "outputs": [
        {
          "output_type": "stream",
          "text": [
            "[0.84042553 0.70212766 0.78723404 0.75531915 0.73404255 0.79787234\n",
            " 0.78494624 0.79569892 0.77419355 0.79569892]\n"
          ],
          "name": "stdout"
        }
      ]
    },
    {
      "cell_type": "code",
      "metadata": {
        "id": "v9vEJyLvakMh",
        "colab_type": "code",
        "outputId": "74a0807f-d63d-4bd2-b5a1-0b6d2e5fd1df",
        "colab": {
          "base_uri": "https://localhost:8080/",
          "height": 35
        }
      },
      "source": [
        "# Naive Bayes Score\n",
        "round(np.mean(score)*100, 2)\n"
      ],
      "execution_count": 304,
      "outputs": [
        {
          "output_type": "execute_result",
          "data": {
            "text/plain": [
              "77.68"
            ]
          },
          "metadata": {
            "tags": []
          },
          "execution_count": 304
        }
      ]
    },
    {
      "cell_type": "markdown",
      "metadata": {
        "id": "LQJJOy4hauDD",
        "colab_type": "text"
      },
      "source": [
        "## Support Vector Machine"
      ]
    },
    {
      "cell_type": "code",
      "metadata": {
        "id": "Oor6mKt-a2cZ",
        "colab_type": "code",
        "outputId": "91489bc6-d154-4333-cca3-d3adbd66b8b3",
        "colab": {
          "base_uri": "https://localhost:8080/",
          "height": 433
        }
      },
      "source": [
        "svc = SVC()\n",
        "scoring = 'accuracy'\n",
        "score = cross_val_score(svc, train_feat[cols], train_feat['survived'], cv=k_fold, n_jobs=1, scoring=scoring)\n",
        "print(score)"
      ],
      "execution_count": 305,
      "outputs": [
        {
          "output_type": "stream",
          "text": [
            "/usr/local/lib/python3.6/dist-packages/sklearn/svm/base.py:193: FutureWarning: The default value of gamma will change from 'auto' to 'scale' in version 0.22 to account better for unscaled features. Set gamma explicitly to 'auto' or 'scale' to avoid this warning.\n",
            "  \"avoid this warning.\", FutureWarning)\n",
            "/usr/local/lib/python3.6/dist-packages/sklearn/svm/base.py:193: FutureWarning: The default value of gamma will change from 'auto' to 'scale' in version 0.22 to account better for unscaled features. Set gamma explicitly to 'auto' or 'scale' to avoid this warning.\n",
            "  \"avoid this warning.\", FutureWarning)\n",
            "/usr/local/lib/python3.6/dist-packages/sklearn/svm/base.py:193: FutureWarning: The default value of gamma will change from 'auto' to 'scale' in version 0.22 to account better for unscaled features. Set gamma explicitly to 'auto' or 'scale' to avoid this warning.\n",
            "  \"avoid this warning.\", FutureWarning)\n",
            "/usr/local/lib/python3.6/dist-packages/sklearn/svm/base.py:193: FutureWarning: The default value of gamma will change from 'auto' to 'scale' in version 0.22 to account better for unscaled features. Set gamma explicitly to 'auto' or 'scale' to avoid this warning.\n",
            "  \"avoid this warning.\", FutureWarning)\n",
            "/usr/local/lib/python3.6/dist-packages/sklearn/svm/base.py:193: FutureWarning: The default value of gamma will change from 'auto' to 'scale' in version 0.22 to account better for unscaled features. Set gamma explicitly to 'auto' or 'scale' to avoid this warning.\n",
            "  \"avoid this warning.\", FutureWarning)\n",
            "/usr/local/lib/python3.6/dist-packages/sklearn/svm/base.py:193: FutureWarning: The default value of gamma will change from 'auto' to 'scale' in version 0.22 to account better for unscaled features. Set gamma explicitly to 'auto' or 'scale' to avoid this warning.\n",
            "  \"avoid this warning.\", FutureWarning)\n",
            "/usr/local/lib/python3.6/dist-packages/sklearn/svm/base.py:193: FutureWarning: The default value of gamma will change from 'auto' to 'scale' in version 0.22 to account better for unscaled features. Set gamma explicitly to 'auto' or 'scale' to avoid this warning.\n",
            "  \"avoid this warning.\", FutureWarning)\n",
            "/usr/local/lib/python3.6/dist-packages/sklearn/svm/base.py:193: FutureWarning: The default value of gamma will change from 'auto' to 'scale' in version 0.22 to account better for unscaled features. Set gamma explicitly to 'auto' or 'scale' to avoid this warning.\n",
            "  \"avoid this warning.\", FutureWarning)\n",
            "/usr/local/lib/python3.6/dist-packages/sklearn/svm/base.py:193: FutureWarning: The default value of gamma will change from 'auto' to 'scale' in version 0.22 to account better for unscaled features. Set gamma explicitly to 'auto' or 'scale' to avoid this warning.\n",
            "  \"avoid this warning.\", FutureWarning)\n",
            "/usr/local/lib/python3.6/dist-packages/sklearn/svm/base.py:193: FutureWarning: The default value of gamma will change from 'auto' to 'scale' in version 0.22 to account better for unscaled features. Set gamma explicitly to 'auto' or 'scale' to avoid this warning.\n",
            "  \"avoid this warning.\", FutureWarning)\n"
          ],
          "name": "stderr"
        },
        {
          "output_type": "stream",
          "text": [
            "[0.81914894 0.76595745 0.73404255 0.68085106 0.72340426 0.78723404\n",
            " 0.78494624 0.79569892 0.74193548 0.78494624]\n"
          ],
          "name": "stdout"
        }
      ]
    },
    {
      "cell_type": "code",
      "metadata": {
        "id": "mtEthUyNa96q",
        "colab_type": "code",
        "outputId": "2c9425f8-3633-4609-ed7f-58ceec1c2a21",
        "colab": {
          "base_uri": "https://localhost:8080/",
          "height": 35
        }
      },
      "source": [
        "## SVM Classifier score\n",
        "round(np.mean(score)*100,2)"
      ],
      "execution_count": 306,
      "outputs": [
        {
          "output_type": "execute_result",
          "data": {
            "text/plain": [
              "76.18"
            ]
          },
          "metadata": {
            "tags": []
          },
          "execution_count": 306
        }
      ]
    },
    {
      "cell_type": "markdown",
      "metadata": {
        "id": "H8AtdMCUbjIw",
        "colab_type": "text"
      },
      "source": [
        "## Dense Neural Network Classifier"
      ]
    },
    {
      "cell_type": "code",
      "metadata": {
        "id": "tINMjL08bFkr",
        "colab_type": "code",
        "colab": {
          "base_uri": "https://localhost:8080/",
          "height": 35
        },
        "outputId": "fa1a1aee-8a1b-4da3-f213-39daa279e795"
      },
      "source": [
        "from keras import backend as K\n",
        "from keras.models import Sequential\n",
        "from keras.layers import Dense\n",
        "from keras.wrappers.scikit_learn import KerasClassifier\n",
        "\n",
        "from keras.callbacks import EarlyStopping"
      ],
      "execution_count": 227,
      "outputs": [
        {
          "output_type": "stream",
          "text": [
            "Using TensorFlow backend.\n"
          ],
          "name": "stderr"
        }
      ]
    },
    {
      "cell_type": "code",
      "metadata": {
        "id": "nbHvCW7PfHwG",
        "colab_type": "code",
        "colab": {}
      },
      "source": [
        "# Create a simple dense neural network classifier:\n",
        "def dnn_cls(n_cols = train_feat[cols].shape[1]):\n",
        "  # clear session\n",
        "  K.clear_session()\n",
        "  \n",
        "  # sequential model\n",
        "  dnn = Sequential()\n",
        "\n",
        "  # add dense layers\n",
        "  dnn.add(Dense(10, activation='relu', input_shape=(n_cols,)))\n",
        "  dnn.add(Dense(20, activation='relu'))\n",
        "  dnn.add(Dense(10, activation='relu'))\n",
        "  dnn.add(Dense(1, activation = 'sigmoid'))\n",
        "  \n",
        "  # compile model w/ binary cross entropy as a measure of model performance\n",
        "  dnn.compile(optimizer='adam', loss='binary_crossentropy', metrics=['accuracy'])\n",
        "  \n",
        "  #give the summary\n",
        "#   dnn.summary()\n",
        "  return dnn\n",
        "\n",
        "# Define a function to train the model:\n",
        "def train_dnn(patience= 5, cols = cols, epochs = 30, valid_split = 0.2 ):\n",
        "  #set early stopping monitor so the model stops training when it won't improve anymore\n",
        "  early_stopping_monitor = EarlyStopping(patience=5)\n",
        "\n",
        "  #train model\n",
        "  results = dnn.fit(train_feat[cols], train_feat['survived'], validation_split= valid_split, epochs = epochs, callbacks=[early_stopping_monitor])\n",
        "  return results"
      ],
      "execution_count": 0,
      "outputs": []
    },
    {
      "cell_type": "code",
      "metadata": {
        "id": "dUY5oe-ecRr4",
        "colab_type": "code",
        "colab": {}
      },
      "source": [
        "dnn = dnn_cls()"
      ],
      "execution_count": 0,
      "outputs": []
    },
    {
      "cell_type": "code",
      "metadata": {
        "id": "ZLG-3148dXEX",
        "colab_type": "code",
        "outputId": "b62a26a6-3876-41e7-e4bc-b53ad6071833",
        "colab": {
          "base_uri": "https://localhost:8080/",
          "height": 1943
        }
      },
      "source": [
        "results = train_dnn(epochs = 100)"
      ],
      "execution_count": 309,
      "outputs": [
        {
          "output_type": "stream",
          "text": [
            "Train on 748 samples, validate on 188 samples\n",
            "Epoch 1/100\n",
            "748/748 [==============================] - 0s 471us/step - loss: 1.1070 - acc: 0.6725 - val_loss: 0.6242 - val_acc: 0.6968\n",
            "Epoch 2/100\n",
            "748/748 [==============================] - 0s 61us/step - loss: 0.6989 - acc: 0.6671 - val_loss: 0.5550 - val_acc: 0.6755\n",
            "Epoch 3/100\n",
            "748/748 [==============================] - 0s 59us/step - loss: 0.6299 - acc: 0.6217 - val_loss: 0.5541 - val_acc: 0.6702\n",
            "Epoch 4/100\n",
            "748/748 [==============================] - 0s 56us/step - loss: 0.6115 - acc: 0.6243 - val_loss: 0.5530 - val_acc: 0.6436\n",
            "Epoch 5/100\n",
            "748/748 [==============================] - 0s 55us/step - loss: 0.6020 - acc: 0.6190 - val_loss: 0.5531 - val_acc: 0.6277\n",
            "Epoch 6/100\n",
            "748/748 [==============================] - 0s 53us/step - loss: 0.5955 - acc: 0.6283 - val_loss: 0.5489 - val_acc: 0.6809\n",
            "Epoch 7/100\n",
            "748/748 [==============================] - 0s 54us/step - loss: 0.5827 - acc: 0.6257 - val_loss: 0.5498 - val_acc: 0.6702\n",
            "Epoch 8/100\n",
            "748/748 [==============================] - 0s 54us/step - loss: 0.5801 - acc: 0.6404 - val_loss: 0.5384 - val_acc: 0.6862\n",
            "Epoch 9/100\n",
            "748/748 [==============================] - 0s 54us/step - loss: 0.5736 - acc: 0.6497 - val_loss: 0.5381 - val_acc: 0.6702\n",
            "Epoch 10/100\n",
            "748/748 [==============================] - 0s 53us/step - loss: 0.5690 - acc: 0.6858 - val_loss: 0.5294 - val_acc: 0.7447\n",
            "Epoch 11/100\n",
            "748/748 [==============================] - 0s 52us/step - loss: 0.5622 - acc: 0.7072 - val_loss: 0.5256 - val_acc: 0.7447\n",
            "Epoch 12/100\n",
            "748/748 [==============================] - 0s 52us/step - loss: 0.5619 - acc: 0.7072 - val_loss: 0.5313 - val_acc: 0.7287\n",
            "Epoch 13/100\n",
            "748/748 [==============================] - 0s 55us/step - loss: 0.5471 - acc: 0.7233 - val_loss: 0.5079 - val_acc: 0.7287\n",
            "Epoch 14/100\n",
            "748/748 [==============================] - 0s 54us/step - loss: 0.5402 - acc: 0.7139 - val_loss: 0.5042 - val_acc: 0.7447\n",
            "Epoch 15/100\n",
            "748/748 [==============================] - 0s 54us/step - loss: 0.5345 - acc: 0.7233 - val_loss: 0.5106 - val_acc: 0.7287\n",
            "Epoch 16/100\n",
            "748/748 [==============================] - 0s 54us/step - loss: 0.5347 - acc: 0.7299 - val_loss: 0.5020 - val_acc: 0.7234\n",
            "Epoch 17/100\n",
            "748/748 [==============================] - 0s 55us/step - loss: 0.5337 - acc: 0.7246 - val_loss: 0.5111 - val_acc: 0.7234\n",
            "Epoch 18/100\n",
            "748/748 [==============================] - 0s 52us/step - loss: 0.5352 - acc: 0.7246 - val_loss: 0.4992 - val_acc: 0.7287\n",
            "Epoch 19/100\n",
            "748/748 [==============================] - 0s 54us/step - loss: 0.5252 - acc: 0.7447 - val_loss: 0.4936 - val_acc: 0.7234\n",
            "Epoch 20/100\n",
            "748/748 [==============================] - 0s 53us/step - loss: 0.5254 - acc: 0.7366 - val_loss: 0.4979 - val_acc: 0.7234\n",
            "Epoch 21/100\n",
            "748/748 [==============================] - 0s 57us/step - loss: 0.5254 - acc: 0.7380 - val_loss: 0.4941 - val_acc: 0.7287\n",
            "Epoch 22/100\n",
            "748/748 [==============================] - 0s 52us/step - loss: 0.5215 - acc: 0.7380 - val_loss: 0.4927 - val_acc: 0.7181\n",
            "Epoch 23/100\n",
            "748/748 [==============================] - 0s 54us/step - loss: 0.5209 - acc: 0.7447 - val_loss: 0.4884 - val_acc: 0.7287\n",
            "Epoch 24/100\n",
            "748/748 [==============================] - 0s 55us/step - loss: 0.5142 - acc: 0.7460 - val_loss: 0.4912 - val_acc: 0.7287\n",
            "Epoch 25/100\n",
            "748/748 [==============================] - 0s 51us/step - loss: 0.5132 - acc: 0.7473 - val_loss: 0.4892 - val_acc: 0.7394\n",
            "Epoch 26/100\n",
            "748/748 [==============================] - 0s 51us/step - loss: 0.5287 - acc: 0.7313 - val_loss: 0.4845 - val_acc: 0.7340\n",
            "Epoch 27/100\n",
            "748/748 [==============================] - 0s 54us/step - loss: 0.5175 - acc: 0.7340 - val_loss: 0.4970 - val_acc: 0.7234\n",
            "Epoch 28/100\n",
            "748/748 [==============================] - 0s 51us/step - loss: 0.5153 - acc: 0.7353 - val_loss: 0.4942 - val_acc: 0.7234\n",
            "Epoch 29/100\n",
            "748/748 [==============================] - 0s 52us/step - loss: 0.5189 - acc: 0.7340 - val_loss: 0.4945 - val_acc: 0.7287\n",
            "Epoch 30/100\n",
            "748/748 [==============================] - 0s 53us/step - loss: 0.5108 - acc: 0.7487 - val_loss: 0.4842 - val_acc: 0.7394\n",
            "Epoch 31/100\n",
            "748/748 [==============================] - 0s 53us/step - loss: 0.5111 - acc: 0.7527 - val_loss: 0.4821 - val_acc: 0.7287\n",
            "Epoch 32/100\n",
            "748/748 [==============================] - 0s 53us/step - loss: 0.5092 - acc: 0.7447 - val_loss: 0.4896 - val_acc: 0.7394\n",
            "Epoch 33/100\n",
            "748/748 [==============================] - 0s 53us/step - loss: 0.5096 - acc: 0.7553 - val_loss: 0.4830 - val_acc: 0.7447\n",
            "Epoch 34/100\n",
            "748/748 [==============================] - 0s 54us/step - loss: 0.5055 - acc: 0.7540 - val_loss: 0.4807 - val_acc: 0.7500\n",
            "Epoch 35/100\n",
            "748/748 [==============================] - 0s 48us/step - loss: 0.5035 - acc: 0.7580 - val_loss: 0.4822 - val_acc: 0.7447\n",
            "Epoch 36/100\n",
            "748/748 [==============================] - 0s 46us/step - loss: 0.5060 - acc: 0.7513 - val_loss: 0.4782 - val_acc: 0.7500\n",
            "Epoch 37/100\n",
            "748/748 [==============================] - 0s 48us/step - loss: 0.5016 - acc: 0.7500 - val_loss: 0.4786 - val_acc: 0.7500\n",
            "Epoch 38/100\n",
            "748/748 [==============================] - 0s 45us/step - loss: 0.5002 - acc: 0.7540 - val_loss: 0.4790 - val_acc: 0.7447\n",
            "Epoch 39/100\n",
            "748/748 [==============================] - 0s 47us/step - loss: 0.5007 - acc: 0.7567 - val_loss: 0.4770 - val_acc: 0.7500\n",
            "Epoch 40/100\n",
            "748/748 [==============================] - 0s 48us/step - loss: 0.5011 - acc: 0.7513 - val_loss: 0.4803 - val_acc: 0.7394\n",
            "Epoch 41/100\n",
            "748/748 [==============================] - 0s 47us/step - loss: 0.5042 - acc: 0.7553 - val_loss: 0.4801 - val_acc: 0.7394\n",
            "Epoch 42/100\n",
            "748/748 [==============================] - 0s 47us/step - loss: 0.5046 - acc: 0.7594 - val_loss: 0.4761 - val_acc: 0.7553\n",
            "Epoch 43/100\n",
            "748/748 [==============================] - 0s 47us/step - loss: 0.4969 - acc: 0.7553 - val_loss: 0.4767 - val_acc: 0.7500\n",
            "Epoch 44/100\n",
            "748/748 [==============================] - 0s 46us/step - loss: 0.5034 - acc: 0.7553 - val_loss: 0.4787 - val_acc: 0.7500\n",
            "Epoch 45/100\n",
            "748/748 [==============================] - 0s 47us/step - loss: 0.4969 - acc: 0.7487 - val_loss: 0.4758 - val_acc: 0.7500\n",
            "Epoch 46/100\n",
            "748/748 [==============================] - 0s 46us/step - loss: 0.4934 - acc: 0.7580 - val_loss: 0.4790 - val_acc: 0.7394\n",
            "Epoch 47/100\n",
            "748/748 [==============================] - 0s 46us/step - loss: 0.5013 - acc: 0.7513 - val_loss: 0.4744 - val_acc: 0.7500\n",
            "Epoch 48/100\n",
            "748/748 [==============================] - 0s 49us/step - loss: 0.4932 - acc: 0.7527 - val_loss: 0.4742 - val_acc: 0.7500\n",
            "Epoch 49/100\n",
            "748/748 [==============================] - 0s 52us/step - loss: 0.4942 - acc: 0.7594 - val_loss: 0.4764 - val_acc: 0.7553\n",
            "Epoch 50/100\n",
            "748/748 [==============================] - 0s 53us/step - loss: 0.5006 - acc: 0.7594 - val_loss: 0.4900 - val_acc: 0.7340\n",
            "Epoch 51/100\n",
            "748/748 [==============================] - 0s 53us/step - loss: 0.4914 - acc: 0.7540 - val_loss: 0.4748 - val_acc: 0.7447\n",
            "Epoch 52/100\n",
            "748/748 [==============================] - 0s 51us/step - loss: 0.4948 - acc: 0.7540 - val_loss: 0.4779 - val_acc: 0.7500\n",
            "Epoch 53/100\n",
            "748/748 [==============================] - 0s 52us/step - loss: 0.4928 - acc: 0.7634 - val_loss: 0.4764 - val_acc: 0.7553\n"
          ],
          "name": "stdout"
        }
      ]
    },
    {
      "cell_type": "code",
      "metadata": {
        "id": "BKZu_EgNj3LN",
        "colab_type": "code",
        "colab": {}
      },
      "source": [
        "def plot_results():\n",
        "  plt.figure(figsize = (6,6))\n",
        "  plt.title(\"Learning curve\", fontsize = 15)\n",
        "  plt.plot(results.history[\"acc\"], label=\"accuracy\")\n",
        "  plt.plot(results.history[\"val_acc\"], label=\"val accuracy\")\n",
        "  plt.plot( np.argmax(results.history[\"val_acc\"]), np.max(results.history[\"val_acc\"]), marker=\"x\", color=\"r\", label=\"best model\")\n",
        "  plt.xlabel(\"Epochs\")\n",
        "  plt.ylabel(\"accuracy\")\n",
        "  plt.legend();\n"
      ],
      "execution_count": 0,
      "outputs": []
    },
    {
      "cell_type": "code",
      "metadata": {
        "id": "hpdBRhIAhbMZ",
        "colab_type": "code",
        "outputId": "5ac9e1ed-ab58-4151-bf03-4a99e6f3fa74",
        "colab": {
          "base_uri": "https://localhost:8080/",
          "height": 412
        }
      },
      "source": [
        "plot_results()"
      ],
      "execution_count": 311,
      "outputs": [
        {
          "output_type": "display_data",
          "data": {
            "image/png": "[encoded data removed]",
            "text/plain": [
              "<Figure size 432x432 with 1 Axes>"
            ]
          },
          "metadata": {
            "tags": []
          }
        }
      ]
    },
    {
      "cell_type": "code",
      "metadata": {
        "id": "gZ43W9k_iqAh",
        "colab_type": "code",
        "colab": {}
      },
      "source": [
        "dnn_model = KerasClassifier(build_fn=dnn_cls, verbose=0)"
      ],
      "execution_count": 0,
      "outputs": []
    },
    {
      "cell_type": "code",
      "metadata": {
        "id": "TXSSSJJ9p7_O",
        "colab_type": "code",
        "outputId": "8356fd63-bef5-4a2d-d44e-a9323775eb5e",
        "colab": {
          "base_uri": "https://localhost:8080/",
          "height": 53
        }
      },
      "source": [
        "scoring = 'accuracy'\n",
        "score = cross_val_score(dnn_model, train_feat[cols], train_feat['survived'], cv=k_fold, n_jobs=1, scoring=scoring)\n",
        "print(score)"
      ],
      "execution_count": 313,
      "outputs": [
        {
          "output_type": "stream",
          "text": [
            "[0.72340426 0.26595745 0.63829787 0.61702128 0.68085106 0.61702128\n",
            " 0.34408602 0.64516129 0.65591398 0.68817204]\n"
          ],
          "name": "stdout"
        }
      ]
    },
    {
      "cell_type": "code",
      "metadata": {
        "id": "RwdXGwL0qJtK",
        "colab_type": "code",
        "outputId": "a17fc75f-d4eb-48f5-faae-a3465cd4da37",
        "colab": {
          "base_uri": "https://localhost:8080/",
          "height": 35
        }
      },
      "source": [
        "# DNN score\n",
        "round(np.mean(score)*100,2)"
      ],
      "execution_count": 314,
      "outputs": [
        {
          "output_type": "execute_result",
          "data": {
            "text/plain": [
              "58.76"
            ]
          },
          "metadata": {
            "tags": []
          },
          "execution_count": 314
        }
      ]
    },
    {
      "cell_type": "markdown",
      "metadata": {
        "id": "eLsueE_3q0zw",
        "colab_type": "text"
      },
      "source": [
        "# Predicting\n",
        "---\n",
        "we will use our two top rated models to make predictions"
      ]
    },
    {
      "cell_type": "code",
      "metadata": {
        "id": "F6isYDmfqfy0",
        "colab_type": "code",
        "colab": {}
      },
      "source": [
        "# Random Forest\n",
        "\n",
        "rf_clf = RandomForestClassifier(n_estimators=13)\n",
        "scoring = 'accuracy'\n",
        "# score = cross_val_score(rf_clf, train_feat[cols], train['survived'], cv=k_fold, n_jobs=1, scoring=scoring)\n",
        "# print(score)\n",
        "rf_clf.fit(train_feat[cols], train_feat['survived'])\n",
        "prediction = rf_clf.predict(test_feat[cols])"
      ],
      "execution_count": 0,
      "outputs": []
    },
    {
      "cell_type": "code",
      "metadata": {
        "id": "yi93_dM_zLpB",
        "colab_type": "code",
        "colab": {}
      },
      "source": [
        "prediction = pd.DataFrame({\n",
        "        \"PassengerId\": test_feat[\"passengerid\"],\n",
        "        \"Survived\": prediction\n",
        "    })\n",
        "\n",
        "prediction.to_csv('submission.csv', index=False)\n"
      ],
      "execution_count": 0,
      "outputs": []
    },
    {
      "cell_type": "code",
      "metadata": {
        "id": "NzXyEOJazVNU",
        "colab_type": "code",
        "outputId": "ec6ae28d-85bd-43c4-a711-f5f72e89f8b6",
        "colab": {
          "base_uri": "https://localhost:8080/",
          "height": 204
        }
      },
      "source": [
        "prediction.head()"
      ],
      "execution_count": 356,
      "outputs": [
        {
          "output_type": "execute_result",
          "data": {
            "text/html": [
              "<div>\n",
              "<style scoped>\n",
              "    .dataframe tbody tr th:only-of-type {\n",
              "        vertical-align: middle;\n",
              "    }\n",
              "\n",
              "    .dataframe tbody tr th {\n",
              "        vertical-align: top;\n",
              "    }\n",
              "\n",
              "    .dataframe thead th {\n",
              "        text-align: right;\n",
              "    }\n",
              "</style>\n",
              "<table border=\"1\" class=\"dataframe\">\n",
              "  <thead>\n",
              "    <tr style=\"text-align: right;\">\n",
              "      <th></th>\n",
              "      <th>PassengerId</th>\n",
              "      <th>Survived</th>\n",
              "    </tr>\n",
              "  </thead>\n",
              "  <tbody>\n",
              "    <tr>\n",
              "      <th>0</th>\n",
              "      <td>892</td>\n",
              "      <td>0</td>\n",
              "    </tr>\n",
              "    <tr>\n",
              "      <th>1</th>\n",
              "      <td>893</td>\n",
              "      <td>0</td>\n",
              "    </tr>\n",
              "    <tr>\n",
              "      <th>2</th>\n",
              "      <td>894</td>\n",
              "      <td>0</td>\n",
              "    </tr>\n",
              "    <tr>\n",
              "      <th>3</th>\n",
              "      <td>895</td>\n",
              "      <td>0</td>\n",
              "    </tr>\n",
              "    <tr>\n",
              "      <th>4</th>\n",
              "      <td>896</td>\n",
              "      <td>1</td>\n",
              "    </tr>\n",
              "  </tbody>\n",
              "</table>\n",
              "</div>"
            ],
            "text/plain": [
              "   PassengerId  Survived\n",
              "0          892         0\n",
              "1          893         0\n",
              "2          894         0\n",
              "3          895         0\n",
              "4          896         1"
            ]
          },
          "metadata": {
            "tags": []
          },
          "execution_count": 356
        }
      ]
    },
    {
      "cell_type": "code",
      "metadata": {
        "id": "KFL7A-zdfkzM",
        "colab_type": "code",
        "colab": {}
      },
      "source": [
        "# Gradient Boosting\n",
        "xgb_clf = XGBClassifier(learning_rate = 0.05, n_estimators=500, max_depth=10)\n",
        "scoring = 'accuracy'\n",
        "xgb_clf.fit(train_feat[cols], train_feat['survived'])\n",
        "prediction_xgb = xgb_clf.predict(test_feat[cols])"
      ],
      "execution_count": 0,
      "outputs": []
    },
    {
      "cell_type": "code",
      "metadata": {
        "id": "napilYOchG1-",
        "colab_type": "code",
        "colab": {
          "base_uri": "https://localhost:8080/",
          "height": 536
        },
        "outputId": "b4be8782-a727-4254-83f2-4ccef82c25dd"
      },
      "source": [
        "plot_features(xgb_clf, (8,8))"
      ],
      "execution_count": 359,
      "outputs": [
        {
          "output_type": "execute_result",
          "data": {
            "text/plain": [
              "<matplotlib.axes._subplots.AxesSubplot at 0x7f2249b3f828>"
            ]
          },
          "metadata": {
            "tags": []
          },
          "execution_count": 359
        },
        {
          "output_type": "display_data",
          "data": {
            "image/png": "[encoded data removed]",
            "text/plain": [
              "<Figure size 576x576 with 1 Axes>"
            ]
          },
          "metadata": {
            "tags": []
          }
        }
      ]
    },
    {
      "cell_type": "code",
      "metadata": {
        "id": "sNyf43mAf7v-",
        "colab_type": "code",
        "colab": {}
      },
      "source": [
        "prediction_xgb = pd.DataFrame({\n",
        "        \"PassengerId\": test_feat[\"passengerid\"],\n",
        "        \"Survived\": prediction_xgb\n",
        "    })\n",
        "\n",
        "prediction_xgb.to_csv('submission_xgb.csv', index=False)\n"
      ],
      "execution_count": 0,
      "outputs": []
    },
    {
      "cell_type": "code",
      "metadata": {
        "id": "zykDvqu8gGeQ",
        "colab_type": "code",
        "colab": {
          "base_uri": "https://localhost:8080/",
          "height": 204
        },
        "outputId": "ca03845f-3f30-4186-df50-1a9a35f12ea4"
      },
      "source": [
        "prediction_xgb.head()"
      ],
      "execution_count": 352,
      "outputs": [
        {
          "output_type": "execute_result",
          "data": {
            "text/html": [
              "<div>\n",
              "<style scoped>\n",
              "    .dataframe tbody tr th:only-of-type {\n",
              "        vertical-align: middle;\n",
              "    }\n",
              "\n",
              "    .dataframe tbody tr th {\n",
              "        vertical-align: top;\n",
              "    }\n",
              "\n",
              "    .dataframe thead th {\n",
              "        text-align: right;\n",
              "    }\n",
              "</style>\n",
              "<table border=\"1\" class=\"dataframe\">\n",
              "  <thead>\n",
              "    <tr style=\"text-align: right;\">\n",
              "      <th></th>\n",
              "      <th>PassengerId</th>\n",
              "      <th>Survived</th>\n",
              "    </tr>\n",
              "  </thead>\n",
              "  <tbody>\n",
              "    <tr>\n",
              "      <th>0</th>\n",
              "      <td>892</td>\n",
              "      <td>0</td>\n",
              "    </tr>\n",
              "    <tr>\n",
              "      <th>1</th>\n",
              "      <td>893</td>\n",
              "      <td>0</td>\n",
              "    </tr>\n",
              "    <tr>\n",
              "      <th>2</th>\n",
              "      <td>894</td>\n",
              "      <td>0</td>\n",
              "    </tr>\n",
              "    <tr>\n",
              "      <th>3</th>\n",
              "      <td>895</td>\n",
              "      <td>1</td>\n",
              "    </tr>\n",
              "    <tr>\n",
              "      <th>4</th>\n",
              "      <td>896</td>\n",
              "      <td>1</td>\n",
              "    </tr>\n",
              "  </tbody>\n",
              "</table>\n",
              "</div>"
            ],
            "text/plain": [
              "   PassengerId  Survived\n",
              "0          892         0\n",
              "1          893         0\n",
              "2          894         0\n",
              "3          895         1\n",
              "4          896         1"
            ]
          },
          "metadata": {
            "tags": []
          },
          "execution_count": 352
        }
      ]
    },
    {
      "cell_type": "markdown",
      "metadata": {
        "id": "j3gpQzzi1pgV",
        "colab_type": "text"
      },
      "source": [
        "# Final Remarks\n",
        "---\n",
        "An understanding of the key features that have impact on survival probability of passengers is achieved through Data exploration. We have identified some of the key features and also constructed new features that would help improve the accuracy of predicitive models. The Gradient Boosting algorithm sort of shows a ranking of feature importance based on the **F-score**. Showing that:\n",
        "\n",
        "\n",
        "1.   `Fare`\n",
        "2.   `age`\n",
        "3.   `cabin`\n",
        "4.   `family_size`\n",
        "5.   `pclass`\n",
        "\n",
        "are the top 5 important features. Already some insights and decisions can be taken at this point. For instance, charging an extra insurance fee to the passengers with higher risk may not be the best way to go, considering that these passengers buy the cheapest tickets. Avoiding them to travel by rising all tickets price could lead to lowring the chances if the extra earnings are correctly invested in the safety of ships in the **fleet*.\n",
        "\n",
        "### Further Development.-\n",
        "\n",
        "The predictive power of the models has to be improved This stage is a bit time consuming since it passes through running all the models several times. Random Forests and XGBoost outperform the other models and that is why we choose them to in this notebook. Nevertheless, the models need to go through a hyperparameter tunning process. This, to find the best model for the given Data. This could make the DNN Classifier perform better than the other two. Finally, the models need to go through a statistical significance test to select the model that goes to production."
      ]
    }
  ]
}