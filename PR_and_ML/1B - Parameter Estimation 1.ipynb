{
 "cells": [
  {
   "cell_type": "markdown",
   "metadata": {},
   "source": [
    "# Introduction\n",
    "Parameter estimation is a common data analysis problem. We can think of many *real life* examples of experiments where we are interested in knowing the value of a set of parameters, e.g., the charge of the electron, the mass of the Moon, etc. In this notebook we focus on examples where we are interested in estimating the value of a single parameter. These examples will be used to discuss about the use of Bayes' Theorem, error-bars, and confidence intervals."
   ]
  },
  {
   "cell_type": "markdown",
   "metadata": {},
   "source": [
    "# Imports"
   ]
  },
  {
   "cell_type": "code",
   "execution_count": 1,
   "metadata": {},
   "outputs": [],
   "source": [
    "import numpy as np\n",
    "import pandas as pd\n",
    "import matplotlib.pyplot as plt\n"
   ]
  },
  {
   "cell_type": "markdown",
   "metadata": {},
   "source": [
    "# Example 1: Fair coin?\n",
    "Assume that we encounter a very *strange* coin. This is, we observe that from 11 flips only 4 of them landed heads. Naturally we can ask: is this a fair coin?\n",
    "Where by fair we mean a coin that has $1/2$ chances of landing heads/tails on a flip.\n",
    "\n",
    "Moreover, let's say we determine the coin is fair. How sure are we of our assertion about the coin? IF the coin was not fair, how unfair do we think the coin is?\n",
    "\n",
    "To try answering these questions we need to formulate the problem more precisely. Instead of considering a pair of hypothesis (the coin is fair or not) we can see the problem through a large number of contiguous propositions, or hypothesis, about the range in which the *bias-weighting* of the coin might lie. Let $H$ denote this *bias-weighting*, then if $H=0$ the coin will always land tails after a flip. Conversely, when $H=1$ the coin will always land heads after a flip. Notice that $H=1/2$ indicates a **fair coin**.\n",
    "\n",
    "The propositions then could be stated in the form: \n",
    "* $0.00 < H < 0.01$;\n",
    "* $0.01 < H < 0.02$;\n",
    "* $0.03 < H < 0.03$;\n",
    "* so on...\n",
    "\n",
    "In this way, the *state of knowledge* about the (degree of) fairness or unfairness of the coin is specified by how much we believe the statement to be true, given by the probability assigned to each of the propositions or to groups of them. \n",
    "\n",
    "In the presence of data, our inference about the fairness of the coin is summarized by the contditional pdf: $$\\text{prob}(H| \\text{\\{data\\}}, I),$$ where the probability that $H$ lies within an infinitesimal interval $dH$ is given by:\n",
    "$$\\text{prob}(H| \\text{\\{data\\}}, I)dH.$$\n",
    "To estimate this posterior pdf we need to use Bayes' Theorem:\n",
    "$$\\text{prob}(X | Y,I) = \\dfrac{\\text{prob}(Y | X, I)\\times\\text{prob}(Y | I)}{\\text{prob}(Y | I)}.$$\n",
    "\n",
    "Which in our case reads:\n",
    "$$\\text{prob}(H | \\text{\\{data\\}},I) \\propto \\text{prob}(\\text{\\{data\\}}| H,I)\\times \\text{prob}(H | I),$$\n",
    "\n",
    "note that we have omitted $\\text{prob}(\\text{\\{data\\}}, I)$ since does not involve $H$. If needed, we can calculate the normalization factor from:\n",
    "$$\\int_{0}^{1}\\text{prob}(H | \\text{\\{data\\}}, I)dH = 1.$$\n",
    "\n",
    "The prior pdf, $\\text{prob}(H | I)$ represents our knowledge about the coin given the information we have about the problem: *a strange coin*. We can assign a simple probability that reflects this situation, for instance:\n",
    "$$\\text{prob}(H|I) = \\left\\{ \\begin{array}\\\\ 1, \\,\\, 0 \\leq H \\leq 1 \\\\\n",
    "                                0, \\text{ otherwise}\\end{array}\\right.$$\n",
    "                                \n",
    "This prior state of knowledge will be updated by data via the likelihood function: $\\text{prob}(\\text{\\{data\\}}| H, I)$. Additionally, we can assume the coin tosses are independent events, then the probability of getting **R heads in N tosses** is given by the binomial distribution:\n",
    "\n",
    "$$\\text{prob}(\\text{\\{data\\}}| H, I) \\propto H^R(1-H)^{N-R}.$$\n",
    "\n",
    "Don't worry about the origin of this expression for the moment, we will come back to it on future notebooks. However, we can intuitively see that it seems reasonable. First, $H$ stands for the *bias-weighting* of the coin and can be interpreted as the probability of the coin landing heads after a toss. We observed $R$ such events. Conversely, $(1-H)$ is the probability of the coin landing tails after a toss and there were $(N-R)$ observed events.\n",
    "\n",
    "According to the Bayes' Theorem we just need to multiply the two last above quantities to obtain the posterior pdf we are after for. To see this we will look at how the prior pdf changes in the light of data about the coin."
   ]
  },
  {
   "cell_type": "markdown",
   "metadata": {},
   "source": [
    "## Simulating the coin tosses\n",
    "First we need an object that simulates the coin tosses with a given **bias weighting** value $H$. In this case this amounts to getting data from a binomial distribution whose pdf is given by: \n",
    "$$\\text{prob}(R) = \\left(\\begin{array}\\\\N\\\\R\\end{array}\\right)H^R(1-H)^{N-R},$$\n",
    "\n",
    "this is, the probability of getting $R$ successes (coin landing heads) after $N$ Bernoulli trials.\n",
    "\n",
    "Let us set $ H = 0.3$ to simulate a very biased coin.The experiment will consist in drawing a series of Bernoulli events, for that we use numpy's `random.binomial`, where an output of $0$ represents the coin landing tails and $1$ for heads. \n",
    "\n",
    "The results of the simulation are stored on a list:"
   ]
  },
  {
   "cell_type": "code",
   "execution_count": 64,
   "metadata": {},
   "outputs": [],
   "source": [
    "experiment = np.random.binomial(1, 0.3,size = 100)"
   ]
  },
  {
   "cell_type": "code",
   "execution_count": 65,
   "metadata": {},
   "outputs": [
    {
     "data": {
      "text/plain": [
       "0"
      ]
     },
     "execution_count": 65,
     "metadata": {},
     "output_type": "execute_result"
    }
   ],
   "source": [
    "experiment[0]"
   ]
  },
  {
   "cell_type": "code",
   "execution_count": 67,
   "metadata": {},
   "outputs": [
    {
     "name": "stderr",
     "output_type": "stream",
     "text": [
      "/usr/local/anaconda3/envs/py36/lib/python3.6/site-packages/ipykernel_launcher.py:3: UserWarning: Matplotlib is currently using module://ipykernel.pylab.backend_inline, which is a non-GUI backend, so cannot show the figure.\n",
      "  This is separate from the ipykernel package so we can avoid doing imports until\n"
     ]
    },
    {
     "data": {
      "image/png": "[encoded data removed]",
      "text/plain": [
       "<Figure size 600x400 with 1 Axes>"
      ]
     },
     "metadata": {
      "needs_background": "light"
     },
     "output_type": "display_data"
    }
   ],
   "source": [
    "fig, ax = plt.subplots(dpi = 100)\n",
    "ax.plot(experiment, marker = '.', linestyle = '')\n",
    "fig.show()"
   ]
  },
  {
   "cell_type": "markdown",
   "metadata": {},
   "source": [
    "Let us plot the prior pdf $\\text{prob}(H | I)$:"
   ]
  },
  {
   "cell_type": "code",
   "execution_count": 70,
   "metadata": {},
   "outputs": [
    {
     "data": {
      "text/plain": [
       "(0, 1.1)"
      ]
     },
     "execution_count": 70,
     "metadata": {},
     "output_type": "execute_result"
    },
    {
     "data": {
      "image/png": "[encoded data removed]",
      "text/plain": [
       "<Figure size 600x400 with 1 Axes>"
      ]
     },
     "metadata": {
      "needs_background": "light"
     },
     "output_type": "display_data"
    }
   ],
   "source": [
    "fig, ax = plt.subplots(dpi = 100)\n",
    "ax.axhline(1)\n",
    "ax.set_ylim(0, 1.1)"
   ]
  },
  {
   "cell_type": "markdown",
   "metadata": {},
   "source": [
    "I think I know how to do this! First of all, for each event in the experiment you need to calculate the pdf (likelihood). By Bayes' theorem multiplying the prior (above picture) by the new pdf will approximate to the posterior pdf (what we are looking for). So, write a function that calculates the pdf at each step (remembering the previous one, maybe) and plots the resulting pdf (you can use some kde method to plot the pdf maybe). This is not so trivial at first glance, but it looks like a good challenge."
   ]
  },
  {
   "cell_type": "code",
   "execution_count": null,
   "metadata": {},
   "outputs": [],
   "source": []
  }
 ],
 "metadata": {
  "kernelspec": {
   "display_name": "Python 3",
   "language": "python",
   "name": "python3"
  },
  "language_info": {
   "codemirror_mode": {
    "name": "ipython",
    "version": 3
   },
   "file_extension": ".py",
   "mimetype": "text/x-python",
   "name": "python",
   "nbconvert_exporter": "python",
   "pygments_lexer": "ipython3",
   "version": "3.6.9"
  },
  "toc": {
   "base_numbering": 1,
   "nav_menu": {},
   "number_sections": true,
   "sideBar": true,
   "skip_h1_title": false,
   "title_cell": "Table of Contents",
   "title_sidebar": "Contents",
   "toc_cell": false,
   "toc_position": {
    "height": "calc(100% - 180px)",
    "left": "10px",
    "top": "150px",
    "width": "165px"
   },
   "toc_section_display": true,
   "toc_window_display": true
  }
 },
 "nbformat": 4,
 "nbformat_minor": 2
}
