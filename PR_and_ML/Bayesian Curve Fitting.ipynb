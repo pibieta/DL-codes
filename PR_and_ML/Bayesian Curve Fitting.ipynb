{
 "cells": [
  {
   "cell_type": "markdown",
   "metadata": {},
   "source": [
    "# Probability and Bayes\n",
    "We are most commonly used (and are exposed) to the so called **frequentist** interpretation of probability....\n",
    "\n",
    "Richard Cox derfived the *laws* of probability from the consideration of the quantitative rules necessary for logical consistent reasoning. His starting point was the association of a numerical value to the relative belief about the thuth of propositions such as: (a) the pandemic will end next year; (b) it will rain tomorrow ; (c) this is a fair coin; and so on. The minimum requirement for this numerical value that represents relative beliefs in the truth of propositions is that it needs to obey the *transitive* property. This is, if we believe (a) more than (b), and believe (b) more than (c), then we must necessarily believe (a) more than (c). This requirement is granted by using a real number for such degree of belief.\n",
    "\n",
    "Cox began by making two assertions. The first one is that if we specify the degree of belief in a proposition is true then we automatically specify our degree of disbelief in that proposition. The second assertion goes as follows, if we first specify how much we believe that proposition $Y$ is true, and then state how much we believe that X is true given that Y is true, then we have implicitly specified how much we believe that both X and Y are true. To work out the actual details of such relationships he appealed to the rules of Boolean logic and ordinary algebra. He found that this consistency could only be ensured if the real number which we are using to specify our degree of belief of several propositions obeyed the rules of probability:\n",
    "\n",
    "$$\\text{prob}(X|I)+ \\text{prob}(\\bar{X}|I) = 1,$$\n",
    "and \n",
    "$$\\text{prob}(X,Y|I) = \\text{prob}(X|Y,I) + \\text{prob}(Y|I),$$\n",
    "\n",
    "where we have made the probabilities conditional on $I$, to denote the relevant prior information we might have. The above identities are known as the **sum** and **product** rules of probability. Some other results can be derived from them, for instance, **Bayes' theorem**:\n",
    "\n",
    "$$\\text{prob}(X|Y,I) = \\dfrac{\\text{prob}(Y|X,I)\\text{prob}((X|I))}{\\text{prob}(Y|I)}$$\n",
    "\n",
    "is obtained by noting that the statement *both X and Y are true* is the same as *both Y and X are true* so that $\\text{prob}(Y, X |I) = \\text{prob}(X,Y|I)$, then it follows.\n",
    "\n",
    "We used Bayes' theorem in a previous notebook to try to estimate the bias in a coin. In other words, by trying to answer the question: *how fair is this coin?*. Notice that we can adopt a similar approach when trying to make inferences about quantities such as the parameters $\\vec{w}$ in the polynomial curve fitting example."
   ]
  },
  {
   "cell_type": "code",
   "execution_count": null,
   "metadata": {},
   "outputs": [],
   "source": []
  }
 ],
 "metadata": {
  "kernelspec": {
   "display_name": "Python 3",
   "language": "python",
   "name": "python3"
  },
  "language_info": {
   "codemirror_mode": {
    "name": "ipython",
    "version": 3
   },
   "file_extension": ".py",
   "mimetype": "text/x-python",
   "name": "python",
   "nbconvert_exporter": "python",
   "pygments_lexer": "ipython3",
   "version": "3.6.9"
  },
  "toc": {
   "base_numbering": 1,
   "nav_menu": {},
   "number_sections": true,
   "sideBar": true,
   "skip_h1_title": false,
   "title_cell": "Table of Contents",
   "title_sidebar": "Contents",
   "toc_cell": false,
   "toc_position": {
    "height": "calc(100% - 180px)",
    "left": "10px",
    "top": "150px",
    "width": "165px"
   },
   "toc_section_display": true,
   "toc_window_display": true
  }
 },
 "nbformat": 4,
 "nbformat_minor": 2
}
