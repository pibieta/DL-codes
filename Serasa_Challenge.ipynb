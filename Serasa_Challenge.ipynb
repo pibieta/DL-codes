{
  "nbformat": 4,
  "nbformat_minor": 0,
  "metadata": {
    "colab": {
      "name": "Serasa-Challenge.ipynb",
      "version": "0.3.2",
      "provenance": [],
      "collapsed_sections": [],
      "toc_visible": true,
      "include_colab_link": true
    },
    "kernelspec": {
      "name": "python3",
      "display_name": "Python 3"
    },
    "accelerator": "GPU"
  },
  "cells": [
    {
      "cell_type": "markdown",
      "metadata": {
        "id": "view-in-github",
        "colab_type": "text"
      },
      "source": [
        "<a href=\"https://colab.research.google.com/github/pibieta/ML-course/blob/master/Serasa_Challenge.ipynb\" target=\"_parent\"><img src=\"https://colab.research.google.com/assets/colab-badge.svg\" alt=\"Open In Colab\"/></a>"
      ]
    },
    {
      "cell_type": "markdown",
      "metadata": {
        "id": "KSn-GO80jE-V",
        "colab_type": "text"
      },
      "source": [
        "# NYC Taxi Fare \n",
        "---\n",
        "J. P. Ibieta-Jimenez\n"
      ]
    },
    {
      "cell_type": "code",
      "metadata": {
        "id": "O1h5jDm0le1h",
        "colab_type": "code",
        "colab": {}
      },
      "source": [
        "# imports\n",
        "import time\n",
        "import random\n",
        "import itertools\n",
        "import datetime as dt\n",
        "from math import cos, asin, sqrt\n",
        "\n",
        "# data handling and viz\n",
        "import numpy as np\n",
        "import pandas as pd\n",
        "import matplotlib.pyplot as plt\n",
        "import seaborn as sns\n",
        "sns.set()\n",
        "sns.set_style('white')\n"
      ],
      "execution_count": 0,
      "outputs": []
    },
    {
      "cell_type": "markdown",
      "metadata": {
        "id": "TMpOnqKUxKMR",
        "colab_type": "text"
      },
      "source": [
        "We will work on the Kaggle competition called *NYC Taxi Fare Prediction*, data can be found [here](https://www.kaggle.com/c/new-york-city-taxi-fare-prediction/data).  "
      ]
    },
    {
      "cell_type": "code",
      "metadata": {
        "id": "c79LbfHYxEht",
        "colab_type": "code",
        "outputId": "133229ee-4f3d-44cc-fe33-98632f71f422",
        "colab": {
          "base_uri": "https://localhost:8080/",
          "height": 215
        }
      },
      "source": [
        "# Get data\n",
        "!wget http://fma.if.usp.br/~pibieta/NY_taxi_data/all.zip"
      ],
      "execution_count": 3,
      "outputs": [
        {
          "output_type": "stream",
          "text": [
            "--2019-06-14 10:26:41--  http://fma.if.usp.br/~pibieta/NY_taxi_data/all.zip\n",
            "Resolving fma.if.usp.br (fma.if.usp.br)... 143.107.128.59, 2001:12d0:8020::59\n",
            "Connecting to fma.if.usp.br (fma.if.usp.br)|143.107.128.59|:80... connected.\n",
            "HTTP request sent, awaiting response... 200 OK\n",
            "Length: 1674618947 (1.6G) [application/zip]\n",
            "Saving to: ‘all.zip’\n",
            "\n",
            "all.zip             100%[===================>]   1.56G  5.54MB/s    in 5m 6s   \n",
            "\n",
            "2019-06-14 10:31:49 (5.22 MB/s) - ‘all.zip’ saved [1674618947/1674618947]\n",
            "\n"
          ],
          "name": "stdout"
        }
      ]
    },
    {
      "cell_type": "code",
      "metadata": {
        "id": "Xfv2dwdi1efM",
        "colab_type": "code",
        "outputId": "42b35157-6cef-40be-e0db-a8f54d7803c9",
        "colab": {
          "base_uri": "https://localhost:8080/",
          "height": 143
        }
      },
      "source": [
        "!unzip all.zip\n",
        "!ls"
      ],
      "execution_count": 4,
      "outputs": [
        {
          "output_type": "stream",
          "text": [
            "Archive:  all.zip\n",
            "  inflating: sample_submission.csv   \n",
            "  inflating: test.csv                \n",
            "  inflating: train.csv               \n",
            "  inflating: GCP-Coupons-Instructions.rtf  \n",
            "all.zip\t\t\t      sample_data\t     test.csv\n",
            "GCP-Coupons-Instructions.rtf  sample_submission.csv  train.csv\n"
          ],
          "name": "stdout"
        }
      ]
    },
    {
      "cell_type": "code",
      "metadata": {
        "id": "_4vbk8BuJ3Rd",
        "colab_type": "code",
        "colab": {}
      },
      "source": [
        "# load data as csv, let's see if Colab can handle this file\n",
        "# url = 'http://fma.if.usp.br/~pibieta/NY_taxi_data/'\n",
        "\n",
        "train = pd.read_csv('train.csv', nrows = 5000000, parse_dates=[2])\n",
        "test = pd.read_csv('test.csv', parse_dates=[1])\n"
      ],
      "execution_count": 0,
      "outputs": []
    },
    {
      "cell_type": "markdown",
      "metadata": {
        "id": "NthFcstb4blI",
        "colab_type": "text"
      },
      "source": [
        "# Exploratory Data Analysis and Cleansing\n",
        "---\n",
        "The complete `train` file contains around $55 \\times 10^6$ rows which difficults the handling. To that intent we can use **part** of the train dataset. However, we must be very careful as to be sure if the sample we choose is representative of the total distribution. The `key` column might give us a hint about the the way the dataset was constructed and in particular about the way the train/test split was generated. This can be useful specially when performing *competitive* analysis."
      ]
    },
    {
      "cell_type": "code",
      "metadata": {
        "id": "OkSpwHgJ4LmN",
        "colab_type": "code",
        "outputId": "5a979e5b-e59f-41fe-e485-4679658ec913",
        "colab": {
          "base_uri": "https://localhost:8080/",
          "height": 309
        }
      },
      "source": [
        "train.head()"
      ],
      "execution_count": 6,
      "outputs": [
        {
          "output_type": "execute_result",
          "data": {
            "text/html": [
              "<div>\n",
              "<style scoped>\n",
              "    .dataframe tbody tr th:only-of-type {\n",
              "        vertical-align: middle;\n",
              "    }\n",
              "\n",
              "    .dataframe tbody tr th {\n",
              "        vertical-align: top;\n",
              "    }\n",
              "\n",
              "    .dataframe thead th {\n",
              "        text-align: right;\n",
              "    }\n",
              "</style>\n",
              "<table border=\"1\" class=\"dataframe\">\n",
              "  <thead>\n",
              "    <tr style=\"text-align: right;\">\n",
              "      <th></th>\n",
              "      <th>key</th>\n",
              "      <th>fare_amount</th>\n",
              "      <th>pickup_datetime</th>\n",
              "      <th>pickup_longitude</th>\n",
              "      <th>pickup_latitude</th>\n",
              "      <th>dropoff_longitude</th>\n",
              "      <th>dropoff_latitude</th>\n",
              "      <th>passenger_count</th>\n",
              "    </tr>\n",
              "  </thead>\n",
              "  <tbody>\n",
              "    <tr>\n",
              "      <th>0</th>\n",
              "      <td>2009-06-15 17:26:21.0000001</td>\n",
              "      <td>4.5</td>\n",
              "      <td>2009-06-15 17:26:21+00:00</td>\n",
              "      <td>-73.844311</td>\n",
              "      <td>40.721319</td>\n",
              "      <td>-73.841610</td>\n",
              "      <td>40.712278</td>\n",
              "      <td>1</td>\n",
              "    </tr>\n",
              "    <tr>\n",
              "      <th>1</th>\n",
              "      <td>2010-01-05 16:52:16.0000002</td>\n",
              "      <td>16.9</td>\n",
              "      <td>2010-01-05 16:52:16+00:00</td>\n",
              "      <td>-74.016048</td>\n",
              "      <td>40.711303</td>\n",
              "      <td>-73.979268</td>\n",
              "      <td>40.782004</td>\n",
              "      <td>1</td>\n",
              "    </tr>\n",
              "    <tr>\n",
              "      <th>2</th>\n",
              "      <td>2011-08-18 00:35:00.00000049</td>\n",
              "      <td>5.7</td>\n",
              "      <td>2011-08-18 00:35:00+00:00</td>\n",
              "      <td>-73.982738</td>\n",
              "      <td>40.761270</td>\n",
              "      <td>-73.991242</td>\n",
              "      <td>40.750562</td>\n",
              "      <td>2</td>\n",
              "    </tr>\n",
              "    <tr>\n",
              "      <th>3</th>\n",
              "      <td>2012-04-21 04:30:42.0000001</td>\n",
              "      <td>7.7</td>\n",
              "      <td>2012-04-21 04:30:42+00:00</td>\n",
              "      <td>-73.987130</td>\n",
              "      <td>40.733143</td>\n",
              "      <td>-73.991567</td>\n",
              "      <td>40.758092</td>\n",
              "      <td>1</td>\n",
              "    </tr>\n",
              "    <tr>\n",
              "      <th>4</th>\n",
              "      <td>2010-03-09 07:51:00.000000135</td>\n",
              "      <td>5.3</td>\n",
              "      <td>2010-03-09 07:51:00+00:00</td>\n",
              "      <td>-73.968095</td>\n",
              "      <td>40.768008</td>\n",
              "      <td>-73.956655</td>\n",
              "      <td>40.783762</td>\n",
              "      <td>1</td>\n",
              "    </tr>\n",
              "  </tbody>\n",
              "</table>\n",
              "</div>"
            ],
            "text/plain": [
              "                             key  ...  passenger_count\n",
              "0    2009-06-15 17:26:21.0000001  ...                1\n",
              "1    2010-01-05 16:52:16.0000002  ...                1\n",
              "2   2011-08-18 00:35:00.00000049  ...                2\n",
              "3    2012-04-21 04:30:42.0000001  ...                1\n",
              "4  2010-03-09 07:51:00.000000135  ...                1\n",
              "\n",
              "[5 rows x 8 columns]"
            ]
          },
          "metadata": {
            "tags": []
          },
          "execution_count": 6
        }
      ]
    },
    {
      "cell_type": "markdown",
      "metadata": {
        "id": "erBDjAKgpS1t",
        "colab_type": "text"
      },
      "source": [
        "Now that we have loaded both the train and test datasets as pandas dataframes, we can start looking at data and perform some preliminar analysis.\n",
        "\n",
        "In particular, we are looking for:\n",
        "* Null or missing data such as `NaN` values\n",
        "* Outliers\n",
        "* Data Leakages\n"
      ]
    },
    {
      "cell_type": "code",
      "metadata": {
        "id": "ohhajv-B-hpq",
        "colab_type": "code",
        "outputId": "0b4d5804-5113-4f67-d066-07b7b6a348a6",
        "colab": {
          "base_uri": "https://localhost:8080/",
          "height": 297
        }
      },
      "source": [
        "train.describe()"
      ],
      "execution_count": 0,
      "outputs": [
        {
          "output_type": "execute_result",
          "data": {
            "text/html": [
              "<div>\n",
              "<style scoped>\n",
              "    .dataframe tbody tr th:only-of-type {\n",
              "        vertical-align: middle;\n",
              "    }\n",
              "\n",
              "    .dataframe tbody tr th {\n",
              "        vertical-align: top;\n",
              "    }\n",
              "\n",
              "    .dataframe thead th {\n",
              "        text-align: right;\n",
              "    }\n",
              "</style>\n",
              "<table border=\"1\" class=\"dataframe\">\n",
              "  <thead>\n",
              "    <tr style=\"text-align: right;\">\n",
              "      <th></th>\n",
              "      <th>fare_amount</th>\n",
              "      <th>pickup_longitude</th>\n",
              "      <th>pickup_latitude</th>\n",
              "      <th>dropoff_longitude</th>\n",
              "      <th>dropoff_latitude</th>\n",
              "      <th>passenger_count</th>\n",
              "    </tr>\n",
              "  </thead>\n",
              "  <tbody>\n",
              "    <tr>\n",
              "      <th>count</th>\n",
              "      <td>5.000000e+06</td>\n",
              "      <td>5.000000e+06</td>\n",
              "      <td>5.000000e+06</td>\n",
              "      <td>4.999964e+06</td>\n",
              "      <td>4.999964e+06</td>\n",
              "      <td>5.000000e+06</td>\n",
              "    </tr>\n",
              "    <tr>\n",
              "      <th>mean</th>\n",
              "      <td>1.134080e+01</td>\n",
              "      <td>-7.250678e+01</td>\n",
              "      <td>3.991974e+01</td>\n",
              "      <td>-7.250652e+01</td>\n",
              "      <td>3.991725e+01</td>\n",
              "      <td>1.684695e+00</td>\n",
              "    </tr>\n",
              "    <tr>\n",
              "      <th>std</th>\n",
              "      <td>9.820175e+00</td>\n",
              "      <td>1.280970e+01</td>\n",
              "      <td>8.963509e+00</td>\n",
              "      <td>1.284777e+01</td>\n",
              "      <td>9.486767e+00</td>\n",
              "      <td>1.331854e+00</td>\n",
              "    </tr>\n",
              "    <tr>\n",
              "      <th>min</th>\n",
              "      <td>-1.000000e+02</td>\n",
              "      <td>-3.426609e+03</td>\n",
              "      <td>-3.488080e+03</td>\n",
              "      <td>-3.412653e+03</td>\n",
              "      <td>-3.488080e+03</td>\n",
              "      <td>0.000000e+00</td>\n",
              "    </tr>\n",
              "    <tr>\n",
              "      <th>25%</th>\n",
              "      <td>6.000000e+00</td>\n",
              "      <td>-7.399206e+01</td>\n",
              "      <td>4.073491e+01</td>\n",
              "      <td>-7.399139e+01</td>\n",
              "      <td>4.073404e+01</td>\n",
              "      <td>1.000000e+00</td>\n",
              "    </tr>\n",
              "    <tr>\n",
              "      <th>50%</th>\n",
              "      <td>8.500000e+00</td>\n",
              "      <td>-7.398181e+01</td>\n",
              "      <td>4.075263e+01</td>\n",
              "      <td>-7.398016e+01</td>\n",
              "      <td>4.075315e+01</td>\n",
              "      <td>1.000000e+00</td>\n",
              "    </tr>\n",
              "    <tr>\n",
              "      <th>75%</th>\n",
              "      <td>1.250000e+01</td>\n",
              "      <td>-7.396711e+01</td>\n",
              "      <td>4.076712e+01</td>\n",
              "      <td>-7.396367e+01</td>\n",
              "      <td>4.076811e+01</td>\n",
              "      <td>2.000000e+00</td>\n",
              "    </tr>\n",
              "    <tr>\n",
              "      <th>max</th>\n",
              "      <td>1.273310e+03</td>\n",
              "      <td>3.439426e+03</td>\n",
              "      <td>3.310364e+03</td>\n",
              "      <td>3.457622e+03</td>\n",
              "      <td>3.345917e+03</td>\n",
              "      <td>2.080000e+02</td>\n",
              "    </tr>\n",
              "  </tbody>\n",
              "</table>\n",
              "</div>"
            ],
            "text/plain": [
              "        fare_amount  pickup_longitude  ...  dropoff_latitude  passenger_count\n",
              "count  5.000000e+06      5.000000e+06  ...      4.999964e+06     5.000000e+06\n",
              "mean   1.134080e+01     -7.250678e+01  ...      3.991725e+01     1.684695e+00\n",
              "std    9.820175e+00      1.280970e+01  ...      9.486767e+00     1.331854e+00\n",
              "min   -1.000000e+02     -3.426609e+03  ...     -3.488080e+03     0.000000e+00\n",
              "25%    6.000000e+00     -7.399206e+01  ...      4.073404e+01     1.000000e+00\n",
              "50%    8.500000e+00     -7.398181e+01  ...      4.075315e+01     1.000000e+00\n",
              "75%    1.250000e+01     -7.396711e+01  ...      4.076811e+01     2.000000e+00\n",
              "max    1.273310e+03      3.439426e+03  ...      3.345917e+03     2.080000e+02\n",
              "\n",
              "[8 rows x 6 columns]"
            ]
          },
          "metadata": {
            "tags": []
          },
          "execution_count": 9
        }
      ]
    },
    {
      "cell_type": "markdown",
      "metadata": {
        "id": "YcN7oNOm_cAp",
        "colab_type": "text"
      },
      "source": [
        "Above we can already see that:\n",
        "* the column `fare_amount` has negative values which is weird. This might have to do with errors during Data collection, since we do not have information about the way data was collected, the best may be to eliminate these data points. \n",
        "\n",
        "* Also, the `passenger_count` has some weird values, see the max value: $208$. No way a cab can fit 208 people. So we also drop rows with such values.\n",
        "\n",
        "* Latitude and longitude coordinates for pickup and dropoff seem to have weird values. Visualization will help with this, as we shall see."
      ]
    },
    {
      "cell_type": "code",
      "metadata": {
        "id": "kYSyHIU6-nmy",
        "colab_type": "code",
        "outputId": "0054a5fe-7761-4e22-a9e1-196611aa77e7",
        "colab": {
          "base_uri": "https://localhost:8080/",
          "height": 251
        }
      },
      "source": [
        "train.info(memory_usage='deep')"
      ],
      "execution_count": 0,
      "outputs": [
        {
          "output_type": "stream",
          "text": [
            "<class 'pandas.core.frame.DataFrame'>\n",
            "RangeIndex: 5000000 entries, 0 to 4999999\n",
            "Data columns (total 8 columns):\n",
            "key                  object\n",
            "fare_amount          float64\n",
            "pickup_datetime      datetime64[ns, UTC]\n",
            "pickup_longitude     float64\n",
            "pickup_latitude      float64\n",
            "dropoff_longitude    float64\n",
            "dropoff_latitude     float64\n",
            "passenger_count      int64\n",
            "dtypes: datetime64[ns, UTC](1), float64(5), int64(1), object(1)\n",
            "memory usage: 670.8 MB\n"
          ],
          "name": "stdout"
        }
      ]
    },
    {
      "cell_type": "markdown",
      "metadata": {
        "id": "5MzioMCQ0q0D",
        "colab_type": "text"
      },
      "source": [
        "The train file contains data about taxi drives. In particular, it contains an index:\n",
        "* **key -** Unique string identifying each row in both the training and test sets. Comprised of pickup_datetime plus a unique integer. Not necessarily needed in the training set, but could be useful to simulate a 'submission file' while doing cross-validation within the training set.\n",
        "\n",
        "Features: \n",
        "* **pickup_datetime -** timestamp value indicating when the taxi ride started.\n",
        "* **pickup_longitude -** `float` for longitude coordinate of where the taxi ride started.\n",
        "* **pickup_latitude -** `float` for latitude coordinate of where the taxi ride started.\n",
        "* **dropoff_longitude -** `float` for longitude coordinate of where the taxi ride ended.\n",
        "* **dropoff_latitude -** `float` for latitude coordinate of where the taxi ride ended.\n",
        "* **passenger_count -** `int` indicating the number of passengers in the taxi ride.\n",
        "\n",
        "And a target value:\n",
        "* **fare_amount -** `float` dollar amount of the cost of the taxi ride. \n"
      ]
    },
    {
      "cell_type": "markdown",
      "metadata": {
        "id": "g0UJLMwYIl_l",
        "colab_type": "text"
      },
      "source": [
        "## Time Lapse\n",
        "Check the time lapse for both the train and test sets. "
      ]
    },
    {
      "cell_type": "code",
      "metadata": {
        "id": "-X57Rxefrztw",
        "colab_type": "code",
        "outputId": "4b7802e7-a8de-4ead-8e90-0e9c6c1e6245",
        "colab": {
          "base_uri": "https://localhost:8080/",
          "height": 125
        }
      },
      "source": [
        "print('Train time lapse:')\n",
        "print('\\tstart: {}\\n\\tstop: {}'.format(train.pickup_datetime.min(),train.pickup_datetime.max()))\n",
        "print('Test time lapse:')\n",
        "print('\\tstart: {}\\n\\tstop: {}'.format(test.pickup_datetime.min(),test.pickup_datetime.max()))"
      ],
      "execution_count": 0,
      "outputs": [
        {
          "output_type": "stream",
          "text": [
            "Train time lapse:\n",
            "\tstart: 2009-01-01 00:00:46+00:00\n",
            "\tstop: 2015-06-30 23:59:03+00:00\n",
            "Test time lapse:\n",
            "\tstart: 2009-01-01 11:04:24+00:00\n",
            "\tstop: 2015-06-30 20:03:50+00:00\n"
          ],
          "name": "stdout"
        }
      ]
    },
    {
      "cell_type": "markdown",
      "metadata": {
        "id": "EeNtMl0wDMJN",
        "colab_type": "text"
      },
      "source": [
        "Let us compare the time distribution of taxi rides in the train set with those in test set"
      ]
    },
    {
      "cell_type": "code",
      "metadata": {
        "id": "PDcE-WgsJXkT",
        "colab_type": "code",
        "outputId": "930ab69a-f3fe-42f6-dbe3-9ec56e44bfc0",
        "colab": {
          "base_uri": "https://localhost:8080/",
          "height": 630
        }
      },
      "source": [
        "fig, ax = plt.subplots(4,2, figsize=(10,10), sharey= 'col')\n",
        "ax[0,0].hist(train.pickup_datetime.dt.year)\n",
        "ax[0,0].set_title('TRAIN', fontweight='bold', fontsize='16')\n",
        "ax[0,0].set_xlabel('Year', fontweight='bold', fontsize='13')\n",
        "\n",
        "ax[0,1].hist(test.pickup_datetime.dt.year)\n",
        "ax[0,1].set_title('TEST', fontweight='bold', fontsize='16')\n",
        "ax[0,1].set_xlabel('Year', fontweight='bold', fontsize='13')\n",
        "\n",
        "ax[1,0].hist(train.pickup_datetime.dt.month)\n",
        "ax[1,0].set_xlabel('Month', fontweight='bold', fontsize='13')\n",
        "\n",
        "\n",
        "ax[1,1].hist(test.pickup_datetime.dt.month)\n",
        "ax[2,0].hist(train.pickup_datetime.dt.week)\n",
        "ax[2,1].hist(test.pickup_datetime.dt.week)\n",
        "ax[3,0].hist(train.pickup_datetime.dt.dayofweek)\n",
        "ax[3,1].hist(test.pickup_datetime.dt.dayofweek)\n",
        "fig.legends"
      ],
      "execution_count": 143,
      "outputs": [
        {
          "output_type": "execute_result",
          "data": {
            "text/plain": [
              "[]"
            ]
          },
          "metadata": {
            "tags": []
          },
          "execution_count": 143
        },
        {
          "output_type": "display_data",
          "data": {
            "image/png": "[encoded data removed]",
            "text/plain": [
              "<Figure size 720x720 with 8 Axes>"
            ]
          },
          "metadata": {
            "tags": []
          }
        }
      ]
    },
    {
      "cell_type": "markdown",
      "metadata": {
        "id": "WawI2EmR63Sm",
        "colab_type": "text"
      },
      "source": [
        "look for NaN values"
      ]
    },
    {
      "cell_type": "code",
      "metadata": {
        "id": "qGhrSK-4J5O1",
        "colab_type": "code",
        "outputId": "4e809d92-2507-4653-b828-f5d1f1f7848d",
        "colab": {
          "base_uri": "https://localhost:8080/",
          "height": 179
        }
      },
      "source": [
        "train.isna().sum()"
      ],
      "execution_count": 0,
      "outputs": [
        {
          "output_type": "execute_result",
          "data": {
            "text/plain": [
              "key                   0\n",
              "fare_amount           0\n",
              "pickup_datetime       0\n",
              "pickup_longitude      0\n",
              "pickup_latitude       0\n",
              "dropoff_longitude    36\n",
              "dropoff_latitude     36\n",
              "passenger_count       0\n",
              "dtype: int64"
            ]
          },
          "metadata": {
            "tags": []
          },
          "execution_count": 13
        }
      ]
    },
    {
      "cell_type": "code",
      "metadata": {
        "id": "o_13whlm8O-B",
        "colab_type": "code",
        "outputId": "9635f787-c5ed-438c-ff26-09937a9dfb49",
        "colab": {
          "base_uri": "https://localhost:8080/",
          "height": 161
        }
      },
      "source": [
        "test.isnull().sum()"
      ],
      "execution_count": 0,
      "outputs": [
        {
          "output_type": "execute_result",
          "data": {
            "text/plain": [
              "key                  0\n",
              "pickup_datetime      0\n",
              "pickup_longitude     0\n",
              "pickup_latitude      0\n",
              "dropoff_longitude    0\n",
              "dropoff_latitude     0\n",
              "passenger_count      0\n",
              "dtype: int64"
            ]
          },
          "metadata": {
            "tags": []
          },
          "execution_count": 14
        }
      ]
    },
    {
      "cell_type": "markdown",
      "metadata": {
        "id": "aUZcZIcm_i0o",
        "colab_type": "text"
      },
      "source": [
        "since missing data has to do with geographic data (and they are so few) we can just drop them"
      ]
    },
    {
      "cell_type": "code",
      "metadata": {
        "id": "2BqaLqMp9BRu",
        "colab_type": "code",
        "outputId": "63602a24-1c5d-4e34-c3e0-d3a536c7dc66",
        "colab": {
          "base_uri": "https://localhost:8080/",
          "height": 53
        }
      },
      "source": [
        "print('Old size: %d' % len(train))\n",
        "train = train.dropna()\n",
        "print('New size: %d' % len(train))"
      ],
      "execution_count": 81,
      "outputs": [
        {
          "output_type": "stream",
          "text": [
            "Old size: 5000000\n",
            "New size: 4999964\n"
          ],
          "name": "stdout"
        }
      ]
    },
    {
      "cell_type": "markdown",
      "metadata": {
        "id": "mmoGTSM3Sw3J",
        "colab_type": "text"
      },
      "source": [
        "## Fare_amount\n",
        "Note that there are some negative values for fare amount. We will pretty much drop them, as well as very absurd positive values, which we set to be any fare >100.\n",
        "\n"
      ]
    },
    {
      "cell_type": "code",
      "metadata": {
        "id": "qaloSiIlSb67",
        "colab_type": "code",
        "outputId": "3889143c-bdc4-46ef-ac1c-9838701b9a15",
        "colab": {
          "base_uri": "https://localhost:8080/",
          "height": 71
        }
      },
      "source": [
        "print('fare min: {} USD\\nfare max: {} USD\\nfare median: {} USD'.format(train.fare_amount.min(), train.fare_amount.max(), train.fare_amount.median()))"
      ],
      "execution_count": 0,
      "outputs": [
        {
          "output_type": "stream",
          "text": [
            "fare min: -100.0 USD\n",
            "fare max: 1273.31 USD\n",
            "fare median: 8.5 USD\n"
          ],
          "name": "stdout"
        }
      ]
    },
    {
      "cell_type": "code",
      "metadata": {
        "id": "YmnDlBUERYKp",
        "colab_type": "code",
        "outputId": "ed65fc4c-3036-42d3-ed8b-0d87594817cc",
        "colab": {
          "base_uri": "https://localhost:8080/",
          "height": 246
        }
      },
      "source": [
        "# plot histogram of fare\n",
        "# train[(train.fare_amount<100)].fare_amount.hist(bins=100, figsize=(14,3))\n",
        "train[(train.fare_amount<100) & (train.fare_amount> 2.5)].fare_amount.hist(bins=100, figsize=(14,3))\n",
        "plt.xlabel('Fare $USD')\n",
        "plt.title('Fare Histogram');"
      ],
      "execution_count": 0,
      "outputs": [
        {
          "output_type": "display_data",
          "data": {
            "image/png": "[encoded data removed]",
            "text/plain": [
              "<Figure size 1008x216 with 1 Axes>"
            ]
          },
          "metadata": {
            "tags": []
          }
        }
      ]
    },
    {
      "cell_type": "markdown",
      "metadata": {
        "id": "iWpJuXqrLRzm",
        "colab_type": "text"
      },
      "source": [
        "## Geographical data\n",
        "Let us look at data concerning the positions of pickup and dropoff. We are looking for any weird values such as NaNs, or locations that do not correspond to the NY area.\n",
        "\n",
        "We can also take a look at the histogram of pickups and dropoff locations. This will give us an idea on how to filter data for the modeling part.\n",
        "\n",
        "By trying to plot a simple histogram of the `pickup_latitude` column we see that most of the values are concentred in a small region. More precisely, there are latitude values way off the ones for NY. \n",
        "To see this more carefully we plot several histograms (already focusing in the region of interest) that compare the train and test datasets. \n",
        "\n"
      ]
    },
    {
      "cell_type": "code",
      "metadata": {
        "colab_type": "code",
        "outputId": "a53bb17a-a857-44ac-b224-94b58a741fc9",
        "id": "YNrPZsz3oqJy",
        "colab": {
          "base_uri": "https://localhost:8080/",
          "height": 292
        }
      },
      "source": [
        "train.pickup_latitude.hist(bins=100)"
      ],
      "execution_count": 0,
      "outputs": [
        {
          "output_type": "execute_result",
          "data": {
            "text/plain": [
              "<matplotlib.axes._subplots.AxesSubplot at 0x7f32ca30fba8>"
            ]
          },
          "metadata": {
            "tags": []
          },
          "execution_count": 20
        },
        {
          "output_type": "display_data",
          "data": {
            "image/png": "[encoded data removed]",
            "text/plain": [
              "<Figure size 432x288 with 1 Axes>"
            ]
          },
          "metadata": {
            "tags": []
          }
        }
      ]
    },
    {
      "cell_type": "code",
      "metadata": {
        "id": "fTNbueFtWI6y",
        "colab_type": "code",
        "outputId": "cedffb86-f9d0-46c1-b0c9-9330f4f5c8b5",
        "colab": {
          "base_uri": "https://localhost:8080/",
          "height": 578
        }
      },
      "source": [
        "fig, ax = plt.subplots(2,2, figsize=(16,8))\n",
        "# fig.tight_layout() \n",
        "fig.suptitle('Pickup Location Histograms', fontweight = 'bold', fontsize='20')\n",
        "ax[0,0].hist(train.pickup_latitude[(train.pickup_latitude> 40.6) & (train.pickup_latitude< 40.9)], bins =100)\n",
        "ax[0,0].set_title('TRAIN', fontweight='bold', fontsize='15')\n",
        "ax[0,0].set_xlabel('pickup latitude [°]', fontweight='bold', fontsize='13')\n",
        "ax[0,0].set_ylabel('count', fontweight='bold', fontsize='13')\n",
        "\n",
        "ax[0,1].hist(test.pickup_latitude[(test.pickup_latitude> 40.6) & (test.pickup_latitude< 40.9)], bins =100)\n",
        "ax[0,1].set_xlabel('pickup latitude [°]', fontweight='bold', fontsize='13')\n",
        "ax[0,1].set_title('TEST', fontweight='bold', fontsize='15')\n",
        "\n",
        "ax[1,0].hist(train.pickup_longitude[(train.pickup_longitude> -74.1) & (train.pickup_longitude<-73.6)], bins =100)\n",
        "ax[1,0].set_xlabel('pickup longitude [°]', fontweight='bold', fontsize='13')\n",
        "# ax[1,0].set_ylabel('count', fontweight='bold', fontsize='13')\n",
        "\n",
        "# ax[0,1].set_ylabel('count', fontweight='bold', fontsize='13')\n",
        "ax[1,1].hist(test.pickup_longitude[(test.pickup_longitude> -74.1) & (test.pickup_longitude<-73.6)], bins =100)\n",
        "ax[1,1].set_xlabel('pickup longitude [°]', fontweight='bold', fontsize='13')\n",
        "# ax[1,1].set_ylabel('count', fontweight='bold', fontsize='13')\n",
        "fig.legends"
      ],
      "execution_count": 0,
      "outputs": [
        {
          "output_type": "execute_result",
          "data": {
            "text/plain": [
              "[]"
            ]
          },
          "metadata": {
            "tags": []
          },
          "execution_count": 21
        },
        {
          "output_type": "display_data",
          "data": {
            "image/png": "[encoded data removed]",
            "text/plain": [
              "<Figure size 1152x576 with 4 Axes>"
            ]
          },
          "metadata": {
            "tags": []
          }
        }
      ]
    },
    {
      "cell_type": "markdown",
      "metadata": {
        "id": "DOjY0s9qqn34",
        "colab_type": "text"
      },
      "source": [
        "Both distributions seem very similar. This strongly suggests that the dataset was randomly shuffled before performing the train/test split. By having a shuffled train set, we can sample the dataset without losing too much information about the whole population statistics. This is, we can use less data and hope to have a good representative of the entire dataset. This is important since the entire dataset is difficult to handle, as a consequence to perform Feat. Engineering would be very costly."
      ]
    },
    {
      "cell_type": "code",
      "metadata": {
        "id": "RSpOmSs6jnRc",
        "colab_type": "code",
        "outputId": "fd84249f-03ed-4150-dabf-901563f72894",
        "colab": {
          "base_uri": "https://localhost:8080/",
          "height": 578
        }
      },
      "source": [
        "fig, ax = plt.subplots(2,2, figsize=(16,8))\n",
        "# fig.tight_layout() \n",
        "fig.suptitle('Dropoff Location Histograms', fontweight = 'bold', fontsize='20')\n",
        "ax[0,0].hist(train.dropoff_latitude[(train.dropoff_latitude> 40.6) & (train.dropoff_latitude< 40.9)], bins =100)\n",
        "ax[0,0].set_title('TRAIN', fontweight='bold', fontsize='15')\n",
        "ax[0,0].set_xlabel('latitude [°]', fontweight='bold', fontsize='13')\n",
        "ax[0,0].set_ylabel('count', fontweight='bold', fontsize='13')\n",
        "\n",
        "ax[0,1].hist(test.dropoff_latitude[(test.dropoff_latitude> 40.6) & (test.dropoff_latitude< 40.9)], bins =100)\n",
        "ax[0,1].set_xlabel('latitude [°]', fontweight='bold', fontsize='13')\n",
        "ax[0,1].set_title('TEST', fontweight='bold', fontsize='15')\n",
        "\n",
        "ax[1,0].hist(train.dropoff_longitude[(train.dropoff_longitude> -74.1) & (train.dropoff_longitude<-73.6)], bins =100)\n",
        "ax[1,0].set_xlabel('longitude [°]', fontweight='bold', fontsize='13')\n",
        "# ax[1,0].set_ylabel('count', fontweight='bold', fontsize='13')\n",
        "\n",
        "# ax[0,1].set_ylabel('count', fontweight='bold', fontsize='13')\n",
        "ax[1,1].hist(test.dropoff_longitude[(test.dropoff_longitude> -74.1) & (test.dropoff_longitude<-73.6)], bins =100)\n",
        "ax[1,1].set_xlabel('longitude [°]', fontweight='bold', fontsize='13')\n",
        "# ax[1,1].set_ylabel('count', fontweight='bold', fontsize='13')\n",
        "fig.legends"
      ],
      "execution_count": 0,
      "outputs": [
        {
          "output_type": "execute_result",
          "data": {
            "text/plain": [
              "[]"
            ]
          },
          "metadata": {
            "tags": []
          },
          "execution_count": 22
        },
        {
          "output_type": "display_data",
          "data": {
            "image/png": "[encoded data removed]",
            "text/plain": [
              "<Figure size 1152x576 with 4 Axes>"
            ]
          },
          "metadata": {
            "tags": []
          }
        }
      ]
    },
    {
      "cell_type": "markdown",
      "metadata": {
        "id": "P0rPDkACogI6",
        "colab_type": "text"
      },
      "source": [
        "Finally, to handle the values that do not correspond to the NY area, we will use the min and max values in the test set, in that way we do not throw everything off. This could be considered a data leakage."
      ]
    },
    {
      "cell_type": "code",
      "metadata": {
        "id": "ggxt5Ilpof5H",
        "colab_type": "code",
        "outputId": "3a62cf78-c7a0-4215-fe64-c0c6de1a398f",
        "colab": {
          "base_uri": "https://localhost:8080/",
          "height": 35
        }
      },
      "source": [
        "# minimum and maximum longitude test set\n",
        "long_bb = min(test.pickup_longitude.min(), test.dropoff_longitude.min()),max(test.pickup_longitude.max(), test.dropoff_longitude.max())\n",
        "# minimum and maximum latitude test\n",
        "lat_bb = min(test.pickup_latitude.min(), test.dropoff_latitude.min()), max(test.pickup_latitude.max(), test.dropoff_latitude.max())\n",
        "BB = long_bb + lat_bb\n",
        "BB"
      ],
      "execution_count": 82,
      "outputs": [
        {
          "output_type": "execute_result",
          "data": {
            "text/plain": [
              "(-74.263242, -72.986532, 40.568973, 41.709555)"
            ]
          },
          "metadata": {
            "tags": []
          },
          "execution_count": 82
        }
      ]
    },
    {
      "cell_type": "markdown",
      "metadata": {
        "id": "BI7NL5Tc4gq8",
        "colab_type": "text"
      },
      "source": [
        "We will use the above Bounding Box to select relevant data only."
      ]
    },
    {
      "cell_type": "markdown",
      "metadata": {
        "id": "84aCbpg59IEP",
        "colab_type": "text"
      },
      "source": [
        "## Passenger_count\n",
        "Let us look at the feature that counts the number of passengers at each ride. The max value is non-sense. Also, rides with 0 passengers should not be considered."
      ]
    },
    {
      "cell_type": "code",
      "metadata": {
        "id": "C5iRmU0t-Cpg",
        "colab_type": "code",
        "outputId": "42dc01ac-66cd-45df-a261-9fac9c792655",
        "colab": {
          "base_uri": "https://localhost:8080/",
          "height": 71
        }
      },
      "source": [
        "print('passenger min: {}\\npassenger max: {}\\npassenger median: {}'.format(train.passenger_count.min(), train.passenger_count.max(), train.passenger_count.median()))"
      ],
      "execution_count": 0,
      "outputs": [
        {
          "output_type": "stream",
          "text": [
            "passenger min: 0\n",
            "passenger max: 208\n",
            "passenger median: 1.0\n"
          ],
          "name": "stdout"
        }
      ]
    },
    {
      "cell_type": "code",
      "metadata": {
        "id": "8y_mWwLh9dmn",
        "colab_type": "code",
        "outputId": "610666e2-9e07-49ac-c1d1-5fd1c7111984",
        "colab": {
          "base_uri": "https://localhost:8080/",
          "height": 292
        }
      },
      "source": [
        "train[train.passenger_count <= 7].passenger_count.hist(bins =7)"
      ],
      "execution_count": 0,
      "outputs": [
        {
          "output_type": "execute_result",
          "data": {
            "text/plain": [
              "<matplotlib.axes._subplots.AxesSubplot at 0x7f32b9e419e8>"
            ]
          },
          "metadata": {
            "tags": []
          },
          "execution_count": 71
        },
        {
          "output_type": "display_data",
          "data": {
            "image/png": "[encoded data removed]",
            "text/plain": [
              "<Figure size 432x288 with 1 Axes>"
            ]
          },
          "metadata": {
            "tags": []
          }
        }
      ]
    },
    {
      "cell_type": "markdown",
      "metadata": {
        "id": "-HLKhCnP-A5g",
        "colab_type": "text"
      },
      "source": [
        "## The cut\n",
        "Considering all the above insights on data, we perform a **cut** in the train file, as follows:"
      ]
    },
    {
      "cell_type": "code",
      "metadata": {
        "id": "wRYw4b1s3jtW",
        "colab_type": "code",
        "outputId": "7ded91bd-178c-41cb-bff2-cead735e4b6a",
        "colab": {
          "base_uri": "https://localhost:8080/",
          "height": 35
        }
      },
      "source": [
        "train_cut = train[((train.pickup_longitude >= BB[0]) & (train.pickup_longitude <= BB[1])) \n",
        "         & ((train.pickup_latitude >= BB[2]) & (train.pickup_latitude <= BB[3])) \n",
        "         & ((train.dropoff_longitude >= BB[0]) & (train.dropoff_longitude <= BB[1])) \n",
        "         & ((train.dropoff_latitude >= BB[2]) & (train.dropoff_latitude <= BB[3])) \n",
        "         & (train.fare_amount > 2.5) & (train.passenger_count > 0) & (train.passenger_count < 7)] #& (train.distance > 0.2)]\n",
        "print('Proportion of Data lost: {0:.3f}%'.format( (train.shape[0] - train_cut.shape[0])/ train.shape[0] * 100))"
      ],
      "execution_count": 83,
      "outputs": [
        {
          "output_type": "stream",
          "text": [
            "Proportion of Data lost: 2.849%\n"
          ],
          "name": "stdout"
        }
      ]
    },
    {
      "cell_type": "markdown",
      "metadata": {
        "id": "esq9YBLN_P2h",
        "colab_type": "text"
      },
      "source": [
        "# Feature Engineering\n",
        "---\n",
        "In this section we intend to expand our dataset by adding aritificial features. This can be done in many ways (for this particular dataset), and ultimately dependes on the creativity and prior knowledge of the DS. In this case, we will not perform a very sophisticated process, but rather something simple that cann enrich our dataset. \n",
        "\n",
        "As an starting point we consider:\n",
        "*  *manhattan* (L1-norm) distance between pickup and dropoff\n",
        "* pickup hour (bucketized)\n",
        "* weekday --> one hot encoded\n",
        "\n",
        "For later:\n",
        "* direction of the trip (E-W and N-S)\n",
        "* grid position on the map (you could use a 10x10 grid)\n",
        "* Holidays\n",
        "* From airport / To airport (for fixed fare trips)"
      ]
    },
    {
      "cell_type": "code",
      "metadata": {
        "id": "wBubMrb3B0Bp",
        "colab_type": "code",
        "colab": {}
      },
      "source": [
        "#calculating the distance between the two points (pickup and dropoff) in km\n",
        "def distance(lat1, lon1, lat2, lon2, norm = 1):\n",
        "  '''\n",
        "    Calculates the distance between two points: (lat1,lon1) and (lat2,lon2)\n",
        "    norm: 1 --> 'Manhattan'\n",
        "          2 --> 'geodesic'\n",
        "  '''\n",
        "  if norm == 1:\n",
        "    distance = np.abs(lat2 - lat1) + np.abs(lon2 - lon1)\n",
        "  elif norm == 2:\n",
        "    p = 0.017453292519943295     #Pi/180\n",
        "    a = 0.5 - cos((lat2 - lat1) * p)/2 + cos(lat1 * p) * cos(lat2 * p) * (1 - cos((lon2 - lon1) * p)) / 2\n",
        "    distance = 12742 * asin(sqrt(a)) #2*R*asin\n",
        "  return distance \n",
        "\n",
        "  "
      ],
      "execution_count": 0,
      "outputs": []
    },
    {
      "cell_type": "code",
      "metadata": {
        "id": "KCsxsZGID1-v",
        "colab_type": "code",
        "colab": {}
      },
      "source": [
        "def add_feats(df, norm = 1):\n",
        "  '''\n",
        "  Input:  pandas dataframe\n",
        "  Output: dataframe with added features\n",
        "  '''\n",
        "  df['distance'] = df.apply(lambda row: distance(row.pickup_latitude, row.pickup_longitude, row.dropoff_latitude, row.dropoff_longitude, norm ), axis =1)\n",
        "  df['hour'] = df.pickup_datetime.dt.hour\n",
        "#   df['day'] = df.pickup_datetime.dt.day\n",
        "#   df['month'] = df.pickup_datetime.dt.month\n",
        "#   df['weekday'] = df.pickup_datetime.dt.weekday\n",
        "  weekday =pd.get_dummies(train.pickup_datetime.dt.weekday)\n",
        "  weekday.columns = ['mon', 'tue', 'wed', 'thu', 'fri', 'sat', 'sun']\n",
        "  df = pd.concat([df,weekday], axis = 1)\n",
        "  return df"
      ],
      "execution_count": 0,
      "outputs": []
    },
    {
      "cell_type": "code",
      "metadata": {
        "id": "ELuXDjozCTj5",
        "colab_type": "code",
        "outputId": "901663e1-5598-488b-b262-1a0f1e557a57",
        "colab": {
          "base_uri": "https://localhost:8080/",
          "height": 35
        }
      },
      "source": [
        "# it takes around 11 min for 5M rows\n",
        "start_time = time.time()\n",
        "train_cut = add_feats(train, 2)\n",
        "print(\"--- %s seconds ---\" % (time.time() - start_time))"
      ],
      "execution_count": 100,
      "outputs": [
        {
          "output_type": "stream",
          "text": [
            "--- 1064.8128077983856 seconds ---\n"
          ],
          "name": "stdout"
        }
      ]
    },
    {
      "cell_type": "markdown",
      "metadata": {
        "id": "uCfceCQCJLON",
        "colab_type": "text"
      },
      "source": [
        "Save this dataframe as a pickle file so we can load it later, and save computation time."
      ]
    },
    {
      "cell_type": "code",
      "metadata": {
        "id": "eEHSJmT0FGzs",
        "colab_type": "code",
        "colab": {}
      },
      "source": [
        "train_cut.to_pickle('./train_cut_L2.pkl')"
      ],
      "execution_count": 0,
      "outputs": []
    },
    {
      "cell_type": "code",
      "metadata": {
        "id": "RL7kBVwgJ3id",
        "colab_type": "code",
        "outputId": "5803d52b-4c58-4844-e0b2-a34ebb1a4c89",
        "colab": {
          "base_uri": "https://localhost:8080/",
          "height": 309
        }
      },
      "source": [
        "train_cut.head()"
      ],
      "execution_count": 91,
      "outputs": [
        {
          "output_type": "execute_result",
          "data": {
            "text/html": [
              "<div>\n",
              "<style scoped>\n",
              "    .dataframe tbody tr th:only-of-type {\n",
              "        vertical-align: middle;\n",
              "    }\n",
              "\n",
              "    .dataframe tbody tr th {\n",
              "        vertical-align: top;\n",
              "    }\n",
              "\n",
              "    .dataframe thead th {\n",
              "        text-align: right;\n",
              "    }\n",
              "</style>\n",
              "<table border=\"1\" class=\"dataframe\">\n",
              "  <thead>\n",
              "    <tr style=\"text-align: right;\">\n",
              "      <th></th>\n",
              "      <th>key</th>\n",
              "      <th>fare_amount</th>\n",
              "      <th>pickup_datetime</th>\n",
              "      <th>pickup_longitude</th>\n",
              "      <th>pickup_latitude</th>\n",
              "      <th>dropoff_longitude</th>\n",
              "      <th>dropoff_latitude</th>\n",
              "      <th>passenger_count</th>\n",
              "      <th>distance</th>\n",
              "      <th>hour</th>\n",
              "      <th>mon</th>\n",
              "      <th>tue</th>\n",
              "      <th>wed</th>\n",
              "      <th>thu</th>\n",
              "      <th>fri</th>\n",
              "      <th>sat</th>\n",
              "      <th>sun</th>\n",
              "    </tr>\n",
              "  </thead>\n",
              "  <tbody>\n",
              "    <tr>\n",
              "      <th>0</th>\n",
              "      <td>2009-06-15 17:26:21.0000001</td>\n",
              "      <td>4.5</td>\n",
              "      <td>2009-06-15 17:26:21+00:00</td>\n",
              "      <td>-73.844311</td>\n",
              "      <td>40.721319</td>\n",
              "      <td>-73.841610</td>\n",
              "      <td>40.712278</td>\n",
              "      <td>1</td>\n",
              "      <td>0.011742</td>\n",
              "      <td>17</td>\n",
              "      <td>1</td>\n",
              "      <td>0</td>\n",
              "      <td>0</td>\n",
              "      <td>0</td>\n",
              "      <td>0</td>\n",
              "      <td>0</td>\n",
              "      <td>0</td>\n",
              "    </tr>\n",
              "    <tr>\n",
              "      <th>1</th>\n",
              "      <td>2010-01-05 16:52:16.0000002</td>\n",
              "      <td>16.9</td>\n",
              "      <td>2010-01-05 16:52:16+00:00</td>\n",
              "      <td>-74.016048</td>\n",
              "      <td>40.711303</td>\n",
              "      <td>-73.979268</td>\n",
              "      <td>40.782004</td>\n",
              "      <td>1</td>\n",
              "      <td>0.107481</td>\n",
              "      <td>16</td>\n",
              "      <td>0</td>\n",
              "      <td>1</td>\n",
              "      <td>0</td>\n",
              "      <td>0</td>\n",
              "      <td>0</td>\n",
              "      <td>0</td>\n",
              "      <td>0</td>\n",
              "    </tr>\n",
              "    <tr>\n",
              "      <th>2</th>\n",
              "      <td>2011-08-18 00:35:00.00000049</td>\n",
              "      <td>5.7</td>\n",
              "      <td>2011-08-18 00:35:00+00:00</td>\n",
              "      <td>-73.982738</td>\n",
              "      <td>40.761270</td>\n",
              "      <td>-73.991242</td>\n",
              "      <td>40.750562</td>\n",
              "      <td>2</td>\n",
              "      <td>0.019212</td>\n",
              "      <td>0</td>\n",
              "      <td>0</td>\n",
              "      <td>0</td>\n",
              "      <td>0</td>\n",
              "      <td>1</td>\n",
              "      <td>0</td>\n",
              "      <td>0</td>\n",
              "      <td>0</td>\n",
              "    </tr>\n",
              "    <tr>\n",
              "      <th>3</th>\n",
              "      <td>2012-04-21 04:30:42.0000001</td>\n",
              "      <td>7.7</td>\n",
              "      <td>2012-04-21 04:30:42+00:00</td>\n",
              "      <td>-73.987130</td>\n",
              "      <td>40.733143</td>\n",
              "      <td>-73.991567</td>\n",
              "      <td>40.758092</td>\n",
              "      <td>1</td>\n",
              "      <td>0.029386</td>\n",
              "      <td>4</td>\n",
              "      <td>0</td>\n",
              "      <td>0</td>\n",
              "      <td>0</td>\n",
              "      <td>0</td>\n",
              "      <td>0</td>\n",
              "      <td>1</td>\n",
              "      <td>0</td>\n",
              "    </tr>\n",
              "    <tr>\n",
              "      <th>4</th>\n",
              "      <td>2010-03-09 07:51:00.000000135</td>\n",
              "      <td>5.3</td>\n",
              "      <td>2010-03-09 07:51:00+00:00</td>\n",
              "      <td>-73.968095</td>\n",
              "      <td>40.768008</td>\n",
              "      <td>-73.956655</td>\n",
              "      <td>40.783762</td>\n",
              "      <td>1</td>\n",
              "      <td>0.027194</td>\n",
              "      <td>7</td>\n",
              "      <td>0</td>\n",
              "      <td>1</td>\n",
              "      <td>0</td>\n",
              "      <td>0</td>\n",
              "      <td>0</td>\n",
              "      <td>0</td>\n",
              "      <td>0</td>\n",
              "    </tr>\n",
              "  </tbody>\n",
              "</table>\n",
              "</div>"
            ],
            "text/plain": [
              "                             key  fare_amount  ... sat  sun\n",
              "0    2009-06-15 17:26:21.0000001          4.5  ...   0    0\n",
              "1    2010-01-05 16:52:16.0000002         16.9  ...   0    0\n",
              "2   2011-08-18 00:35:00.00000049          5.7  ...   0    0\n",
              "3    2012-04-21 04:30:42.0000001          7.7  ...   1    0\n",
              "4  2010-03-09 07:51:00.000000135          5.3  ...   0    0\n",
              "\n",
              "[5 rows x 17 columns]"
            ]
          },
          "metadata": {
            "tags": []
          },
          "execution_count": 91
        }
      ]
    },
    {
      "cell_type": "markdown",
      "metadata": {
        "id": "WbUZv6TFZTeV",
        "colab_type": "text"
      },
      "source": [
        "## Train/Validation split\n",
        "We will split the train set into two datasets: Train and validation\n",
        "\n",
        "The given test dataset will be held out for final scoring."
      ]
    },
    {
      "cell_type": "code",
      "metadata": {
        "id": "_tS_0awJZT17",
        "colab_type": "code",
        "colab": {}
      },
      "source": [
        "from sklearn.model_selection import train_test_split\n",
        "\n",
        "from sklearn.pipeline import Pipeline\n",
        "from sklearn.linear_model import LinearRegression\n",
        "from sklearn.preprocessing import StandardScaler\n",
        "\n",
        "from sklearn.metrics import mean_squared_error"
      ],
      "execution_count": 0,
      "outputs": []
    },
    {
      "cell_type": "code",
      "metadata": {
        "id": "wuwEhVGRaxzs",
        "colab_type": "code",
        "colab": {}
      },
      "source": [
        "cols = [ 'pickup_longitude',\n",
        "       'pickup_latitude', 'dropoff_longitude', 'dropoff_latitude',\n",
        "       'passenger_count', 'distance', 'hour', 'weekday']\n",
        "X_train, X_test, y_train, y_test = train_test_split(train_cut.drop('fare_amount', axis=1)[cols],\n",
        "                                                    train_cut['fare_amount'], test_size=0.20)"
      ],
      "execution_count": 0,
      "outputs": []
    },
    {
      "cell_type": "markdown",
      "metadata": {
        "id": "Yf0jos_ZUg2W",
        "colab_type": "text"
      },
      "source": [
        "# Modeling\n",
        "---\n",
        "In this section we start the construction of simple models for fare prediction."
      ]
    },
    {
      "cell_type": "markdown",
      "metadata": {
        "id": "Ma9whOCiWhfx",
        "colab_type": "text"
      },
      "source": [
        "## Base Model (Benchmarking)\n",
        "\n",
        "We will start with a linear model for a starter. This will serve as a benchmark model to compare the performance of more complex models"
      ]
    },
    {
      "cell_type": "code",
      "metadata": {
        "id": "qCRFkVOnzzfM",
        "colab_type": "code",
        "colab": {}
      },
      "source": [
        "train_cut['weekday'] = train_cut.pickup_datetime.dt.weekday"
      ],
      "execution_count": 0,
      "outputs": []
    },
    {
      "cell_type": "code",
      "metadata": {
        "id": "YSw6TsvE0Tgo",
        "colab_type": "code",
        "colab": {
          "base_uri": "https://localhost:8080/",
          "height": 224
        },
        "outputId": "68ef9e4d-79c4-42ae-e5ee-4f6693cbc9ad"
      },
      "source": [
        "X_train.head()"
      ],
      "execution_count": 114,
      "outputs": [
        {
          "output_type": "execute_result",
          "data": {
            "text/html": [
              "<div>\n",
              "<style scoped>\n",
              "    .dataframe tbody tr th:only-of-type {\n",
              "        vertical-align: middle;\n",
              "    }\n",
              "\n",
              "    .dataframe tbody tr th {\n",
              "        vertical-align: top;\n",
              "    }\n",
              "\n",
              "    .dataframe thead th {\n",
              "        text-align: right;\n",
              "    }\n",
              "</style>\n",
              "<table border=\"1\" class=\"dataframe\">\n",
              "  <thead>\n",
              "    <tr style=\"text-align: right;\">\n",
              "      <th></th>\n",
              "      <th>pickup_longitude</th>\n",
              "      <th>pickup_latitude</th>\n",
              "      <th>dropoff_longitude</th>\n",
              "      <th>dropoff_latitude</th>\n",
              "      <th>passenger_count</th>\n",
              "      <th>distance</th>\n",
              "      <th>hour</th>\n",
              "      <th>weekday</th>\n",
              "    </tr>\n",
              "  </thead>\n",
              "  <tbody>\n",
              "    <tr>\n",
              "      <th>3458918</th>\n",
              "      <td>-73.976360</td>\n",
              "      <td>40.753448</td>\n",
              "      <td>-74.003391</td>\n",
              "      <td>40.732549</td>\n",
              "      <td>2</td>\n",
              "      <td>3.253652</td>\n",
              "      <td>22</td>\n",
              "      <td>2</td>\n",
              "    </tr>\n",
              "    <tr>\n",
              "      <th>4962324</th>\n",
              "      <td>-73.993513</td>\n",
              "      <td>40.741495</td>\n",
              "      <td>-74.006733</td>\n",
              "      <td>40.741655</td>\n",
              "      <td>1</td>\n",
              "      <td>1.113901</td>\n",
              "      <td>19</td>\n",
              "      <td>5</td>\n",
              "    </tr>\n",
              "    <tr>\n",
              "      <th>2574121</th>\n",
              "      <td>-73.870775</td>\n",
              "      <td>40.773650</td>\n",
              "      <td>-74.009416</td>\n",
              "      <td>40.706789</td>\n",
              "      <td>1</td>\n",
              "      <td>13.845819</td>\n",
              "      <td>3</td>\n",
              "      <td>0</td>\n",
              "    </tr>\n",
              "    <tr>\n",
              "      <th>3945128</th>\n",
              "      <td>-73.991409</td>\n",
              "      <td>40.735626</td>\n",
              "      <td>-74.011230</td>\n",
              "      <td>40.708382</td>\n",
              "      <td>1</td>\n",
              "      <td>3.459451</td>\n",
              "      <td>11</td>\n",
              "      <td>1</td>\n",
              "    </tr>\n",
              "    <tr>\n",
              "      <th>1590270</th>\n",
              "      <td>-73.991529</td>\n",
              "      <td>40.749860</td>\n",
              "      <td>-73.991121</td>\n",
              "      <td>40.770688</td>\n",
              "      <td>1</td>\n",
              "      <td>2.316223</td>\n",
              "      <td>10</td>\n",
              "      <td>1</td>\n",
              "    </tr>\n",
              "  </tbody>\n",
              "</table>\n",
              "</div>"
            ],
            "text/plain": [
              "         pickup_longitude  pickup_latitude  ...  hour  weekday\n",
              "3458918        -73.976360        40.753448  ...    22        2\n",
              "4962324        -73.993513        40.741495  ...    19        5\n",
              "2574121        -73.870775        40.773650  ...     3        0\n",
              "3945128        -73.991409        40.735626  ...    11        1\n",
              "1590270        -73.991529        40.749860  ...    10        1\n",
              "\n",
              "[5 rows x 8 columns]"
            ]
          },
          "metadata": {
            "tags": []
          },
          "execution_count": 114
        }
      ]
    },
    {
      "cell_type": "code",
      "metadata": {
        "id": "PMFkwwe5axYs",
        "colab_type": "code",
        "colab": {}
      },
      "source": [
        "lin_model = Pipeline((\n",
        "        (\"standard_scaler\", StandardScaler()),\n",
        "        (\"lin_reg\", LinearRegression()),\n",
        "    ))\n",
        "lin_model.fit(X_train, y_train)\n",
        "\n",
        "y_train_pred = lin_model.predict(X_train)\n",
        "y_test_pred = lin_model.predict(X_test)"
      ],
      "execution_count": 0,
      "outputs": []
    },
    {
      "cell_type": "markdown",
      "metadata": {
        "id": "4GBOO05hfxGF",
        "colab_type": "text"
      },
      "source": [
        "We use the RMSE score for validation of our model (Kaggle)\n"
      ]
    },
    {
      "cell_type": "code",
      "metadata": {
        "id": "xBOJzEtnfUo1",
        "colab_type": "code",
        "outputId": "38e38fe8-f671-4727-8273-4ab208927c62",
        "colab": {
          "base_uri": "https://localhost:8080/",
          "height": 71
        }
      },
      "source": [
        "print('LINEAR MODEL --- RMSE scores\\ntrain: {}\\ntest: {}'.format(np.sqrt(mean_squared_error(y_train, y_train_pred)),\n",
        "np.sqrt(mean_squared_error(y_test, y_test_pred))))\n"
      ],
      "execution_count": 113,
      "outputs": [
        {
          "output_type": "stream",
          "text": [
            "LINEAR MODEL --- RMSE scores\n",
            "train: 9.806074284620877\n",
            "test: 9.84650117505267\n"
          ],
          "name": "stdout"
        }
      ]
    },
    {
      "cell_type": "markdown",
      "metadata": {
        "id": "iF1inozljOP9",
        "colab_type": "text"
      },
      "source": [
        "## Gradient Boosting Decision Trees (XGBoost)\n",
        "Next, we construct a Boosted Decision Tree model together with Bayesian Optimization"
      ]
    },
    {
      "cell_type": "code",
      "metadata": {
        "id": "0lbN-1mwjsS2",
        "colab_type": "code",
        "outputId": "6b001496-22fa-4e75-f055-2def8dcbffa9",
        "colab": {
          "base_uri": "https://localhost:8080/",
          "height": 253
        }
      },
      "source": [
        "!pip install bayesian-optimization\n"
      ],
      "execution_count": 116,
      "outputs": [
        {
          "output_type": "stream",
          "text": [
            "Collecting bayesian-optimization\n",
            "  Downloading https://files.pythonhosted.org/packages/72/0c/173ac467d0a53e33e41b521e4ceba74a8ac7c7873d7b857a8fbdca88302d/bayesian-optimization-1.0.1.tar.gz\n",
            "Requirement already satisfied: numpy>=1.9.0 in /usr/local/lib/python3.6/dist-packages (from bayesian-optimization) (1.16.4)\n",
            "Requirement already satisfied: scipy>=0.14.0 in /usr/local/lib/python3.6/dist-packages (from bayesian-optimization) (1.3.0)\n",
            "Requirement already satisfied: scikit-learn>=0.18.0 in /usr/local/lib/python3.6/dist-packages (from bayesian-optimization) (0.21.2)\n",
            "Requirement already satisfied: joblib>=0.11 in /usr/local/lib/python3.6/dist-packages (from scikit-learn>=0.18.0->bayesian-optimization) (0.13.2)\n",
            "Building wheels for collected packages: bayesian-optimization\n",
            "  Building wheel for bayesian-optimization (setup.py) ... \u001b[?25l\u001b[?25hdone\n",
            "  Stored in directory: /root/.cache/pip/wheels/1d/0d/3b/6b9d4477a34b3905f246ff4e7acf6aafd4cc9b77d473629b77\n",
            "Successfully built bayesian-optimization\n",
            "Installing collected packages: bayesian-optimization\n",
            "Successfully installed bayesian-optimization-1.0.1\n"
          ],
          "name": "stdout"
        }
      ]
    },
    {
      "cell_type": "code",
      "metadata": {
        "id": "FfsPHmmPUqOY",
        "colab_type": "code",
        "colab": {}
      },
      "source": [
        "import xgboost as xgb\n",
        "from xgboost import XGBRegressor\n",
        "from xgboost import plot_importance\n",
        "\n",
        "from bayes_opt import BayesianOptimization\n",
        "\n",
        "def plot_features(booster, figsize):    \n",
        "  fig, ax = plt.subplots(1,1,figsize=figsize)\n",
        "  return plot_importance(booster=booster, ax=ax)\n",
        "\n"
      ],
      "execution_count": 0,
      "outputs": []
    },
    {
      "cell_type": "code",
      "metadata": {
        "id": "AiGk0CTIns12",
        "colab_type": "code",
        "outputId": "e24af96c-3572-4c0a-d4b4-fe7fdca50c55",
        "colab": {
          "base_uri": "https://localhost:8080/",
          "height": 73
        }
      },
      "source": [
        "dtrain = xgb.DMatrix(X_train, label=y_train)\n",
        "dtest = xgb.DMatrix(X_test)"
      ],
      "execution_count": 118,
      "outputs": [
        {
          "output_type": "stream",
          "text": [
            "/usr/local/lib/python3.6/dist-packages/xgboost/core.py:587: FutureWarning: Series.base is deprecated and will be removed in a future version\n",
            "  if getattr(data, 'base', None) is not None and \\\n"
          ],
          "name": "stderr"
        }
      ]
    },
    {
      "cell_type": "code",
      "metadata": {
        "id": "4v89pm6mjit2",
        "colab_type": "code",
        "colab": {}
      },
      "source": [
        "def xgb_evaluate(max_depth, gamma, colsample_bytree):\n",
        "  params = {'eval_metric': 'rmse',\n",
        "            'max_depth': int(max_depth),\n",
        "            'subsample': 0.8,\n",
        "            'eta': 0.1,\n",
        "            'gamma': gamma,\n",
        "            'colsample_bytree': colsample_bytree}\n",
        "  cv_result = xgb.cv(params, dtrain, num_boost_round=100, nfold=3)    \n",
        "\n",
        "  # Bayesian optimization only knows how to maximize, not minimize, so return the negative RMSE\n",
        "  return -1.0 * cv_result['test-rmse-mean'].iloc[-1]"
      ],
      "execution_count": 0,
      "outputs": []
    },
    {
      "cell_type": "code",
      "metadata": {
        "id": "o3hARIaencZe",
        "colab_type": "code",
        "outputId": "c03cffa6-d82d-482b-a621-3cfa6e41cc4c",
        "colab": {
          "base_uri": "https://localhost:8080/",
          "height": 215
        }
      },
      "source": [
        "xgb_bo = BayesianOptimization(xgb_evaluate, {'max_depth': (3, 7), \n",
        "                                             'gamma': (0, 1),\n",
        "                                             'colsample_bytree': (0.3, 0.9)})\n",
        "# Use the expected improvement acquisition function to handle negative numbers\n",
        "# Optimally needs quite a few more initiation points and number of iterations\n",
        "xgb_bo.maximize(init_points=3, n_iter=5, acq='ei')"
      ],
      "execution_count": 0,
      "outputs": [
        {
          "output_type": "stream",
          "text": [
            "|   iter    |  target   | colsam... |   gamma   | max_depth |\n",
            "-------------------------------------------------------------\n",
            "| \u001b[0m 1       \u001b[0m | \u001b[0m-3.97    \u001b[0m | \u001b[0m 0.8151  \u001b[0m | \u001b[0m 0.9148  \u001b[0m | \u001b[0m 6.709   \u001b[0m |\n",
            "| \u001b[0m 2       \u001b[0m | \u001b[0m-3.97    \u001b[0m | \u001b[0m 0.8     \u001b[0m | \u001b[0m 0.1779  \u001b[0m | \u001b[0m 6.323   \u001b[0m |\n",
            "| \u001b[0m 3       \u001b[0m | \u001b[0m-4.394   \u001b[0m | \u001b[0m 0.3178  \u001b[0m | \u001b[0m 0.3039  \u001b[0m | \u001b[0m 3.25    \u001b[0m |\n",
            "| \u001b[95m 4       \u001b[0m | \u001b[95m-3.923   \u001b[0m | \u001b[95m 0.9     \u001b[0m | \u001b[95m 0.0     \u001b[0m | \u001b[95m 7.0     \u001b[0m |\n",
            "| \u001b[0m 5       \u001b[0m | \u001b[0m-4.122   \u001b[0m | \u001b[0m 0.3     \u001b[0m | \u001b[0m 0.0     \u001b[0m | \u001b[0m 7.0     \u001b[0m |\n",
            "| \u001b[0m 6       \u001b[0m | \u001b[0m-3.924   \u001b[0m | \u001b[0m 0.9     \u001b[0m | \u001b[0m 0.3653  \u001b[0m | \u001b[0m 7.0     \u001b[0m |\n",
            "| \u001b[0m 7       \u001b[0m | \u001b[0m-3.966   \u001b[0m | \u001b[0m 0.9     \u001b[0m | \u001b[0m 0.03096 \u001b[0m | \u001b[0m 6.961   \u001b[0m |\n",
            "| \u001b[0m 8       \u001b[0m | \u001b[0m-4.009   \u001b[0m | \u001b[0m 0.9     \u001b[0m | \u001b[0m 0.4404  \u001b[0m | \u001b[0m 5.198   \u001b[0m |\n",
            "=============================================================\n"
          ],
          "name": "stdout"
        }
      ]
    },
    {
      "cell_type": "code",
      "metadata": {
        "id": "saaWqoMCHp9a",
        "colab_type": "code",
        "colab": {}
      },
      "source": [
        "params = {'max_depth': 7.0, 'gamma': 0.001,  'max_delta_step': 10.0, 'subsample': 0.4, 'colsample_bytree': 0.9}\n",
        "params['max_depth'] = int(params['max_depth'])\n"
      ],
      "execution_count": 0,
      "outputs": []
    },
    {
      "cell_type": "code",
      "metadata": {
        "id": "loZe5BYWR3gh",
        "colab_type": "code",
        "colab": {
          "base_uri": "https://localhost:8080/",
          "height": 53
        },
        "outputId": "4a24aed4-ac3c-4639-b02a-e3714565e022"
      },
      "source": [
        "start_time = time.time()\n",
        "# Train a model with the hyperparameters we obtained in the search\n",
        "model_xgb = xgb.train(params, dtrain, num_boost_round=250)\n",
        "print(\"--- %s seconds ---\" % (time.time() - start_time))\n",
        "\n",
        "# Predict on testing and training set\n",
        "y_pred_xgb = model_xgb.predict(dtest)\n",
        "y_train_pred_xgb = model_xgb.predict(dtrain)\n",
        "\n",
        "# Report testing and training RMSE\n",
        "print('RMSE test: {}'.format(np.sqrt(mean_squared_error(y_test, y_pred_xgb))))\n",
        "print('RMSE train: {}'.format(np.sqrt(mean_squared_error(y_train, y_train_pred_xgb))))"
      ],
      "execution_count": 120,
      "outputs": [
        {
          "output_type": "stream",
          "text": [
            "RMSE test: 4.617233646075735\n",
            "RMSE train: 4.212636032244176\n"
          ],
          "name": "stdout"
        }
      ]
    },
    {
      "cell_type": "markdown",
      "metadata": {
        "id": "mbUSib6pB53H",
        "colab_type": "text"
      },
      "source": [
        "The F-score sums up the number of times a given feature is split. Comparing this quantity for each feature is usually interpreted as a *Feature Importance* plot."
      ]
    },
    {
      "cell_type": "code",
      "metadata": {
        "id": "LEh2dSVDkhGy",
        "colab_type": "code",
        "colab": {
          "base_uri": "https://localhost:8080/",
          "height": 373
        },
        "outputId": "4ce0e43c-9c1d-4824-fa23-a6fa0f4d4106"
      },
      "source": [
        "plot_features(model_xgb, (7,5))\n"
      ],
      "execution_count": 121,
      "outputs": [
        {
          "output_type": "execute_result",
          "data": {
            "text/plain": [
              "<matplotlib.axes._subplots.AxesSubplot at 0x7f40d134ce10>"
            ]
          },
          "metadata": {
            "tags": []
          },
          "execution_count": 121
        },
        {
          "output_type": "display_data",
          "data": {
            "image/png": "[encoded data removed]",
            "text/plain": [
              "<Figure size 504x360 with 1 Axes>"
            ]
          },
          "metadata": {
            "tags": []
          }
        }
      ]
    },
    {
      "cell_type": "markdown",
      "metadata": {
        "id": "39JqsgittmcJ",
        "colab_type": "text"
      },
      "source": [
        "## DNN Regressor"
      ]
    },
    {
      "cell_type": "code",
      "metadata": {
        "id": "CzLLBcJSqO6h",
        "colab_type": "code",
        "colab": {}
      },
      "source": [
        "# "
      ],
      "execution_count": 0,
      "outputs": []
    },
    {
      "cell_type": "code",
      "metadata": {
        "id": "GUmrBKZlzP5c",
        "colab_type": "code",
        "colab": {}
      },
      "source": [
        ""
      ],
      "execution_count": 0,
      "outputs": []
    }
  ]
}