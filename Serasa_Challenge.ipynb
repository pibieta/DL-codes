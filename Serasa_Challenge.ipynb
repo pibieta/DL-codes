{
  "nbformat": 4,
  "nbformat_minor": 0,
  "metadata": {
    "colab": {
      "name": "Serasa-Challenge.ipynb",
      "version": "0.3.2",
      "provenance": [],
      "collapsed_sections": [],
      "include_colab_link": true
    },
    "kernelspec": {
      "name": "python3",
      "display_name": "Python 3"
    },
    "accelerator": "GPU"
  },
  "cells": [
    {
      "cell_type": "markdown",
      "metadata": {
        "id": "view-in-github",
        "colab_type": "text"
      },
      "source": [
        "<a href=\"https://colab.research.google.com/github/pibieta/ML-course/blob/master/Serasa_Challenge.ipynb\" target=\"_parent\"><img src=\"https://colab.research.google.com/assets/colab-badge.svg\" alt=\"Open In Colab\"/></a>"
      ]
    },
    {
      "cell_type": "markdown",
      "metadata": {
        "id": "KSn-GO80jE-V",
        "colab_type": "text"
      },
      "source": [
        "# NYC Taxi Fare \n",
        "---\n",
        "J. P. Ibieta-Jimenez\n"
      ]
    },
    {
      "cell_type": "code",
      "metadata": {
        "id": "O1h5jDm0le1h",
        "colab_type": "code",
        "colab": {}
      },
      "source": [
        "# imports\n",
        "import time\n",
        "import random\n",
        "import itertools\n",
        "import datetime as dt\n",
        "from math import cos, asin, sqrt\n",
        "\n",
        "# data handling and viz\n",
        "import numpy as np\n",
        "import pandas as pd\n",
        "import matplotlib.pyplot as plt\n",
        "import seaborn as sns\n",
        "sns.set()\n",
        "sns.set_style('white')\n"
      ],
      "execution_count": 0,
      "outputs": []
    },
    {
      "cell_type": "markdown",
      "metadata": {
        "id": "TMpOnqKUxKMR",
        "colab_type": "text"
      },
      "source": [
        "We will work on the Kaggle competition called *NYC Taxi Fare Prediction*, data can be found [here](https://www.kaggle.com/c/new-york-city-taxi-fare-prediction/data).  "
      ]
    },
    {
      "cell_type": "code",
      "metadata": {
        "id": "c79LbfHYxEht",
        "colab_type": "code",
        "outputId": "16f685a9-6ae2-475e-bb7b-7ce98683af02",
        "colab": {
          "base_uri": "https://localhost:8080/",
          "height": 214
        }
      },
      "source": [
        "# Get data\n",
        "!wget http://fma.if.usp.br/~pibieta/NY_taxi_data/all.zip"
      ],
      "execution_count": 3,
      "outputs": [
        {
          "output_type": "stream",
          "text": [
            "--2019-06-14 22:31:33--  http://fma.if.usp.br/~pibieta/NY_taxi_data/all.zip\n",
            "Resolving fma.if.usp.br (fma.if.usp.br)... 143.107.128.59, 2001:12d0:8020::59\n",
            "Connecting to fma.if.usp.br (fma.if.usp.br)|143.107.128.59|:80... connected.\n",
            "HTTP request sent, awaiting response... 200 OK\n",
            "Length: 1674618947 (1.6G) [application/zip]\n",
            "Saving to: ‘all.zip’\n",
            "\n",
            "all.zip             100%[===================>]   1.56G  2.05MB/s    in 6m 20s  \n",
            "\n",
            "2019-06-14 22:37:55 (4.20 MB/s) - ‘all.zip’ saved [1674618947/1674618947]\n",
            "\n"
          ],
          "name": "stdout"
        }
      ]
    },
    {
      "cell_type": "code",
      "metadata": {
        "id": "Xfv2dwdi1efM",
        "colab_type": "code",
        "outputId": "4cbbc5f9-3fdb-48e6-8d6b-132e022cf46a",
        "colab": {
          "base_uri": "https://localhost:8080/",
          "height": 142
        }
      },
      "source": [
        "!unzip all.zip\n",
        "!ls"
      ],
      "execution_count": 4,
      "outputs": [
        {
          "output_type": "stream",
          "text": [
            "Archive:  all.zip\n",
            "  inflating: sample_submission.csv   \n",
            "  inflating: test.csv                \n",
            "  inflating: train.csv               \n",
            "  inflating: GCP-Coupons-Instructions.rtf  \n",
            "all.zip\t\t\t      sample_data\t     test.csv\n",
            "GCP-Coupons-Instructions.rtf  sample_submission.csv  train.csv\n"
          ],
          "name": "stdout"
        }
      ]
    },
    {
      "cell_type": "code",
      "metadata": {
        "id": "_4vbk8BuJ3Rd",
        "colab_type": "code",
        "colab": {
          "base_uri": "https://localhost:8080/",
          "height": 35
        },
        "outputId": "41566caa-0a9d-4a32-987a-b1e9cfa4f0f8"
      },
      "source": [
        "# load data as csv, let's see if Colab can handle this file\n",
        "# url = 'http://fma.if.usp.br/~pibieta/NY_taxi_data/'\n",
        "# it takes around 11 min for 5M rows\n",
        "start_time = time.time()\n",
        "\n",
        "train = pd.read_csv('train.csv', nrows = 2000000, parse_dates=[2])\n",
        "test = pd.read_csv('test.csv', parse_dates=[1])\n",
        "\n",
        "print(\"--- %s seconds ---\" % (time.time() - start_time))\n"
      ],
      "execution_count": 5,
      "outputs": [
        {
          "output_type": "stream",
          "text": [
            "--- 265.3640966415405 seconds ---\n"
          ],
          "name": "stdout"
        }
      ]
    },
    {
      "cell_type": "markdown",
      "metadata": {
        "id": "NthFcstb4blI",
        "colab_type": "text"
      },
      "source": [
        "# Exploratory Data Analysis and Cleansing\n",
        "---\n",
        "The complete `train` file contains around $55 \\times 10^6$ rows which difficults the handling. To that intent we can use **part** of the train dataset. However, we must be very careful as to be sure if the sample we choose is representative of the total distribution. The `key` column might give us a hint about the the way the dataset was constructed and in particular about the way the train/test split was generated. This can be useful specially when performing *competitive* analysis."
      ]
    },
    {
      "cell_type": "code",
      "metadata": {
        "id": "OkSpwHgJ4LmN",
        "colab_type": "code",
        "outputId": "89c3f3f7-566c-4c05-f179-89211c1b04fb",
        "colab": {
          "base_uri": "https://localhost:8080/",
          "height": 293
        }
      },
      "source": [
        "train.head()"
      ],
      "execution_count": 6,
      "outputs": [
        {
          "output_type": "execute_result",
          "data": {
            "text/html": [
              "<div>\n",
              "<style scoped>\n",
              "    .dataframe tbody tr th:only-of-type {\n",
              "        vertical-align: middle;\n",
              "    }\n",
              "\n",
              "    .dataframe tbody tr th {\n",
              "        vertical-align: top;\n",
              "    }\n",
              "\n",
              "    .dataframe thead th {\n",
              "        text-align: right;\n",
              "    }\n",
              "</style>\n",
              "<table border=\"1\" class=\"dataframe\">\n",
              "  <thead>\n",
              "    <tr style=\"text-align: right;\">\n",
              "      <th></th>\n",
              "      <th>key</th>\n",
              "      <th>fare_amount</th>\n",
              "      <th>pickup_datetime</th>\n",
              "      <th>pickup_longitude</th>\n",
              "      <th>pickup_latitude</th>\n",
              "      <th>dropoff_longitude</th>\n",
              "      <th>dropoff_latitude</th>\n",
              "      <th>passenger_count</th>\n",
              "    </tr>\n",
              "  </thead>\n",
              "  <tbody>\n",
              "    <tr>\n",
              "      <th>0</th>\n",
              "      <td>2009-06-15 17:26:21.0000001</td>\n",
              "      <td>4.5</td>\n",
              "      <td>2009-06-15 17:26:21+00:00</td>\n",
              "      <td>-73.844311</td>\n",
              "      <td>40.721319</td>\n",
              "      <td>-73.841610</td>\n",
              "      <td>40.712278</td>\n",
              "      <td>1</td>\n",
              "    </tr>\n",
              "    <tr>\n",
              "      <th>1</th>\n",
              "      <td>2010-01-05 16:52:16.0000002</td>\n",
              "      <td>16.9</td>\n",
              "      <td>2010-01-05 16:52:16+00:00</td>\n",
              "      <td>-74.016048</td>\n",
              "      <td>40.711303</td>\n",
              "      <td>-73.979268</td>\n",
              "      <td>40.782004</td>\n",
              "      <td>1</td>\n",
              "    </tr>\n",
              "    <tr>\n",
              "      <th>2</th>\n",
              "      <td>2011-08-18 00:35:00.00000049</td>\n",
              "      <td>5.7</td>\n",
              "      <td>2011-08-18 00:35:00+00:00</td>\n",
              "      <td>-73.982738</td>\n",
              "      <td>40.761270</td>\n",
              "      <td>-73.991242</td>\n",
              "      <td>40.750562</td>\n",
              "      <td>2</td>\n",
              "    </tr>\n",
              "    <tr>\n",
              "      <th>3</th>\n",
              "      <td>2012-04-21 04:30:42.0000001</td>\n",
              "      <td>7.7</td>\n",
              "      <td>2012-04-21 04:30:42+00:00</td>\n",
              "      <td>-73.987130</td>\n",
              "      <td>40.733143</td>\n",
              "      <td>-73.991567</td>\n",
              "      <td>40.758092</td>\n",
              "      <td>1</td>\n",
              "    </tr>\n",
              "    <tr>\n",
              "      <th>4</th>\n",
              "      <td>2010-03-09 07:51:00.000000135</td>\n",
              "      <td>5.3</td>\n",
              "      <td>2010-03-09 07:51:00+00:00</td>\n",
              "      <td>-73.968095</td>\n",
              "      <td>40.768008</td>\n",
              "      <td>-73.956655</td>\n",
              "      <td>40.783762</td>\n",
              "      <td>1</td>\n",
              "    </tr>\n",
              "  </tbody>\n",
              "</table>\n",
              "</div>"
            ],
            "text/plain": [
              "                             key  ...  passenger_count\n",
              "0    2009-06-15 17:26:21.0000001  ...                1\n",
              "1    2010-01-05 16:52:16.0000002  ...                1\n",
              "2   2011-08-18 00:35:00.00000049  ...                2\n",
              "3    2012-04-21 04:30:42.0000001  ...                1\n",
              "4  2010-03-09 07:51:00.000000135  ...                1\n",
              "\n",
              "[5 rows x 8 columns]"
            ]
          },
          "metadata": {
            "tags": []
          },
          "execution_count": 6
        }
      ]
    },
    {
      "cell_type": "markdown",
      "metadata": {
        "id": "erBDjAKgpS1t",
        "colab_type": "text"
      },
      "source": [
        "Now that we have loaded both the train and test datasets as pandas dataframes, we can start looking at data and perform some preliminar analysis.\n",
        "\n",
        "In particular, we are looking for:\n",
        "* Null or missing data such as `NaN` values\n",
        "* Outliers\n",
        "* Data Leakages\n"
      ]
    },
    {
      "cell_type": "code",
      "metadata": {
        "id": "ohhajv-B-hpq",
        "colab_type": "code",
        "outputId": "0b4d5804-5113-4f67-d066-07b7b6a348a6",
        "colab": {
          "base_uri": "https://localhost:8080/",
          "height": 297
        }
      },
      "source": [
        "train.describe()"
      ],
      "execution_count": 0,
      "outputs": [
        {
          "output_type": "execute_result",
          "data": {
            "text/html": [
              "<div>\n",
              "<style scoped>\n",
              "    .dataframe tbody tr th:only-of-type {\n",
              "        vertical-align: middle;\n",
              "    }\n",
              "\n",
              "    .dataframe tbody tr th {\n",
              "        vertical-align: top;\n",
              "    }\n",
              "\n",
              "    .dataframe thead th {\n",
              "        text-align: right;\n",
              "    }\n",
              "</style>\n",
              "<table border=\"1\" class=\"dataframe\">\n",
              "  <thead>\n",
              "    <tr style=\"text-align: right;\">\n",
              "      <th></th>\n",
              "      <th>fare_amount</th>\n",
              "      <th>pickup_longitude</th>\n",
              "      <th>pickup_latitude</th>\n",
              "      <th>dropoff_longitude</th>\n",
              "      <th>dropoff_latitude</th>\n",
              "      <th>passenger_count</th>\n",
              "    </tr>\n",
              "  </thead>\n",
              "  <tbody>\n",
              "    <tr>\n",
              "      <th>count</th>\n",
              "      <td>5.000000e+06</td>\n",
              "      <td>5.000000e+06</td>\n",
              "      <td>5.000000e+06</td>\n",
              "      <td>4.999964e+06</td>\n",
              "      <td>4.999964e+06</td>\n",
              "      <td>5.000000e+06</td>\n",
              "    </tr>\n",
              "    <tr>\n",
              "      <th>mean</th>\n",
              "      <td>1.134080e+01</td>\n",
              "      <td>-7.250678e+01</td>\n",
              "      <td>3.991974e+01</td>\n",
              "      <td>-7.250652e+01</td>\n",
              "      <td>3.991725e+01</td>\n",
              "      <td>1.684695e+00</td>\n",
              "    </tr>\n",
              "    <tr>\n",
              "      <th>std</th>\n",
              "      <td>9.820175e+00</td>\n",
              "      <td>1.280970e+01</td>\n",
              "      <td>8.963509e+00</td>\n",
              "      <td>1.284777e+01</td>\n",
              "      <td>9.486767e+00</td>\n",
              "      <td>1.331854e+00</td>\n",
              "    </tr>\n",
              "    <tr>\n",
              "      <th>min</th>\n",
              "      <td>-1.000000e+02</td>\n",
              "      <td>-3.426609e+03</td>\n",
              "      <td>-3.488080e+03</td>\n",
              "      <td>-3.412653e+03</td>\n",
              "      <td>-3.488080e+03</td>\n",
              "      <td>0.000000e+00</td>\n",
              "    </tr>\n",
              "    <tr>\n",
              "      <th>25%</th>\n",
              "      <td>6.000000e+00</td>\n",
              "      <td>-7.399206e+01</td>\n",
              "      <td>4.073491e+01</td>\n",
              "      <td>-7.399139e+01</td>\n",
              "      <td>4.073404e+01</td>\n",
              "      <td>1.000000e+00</td>\n",
              "    </tr>\n",
              "    <tr>\n",
              "      <th>50%</th>\n",
              "      <td>8.500000e+00</td>\n",
              "      <td>-7.398181e+01</td>\n",
              "      <td>4.075263e+01</td>\n",
              "      <td>-7.398016e+01</td>\n",
              "      <td>4.075315e+01</td>\n",
              "      <td>1.000000e+00</td>\n",
              "    </tr>\n",
              "    <tr>\n",
              "      <th>75%</th>\n",
              "      <td>1.250000e+01</td>\n",
              "      <td>-7.396711e+01</td>\n",
              "      <td>4.076712e+01</td>\n",
              "      <td>-7.396367e+01</td>\n",
              "      <td>4.076811e+01</td>\n",
              "      <td>2.000000e+00</td>\n",
              "    </tr>\n",
              "    <tr>\n",
              "      <th>max</th>\n",
              "      <td>1.273310e+03</td>\n",
              "      <td>3.439426e+03</td>\n",
              "      <td>3.310364e+03</td>\n",
              "      <td>3.457622e+03</td>\n",
              "      <td>3.345917e+03</td>\n",
              "      <td>2.080000e+02</td>\n",
              "    </tr>\n",
              "  </tbody>\n",
              "</table>\n",
              "</div>"
            ],
            "text/plain": [
              "        fare_amount  pickup_longitude  ...  dropoff_latitude  passenger_count\n",
              "count  5.000000e+06      5.000000e+06  ...      4.999964e+06     5.000000e+06\n",
              "mean   1.134080e+01     -7.250678e+01  ...      3.991725e+01     1.684695e+00\n",
              "std    9.820175e+00      1.280970e+01  ...      9.486767e+00     1.331854e+00\n",
              "min   -1.000000e+02     -3.426609e+03  ...     -3.488080e+03     0.000000e+00\n",
              "25%    6.000000e+00     -7.399206e+01  ...      4.073404e+01     1.000000e+00\n",
              "50%    8.500000e+00     -7.398181e+01  ...      4.075315e+01     1.000000e+00\n",
              "75%    1.250000e+01     -7.396711e+01  ...      4.076811e+01     2.000000e+00\n",
              "max    1.273310e+03      3.439426e+03  ...      3.345917e+03     2.080000e+02\n",
              "\n",
              "[8 rows x 6 columns]"
            ]
          },
          "metadata": {
            "tags": []
          },
          "execution_count": 9
        }
      ]
    },
    {
      "cell_type": "markdown",
      "metadata": {
        "id": "YcN7oNOm_cAp",
        "colab_type": "text"
      },
      "source": [
        "Above we can already see that:\n",
        "* the column `fare_amount` has negative values which is weird. This might have to do with errors during Data collection, since we do not have information about the way data was collected, the best may be to eliminate these data points. \n",
        "\n",
        "* Also, the `passenger_count` has some weird values, see the max value: $208$. No way a cab can fit 208 people. So we also drop rows with such values.\n",
        "\n",
        "* Latitude and longitude coordinates for pickup and dropoff seem to have weird values. Visualization will help with this, as we shall see."
      ]
    },
    {
      "cell_type": "code",
      "metadata": {
        "id": "kYSyHIU6-nmy",
        "colab_type": "code",
        "outputId": "b9bf7825-385e-4acf-fb7c-637e67c73eae",
        "colab": {
          "base_uri": "https://localhost:8080/",
          "height": 249
        }
      },
      "source": [
        "train.info(memory_usage='deep')"
      ],
      "execution_count": 7,
      "outputs": [
        {
          "output_type": "stream",
          "text": [
            "<class 'pandas.core.frame.DataFrame'>\n",
            "RangeIndex: 2000000 entries, 0 to 1999999\n",
            "Data columns (total 8 columns):\n",
            "key                  object\n",
            "fare_amount          float64\n",
            "pickup_datetime      datetime64[ns, UTC]\n",
            "pickup_longitude     float64\n",
            "pickup_latitude      float64\n",
            "dropoff_longitude    float64\n",
            "dropoff_latitude     float64\n",
            "passenger_count      int64\n",
            "dtypes: datetime64[ns, UTC](1), float64(5), int64(1), object(1)\n",
            "memory usage: 268.3 MB\n"
          ],
          "name": "stdout"
        }
      ]
    },
    {
      "cell_type": "markdown",
      "metadata": {
        "id": "5MzioMCQ0q0D",
        "colab_type": "text"
      },
      "source": [
        "The train file contains data about taxi drives. In particular, it contains an index:\n",
        "* **key -** Unique string identifying each row in both the training and test sets. Comprised of pickup_datetime plus a unique integer. Not necessarily needed in the training set, but could be useful to simulate a 'submission file' while doing cross-validation within the training set.\n",
        "\n",
        "Features: \n",
        "* **pickup_datetime -** timestamp value indicating when the taxi ride started.\n",
        "* **pickup_longitude -** `float` for longitude coordinate of where the taxi ride started.\n",
        "* **pickup_latitude -** `float` for latitude coordinate of where the taxi ride started.\n",
        "* **dropoff_longitude -** `float` for longitude coordinate of where the taxi ride ended.\n",
        "* **dropoff_latitude -** `float` for latitude coordinate of where the taxi ride ended.\n",
        "* **passenger_count -** `int` indicating the number of passengers in the taxi ride.\n",
        "\n",
        "And a target value:\n",
        "* **fare_amount -** `float` dollar amount of the cost of the taxi ride. \n"
      ]
    },
    {
      "cell_type": "markdown",
      "metadata": {
        "id": "g0UJLMwYIl_l",
        "colab_type": "text"
      },
      "source": [
        "## Time Lapse\n",
        "Check the time lapse for both the train and test sets. "
      ]
    },
    {
      "cell_type": "code",
      "metadata": {
        "id": "-X57Rxefrztw",
        "colab_type": "code",
        "outputId": "4abf0b3f-07e9-4444-b91f-f1e560b86de0",
        "colab": {
          "base_uri": "https://localhost:8080/",
          "height": 124
        }
      },
      "source": [
        "print('Train time lapse:')\n",
        "print('\\tstart: {}\\n\\tstop: {}'.format(train.pickup_datetime.min(),train.pickup_datetime.max()))\n",
        "print('Test time lapse:')\n",
        "print('\\tstart: {}\\n\\tstop: {}'.format(test.pickup_datetime.min(),test.pickup_datetime.max()))"
      ],
      "execution_count": 6,
      "outputs": [
        {
          "output_type": "stream",
          "text": [
            "Train time lapse:\n",
            "\tstart: 2009-01-01 00:00:46+00:00\n",
            "\tstop: 2015-06-30 23:53:49+00:00\n",
            "Test time lapse:\n",
            "\tstart: 2009-01-01 11:04:24+00:00\n",
            "\tstop: 2015-06-30 20:03:50+00:00\n"
          ],
          "name": "stdout"
        }
      ]
    },
    {
      "cell_type": "markdown",
      "metadata": {
        "id": "EeNtMl0wDMJN",
        "colab_type": "text"
      },
      "source": [
        "Let us compare the time distribution of taxi rides in the train set with those in test set"
      ]
    },
    {
      "cell_type": "code",
      "metadata": {
        "id": "PDcE-WgsJXkT",
        "colab_type": "code",
        "outputId": "89961734-135d-47c4-85ce-f49cfce858e7",
        "colab": {
          "base_uri": "https://localhost:8080/",
          "height": 630
        }
      },
      "source": [
        "fig, ax = plt.subplots(4,2, figsize=(10,10), sharey= 'col')\n",
        "ax[0,0].hist(train.pickup_datetime.dt.year)\n",
        "ax[0,0].set_title('TRAIN', fontweight='bold', fontsize='16')\n",
        "ax[0,0].set_xlabel('Year', fontweight='bold', fontsize='13')\n",
        "\n",
        "ax[0,1].hist(test.pickup_datetime.dt.year)\n",
        "ax[0,1].set_title('TEST', fontweight='bold', fontsize='16')\n",
        "ax[0,1].set_xlabel('Year', fontweight='bold', fontsize='13')\n",
        "\n",
        "ax[1,0].hist(train.pickup_datetime.dt.month)\n",
        "ax[1,0].set_xlabel('Month', fontweight='bold', fontsize='13')\n",
        "\n",
        "\n",
        "ax[1,1].hist(test.pickup_datetime.dt.month)\n",
        "ax[2,0].hist(train.pickup_datetime.dt.week)\n",
        "ax[2,1].hist(test.pickup_datetime.dt.week)\n",
        "ax[3,0].hist(train.pickup_datetime.dt.dayofweek)\n",
        "ax[3,1].hist(test.pickup_datetime.dt.dayofweek)\n",
        "fig.legends"
      ],
      "execution_count": 9,
      "outputs": [
        {
          "output_type": "execute_result",
          "data": {
            "text/plain": [
              "[]"
            ]
          },
          "metadata": {
            "tags": []
          },
          "execution_count": 9
        },
        {
          "output_type": "display_data",
          "data": {
            "image/png": "[encoded data removed]",
            "text/plain": [
              "<Figure size 720x720 with 8 Axes>"
            ]
          },
          "metadata": {
            "tags": []
          }
        }
      ]
    },
    {
      "cell_type": "markdown",
      "metadata": {
        "id": "WawI2EmR63Sm",
        "colab_type": "text"
      },
      "source": [
        "look for NaN values"
      ]
    },
    {
      "cell_type": "code",
      "metadata": {
        "id": "qGhrSK-4J5O1",
        "colab_type": "code",
        "outputId": "57f0f187-21cb-48dc-ea48-0278feae958a",
        "colab": {
          "base_uri": "https://localhost:8080/",
          "height": 178
        }
      },
      "source": [
        "train.isna().sum()"
      ],
      "execution_count": 7,
      "outputs": [
        {
          "output_type": "execute_result",
          "data": {
            "text/plain": [
              "key                   0\n",
              "fare_amount           0\n",
              "pickup_datetime       0\n",
              "pickup_longitude      0\n",
              "pickup_latitude       0\n",
              "dropoff_longitude    14\n",
              "dropoff_latitude     14\n",
              "passenger_count       0\n",
              "dtype: int64"
            ]
          },
          "metadata": {
            "tags": []
          },
          "execution_count": 7
        }
      ]
    },
    {
      "cell_type": "code",
      "metadata": {
        "id": "o_13whlm8O-B",
        "colab_type": "code",
        "outputId": "b3db31e3-e7ff-4953-aa81-43245119f283",
        "colab": {
          "base_uri": "https://localhost:8080/",
          "height": 160
        }
      },
      "source": [
        "test.isnull().sum()"
      ],
      "execution_count": 8,
      "outputs": [
        {
          "output_type": "execute_result",
          "data": {
            "text/plain": [
              "key                  0\n",
              "pickup_datetime      0\n",
              "pickup_longitude     0\n",
              "pickup_latitude      0\n",
              "dropoff_longitude    0\n",
              "dropoff_latitude     0\n",
              "passenger_count      0\n",
              "dtype: int64"
            ]
          },
          "metadata": {
            "tags": []
          },
          "execution_count": 8
        }
      ]
    },
    {
      "cell_type": "markdown",
      "metadata": {
        "id": "aUZcZIcm_i0o",
        "colab_type": "text"
      },
      "source": [
        "since missing data has to do with geographic data (and they are so few) we can just drop them"
      ]
    },
    {
      "cell_type": "code",
      "metadata": {
        "id": "2BqaLqMp9BRu",
        "colab_type": "code",
        "outputId": "ac59fcd0-e887-4af6-d7a6-b645a51e1e06",
        "colab": {
          "base_uri": "https://localhost:8080/",
          "height": 53
        }
      },
      "source": [
        "print('Old size: %d' % len(train))\n",
        "train = train.dropna()\n",
        "print('New size: %d' % len(train))"
      ],
      "execution_count": 9,
      "outputs": [
        {
          "output_type": "stream",
          "text": [
            "Old size: 2000000\n",
            "New size: 1999986\n"
          ],
          "name": "stdout"
        }
      ]
    },
    {
      "cell_type": "markdown",
      "metadata": {
        "id": "mmoGTSM3Sw3J",
        "colab_type": "text"
      },
      "source": [
        "## Fare_amount\n",
        "Note that there are some negative values for fare amount. We will pretty much drop them, as well as very absurd positive values, which we set to be any fare >100.\n",
        "\n"
      ]
    },
    {
      "cell_type": "code",
      "metadata": {
        "id": "qaloSiIlSb67",
        "colab_type": "code",
        "outputId": "2a2d8084-d585-4b46-c98d-ab553e99ab9a",
        "colab": {
          "base_uri": "https://localhost:8080/",
          "height": 71
        }
      },
      "source": [
        "print('fare min: {} USD\\nfare max: {} USD\\nfare median: {} USD'.format(train.fare_amount.min(), train.fare_amount.max(), train.fare_amount.median()))"
      ],
      "execution_count": 10,
      "outputs": [
        {
          "output_type": "stream",
          "text": [
            "fare min: -62.0 USD\n",
            "fare max: 1273.31 USD\n",
            "fare median: 8.5 USD\n"
          ],
          "name": "stdout"
        }
      ]
    },
    {
      "cell_type": "code",
      "metadata": {
        "id": "YmnDlBUERYKp",
        "colab_type": "code",
        "outputId": "a406d3f2-b76e-45d8-c635-e0732059cf61",
        "colab": {
          "base_uri": "https://localhost:8080/",
          "height": 246
        }
      },
      "source": [
        "# plot histogram of fare\n",
        "# train[(train.fare_amount<100)].fare_amount.hist(bins=100, figsize=(14,3))\n",
        "train[(train.fare_amount<100) & (train.fare_amount> 2.5)].fare_amount.hist(bins=100, figsize=(14,3))\n",
        "plt.xlabel('Fare $USD')\n",
        "plt.title('Fare Histogram');"
      ],
      "execution_count": 11,
      "outputs": [
        {
          "output_type": "display_data",
          "data": {
            "image/png": "[encoded data removed]",
            "text/plain": [
              "<Figure size 1008x216 with 1 Axes>"
            ]
          },
          "metadata": {
            "tags": []
          }
        }
      ]
    },
    {
      "cell_type": "markdown",
      "metadata": {
        "id": "iWpJuXqrLRzm",
        "colab_type": "text"
      },
      "source": [
        "## Geographical data\n",
        "Let us look at data concerning the positions of pickup and dropoff. We are looking for any weird values such as NaNs, or locations that do not correspond to the NY area.\n",
        "\n",
        "We can also take a look at the histogram of pickups and dropoff locations. This will give us an idea on how to filter data for the modeling part.\n",
        "\n",
        "By trying to plot a simple histogram of the `pickup_latitude` column we see that most of the values are concentred in a small region. More precisely, there are latitude values way off the ones for NY. \n",
        "To see this more carefully we plot several histograms (already focusing in the region of interest) that compare the train and test datasets. \n",
        "\n"
      ]
    },
    {
      "cell_type": "code",
      "metadata": {
        "colab_type": "code",
        "outputId": "9410e6f7-840f-4dbb-9fd7-8fc7e1cb2fc8",
        "id": "YNrPZsz3oqJy",
        "colab": {
          "base_uri": "https://localhost:8080/",
          "height": 292
        }
      },
      "source": [
        "train.pickup_latitude.hist(bins=100)"
      ],
      "execution_count": 12,
      "outputs": [
        {
          "output_type": "execute_result",
          "data": {
            "text/plain": [
              "<matplotlib.axes._subplots.AxesSubplot at 0x7f6969ab8a58>"
            ]
          },
          "metadata": {
            "tags": []
          },
          "execution_count": 12
        },
        {
          "output_type": "display_data",
          "data": {
            "image/png": "[encoded data removed]",
            "text/plain": [
              "<Figure size 432x288 with 1 Axes>"
            ]
          },
          "metadata": {
            "tags": []
          }
        }
      ]
    },
    {
      "cell_type": "code",
      "metadata": {
        "id": "fTNbueFtWI6y",
        "colab_type": "code",
        "outputId": "f52f1fbe-acbd-47c3-a706-25a78cd530b2",
        "colab": {
          "base_uri": "https://localhost:8080/",
          "height": 578
        }
      },
      "source": [
        "fig, ax = plt.subplots(2,2, figsize=(16,8))\n",
        "# fig.tight_layout() \n",
        "fig.suptitle('Pickup Location Histograms', fontweight = 'bold', fontsize='20')\n",
        "ax[0,0].hist(train.pickup_latitude[(train.pickup_latitude> 40.6) & (train.pickup_latitude< 40.9)], bins =100)\n",
        "ax[0,0].set_title('TRAIN', fontweight='bold', fontsize='15')\n",
        "ax[0,0].set_xlabel('pickup latitude [°]', fontweight='bold', fontsize='13')\n",
        "ax[0,0].set_ylabel('count', fontweight='bold', fontsize='13')\n",
        "\n",
        "ax[0,1].hist(test.pickup_latitude[(test.pickup_latitude> 40.6) & (test.pickup_latitude< 40.9)], bins =100)\n",
        "ax[0,1].set_xlabel('pickup latitude [°]', fontweight='bold', fontsize='13')\n",
        "ax[0,1].set_title('TEST', fontweight='bold', fontsize='15')\n",
        "\n",
        "ax[1,0].hist(train.pickup_longitude[(train.pickup_longitude> -74.1) & (train.pickup_longitude<-73.6)], bins =100)\n",
        "ax[1,0].set_xlabel('pickup longitude [°]', fontweight='bold', fontsize='13')\n",
        "# ax[1,0].set_ylabel('count', fontweight='bold', fontsize='13')\n",
        "\n",
        "# ax[0,1].set_ylabel('count', fontweight='bold', fontsize='13')\n",
        "ax[1,1].hist(test.pickup_longitude[(test.pickup_longitude> -74.1) & (test.pickup_longitude<-73.6)], bins =100)\n",
        "ax[1,1].set_xlabel('pickup longitude [°]', fontweight='bold', fontsize='13')\n",
        "# ax[1,1].set_ylabel('count', fontweight='bold', fontsize='13')\n",
        "fig.legends"
      ],
      "execution_count": 14,
      "outputs": [
        {
          "output_type": "execute_result",
          "data": {
            "text/plain": [
              "[]"
            ]
          },
          "metadata": {
            "tags": []
          },
          "execution_count": 14
        },
        {
          "output_type": "display_data",
          "data": {
            "image/png": "[encoded data removed]",
            "text/plain": [
              "<Figure size 1152x576 with 4 Axes>"
            ]
          },
          "metadata": {
            "tags": []
          }
        }
      ]
    },
    {
      "cell_type": "markdown",
      "metadata": {
        "id": "DOjY0s9qqn34",
        "colab_type": "text"
      },
      "source": [
        "Both distributions seem very similar. This strongly suggests that the dataset was randomly shuffled before performing the train/test split. By having a shuffled train set, we can sample the dataset without losing too much information about the whole population statistics. This is, we can use less data and hope to have a good representative of the entire dataset. This is important since the entire dataset is difficult to handle, as a consequence to perform Feat. Engineering would be very costly."
      ]
    },
    {
      "cell_type": "code",
      "metadata": {
        "id": "RSpOmSs6jnRc",
        "colab_type": "code",
        "outputId": "1b136ec4-2e24-4a19-b3ca-005a3758748a",
        "colab": {
          "base_uri": "https://localhost:8080/",
          "height": 578
        }
      },
      "source": [
        "fig, ax = plt.subplots(2,2, figsize=(16,8))\n",
        "# fig.tight_layout() \n",
        "fig.suptitle('Dropoff Location Histograms', fontweight = 'bold', fontsize='20')\n",
        "ax[0,0].hist(train.dropoff_latitude[(train.dropoff_latitude> 40.6) & (train.dropoff_latitude< 40.9)], bins =100)\n",
        "ax[0,0].set_title('TRAIN', fontweight='bold', fontsize='15')\n",
        "ax[0,0].set_xlabel('latitude [°]', fontweight='bold', fontsize='13')\n",
        "ax[0,0].set_ylabel('count', fontweight='bold', fontsize='13')\n",
        "\n",
        "ax[0,1].hist(test.dropoff_latitude[(test.dropoff_latitude> 40.6) & (test.dropoff_latitude< 40.9)], bins =100)\n",
        "ax[0,1].set_xlabel('latitude [°]', fontweight='bold', fontsize='13')\n",
        "ax[0,1].set_title('TEST', fontweight='bold', fontsize='15')\n",
        "\n",
        "ax[1,0].hist(train.dropoff_longitude[(train.dropoff_longitude> -74.1) & (train.dropoff_longitude<-73.6)], bins =100)\n",
        "ax[1,0].set_xlabel('longitude [°]', fontweight='bold', fontsize='13')\n",
        "# ax[1,0].set_ylabel('count', fontweight='bold', fontsize='13')\n",
        "\n",
        "# ax[0,1].set_ylabel('count', fontweight='bold', fontsize='13')\n",
        "ax[1,1].hist(test.dropoff_longitude[(test.dropoff_longitude> -74.1) & (test.dropoff_longitude<-73.6)], bins =100)\n",
        "ax[1,1].set_xlabel('longitude [°]', fontweight='bold', fontsize='13')\n",
        "# ax[1,1].set_ylabel('count', fontweight='bold', fontsize='13')\n",
        "fig.legends"
      ],
      "execution_count": 13,
      "outputs": [
        {
          "output_type": "execute_result",
          "data": {
            "text/plain": [
              "[]"
            ]
          },
          "metadata": {
            "tags": []
          },
          "execution_count": 13
        },
        {
          "output_type": "display_data",
          "data": {
            "image/png": "[encoded data removed]",
            "text/plain": [
              "<Figure size 1152x576 with 4 Axes>"
            ]
          },
          "metadata": {
            "tags": []
          }
        }
      ]
    },
    {
      "cell_type": "markdown",
      "metadata": {
        "id": "P0rPDkACogI6",
        "colab_type": "text"
      },
      "source": [
        "Finally, to handle the values that do not correspond to the NY area, we will use the min and max values in the test set, in that way we do not throw everything off. This could be considered a data leakage."
      ]
    },
    {
      "cell_type": "code",
      "metadata": {
        "id": "ggxt5Ilpof5H",
        "colab_type": "code",
        "outputId": "564d99ff-cde2-41c2-b227-021e1759ecd7",
        "colab": {
          "base_uri": "https://localhost:8080/",
          "height": 35
        }
      },
      "source": [
        "# minimum and maximum longitude test set\n",
        "long_bb = min(test.pickup_longitude.min(), test.dropoff_longitude.min()),max(test.pickup_longitude.max(), test.dropoff_longitude.max())\n",
        "# minimum and maximum latitude test\n",
        "lat_bb = min(test.pickup_latitude.min(), test.dropoff_latitude.min()), max(test.pickup_latitude.max(), test.dropoff_latitude.max())\n",
        "BB = long_bb + lat_bb\n",
        "BB"
      ],
      "execution_count": 14,
      "outputs": [
        {
          "output_type": "execute_result",
          "data": {
            "text/plain": [
              "(-74.263242, -72.986532, 40.568973, 41.709555)"
            ]
          },
          "metadata": {
            "tags": []
          },
          "execution_count": 14
        }
      ]
    },
    {
      "cell_type": "markdown",
      "metadata": {
        "id": "BI7NL5Tc4gq8",
        "colab_type": "text"
      },
      "source": [
        "We will use the above Bounding Box to select relevant data only."
      ]
    },
    {
      "cell_type": "markdown",
      "metadata": {
        "id": "84aCbpg59IEP",
        "colab_type": "text"
      },
      "source": [
        "## Passenger_count\n",
        "Let us look at the feature that counts the number of passengers at each ride. The max value is non-sense. Also, rides with 0 passengers should not be considered."
      ]
    },
    {
      "cell_type": "code",
      "metadata": {
        "id": "C5iRmU0t-Cpg",
        "colab_type": "code",
        "outputId": "016a81d9-f76f-4a39-cf89-79a661330c0b",
        "colab": {
          "base_uri": "https://localhost:8080/",
          "height": 71
        }
      },
      "source": [
        "print('passenger min: {}\\npassenger max: {}\\npassenger median: {}'.format(train.passenger_count.min(), train.passenger_count.max(), train.passenger_count.median()))"
      ],
      "execution_count": 15,
      "outputs": [
        {
          "output_type": "stream",
          "text": [
            "passenger min: 0\n",
            "passenger max: 208\n",
            "passenger median: 1.0\n"
          ],
          "name": "stdout"
        }
      ]
    },
    {
      "cell_type": "code",
      "metadata": {
        "id": "8y_mWwLh9dmn",
        "colab_type": "code",
        "outputId": "d1c14f1f-b064-448a-ea0b-4df40dfeeea0",
        "colab": {
          "base_uri": "https://localhost:8080/",
          "height": 292
        }
      },
      "source": [
        "train[train.passenger_count <= 7].passenger_count.hist(bins =7)"
      ],
      "execution_count": 16,
      "outputs": [
        {
          "output_type": "execute_result",
          "data": {
            "text/plain": [
              "<matplotlib.axes._subplots.AxesSubplot at 0x7f696bc52630>"
            ]
          },
          "metadata": {
            "tags": []
          },
          "execution_count": 16
        },
        {
          "output_type": "display_data",
          "data": {
            "image/png": "[encoded data removed]",
            "text/plain": [
              "<Figure size 432x288 with 1 Axes>"
            ]
          },
          "metadata": {
            "tags": []
          }
        }
      ]
    },
    {
      "cell_type": "markdown",
      "metadata": {
        "id": "-HLKhCnP-A5g",
        "colab_type": "text"
      },
      "source": [
        "## The cut\n",
        "Considering all the above insights on data, we perform a **cut** in the train file, as follows:"
      ]
    },
    {
      "cell_type": "code",
      "metadata": {
        "id": "wRYw4b1s3jtW",
        "colab_type": "code",
        "outputId": "857ec5ba-6a5e-42ca-dcd0-5df5b5b4e13b",
        "colab": {
          "base_uri": "https://localhost:8080/",
          "height": 35
        }
      },
      "source": [
        "train_cut = train[((train.pickup_longitude >= BB[0]) & (train.pickup_longitude <= BB[1])) \n",
        "         & ((train.pickup_latitude >= BB[2]) & (train.pickup_latitude <= BB[3])) \n",
        "         & ((train.dropoff_longitude >= BB[0]) & (train.dropoff_longitude <= BB[1])) \n",
        "         & ((train.dropoff_latitude >= BB[2]) & (train.dropoff_latitude <= BB[3])) \n",
        "         & (train.fare_amount > 2.5) & (train.fare_amount < 100) & (train.passenger_count > 0) & (train.passenger_count < 7)] #& (train.distance > 0.2)]\n",
        "print('Proportion of Data lost: {0:.3f}%'.format( (train.shape[0] - train_cut.shape[0])/ train.shape[0] * 100))"
      ],
      "execution_count": 17,
      "outputs": [
        {
          "output_type": "stream",
          "text": [
            "Proportion of Data lost: 2.866%\n"
          ],
          "name": "stdout"
        }
      ]
    },
    {
      "cell_type": "markdown",
      "metadata": {
        "id": "esq9YBLN_P2h",
        "colab_type": "text"
      },
      "source": [
        "# Feature Engineering\n",
        "---\n",
        "In this section we intend to expand our dataset by adding aritificial features. This can be done in many ways (for this particular dataset), and ultimately dependes on the creativity and prior knowledge of the DS. In this case, we will not perform a very sophisticated process, but rather something simple that cann enrich our dataset. \n",
        "\n",
        "As an starting point we consider:\n",
        "*  *manhattan* (L1-norm) distance between pickup and dropoff\n",
        "* pickup hour (bucketized)\n",
        "* weekday --> one hot encoded\n",
        "\n",
        "For later:\n",
        "* direction of the trip (E-W and N-S)\n",
        "* grid position on the map (you could use a 10x10 grid)\n",
        "* Holidays\n",
        "* From airport / To airport (for fixed fare trips)"
      ]
    },
    {
      "cell_type": "code",
      "metadata": {
        "id": "wBubMrb3B0Bp",
        "colab_type": "code",
        "colab": {}
      },
      "source": [
        "#calculating the distance between the two points (pickup and dropoff) in km\n",
        "def distance(lat1, lon1, lat2, lon2, norm = 1):\n",
        "  '''\n",
        "    Calculates the distance between two points: (lat1,lon1) and (lat2,lon2)\n",
        "    norm: 1 --> 'Manhattan'\n",
        "          2 --> 'geodesic'\n",
        "  '''\n",
        "  if norm == 1:\n",
        "    distance = np.abs(lat2 - lat1) + np.abs(lon2 - lon1)\n",
        "  elif norm == 2:\n",
        "    p = 0.017453292519943295     #Pi/180\n",
        "    a = 0.5 - cos((lat2 - lat1) * p)/2 + cos(lat1 * p) * cos(lat2 * p) * (1 - cos((lon2 - lon1) * p)) / 2\n",
        "    distance = 12742 * asin(sqrt(a)) #2*R*asin\n",
        "  return distance \n",
        "\n",
        "  "
      ],
      "execution_count": 0,
      "outputs": []
    },
    {
      "cell_type": "code",
      "metadata": {
        "id": "KCsxsZGID1-v",
        "colab_type": "code",
        "colab": {}
      },
      "source": [
        "def add_feats(df, norm = 1):\n",
        "  '''\n",
        "  Input:  pandas dataframe\n",
        "  Output: dataframe with added features\n",
        "  '''\n",
        "  df['distance'] = df.apply(lambda row: distance(row.pickup_latitude, row.pickup_longitude, row.dropoff_latitude, row.dropoff_longitude, norm ), axis =1)\n",
        "  df['hour'] = df.pickup_datetime.dt.hour\n",
        "#   df['day'] = df.pickup_datetime.dt.day\n",
        "#   df['month'] = df.pickup_datetime.dt.month\n",
        "#   df['weekday'] = df.pickup_datetime.dt.weekday\n",
        "  weekday =pd.get_dummies(train.pickup_datetime.dt.weekday)\n",
        "  weekday.columns = ['mon', 'tue', 'wed', 'thu', 'fri', 'sat', 'sun']\n",
        "  df = pd.concat([df,weekday], axis = 1)\n",
        "  return df"
      ],
      "execution_count": 0,
      "outputs": []
    },
    {
      "cell_type": "code",
      "metadata": {
        "id": "ELuXDjozCTj5",
        "colab_type": "code",
        "outputId": "8c0ef345-8d23-4536-b781-74020fa7bd9b",
        "colab": {
          "base_uri": "https://localhost:8080/",
          "height": 249
        }
      },
      "source": [
        "# it takes around 11 min for 5M rows\n",
        "start_time = time.time()\n",
        "train_cut = add_feats(train_cut, 2)\n",
        "print(\"--- %s seconds ---\" % (time.time() - start_time))"
      ],
      "execution_count": 20,
      "outputs": [
        {
          "output_type": "stream",
          "text": [
            "/usr/local/lib/python3.6/dist-packages/ipykernel_launcher.py:6: SettingWithCopyWarning: \n",
            "A value is trying to be set on a copy of a slice from a DataFrame.\n",
            "Try using .loc[row_indexer,col_indexer] = value instead\n",
            "\n",
            "See the caveats in the documentation: http://pandas.pydata.org/pandas-docs/stable/indexing.html#indexing-view-versus-copy\n",
            "  \n",
            "/usr/local/lib/python3.6/dist-packages/ipykernel_launcher.py:7: SettingWithCopyWarning: \n",
            "A value is trying to be set on a copy of a slice from a DataFrame.\n",
            "Try using .loc[row_indexer,col_indexer] = value instead\n",
            "\n",
            "See the caveats in the documentation: http://pandas.pydata.org/pandas-docs/stable/indexing.html#indexing-view-versus-copy\n",
            "  import sys\n"
          ],
          "name": "stderr"
        },
        {
          "output_type": "stream",
          "text": [
            "--- 284.4913568496704 seconds ---\n"
          ],
          "name": "stdout"
        }
      ]
    },
    {
      "cell_type": "code",
      "metadata": {
        "id": "5PqGGX01cXKk",
        "colab_type": "code",
        "colab": {}
      },
      "source": [
        "train_cut['picklat_b'] = pd.cut(train_cut.pickup_latitude, bins = 50, labels = False)\n",
        "train_cut['picklon_b'] = pd.cut(train_cut.pickup_longitude, bins = 50, labels = False)\n",
        "train_cut['droplat_b'] = pd.cut(train_cut.dropoff_latitude, bins = 50, labels = False)\n",
        "train_cut['droplon_b'] = pd.cut(train_cut.dropoff_longitude, bins = 50, labels = False)"
      ],
      "execution_count": 0,
      "outputs": []
    },
    {
      "cell_type": "code",
      "metadata": {
        "id": "fSTVr-OUqXFo",
        "colab_type": "code",
        "colab": {}
      },
      "source": [
        "# discrete displacement both x- and y-wise \n",
        "train_cut['lon_disp_b'] = train_cut.picklon_b - train_cut.droplon_b\n",
        "train_cut['lat_disp_b'] = train_cut.picklat_b - train_cut.droplat_b\n",
        "\n",
        "# continuous displacement both x- and y-wise\n",
        "train_cut['lon_disp'] = train_cut.pickup_longitude - train_cut.dropoff_longitude\n",
        "train_cut['lat_disp'] = train_cut.pickup_latitude - train_cut.dropoff_latitude\n"
      ],
      "execution_count": 0,
      "outputs": []
    },
    {
      "cell_type": "code",
      "metadata": {
        "id": "APoRAt3BhqpS",
        "colab_type": "code",
        "colab": {}
      },
      "source": [
        "# train_cut['pickbin'] =  \n",
        "# train_cut['pickbin']=\n",
        "train_cut.dropna(inplace = True)"
      ],
      "execution_count": 0,
      "outputs": []
    },
    {
      "cell_type": "code",
      "metadata": {
        "id": "GI_Wj9YLM7ex",
        "colab_type": "code",
        "outputId": "0ffe074c-39ca-4800-8911-05877dc709f9",
        "colab": {
          "base_uri": "https://localhost:8080/",
          "height": 455
        }
      },
      "source": [
        "sns.jointplot( x='distance', y='fare_amount', data = train_cut, kind = 'reg')"
      ],
      "execution_count": 67,
      "outputs": [
        {
          "output_type": "execute_result",
          "data": {
            "text/plain": [
              "<seaborn.axisgrid.JointGrid at 0x7f0ef5b41be0>"
            ]
          },
          "metadata": {
            "tags": []
          },
          "execution_count": 67
        },
        {
          "output_type": "display_data",
          "data": {
            "image/png": "[encoded data removed]",
            "text/plain": [
              "<Figure size 432x432 with 3 Axes>"
            ]
          },
          "metadata": {
            "tags": []
          }
        }
      ]
    },
    {
      "cell_type": "markdown",
      "metadata": {
        "id": "uCfceCQCJLON",
        "colab_type": "text"
      },
      "source": [
        "Save this dataframe as a pickle file so we can load it later, and save computation time."
      ]
    },
    {
      "cell_type": "code",
      "metadata": {
        "id": "eEHSJmT0FGzs",
        "colab_type": "code",
        "colab": {}
      },
      "source": [
        "train_cut.to_pickle('./train_cut_L2.pkl')"
      ],
      "execution_count": 0,
      "outputs": []
    },
    {
      "cell_type": "code",
      "metadata": {
        "id": "RL7kBVwgJ3id",
        "colab_type": "code",
        "outputId": "3f36b8ad-0b0e-4762-a49d-510c9e16b165",
        "colab": {
          "base_uri": "https://localhost:8080/",
          "height": 851
        }
      },
      "source": [
        "train_cut.head().T"
      ],
      "execution_count": 88,
      "outputs": [
        {
          "output_type": "execute_result",
          "data": {
            "text/html": [
              "<div>\n",
              "<style scoped>\n",
              "    .dataframe tbody tr th:only-of-type {\n",
              "        vertical-align: middle;\n",
              "    }\n",
              "\n",
              "    .dataframe tbody tr th {\n",
              "        vertical-align: top;\n",
              "    }\n",
              "\n",
              "    .dataframe thead th {\n",
              "        text-align: right;\n",
              "    }\n",
              "</style>\n",
              "<table border=\"1\" class=\"dataframe\">\n",
              "  <thead>\n",
              "    <tr style=\"text-align: right;\">\n",
              "      <th></th>\n",
              "      <th>0</th>\n",
              "      <th>1</th>\n",
              "      <th>2</th>\n",
              "      <th>3</th>\n",
              "      <th>4</th>\n",
              "    </tr>\n",
              "  </thead>\n",
              "  <tbody>\n",
              "    <tr>\n",
              "      <th>key</th>\n",
              "      <td>2009-06-15 17:26:21.0000001</td>\n",
              "      <td>2010-01-05 16:52:16.0000002</td>\n",
              "      <td>2011-08-18 00:35:00.00000049</td>\n",
              "      <td>2012-04-21 04:30:42.0000001</td>\n",
              "      <td>2010-03-09 07:51:00.000000135</td>\n",
              "    </tr>\n",
              "    <tr>\n",
              "      <th>fare_amount</th>\n",
              "      <td>4.5</td>\n",
              "      <td>16.9</td>\n",
              "      <td>5.7</td>\n",
              "      <td>7.7</td>\n",
              "      <td>5.3</td>\n",
              "    </tr>\n",
              "    <tr>\n",
              "      <th>pickup_datetime</th>\n",
              "      <td>2009-06-15 17:26:21+00:00</td>\n",
              "      <td>2010-01-05 16:52:16+00:00</td>\n",
              "      <td>2011-08-18 00:35:00+00:00</td>\n",
              "      <td>2012-04-21 04:30:42+00:00</td>\n",
              "      <td>2010-03-09 07:51:00+00:00</td>\n",
              "    </tr>\n",
              "    <tr>\n",
              "      <th>pickup_longitude</th>\n",
              "      <td>-73.8443</td>\n",
              "      <td>-74.016</td>\n",
              "      <td>-73.9827</td>\n",
              "      <td>-73.9871</td>\n",
              "      <td>-73.9681</td>\n",
              "    </tr>\n",
              "    <tr>\n",
              "      <th>pickup_latitude</th>\n",
              "      <td>40.7213</td>\n",
              "      <td>40.7113</td>\n",
              "      <td>40.7613</td>\n",
              "      <td>40.7331</td>\n",
              "      <td>40.768</td>\n",
              "    </tr>\n",
              "    <tr>\n",
              "      <th>dropoff_longitude</th>\n",
              "      <td>-73.8416</td>\n",
              "      <td>-73.9793</td>\n",
              "      <td>-73.9912</td>\n",
              "      <td>-73.9916</td>\n",
              "      <td>-73.9567</td>\n",
              "    </tr>\n",
              "    <tr>\n",
              "      <th>dropoff_latitude</th>\n",
              "      <td>40.7123</td>\n",
              "      <td>40.782</td>\n",
              "      <td>40.7506</td>\n",
              "      <td>40.7581</td>\n",
              "      <td>40.7838</td>\n",
              "    </tr>\n",
              "    <tr>\n",
              "      <th>passenger_count</th>\n",
              "      <td>1</td>\n",
              "      <td>1</td>\n",
              "      <td>2</td>\n",
              "      <td>1</td>\n",
              "      <td>1</td>\n",
              "    </tr>\n",
              "    <tr>\n",
              "      <th>distance</th>\n",
              "      <td>1.03076</td>\n",
              "      <td>8.45013</td>\n",
              "      <td>1.38953</td>\n",
              "      <td>2.79927</td>\n",
              "      <td>1.99916</td>\n",
              "    </tr>\n",
              "    <tr>\n",
              "      <th>hour</th>\n",
              "      <td>17</td>\n",
              "      <td>16</td>\n",
              "      <td>0</td>\n",
              "      <td>4</td>\n",
              "      <td>7</td>\n",
              "    </tr>\n",
              "    <tr>\n",
              "      <th>mon</th>\n",
              "      <td>1</td>\n",
              "      <td>0</td>\n",
              "      <td>0</td>\n",
              "      <td>0</td>\n",
              "      <td>0</td>\n",
              "    </tr>\n",
              "    <tr>\n",
              "      <th>tue</th>\n",
              "      <td>0</td>\n",
              "      <td>1</td>\n",
              "      <td>0</td>\n",
              "      <td>0</td>\n",
              "      <td>1</td>\n",
              "    </tr>\n",
              "    <tr>\n",
              "      <th>wed</th>\n",
              "      <td>0</td>\n",
              "      <td>0</td>\n",
              "      <td>0</td>\n",
              "      <td>0</td>\n",
              "      <td>0</td>\n",
              "    </tr>\n",
              "    <tr>\n",
              "      <th>thu</th>\n",
              "      <td>0</td>\n",
              "      <td>0</td>\n",
              "      <td>1</td>\n",
              "      <td>0</td>\n",
              "      <td>0</td>\n",
              "    </tr>\n",
              "    <tr>\n",
              "      <th>fri</th>\n",
              "      <td>0</td>\n",
              "      <td>0</td>\n",
              "      <td>0</td>\n",
              "      <td>0</td>\n",
              "      <td>0</td>\n",
              "    </tr>\n",
              "    <tr>\n",
              "      <th>sat</th>\n",
              "      <td>0</td>\n",
              "      <td>0</td>\n",
              "      <td>0</td>\n",
              "      <td>1</td>\n",
              "      <td>0</td>\n",
              "    </tr>\n",
              "    <tr>\n",
              "      <th>sun</th>\n",
              "      <td>0</td>\n",
              "      <td>0</td>\n",
              "      <td>0</td>\n",
              "      <td>0</td>\n",
              "      <td>0</td>\n",
              "    </tr>\n",
              "    <tr>\n",
              "      <th>picklat_b</th>\n",
              "      <td>6</td>\n",
              "      <td>6</td>\n",
              "      <td>8</td>\n",
              "      <td>7</td>\n",
              "      <td>8</td>\n",
              "    </tr>\n",
              "    <tr>\n",
              "      <th>picklon_b</th>\n",
              "      <td>16</td>\n",
              "      <td>9</td>\n",
              "      <td>11</td>\n",
              "      <td>11</td>\n",
              "      <td>11</td>\n",
              "    </tr>\n",
              "    <tr>\n",
              "      <th>droplat_b</th>\n",
              "      <td>6</td>\n",
              "      <td>9</td>\n",
              "      <td>8</td>\n",
              "      <td>8</td>\n",
              "      <td>9</td>\n",
              "    </tr>\n",
              "    <tr>\n",
              "      <th>droplon_b</th>\n",
              "      <td>17</td>\n",
              "      <td>11</td>\n",
              "      <td>11</td>\n",
              "      <td>11</td>\n",
              "      <td>12</td>\n",
              "    </tr>\n",
              "    <tr>\n",
              "      <th>lon_disp_b</th>\n",
              "      <td>-1</td>\n",
              "      <td>-2</td>\n",
              "      <td>0</td>\n",
              "      <td>0</td>\n",
              "      <td>-1</td>\n",
              "    </tr>\n",
              "    <tr>\n",
              "      <th>lat_disp_b</th>\n",
              "      <td>0</td>\n",
              "      <td>-3</td>\n",
              "      <td>0</td>\n",
              "      <td>-1</td>\n",
              "      <td>-1</td>\n",
              "    </tr>\n",
              "    <tr>\n",
              "      <th>lon_disp</th>\n",
              "      <td>-0.002701</td>\n",
              "      <td>-0.03678</td>\n",
              "      <td>0.008504</td>\n",
              "      <td>0.004437</td>\n",
              "      <td>-0.01144</td>\n",
              "    </tr>\n",
              "    <tr>\n",
              "      <th>lat_disp</th>\n",
              "      <td>0.009041</td>\n",
              "      <td>-0.070701</td>\n",
              "      <td>0.010708</td>\n",
              "      <td>-0.024949</td>\n",
              "      <td>-0.015754</td>\n",
              "    </tr>\n",
              "  </tbody>\n",
              "</table>\n",
              "</div>"
            ],
            "text/plain": [
              "                                             0  ...                              4\n",
              "key                2009-06-15 17:26:21.0000001  ...  2010-03-09 07:51:00.000000135\n",
              "fare_amount                                4.5  ...                            5.3\n",
              "pickup_datetime      2009-06-15 17:26:21+00:00  ...      2010-03-09 07:51:00+00:00\n",
              "pickup_longitude                      -73.8443  ...                       -73.9681\n",
              "pickup_latitude                        40.7213  ...                         40.768\n",
              "dropoff_longitude                     -73.8416  ...                       -73.9567\n",
              "dropoff_latitude                       40.7123  ...                        40.7838\n",
              "passenger_count                              1  ...                              1\n",
              "distance                               1.03076  ...                        1.99916\n",
              "hour                                        17  ...                              7\n",
              "mon                                          1  ...                              0\n",
              "tue                                          0  ...                              1\n",
              "wed                                          0  ...                              0\n",
              "thu                                          0  ...                              0\n",
              "fri                                          0  ...                              0\n",
              "sat                                          0  ...                              0\n",
              "sun                                          0  ...                              0\n",
              "picklat_b                                    6  ...                              8\n",
              "picklon_b                                   16  ...                             11\n",
              "droplat_b                                    6  ...                              9\n",
              "droplon_b                                   17  ...                             12\n",
              "lon_disp_b                                  -1  ...                             -1\n",
              "lat_disp_b                                   0  ...                             -1\n",
              "lon_disp                             -0.002701  ...                       -0.01144\n",
              "lat_disp                              0.009041  ...                      -0.015754\n",
              "\n",
              "[25 rows x 5 columns]"
            ]
          },
          "metadata": {
            "tags": []
          },
          "execution_count": 88
        }
      ]
    },
    {
      "cell_type": "markdown",
      "metadata": {
        "id": "WbUZv6TFZTeV",
        "colab_type": "text"
      },
      "source": [
        "## Train/Validation split\n",
        "We will split the train set into two datasets: Train and validation\n",
        "\n",
        "The given test dataset will be held out for final scoring."
      ]
    },
    {
      "cell_type": "code",
      "metadata": {
        "id": "_tS_0awJZT17",
        "colab_type": "code",
        "colab": {}
      },
      "source": [
        "from sklearn.model_selection import train_test_split\n",
        "\n",
        "from sklearn.pipeline import Pipeline\n",
        "from sklearn.linear_model import LinearRegression\n",
        "from sklearn.preprocessing import StandardScaler\n",
        "\n",
        "from sklearn.metrics import mean_squared_error"
      ],
      "execution_count": 0,
      "outputs": []
    },
    {
      "cell_type": "code",
      "metadata": {
        "id": "45b-XOCU1ZhQ",
        "colab_type": "code",
        "colab": {
          "base_uri": "https://localhost:8080/",
          "height": 124
        },
        "outputId": "8c14c67f-7df1-4869-91cd-7c1e81678265"
      },
      "source": [
        "train_cut.columns"
      ],
      "execution_count": 37,
      "outputs": [
        {
          "output_type": "execute_result",
          "data": {
            "text/plain": [
              "Index(['key', 'fare_amount', 'pickup_datetime', 'pickup_longitude',\n",
              "       'pickup_latitude', 'dropoff_longitude', 'dropoff_latitude',\n",
              "       'passenger_count', 'distance', 'hour', 'mon', 'tue', 'wed', 'thu',\n",
              "       'fri', 'sat', 'sun', 'picklat_b', 'picklon_b', 'droplat_b', 'droplon_b',\n",
              "       'lon_disp_b', 'lat_disp_b', 'lon_disp', 'lat_disp'],\n",
              "      dtype='object')"
            ]
          },
          "metadata": {
            "tags": []
          },
          "execution_count": 37
        }
      ]
    },
    {
      "cell_type": "code",
      "metadata": {
        "id": "wuwEhVGRaxzs",
        "colab_type": "code",
        "colab": {}
      },
      "source": [
        "cols = [ 'pickup_longitude',\n",
        "       'pickup_latitude', 'dropoff_longitude', 'dropoff_latitude',\n",
        "       'passenger_count', 'distance', 'hour', 'mon', 'tue',\n",
        "       'wed', 'thu', 'fri', 'sat', 'sun','picklat_b', 'picklon_b', 'droplat_b',\n",
        "       'droplon_b','lon_disp_b', 'lat_disp_b','lon_disp', 'lat_disp']\n",
        "X_train, X_test, y_train, y_test = train_test_split(train_cut.drop('fare_amount', axis=1)[cols],\n",
        "                                                    train_cut['fare_amount'], test_size=0.20)"
      ],
      "execution_count": 0,
      "outputs": []
    },
    {
      "cell_type": "markdown",
      "metadata": {
        "id": "Yf0jos_ZUg2W",
        "colab_type": "text"
      },
      "source": [
        "# Modeling\n",
        "---\n",
        "In this section we start the construction of simple models for fare prediction."
      ]
    },
    {
      "cell_type": "markdown",
      "metadata": {
        "id": "Ma9whOCiWhfx",
        "colab_type": "text"
      },
      "source": [
        "## Base Model (Benchmarking)\n",
        "\n",
        "We will start with a linear model for a starter. This will serve as a benchmark model to compare the performance of more complex models"
      ]
    },
    {
      "cell_type": "code",
      "metadata": {
        "id": "PMFkwwe5axYs",
        "colab_type": "code",
        "colab": {}
      },
      "source": [
        "lin_model = Pipeline((\n",
        "        (\"standard_scaler\", StandardScaler()),\n",
        "        (\"lin_reg\", LinearRegression()),\n",
        "    ))\n",
        "lin_model.fit(X_train, y_train)\n",
        "\n",
        "y_train_pred = lin_model.predict(X_train)\n",
        "y_test_pred = lin_model.predict(X_test)"
      ],
      "execution_count": 0,
      "outputs": []
    },
    {
      "cell_type": "markdown",
      "metadata": {
        "id": "4GBOO05hfxGF",
        "colab_type": "text"
      },
      "source": [
        "We use the RMSE score for validation of our model (Kaggle)\n"
      ]
    },
    {
      "cell_type": "code",
      "metadata": {
        "id": "xBOJzEtnfUo1",
        "colab_type": "code",
        "outputId": "72949eea-194d-44d9-da82-e35dbc2e1d1b",
        "colab": {
          "base_uri": "https://localhost:8080/",
          "height": 71
        }
      },
      "source": [
        "print('LINEAR MODEL --- RMSE scores\\ntrain: {}\\ntest: {}'.format(np.sqrt(mean_squared_error(y_train, y_train_pred)),\n",
        "np.sqrt(mean_squared_error(y_test, y_test_pred))))\n"
      ],
      "execution_count": 40,
      "outputs": [
        {
          "output_type": "stream",
          "text": [
            "LINEAR MODEL --- RMSE scores\n",
            "train: 5.080094279574311\n",
            "test: 5.022478438382827\n"
          ],
          "name": "stdout"
        }
      ]
    },
    {
      "cell_type": "markdown",
      "metadata": {
        "id": "iF1inozljOP9",
        "colab_type": "text"
      },
      "source": [
        "## Gradient Boosting Decision Trees (XGBoost)\n",
        "Next, we construct a Boosted Decision Tree model together with Bayesian Optimization"
      ]
    },
    {
      "cell_type": "code",
      "metadata": {
        "id": "0lbN-1mwjsS2",
        "colab_type": "code",
        "outputId": "2b6c4fc1-86ef-40de-9265-f12ec20ff742",
        "colab": {
          "base_uri": "https://localhost:8080/",
          "height": 251
        }
      },
      "source": [
        "!pip install bayesian-optimization\n"
      ],
      "execution_count": 29,
      "outputs": [
        {
          "output_type": "stream",
          "text": [
            "Collecting bayesian-optimization\n",
            "  Downloading https://files.pythonhosted.org/packages/72/0c/173ac467d0a53e33e41b521e4ceba74a8ac7c7873d7b857a8fbdca88302d/bayesian-optimization-1.0.1.tar.gz\n",
            "Requirement already satisfied: numpy>=1.9.0 in /usr/local/lib/python3.6/dist-packages (from bayesian-optimization) (1.16.4)\n",
            "Requirement already satisfied: scipy>=0.14.0 in /usr/local/lib/python3.6/dist-packages (from bayesian-optimization) (1.3.0)\n",
            "Requirement already satisfied: scikit-learn>=0.18.0 in /usr/local/lib/python3.6/dist-packages (from bayesian-optimization) (0.21.2)\n",
            "Requirement already satisfied: joblib>=0.11 in /usr/local/lib/python3.6/dist-packages (from scikit-learn>=0.18.0->bayesian-optimization) (0.13.2)\n",
            "Building wheels for collected packages: bayesian-optimization\n",
            "  Building wheel for bayesian-optimization (setup.py) ... \u001b[?25l\u001b[?25hdone\n",
            "  Stored in directory: /root/.cache/pip/wheels/1d/0d/3b/6b9d4477a34b3905f246ff4e7acf6aafd4cc9b77d473629b77\n",
            "Successfully built bayesian-optimization\n",
            "Installing collected packages: bayesian-optimization\n",
            "Successfully installed bayesian-optimization-1.0.1\n"
          ],
          "name": "stdout"
        }
      ]
    },
    {
      "cell_type": "code",
      "metadata": {
        "id": "FfsPHmmPUqOY",
        "colab_type": "code",
        "colab": {}
      },
      "source": [
        "import xgboost as xgb\n",
        "from xgboost import XGBRegressor\n",
        "from xgboost import plot_importance\n",
        "\n",
        "from bayes_opt import BayesianOptimization\n",
        "\n",
        "def plot_features(booster, figsize):    \n",
        "  fig, ax = plt.subplots(1,1,figsize=figsize)\n",
        "  return plot_importance(booster=booster, ax=ax)\n",
        "\n"
      ],
      "execution_count": 0,
      "outputs": []
    },
    {
      "cell_type": "code",
      "metadata": {
        "id": "AiGk0CTIns12",
        "colab_type": "code",
        "outputId": "3c746543-7678-4235-a52c-7bf6da96c939",
        "colab": {
          "base_uri": "https://localhost:8080/",
          "height": 53
        }
      },
      "source": [
        "dtrain = xgb.DMatrix(X_train, label=y_train)\n",
        "dtest = xgb.DMatrix(X_test)"
      ],
      "execution_count": 41,
      "outputs": [
        {
          "output_type": "stream",
          "text": [
            "/usr/local/lib/python3.6/dist-packages/xgboost/core.py:587: FutureWarning: Series.base is deprecated and will be removed in a future version\n",
            "  if getattr(data, 'base', None) is not None and \\\n"
          ],
          "name": "stderr"
        }
      ]
    },
    {
      "cell_type": "code",
      "metadata": {
        "id": "4v89pm6mjit2",
        "colab_type": "code",
        "colab": {}
      },
      "source": [
        "def xgb_evaluate(max_depth, gamma, colsample_bytree):\n",
        "  params = {'eval_metric': 'rmse',\n",
        "            'max_depth': int(max_depth),\n",
        "            'subsample': 0.8,\n",
        "            'eta': 0.1,\n",
        "            'gamma': gamma,\n",
        "            'colsample_bytree': colsample_bytree}\n",
        "  cv_result = xgb.cv(params, dtrain, num_boost_round=100, nfold=3)    \n",
        "\n",
        "  # Bayesian optimization only knows how to maximize, not minimize, so return the negative RMSE\n",
        "  return -1.0 * cv_result['test-rmse-mean'].iloc[-1]"
      ],
      "execution_count": 0,
      "outputs": []
    },
    {
      "cell_type": "code",
      "metadata": {
        "id": "o3hARIaencZe",
        "colab_type": "code",
        "outputId": "c03cffa6-d82d-482b-a621-3cfa6e41cc4c",
        "colab": {
          "base_uri": "https://localhost:8080/",
          "height": 215
        }
      },
      "source": [
        "xgb_bo = BayesianOptimization(xgb_evaluate, {'max_depth': (3, 7), \n",
        "                                             'gamma': (0, 1),\n",
        "                                             'colsample_bytree': (0.3, 0.9)})\n",
        "# Use the expected improvement acquisition function to handle negative numbers\n",
        "# Optimally needs quite a few more initiation points and number of iterations\n",
        "xgb_bo.maximize(init_points=3, n_iter=5, acq='ei')"
      ],
      "execution_count": 0,
      "outputs": [
        {
          "output_type": "stream",
          "text": [
            "|   iter    |  target   | colsam... |   gamma   | max_depth |\n",
            "-------------------------------------------------------------\n",
            "| \u001b[0m 1       \u001b[0m | \u001b[0m-3.97    \u001b[0m | \u001b[0m 0.8151  \u001b[0m | \u001b[0m 0.9148  \u001b[0m | \u001b[0m 6.709   \u001b[0m |\n",
            "| \u001b[0m 2       \u001b[0m | \u001b[0m-3.97    \u001b[0m | \u001b[0m 0.8     \u001b[0m | \u001b[0m 0.1779  \u001b[0m | \u001b[0m 6.323   \u001b[0m |\n",
            "| \u001b[0m 3       \u001b[0m | \u001b[0m-4.394   \u001b[0m | \u001b[0m 0.3178  \u001b[0m | \u001b[0m 0.3039  \u001b[0m | \u001b[0m 3.25    \u001b[0m |\n",
            "| \u001b[95m 4       \u001b[0m | \u001b[95m-3.923   \u001b[0m | \u001b[95m 0.9     \u001b[0m | \u001b[95m 0.0     \u001b[0m | \u001b[95m 7.0     \u001b[0m |\n",
            "| \u001b[0m 5       \u001b[0m | \u001b[0m-4.122   \u001b[0m | \u001b[0m 0.3     \u001b[0m | \u001b[0m 0.0     \u001b[0m | \u001b[0m 7.0     \u001b[0m |\n",
            "| \u001b[0m 6       \u001b[0m | \u001b[0m-3.924   \u001b[0m | \u001b[0m 0.9     \u001b[0m | \u001b[0m 0.3653  \u001b[0m | \u001b[0m 7.0     \u001b[0m |\n",
            "| \u001b[0m 7       \u001b[0m | \u001b[0m-3.966   \u001b[0m | \u001b[0m 0.9     \u001b[0m | \u001b[0m 0.03096 \u001b[0m | \u001b[0m 6.961   \u001b[0m |\n",
            "| \u001b[0m 8       \u001b[0m | \u001b[0m-4.009   \u001b[0m | \u001b[0m 0.9     \u001b[0m | \u001b[0m 0.4404  \u001b[0m | \u001b[0m 5.198   \u001b[0m |\n",
            "=============================================================\n"
          ],
          "name": "stdout"
        }
      ]
    },
    {
      "cell_type": "code",
      "metadata": {
        "id": "saaWqoMCHp9a",
        "colab_type": "code",
        "colab": {}
      },
      "source": [
        "params = {'max_depth': 7.0, 'gamma': 0.001,  'max_delta_step': 10.0, 'subsample': 0.4, 'colsample_bytree': 0.9}\n",
        "params['max_depth'] = int(params['max_depth'])\n"
      ],
      "execution_count": 0,
      "outputs": []
    },
    {
      "cell_type": "code",
      "metadata": {
        "id": "loZe5BYWR3gh",
        "colab_type": "code",
        "outputId": "c83e58fc-b8d8-439d-e2ad-e16e59d7a642",
        "colab": {
          "base_uri": "https://localhost:8080/",
          "height": 71
        }
      },
      "source": [
        "start_time = time.time()\n",
        "# Train a model with the hyperparameters we obtained in the search\n",
        "model_xgb = xgb.train(params, dtrain, num_boost_round=250)\n",
        "print(\"--- %s seconds ---\" % (time.time() - start_time))\n",
        "\n",
        "# Predict on testing and training set\n",
        "y_pred_xgb = model_xgb.predict(dtest)\n",
        "y_train_pred_xgb = model_xgb.predict(dtrain)\n",
        "\n",
        "# Report testing and training RMSE\n",
        "print('RMSE test: {}'.format(np.sqrt(mean_squared_error(y_test, y_pred_xgb))))\n",
        "print('RMSE train: {}'.format(np.sqrt(mean_squared_error(y_train, y_train_pred_xgb))))"
      ],
      "execution_count": 43,
      "outputs": [
        {
          "output_type": "stream",
          "text": [
            "--- 720.3784463405609 seconds ---\n",
            "RMSE test: 3.594596567657097\n",
            "RMSE train: 3.3038906435106825\n"
          ],
          "name": "stdout"
        }
      ]
    },
    {
      "cell_type": "markdown",
      "metadata": {
        "id": "mbUSib6pB53H",
        "colab_type": "text"
      },
      "source": [
        "The F-score sums up the number of times a given feature is split. Comparing this quantity for each feature is usually interpreted as a *Feature Importance* plot."
      ]
    },
    {
      "cell_type": "code",
      "metadata": {
        "id": "LEh2dSVDkhGy",
        "colab_type": "code",
        "outputId": "f6339849-e1fa-4537-fdc2-a08851a7dc66",
        "colab": {
          "base_uri": "https://localhost:8080/",
          "height": 373
        }
      },
      "source": [
        "plot_features(model_xgb, (7,5))\n"
      ],
      "execution_count": 44,
      "outputs": [
        {
          "output_type": "execute_result",
          "data": {
            "text/plain": [
              "<matplotlib.axes._subplots.AxesSubplot at 0x7f69766f7470>"
            ]
          },
          "metadata": {
            "tags": []
          },
          "execution_count": 44
        },
        {
          "output_type": "display_data",
          "data": {
            "image/png": "[encoded data removed]",
            "text/plain": [
              "<Figure size 504x360 with 1 Axes>"
            ]
          },
          "metadata": {
            "tags": []
          }
        }
      ]
    },
    {
      "cell_type": "markdown",
      "metadata": {
        "id": "39JqsgittmcJ",
        "colab_type": "text"
      },
      "source": [
        "## DNN Regressor"
      ]
    },
    {
      "cell_type": "code",
      "metadata": {
        "id": "CzLLBcJSqO6h",
        "colab_type": "code",
        "colab": {}
      },
      "source": [
        "# "
      ],
      "execution_count": 0,
      "outputs": []
    },
    {
      "cell_type": "code",
      "metadata": {
        "id": "GUmrBKZlzP5c",
        "colab_type": "code",
        "colab": {}
      },
      "source": [
        ""
      ],
      "execution_count": 0,
      "outputs": []
    }
  ]
}